{
 "cells": [
  {
   "cell_type": "code",
   "execution_count": 2,
   "id": "91a282f2-682b-40c6-9c4b-15fa4d15c7d2",
   "metadata": {},
   "outputs": [],
   "source": [
    "import pandas as pd\n",
    "import numpy as np\n",
    "from IPython.display import HTML, Markdown, Latex\n",
    "def display_df(tp_df=None, index=False):\n",
    "    # tp_df = tp_df if isinstance(tp_df,pd.DataFrame) else df\n",
    "    tp_df = tp_df if tp_df is not None else df\n",
    "    display(Markdown(tp_df.to_markdown(index=index)))"
   ]
  },
  {
   "cell_type": "markdown",
   "id": "f2a62cbe-7548-44ef-95f9-0d165c08f96e",
   "metadata": {},
   "source": [
    "<br><br><br>"
   ]
  },
  {
   "cell_type": "markdown",
   "id": "f113e0e9-281d-451a-8027-5057cc265c0f",
   "metadata": {},
   "source": [
    "# Q1) Given employee.csv, do the following: \n",
    "1. WAP to display the shape of employee.csv file\n",
    "2. WAP to display Name, Age and Salary from employee.csv\n",
    "3. WAP to display only 5 records from employee.csv\n",
    "4. WAP to display records without header\n",
    "5. WAP to display employee.csv file without index numbers\n",
    "6. WAP to display employee.csv file with new column names\n",
    "7. WAP to modify the employee name from Mahima to Harsh\n",
    "8. WAP to create a new CSV file by copying the contents of employee.csv\n",
    "9. WAP to create a duplicate file for employee.csv containing Empid and Employee Name"
   ]
  },
  {
   "cell_type": "code",
   "execution_count": 24,
   "id": "766c56ae-3247-473b-b402-0274677dc756",
   "metadata": {},
   "outputs": [
    {
     "name": "stdout",
     "output_type": "stream",
     "text": [
      "1: (7, 5)\n",
      "\n",
      "2:\n"
     ]
    },
    {
     "data": {
      "text/markdown": [
       "| Name    |   Age |   Sal |\n",
       "|:--------|------:|------:|\n",
       "| Ritesh  |    25 | 15000 |\n",
       "| Akash   |    26 | 16000 |\n",
       "| Mahima  |    27 | 20000 |\n",
       "| Lakshay |    28 | 18000 |\n",
       "| Manu    |    25 | 25000 |\n",
       "| Nidhi   |    26 | 22000 |\n",
       "| Geetu   |    30 | 28000 |"
      ],
      "text/plain": [
       "<IPython.core.display.Markdown object>"
      ]
     },
     "metadata": {},
     "output_type": "display_data"
    },
    {
     "name": "stdout",
     "output_type": "stream",
     "text": [
      "\n",
      "3:\n"
     ]
    },
    {
     "data": {
      "text/markdown": [
       "|   empid | Name    |   Age | City      |   Sal |\n",
       "|--------:|:--------|------:|:----------|------:|\n",
       "|     100 | Ritesh  |    25 | mumbai    | 15000 |\n",
       "|     101 | Akash   |    26 | Goa       | 16000 |\n",
       "|     102 | Mahima  |    27 | Hyderabad | 20000 |\n",
       "|     103 | Lakshay |    28 | Delhi     | 18000 |\n",
       "|     104 | Manu    |    25 | Mumbai    | 25000 |"
      ],
      "text/plain": [
       "<IPython.core.display.Markdown object>"
      ]
     },
     "metadata": {},
     "output_type": "display_data"
    },
    {
     "name": "stdout",
     "output_type": "stream",
     "text": [
      "\n",
      "4:\n",
      "0  100   Ritesh  25     mumbai  15000\n",
      "1  101    Akash  26        Goa  16000\n",
      "2  102   Mahima  27  Hyderabad  20000\n",
      "3  103  Lakshay  28      Delhi  18000\n",
      "4  104     Manu  25     Mumbai  25000\n",
      "5  105    Nidhi  26      Delhi  22000\n",
      "6  106    Geetu  30  Bangaluru  28000\n",
      "\n",
      "5:\n",
      " empid    Name  Age      City   Sal\n",
      "   100  Ritesh   25    mumbai 15000\n",
      "   101   Akash   26       Goa 16000\n",
      "   102  Mahima   27 Hyderabad 20000\n",
      "   103 Lakshay   28     Delhi 18000\n",
      "   104    Manu   25    Mumbai 25000\n",
      "   105   Nidhi   26     Delhi 22000\n",
      "   106   Geetu   30 Bangaluru 28000\n",
      "\n",
      "6:\n"
     ]
    },
    {
     "data": {
      "text/markdown": [
       "|   New empid | New Name   |   New Age | New City   |   New Sal |\n",
       "|------------:|:-----------|----------:|:-----------|----------:|\n",
       "|         100 | Ritesh     |        25 | mumbai     |     15000 |\n",
       "|         101 | Akash      |        26 | Goa        |     16000 |\n",
       "|         102 | Mahima     |        27 | Hyderabad  |     20000 |\n",
       "|         103 | Lakshay    |        28 | Delhi      |     18000 |\n",
       "|         104 | Manu       |        25 | Mumbai     |     25000 |\n",
       "|         105 | Nidhi      |        26 | Delhi      |     22000 |\n",
       "|         106 | Geetu      |        30 | Bangaluru  |     28000 |"
      ],
      "text/plain": [
       "<IPython.core.display.Markdown object>"
      ]
     },
     "metadata": {},
     "output_type": "display_data"
    },
    {
     "name": "stdout",
     "output_type": "stream",
     "text": [
      "\n",
      "7:\n"
     ]
    },
    {
     "data": {
      "text/markdown": [
       "|   empid | Name    |   Age | City      |   Sal |\n",
       "|--------:|:--------|------:|:----------|------:|\n",
       "|     100 | Ritesh  |    25 | mumbai    | 15000 |\n",
       "|     101 | Akash   |    26 | Goa       | 16000 |\n",
       "|     102 | Harsh   |    27 | Hyderabad | 20000 |\n",
       "|     103 | Lakshay |    28 | Delhi     | 18000 |\n",
       "|     104 | Manu    |    25 | Mumbai    | 25000 |\n",
       "|     105 | Nidhi   |    26 | Delhi     | 22000 |\n",
       "|     106 | Geetu   |    30 | Bangaluru | 28000 |"
      ],
      "text/plain": [
       "<IPython.core.display.Markdown object>"
      ]
     },
     "metadata": {},
     "output_type": "display_data"
    }
   ],
   "source": [
    "df = pd.read_csv('employee.csv')\n",
    "\n",
    "# Q1) WAP to display the shape of employee.csv file\n",
    "print(f'1: {df.shape}')\n",
    "# Q2) WAP to display Name, Age and Salary from employee.csv\n",
    "print('\\n2:')\n",
    "display_df(df[['Name','Age','Sal']])\n",
    "# Q3) WAP to display only 5 records from employee.csv\n",
    "print('\\n3:')\n",
    "display_df(df.head())\n",
    "# Q4) WAP to display records without header\n",
    "print('\\n4:')\n",
    "print(df.to_string(header=False))\n",
    "# Q5) WAP to display employee.csv file without index numbers\n",
    "print('\\n5:')\n",
    "print(df.to_string(index=False))\n",
    "# Q6) WAP to display employee.csv file with new column names\n",
    "print('\\n6:')\n",
    "display_df( df.rename(columns=lambda x: f'New {x}') )\n",
    "# Q7) WAP to modify the employee name from Mahima to Harsh\n",
    "print('\\n7:')\n",
    "display_df( df.replace({'Mahima':'Harsh'}) )\n",
    "# Q8) WAP to create a new CSV file by copying the contents of employee.csv\n",
    "df.to_csv('employee_new.csv')\n",
    "# Q9) WAP to create a duplicate file for employee.csv containing Empid and Employee Name\n",
    "df[['empid','Name']].to_csv('employee_truncated.csv')"
   ]
  },
  {
   "cell_type": "markdown",
   "id": "c886fd00-38f3-4d70-a935-82eb94a60439",
   "metadata": {},
   "source": [
    "<br><br><br>"
   ]
  }
 ],
 "metadata": {
  "kernelspec": {
   "display_name": "Python 3 (ipykernel)",
   "language": "python",
   "name": "python3"
  },
  "language_info": {
   "codemirror_mode": {
    "name": "ipython",
    "version": 3
   },
   "file_extension": ".py",
   "mimetype": "text/x-python",
   "name": "python",
   "nbconvert_exporter": "python",
   "pygments_lexer": "ipython3",
   "version": "3.12.5"
  }
 },
 "nbformat": 4,
 "nbformat_minor": 5
}
