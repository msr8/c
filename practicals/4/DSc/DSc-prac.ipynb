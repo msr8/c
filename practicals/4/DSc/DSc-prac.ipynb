{
 "cells": [
  {
   "cell_type": "code",
   "execution_count": 1,
   "id": "62a24842-3d04-4c2f-a6cb-66934734fa08",
   "metadata": {},
   "outputs": [],
   "source": [
    "import pandas as pd\n",
    "import numpy  as np\n",
    "from IPython.display import HTML, Markdown, Latex\n",
    "\n",
    "\n",
    "def display_df(tp_df=None, index=False):\n",
    "    # tp_df = tp_df if isinstance(tp_df,pd.DataFrame) else df\n",
    "    tp_df = tp_df if tp_df is not None else df\n",
    "    display(Markdown(tp_df.to_markdown(index=index)))\n",
    "\n",
    "# def display_df(tp_df=None, index=False):\n",
    "#     tp_df = tp_df if isinstance(tp_df,pd.DataFrame) else df\n",
    "#     display(HTML(tp_df.to_html(index=index)))"
   ]
  },
  {
   "cell_type": "markdown",
   "id": "7401edc3-31f5-4804-a83b-86bdb20c92eb",
   "metadata": {},
   "source": [
    "<br><br><br>"
   ]
  },
  {
   "cell_type": "markdown",
   "id": "136d83d3-eddd-4de1-88aa-38255222e559",
   "metadata": {},
   "source": [
    "# Q1) Create a pandas series from a dictionary of values and an ndarray"
   ]
  },
  {
   "cell_type": "code",
   "execution_count": 2,
   "id": "088c08a2-6068-44c5-b548-65a16f5cd19a",
   "metadata": {},
   "outputs": [
    {
     "data": {
      "text/markdown": [
       "| Name   |   Age | Gender   |\n",
       "|:-------|------:|:---------|\n",
       "| Ram    |    16 | M        |\n",
       "| Manish |    18 | M        |\n",
       "| Sahil  |    15 | M        |\n",
       "| Amrit  |    20 | F        |\n",
       "| Mark   |    19 | M        |"
      ],
      "text/plain": [
       "<IPython.core.display.Markdown object>"
      ]
     },
     "metadata": {},
     "output_type": "display_data"
    }
   ],
   "source": [
    "import pandas as pd\n",
    "import numpy  as np\n",
    "\n",
    "data = {\n",
    "    'Name':   np.array([ 'Ram', 'Manish', 'Sahil', 'Amrit', 'Mark' ]),\n",
    "    'Age':    np.array([ 16, 18, 15, 20, 19 ]),\n",
    "    'Gender': np.array([ 'M', 'M', 'M', 'F', 'M' ])\n",
    "}\n",
    "df = pd.DataFrame(data)\n",
    "display_df(df)"
   ]
  },
  {
   "cell_type": "markdown",
   "id": "5a18f548-d8c6-4758-a436-93a386352a9c",
   "metadata": {},
   "source": [
    "<br><br><br>"
   ]
  },
  {
   "cell_type": "markdown",
   "id": "901ea773-ee75-4088-aad2-31525efc45a1",
   "metadata": {},
   "source": [
    "# Q2) Create a Series and print all the elements that are above 75th percentile"
   ]
  },
  {
   "cell_type": "code",
   "execution_count": 3,
   "id": "bf639cf7-53bc-4b4e-939f-71f967afe0b7",
   "metadata": {},
   "outputs": [
    {
     "name": "stdout",
     "output_type": "stream",
     "text": [
      "Original series:\n"
     ]
    },
    {
     "data": {
      "text/markdown": [
       "|   0 |\n",
       "|----:|\n",
       "|   1 |\n",
       "|   2 |\n",
       "|   3 |\n",
       "|   4 |\n",
       "|   5 |\n",
       "|   6 |\n",
       "|   7 |\n",
       "|   8 |\n",
       "|   9 |\n",
       "|  10 |"
      ],
      "text/plain": [
       "<IPython.core.display.Markdown object>"
      ]
     },
     "metadata": {},
     "output_type": "display_data"
    },
    {
     "name": "stdout",
     "output_type": "stream",
     "text": [
      "\n",
      "Elements above 75th percentile:\n",
      "[8, 9, 10]\n"
     ]
    }
   ],
   "source": [
    "import pandas as pd\n",
    "\n",
    "data = pd.Series([1, 2, 3, 4, 5, 6, 7, 8, 9, 10])\n",
    "print('Original series:')\n",
    "display_df(data)\n",
    "\n",
    "percentile_75 = data.quantile(0.75)\n",
    "above_75      = data[ data > percentile_75 ].to_list()\n",
    "print('\\nElements above 75th percentile:')\n",
    "print(above_75)"
   ]
  },
  {
   "cell_type": "markdown",
   "id": "d5428b6b-ead7-4530-9e5b-05776cd561c9",
   "metadata": {},
   "source": [
    "<br><br><br>"
   ]
  },
  {
   "cell_type": "markdown",
   "id": "05a92922-1b1d-40c7-9849-1c75857fdf2b",
   "metadata": {},
   "source": [
    "# Q3) Perform sorting on Series data and DataFrames"
   ]
  },
  {
   "cell_type": "code",
   "execution_count": 4,
   "id": "f4d2cb88-f096-46cb-ade5-c8f43828bf7c",
   "metadata": {},
   "outputs": [
    {
     "name": "stdout",
     "output_type": "stream",
     "text": [
      "Sorted dataframe (based on reports) in descending order:\n"
     ]
    },
    {
     "data": {
      "text/markdown": [
       "| name   |   year |   reports |\n",
       "|:-------|-------:|----------:|\n",
       "| Tina   |   2013 |        31 |\n",
       "| Molly  |   2012 |        24 |\n",
       "| Jason  |   2012 |         4 |\n",
       "| Amy    |   2014 |         3 |\n",
       "| Jake   |   2014 |         2 |"
      ],
      "text/plain": [
       "<IPython.core.display.Markdown object>"
      ]
     },
     "metadata": {},
     "output_type": "display_data"
    },
    {
     "name": "stdout",
     "output_type": "stream",
     "text": [
      "Sorted series in ascending order:\n"
     ]
    },
    {
     "data": {
      "text/markdown": [
       "|   0 |\n",
       "|----:|\n",
       "|   1 |\n",
       "|   2 |\n",
       "|   3 |\n",
       "|   3 |\n",
       "|   4 |"
      ],
      "text/plain": [
       "<IPython.core.display.Markdown object>"
      ]
     },
     "metadata": {},
     "output_type": "display_data"
    }
   ],
   "source": [
    "import pandas as pd\n",
    "\n",
    "# DataFrame\n",
    "data = {\n",
    "    'name':    ['Jason', 'Molly', 'Tina', 'Jake', 'Amy'],\n",
    "    'year':    [2012, 2012, 2013, 2014, 2014],\n",
    "    'reports': [4, 24, 31, 2, 3]\n",
    "}\n",
    "df        = pd.DataFrame(data)\n",
    "sorted_df = df.sort_values(by='reports', ascending=False)\n",
    "print('Sorted dataframe (based on reports) in descending order:')\n",
    "display_df(sorted_df)\n",
    "\n",
    "# Series\n",
    "s = pd.Series([3, 1, 2, 3, 4])\n",
    "s.sort_values(inplace=True)\n",
    "print('Sorted series in ascending order:')\n",
    "display_df(s)"
   ]
  },
  {
   "cell_type": "markdown",
   "id": "376ec27f-41ee-4484-8a27-6073e56cb3a7",
   "metadata": {},
   "source": [
    "<br><br><br>"
   ]
  },
  {
   "cell_type": "markdown",
   "id": "492c2b51-9c0c-4f38-83f2-83bf887c8e68",
   "metadata": {},
   "source": [
    "# Q4) Write a program to implement pivot() and pivot-table() on a DataFrame"
   ]
  },
  {
   "cell_type": "markdown",
   "id": "a4382b9a-d199-46b1-84d1-3b791958b084",
   "metadata": {},
   "source": [
    "<br><br><br>"
   ]
  },
  {
   "cell_type": "markdown",
   "id": "fdc773c3-5ce8-41ae-bf28-e7055016d9d2",
   "metadata": {},
   "source": [
    "# Q5) Write a program to find mean absolute deviation on a DataFrame"
   ]
  },
  {
   "cell_type": "markdown",
   "id": "eef5adab-57bc-43cd-962f-65b5474e7577",
   "metadata": {},
   "source": [
    "<br><br><br>"
   ]
  },
  {
   "cell_type": "markdown",
   "id": "8a826af3-b61a-46d0-93a2-9bd934cfb5f9",
   "metadata": {},
   "source": [
    "# Q6) Two Series object, Population stores the details of four metro cities of India and another object AvgIncome stores the total average income reported in four years in these cities. Calculate income per capita for each of these metro cities"
   ]
  },
  {
   "cell_type": "markdown",
   "id": "aa125088-86bc-4f10-965c-dc44da0e55ab",
   "metadata": {},
   "source": [
    "<br><br><br>"
   ]
  },
  {
   "cell_type": "markdown",
   "id": "c75dedca-5a7f-44bd-81c4-2e886d7b6059",
   "metadata": {},
   "source": [
    "# Q7) Create a DataFrame based on E-Commerce data and generate mean, mode, and median"
   ]
  },
  {
   "cell_type": "code",
   "execution_count": 5,
   "id": "b65cfb4f-4ffe-4a20-a9fe-6c9158e5a3b6",
   "metadata": {},
   "outputs": [
    {
     "name": "stdout",
     "output_type": "stream",
     "text": [
      "Original dataframe:\n"
     ]
    },
    {
     "data": {
      "text/markdown": [
       "|   Order_ID |   Price |   Quantity |\n",
       "|-----------:|--------:|-----------:|\n",
       "|        101 |      50 |          2 |\n",
       "|        102 |      20 |          3 |\n",
       "|        103 |      40 |          1 |\n",
       "|        104 |      50 |          2 |\n",
       "|        105 |      45 |          1 |"
      ],
      "text/plain": [
       "<IPython.core.display.Markdown object>"
      ]
     },
     "metadata": {},
     "output_type": "display_data"
    },
    {
     "name": "stdout",
     "output_type": "stream",
     "text": [
      "\n",
      "Means: \n"
     ]
    },
    {
     "data": {
      "text/markdown": [
       "|          |    0 |\n",
       "|:---------|-----:|\n",
       "| Price    | 41   |\n",
       "| Quantity |  1.8 |"
      ],
      "text/plain": [
       "<IPython.core.display.Markdown object>"
      ]
     },
     "metadata": {},
     "output_type": "display_data"
    },
    {
     "name": "stdout",
     "output_type": "stream",
     "text": [
      "\n",
      "Modes: \n"
     ]
    },
    {
     "data": {
      "text/markdown": [
       "|    |   Price |   Quantity |\n",
       "|---:|--------:|-----------:|\n",
       "|  0 |      50 |          1 |\n",
       "|  1 |     nan |          2 |"
      ],
      "text/plain": [
       "<IPython.core.display.Markdown object>"
      ]
     },
     "metadata": {},
     "output_type": "display_data"
    },
    {
     "name": "stdout",
     "output_type": "stream",
     "text": [
      "\n",
      "Medians: \n"
     ]
    },
    {
     "data": {
      "text/markdown": [
       "|          |   0 |\n",
       "|:---------|----:|\n",
       "| Price    |  45 |\n",
       "| Quantity |   2 |"
      ],
      "text/plain": [
       "<IPython.core.display.Markdown object>"
      ]
     },
     "metadata": {},
     "output_type": "display_data"
    }
   ],
   "source": [
    "import pandas as pd\n",
    "\n",
    "data = {\n",
    "    'Order_ID':     ['101', '102', '103', '104', '105'],\n",
    "    'Price':        [50, 20, 40, 50, 45],\n",
    "    'Quantity':     [2, 3, 1, 2, 1]\n",
    "}\n",
    "df = pd.DataFrame(data)\n",
    "print('Original dataframe:')\n",
    "display_df(df)\n",
    "\n",
    "mean_df   = df.mean(numeric_only=True)\n",
    "mode_df   = df.mode(numeric_only=True)\n",
    "median_df = df.median(numeric_only=True)\n",
    "\n",
    "print('\\nMeans: ')\n",
    "display_df(mean_df, index=True)\n",
    "print('\\nModes: ')\n",
    "display_df(mode_df, index=True)\n",
    "print('\\nMedians: ')\n",
    "display_df(median_df, index=True)"
   ]
  },
  {
   "cell_type": "markdown",
   "id": "836fa2b4-5baa-40b0-ac71-1255c4344515",
   "metadata": {},
   "source": [
    "<br><br><br>"
   ]
  },
  {
   "cell_type": "markdown",
   "id": "21dbf974-a504-4e7e-bfd9-bf923663de52",
   "metadata": {},
   "source": [
    "# Q8) Create a DataFrame based on employee data and generate quartile and variance"
   ]
  },
  {
   "cell_type": "markdown",
   "id": "bea7696e-c71e-44f6-9764-76d3ff0e84ca",
   "metadata": {},
   "source": [
    "<br><br><br>"
   ]
  },
  {
   "cell_type": "markdown",
   "id": "459a1a37-4a73-4412-8c37-fd85110ca106",
   "metadata": {},
   "source": [
    "# Q9) Write a program to implement skewness on random data"
   ]
  },
  {
   "cell_type": "markdown",
   "id": "f31ec856-bace-4512-acb7-3e6793187990",
   "metadata": {},
   "source": [
    "<br><br><br>"
   ]
  },
  {
   "cell_type": "markdown",
   "id": "0fac6515-a429-41f1-9815-329bfca23f5f",
   "metadata": {},
   "source": [
    "# Q10) Create a dataframe on any data and compute statistical function of kurtosis"
   ]
  },
  {
   "cell_type": "markdown",
   "id": "ee371cca-76e9-45d5-98b1-5bca9d469b6c",
   "metadata": {},
   "source": [
    "<br><br><br>"
   ]
  },
  {
   "cell_type": "markdown",
   "id": "7f22e328-c24f-4c7c-be7d-572491497ee6",
   "metadata": {},
   "source": [
    "# Q11) Series objects temp1, temp2, temp3, and temp 4 stores the temperature of days of week 1, week 2, week 3, week 4. Write a script to:\n",
    "1) Print average temperature per week\n",
    "2) Print average temperature of entire month"
   ]
  },
  {
   "cell_type": "markdown",
   "id": "07a2b959-5fd0-4def-b9f1-2456bb0ad35a",
   "metadata": {},
   "source": [
    "<br><br><br>"
   ]
  },
  {
   "cell_type": "markdown",
   "id": "671f6961-ff56-4911-850d-3f39bffec1a1",
   "metadata": {},
   "source": [
    "# Q12) Write a program to read a csv file and create its dataframe"
   ]
  },
  {
   "cell_type": "code",
   "execution_count": 6,
   "id": "e36c3758-5942-45fe-9c60-a4e9044735c7",
   "metadata": {},
   "outputs": [
    {
     "name": "stdout",
     "output_type": "stream",
     "text": [
      "Contents of data.csv:\n",
      "Name,Age,Gender\n",
      "Ram,16,M\n",
      "Manish,18,M\n",
      "Sahil,15,M\n",
      "Amrit,20,F\n",
      "Mark,19,M\n",
      "\n",
      "\n",
      "Dataframe:\n"
     ]
    },
    {
     "data": {
      "text/markdown": [
       "| Name   |   Age | Gender   |\n",
       "|:-------|------:|:---------|\n",
       "| Ram    |    16 | M        |\n",
       "| Manish |    18 | M        |\n",
       "| Sahil  |    15 | M        |\n",
       "| Amrit  |    20 | F        |\n",
       "| Mark   |    19 | M        |"
      ],
      "text/plain": [
       "<IPython.core.display.Markdown object>"
      ]
     },
     "metadata": {},
     "output_type": "display_data"
    }
   ],
   "source": [
    "import pandas as pd\n",
    "\n",
    "filename = 'data.csv'\n",
    "print(f'Contents of {filename}:')\n",
    "with open(filename) as f:\n",
    "    print(f.read())\n",
    "\n",
    "df = pd.read_csv(filename)\n",
    "print(f'\\nDataframe:')\n",
    "display_df(df)"
   ]
  },
  {
   "cell_type": "markdown",
   "id": "a76f52c8-a1a3-4f6b-8137-be86fcc078c1",
   "metadata": {},
   "source": [
    "<br><br><br>"
   ]
  },
  {
   "cell_type": "markdown",
   "id": "4b4e47a6-9fa6-4fec-87d7-cb347ce155db",
   "metadata": {},
   "source": [
    "# Q13) Consider the dataframe QtrSales where each row contains the item category, item name and expenditure and group the rows by category, and print the average expenditure per category"
   ]
  },
  {
   "cell_type": "code",
   "execution_count": 7,
   "id": "c5c8682a-567a-4f64-8d6e-2e0741c5714d",
   "metadata": {},
   "outputs": [
    {
     "name": "stdout",
     "output_type": "stream",
     "text": [
      "Original dataframe:\n"
     ]
    },
    {
     "data": {
      "text/markdown": [
       "| category    | item_name   |   expenditure |\n",
       "|:------------|:------------|--------------:|\n",
       "| Electronics | Laptop      |          1200 |\n",
       "| Electronics | Headphones  |           100 |\n",
       "| Fashion     | T-Shirt     |            31 |\n",
       "| Fashion     | Jeans       |            50 |\n",
       "| Electronics | Smartphone  |           800 |\n",
       "| Fashion     | Shoes       |            60 |"
      ],
      "text/plain": [
       "<IPython.core.display.Markdown object>"
      ]
     },
     "metadata": {},
     "output_type": "display_data"
    },
    {
     "name": "stdout",
     "output_type": "stream",
     "text": [
      "\n",
      "Average expenditure per category:\n"
     ]
    },
    {
     "data": {
      "text/markdown": [
       "| category    |   expenditure |\n",
       "|:------------|--------------:|\n",
       "| Electronics |           700 |\n",
       "| Fashion     |            47 |"
      ],
      "text/plain": [
       "<IPython.core.display.Markdown object>"
      ]
     },
     "metadata": {},
     "output_type": "display_data"
    }
   ],
   "source": [
    "import pandas as pd\n",
    "\n",
    "QtrSales = pd.DataFrame({\n",
    "    'category':    ['Electronics', 'Electronics', 'Fashion', 'Fashion', 'Electronics', 'Fashion'],\n",
    "    'item_name':   ['Laptop', 'Headphones', 'T-Shirt', 'Jeans', 'Smartphone', 'Shoes'],\n",
    "    'expenditure': [1200, 100, 31, 50, 800, 60]\n",
    "})\n",
    "print('Original dataframe:')\n",
    "display_df(QtrSales)\n",
    "\n",
    "grouped = QtrSales.groupby(by='category')['expenditure']\n",
    "mean_df = grouped.mean()\n",
    "print('\\nAverage expenditure per category:')\n",
    "display_df(mean_df, index=True)"
   ]
  },
  {
   "cell_type": "markdown",
   "id": "82166069-deb1-4ba5-ab8a-f57607f0c00d",
   "metadata": {},
   "source": [
    "<br><br><br>"
   ]
  },
  {
   "cell_type": "markdown",
   "id": "8332145a-a3da-4696-a11f-11f0fd2b87b5",
   "metadata": {},
   "source": [
    "# Q14) Create a DataFrame having age, name, weight of five students. Write a program to display only the weight of first and fourth rows"
   ]
  },
  {
   "cell_type": "code",
   "execution_count": 8,
   "id": "61d19100-c5ff-4779-b97f-d86d72ef0faa",
   "metadata": {},
   "outputs": [
    {
     "name": "stdout",
     "output_type": "stream",
     "text": [
      "Original dataframe:\n"
     ]
    },
    {
     "data": {
      "text/markdown": [
       "|    | name    |   age |   weight |\n",
       "|---:|:--------|------:|---------:|\n",
       "|  0 | John    |    20 |       70 |\n",
       "|  1 | Emma    |    21 |       65 |\n",
       "|  2 | Michael |    22 |       75 |\n",
       "|  3 | Sophia  |    20 |       68 |\n",
       "|  4 | William |    23 |       72 |"
      ],
      "text/plain": [
       "<IPython.core.display.Markdown object>"
      ]
     },
     "metadata": {},
     "output_type": "display_data"
    },
    {
     "name": "stdout",
     "output_type": "stream",
     "text": [
      "\n",
      "Weight of the first and fourth rows:\n"
     ]
    },
    {
     "data": {
      "text/markdown": [
       "|    |   weight |\n",
       "|---:|---------:|\n",
       "|  0 |       70 |\n",
       "|  3 |       68 |"
      ],
      "text/plain": [
       "<IPython.core.display.Markdown object>"
      ]
     },
     "metadata": {},
     "output_type": "display_data"
    }
   ],
   "source": [
    "import pandas as pd\n",
    "\n",
    "data = {\n",
    "    'name':   ['John', 'Emma', 'Michael', 'Sophia', 'William'],\n",
    "    'age':    [20, 21, 22, 20, 23],\n",
    "    'weight': [70, 65, 75, 68, 72]\n",
    "}\n",
    "df = pd.DataFrame(data)\n",
    "print('Original dataframe:')\n",
    "display_df(df, index=True)\n",
    "\n",
    "weight_df = df.loc[ [0,3] , ['weight'] ]\n",
    "print('\\nWeight of the first and fourth rows:')\n",
    "display_df(weight_df, index=True)"
   ]
  },
  {
   "cell_type": "markdown",
   "id": "4db84b6f-9701-4ea2-9de7-b065ebf0b19d",
   "metadata": {},
   "source": [
    "<br><br><br>"
   ]
  },
  {
   "cell_type": "markdown",
   "id": "189a0d84-59f1-44c8-b908-9119570aff23",
   "metadata": {},
   "source": [
    "# Q15) Write a program to create a DataFrame to store weight, age and name of three people. Print the dataframe and its transpose"
   ]
  },
  {
   "cell_type": "code",
   "execution_count": 9,
   "id": "a3efce7c-f287-492d-8c55-6d372fb872af",
   "metadata": {},
   "outputs": [
    {
     "name": "stdout",
     "output_type": "stream",
     "text": [
      "Original dataframe:\n"
     ]
    },
    {
     "data": {
      "text/markdown": [
       "|    | name    |   age |   weight |\n",
       "|---:|:--------|------:|---------:|\n",
       "|  0 | John    |    20 |       70 |\n",
       "|  1 | Emma    |    21 |       65 |\n",
       "|  2 | Michael |    22 |       75 |\n",
       "|  3 | Sophia  |    20 |       68 |\n",
       "|  4 | William |    23 |       72 |"
      ],
      "text/plain": [
       "<IPython.core.display.Markdown object>"
      ]
     },
     "metadata": {},
     "output_type": "display_data"
    },
    {
     "name": "stdout",
     "output_type": "stream",
     "text": [
      "\n",
      "Transpose of the dataframe:\n"
     ]
    },
    {
     "data": {
      "text/markdown": [
       "|        | 0    | 1    | 2       | 3      | 4       |\n",
       "|:-------|:-----|:-----|:--------|:-------|:--------|\n",
       "| name   | John | Emma | Michael | Sophia | William |\n",
       "| age    | 20   | 21   | 22      | 20     | 23      |\n",
       "| weight | 70   | 65   | 75      | 68     | 72      |"
      ],
      "text/plain": [
       "<IPython.core.display.Markdown object>"
      ]
     },
     "metadata": {},
     "output_type": "display_data"
    }
   ],
   "source": [
    "import pandas as pd\n",
    "\n",
    "data = {\n",
    "    'name':   ['John', 'Emma', 'Michael', 'Sophia', 'William'],\n",
    "    'age':    [20, 21, 22, 20, 23],\n",
    "    'weight': [70, 65, 75, 68, 72]\n",
    "}\n",
    "df = pd.DataFrame(data)\n",
    "print('Original dataframe:')\n",
    "display_df(df, index=True)\n",
    "\n",
    "print('\\nTranspose of the dataframe:')\n",
    "display_df(df.T, index=True)"
   ]
  },
  {
   "cell_type": "markdown",
   "id": "dae64c2e-0351-44fb-9b29-8bf8b6647ed0",
   "metadata": {},
   "source": [
    "<br><br><br>"
   ]
  },
  {
   "cell_type": "markdown",
   "id": "1759077c-29b8-46ee-a6e2-e494c5b15d8e",
   "metadata": {},
   "source": [
    "<br><br><br>"
   ]
  },
  {
   "cell_type": "markdown",
   "id": "60a9156e-4c75-4c42-8ad9-5fd5f66c044d",
   "metadata": {},
   "source": [
    "<br><br><br>"
   ]
  },
  {
   "cell_type": "markdown",
   "id": "c1d9278c-c8f9-41ba-9f85-70b11104d130",
   "metadata": {},
   "source": [
    "<br><br><br>"
   ]
  },
  {
   "cell_type": "markdown",
   "id": "23241632-fd74-41ef-bcf0-704a2ae4c554",
   "metadata": {},
   "source": [
    "<br><br><br>"
   ]
  },
  {
   "cell_type": "markdown",
   "id": "b2e42b9a-9c2d-4fc1-a9a5-d79151251b68",
   "metadata": {},
   "source": [
    "<br><br><br>"
   ]
  },
  {
   "cell_type": "markdown",
   "id": "3d4e28fc-621e-4249-88a6-f0e27fb96c6f",
   "metadata": {},
   "source": [
    "<br><br><br>"
   ]
  },
  {
   "cell_type": "markdown",
   "id": "6851a91f-871c-4cd1-aaf3-8562106f434d",
   "metadata": {},
   "source": [
    "<br><br><br>"
   ]
  },
  {
   "cell_type": "markdown",
   "id": "4634043b-6d21-4126-87a2-b14f676f911f",
   "metadata": {},
   "source": [
    "<br><br><br>"
   ]
  },
  {
   "cell_type": "markdown",
   "id": "7968cfd2-751b-4638-a01a-c8305e4d4f28",
   "metadata": {},
   "source": [
    "<br><br><br>"
   ]
  },
  {
   "cell_type": "markdown",
   "id": "06c00b13-eb32-4b77-973e-0e8eb86284e4",
   "metadata": {},
   "source": [
    "<br><br><br>"
   ]
  },
  {
   "cell_type": "markdown",
   "id": "8e1d73de-8760-430f-89bc-c2933e0f6d77",
   "metadata": {},
   "source": [
    "<br><br><br>"
   ]
  },
  {
   "cell_type": "markdown",
   "id": "e41554e9-a72f-4671-9069-472100aeb8a9",
   "metadata": {},
   "source": [
    "<br><br><br>"
   ]
  },
  {
   "cell_type": "markdown",
   "id": "a71a6707-f169-47cb-9350-1e46cd88a5b4",
   "metadata": {},
   "source": [
    "<br><br><br>"
   ]
  },
  {
   "cell_type": "markdown",
   "id": "13e8a756-e3d4-42bc-8abc-21266c30254d",
   "metadata": {},
   "source": [
    "<br><br><br>"
   ]
  },
  {
   "cell_type": "markdown",
   "id": "8b1d4976-6e67-4bcc-b6b0-7f694f14636d",
   "metadata": {},
   "source": [
    "<br><br><br>"
   ]
  },
  {
   "cell_type": "markdown",
   "id": "1d9ab056-0bf0-4569-85ea-54c73e0a8339",
   "metadata": {},
   "source": [
    "<br><br><br>"
   ]
  },
  {
   "cell_type": "markdown",
   "id": "edb30fea-18a1-4f2d-bf2c-aa184648eae7",
   "metadata": {},
   "source": [
    "<br><br><br>"
   ]
  },
  {
   "cell_type": "markdown",
   "id": "cbff6174-92af-4c52-95aa-37bfb7e0503b",
   "metadata": {},
   "source": [
    "<br><br><br>"
   ]
  },
  {
   "cell_type": "markdown",
   "id": "1b353fbd-66ff-48f6-8a18-b7d5781d5fdb",
   "metadata": {},
   "source": [
    "<br><br><br>"
   ]
  },
  {
   "cell_type": "markdown",
   "id": "3877da61-4469-476b-856e-1108cd2a9983",
   "metadata": {},
   "source": [
    "<br><br><br>"
   ]
  },
  {
   "cell_type": "markdown",
   "id": "6a39b78a-5ac2-4d1e-8693-171f4a070a4a",
   "metadata": {},
   "source": [
    "<br><br><br>"
   ]
  },
  {
   "cell_type": "markdown",
   "id": "c0dabf0d-fe35-49a8-99b8-4f851e79265a",
   "metadata": {},
   "source": [
    "<br><br><br>"
   ]
  },
  {
   "cell_type": "markdown",
   "id": "5c3ebb71-24e8-498c-983f-c651c5f41e7a",
   "metadata": {},
   "source": [
    "<br><br><br>"
   ]
  },
  {
   "cell_type": "markdown",
   "id": "cce0f43f-876e-45ea-893a-27fcabc28ab3",
   "metadata": {},
   "source": [
    "<br><br><br>"
   ]
  }
 ],
 "metadata": {
  "kernelspec": {
   "display_name": "Python 3 (ipykernel)",
   "language": "python",
   "name": "python3"
  },
  "language_info": {
   "codemirror_mode": {
    "name": "ipython",
    "version": 3
   },
   "file_extension": ".py",
   "mimetype": "text/x-python",
   "name": "python",
   "nbconvert_exporter": "python",
   "pygments_lexer": "ipython3",
   "version": "3.12.2"
  }
 },
 "nbformat": 4,
 "nbformat_minor": 5
}
