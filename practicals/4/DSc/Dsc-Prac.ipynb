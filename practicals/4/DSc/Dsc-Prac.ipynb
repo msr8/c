{
 "cells": [
  {
   "cell_type": "code",
   "execution_count": 1,
   "id": "62a24842-3d04-4c2f-a6cb-66934734fa08",
   "metadata": {},
   "outputs": [],
   "source": [
    "import pandas as pd\n",
    "import numpy  as np\n",
    "from IPython.display import HTML, Markdown, Latex\n",
    "\n",
    "\n",
    "def display_df(tp_df=None, index=False):\n",
    "    tp_df = tp_df if tp_df is not None else df\n",
    "    display(Markdown(tp_df.to_markdown(index=index)))"
   ]
  },
  {
   "cell_type": "markdown",
   "id": "7401edc3-31f5-4804-a83b-86bdb20c92eb",
   "metadata": {},
   "source": [
    "<br><br><br>"
   ]
  },
  {
   "cell_type": "markdown",
   "id": "f4608797-fc03-4ff5-843b-7e5668eb91e5",
   "metadata": {},
   "source": [
    "### Q1) Write all the ways to create a dataframe"
   ]
  },
  {
   "cell_type": "code",
   "execution_count": 2,
   "id": "d689f3de-cf66-449f-8e8f-4a5a43bd514c",
   "metadata": {},
   "outputs": [
    {
     "name": "stdout",
     "output_type": "stream",
     "text": [
      "From a list of lists:\n"
     ]
    },
    {
     "data": {
      "text/markdown": [
       "|   0 |   1 |   2 |\n",
       "|----:|----:|----:|\n",
       "|   1 |   2 |   3 |\n",
       "|   4 |   5 |   6 |\n",
       "|   7 |   8 |   9 |"
      ],
      "text/plain": [
       "<IPython.core.display.Markdown object>"
      ]
     },
     "metadata": {},
     "output_type": "display_data"
    },
    {
     "name": "stdout",
     "output_type": "stream",
     "text": [
      "\n",
      "From a dictionary:\n"
     ]
    },
    {
     "data": {
      "text/markdown": [
       "|   a |   b |   c |\n",
       "|----:|----:|----:|\n",
       "|   1 |   2 |   3 |\n",
       "|   4 |   5 |   6 |\n",
       "|   7 |   8 |   9 |"
      ],
      "text/plain": [
       "<IPython.core.display.Markdown object>"
      ]
     },
     "metadata": {},
     "output_type": "display_data"
    },
    {
     "name": "stdout",
     "output_type": "stream",
     "text": [
      "\n",
      "From a list of dictionaries:\n"
     ]
    },
    {
     "data": {
      "text/markdown": [
       "|   a |   b |   c |\n",
       "|----:|----:|----:|\n",
       "|   1 |   2 |   3 |\n",
       "|   4 |   5 |   6 |\n",
       "|   7 |   8 |   9 |"
      ],
      "text/plain": [
       "<IPython.core.display.Markdown object>"
      ]
     },
     "metadata": {},
     "output_type": "display_data"
    }
   ],
   "source": [
    "import pandas as pd\n",
    "\n",
    "# From a list of lists\n",
    "data = [[1, 2, 3], [4, 5, 6], [7, 8, 9]]\n",
    "df = pd.DataFrame(data)\n",
    "print('From a list of lists:')\n",
    "display_df(df)\n",
    "\n",
    "# From a dictionary\n",
    "data = {'a': [1, 4, 7], 'b': [2, 5, 8], 'c': [3, 6, 9]}\n",
    "df = pd.DataFrame(data)\n",
    "print('\\nFrom a dictionary:')\n",
    "display_df(df)\n",
    "\n",
    "# From a list of dictionaries\n",
    "data = [{'a': 1, 'b': 2, 'c': 3}, {'a': 4, 'b': 5, 'c': 6}, {'a': 7, 'b': 8, 'c': 9}]\n",
    "df = pd.DataFrame(data)\n",
    "print('\\nFrom a list of dictionaries:')\n",
    "display_df(df)"
   ]
  },
  {
   "cell_type": "markdown",
   "id": "dec35826-5f1e-4f44-bacd-2fdf1480a535",
   "metadata": {},
   "source": [
    "<br><br><br>"
   ]
  },
  {
   "cell_type": "markdown",
   "id": "136d83d3-eddd-4de1-88aa-38255222e559",
   "metadata": {},
   "source": [
    "### Q2) Given a dataset, print the following:\n",
    "\n",
    "1) Records of index 1 & 3\n",
    "2) Records where age >= 15\n",
    "3) Records where age >= 12 and gender = Male\n",
    "4) City and gender of people with age >= 12"
   ]
  },
  {
   "cell_type": "code",
   "execution_count": 3,
   "id": "088c08a2-6068-44c5-b548-65a16f5cd19a",
   "metadata": {},
   "outputs": [
    {
     "name": "stdout",
     "output_type": "stream",
     "text": [
      "\n",
      "1) Original data:\n"
     ]
    },
    {
     "data": {
      "text/markdown": [
       "|   age | section   | city    | gender   | favorite_color   |\n",
       "|------:|:----------|:--------|:---------|:-----------------|\n",
       "|    10 | A         | Gurgaon | M        | red              |\n",
       "|    22 | B         | Delhi   | F        | black            |\n",
       "|    13 | C         | Mumbai  | F        | yellow           |\n",
       "|    21 | B         | Delhi   | M        | pink             |\n",
       "|    12 | B         | Mumbai  | M        | black            |\n",
       "|    11 | A         | Delhi   | M        | green            |\n",
       "|    17 | A         | Mumbai  | F        | red              |"
      ],
      "text/plain": [
       "<IPython.core.display.Markdown object>"
      ]
     },
     "metadata": {},
     "output_type": "display_data"
    },
    {
     "name": "stdout",
     "output_type": "stream",
     "text": [
      "\n",
      "2) Records of index 1 & 3\n"
     ]
    },
    {
     "data": {
      "text/markdown": [
       "|   age | section   | city   | gender   | favorite_color   |\n",
       "|------:|:----------|:-------|:---------|:-----------------|\n",
       "|    22 | B         | Delhi  | F        | black            |\n",
       "|    21 | B         | Delhi  | M        | pink             |"
      ],
      "text/plain": [
       "<IPython.core.display.Markdown object>"
      ]
     },
     "metadata": {},
     "output_type": "display_data"
    },
    {
     "name": "stdout",
     "output_type": "stream",
     "text": [
      "\n",
      "3) Records where age >= 15:\n"
     ]
    },
    {
     "data": {
      "text/markdown": [
       "|   age | section   | city   | gender   | favorite_color   |\n",
       "|------:|:----------|:-------|:---------|:-----------------|\n",
       "|    22 | B         | Delhi  | F        | black            |\n",
       "|    21 | B         | Delhi  | M        | pink             |\n",
       "|    17 | A         | Mumbai | F        | red              |"
      ],
      "text/plain": [
       "<IPython.core.display.Markdown object>"
      ]
     },
     "metadata": {},
     "output_type": "display_data"
    },
    {
     "name": "stdout",
     "output_type": "stream",
     "text": [
      "\n",
      "4) Records where age >= 12 and gender = Male:\n"
     ]
    },
    {
     "data": {
      "text/markdown": [
       "|   age | section   | city   | gender   | favorite_color   |\n",
       "|------:|:----------|:-------|:---------|:-----------------|\n",
       "|    21 | B         | Delhi  | M        | pink             |\n",
       "|    12 | B         | Mumbai | M        | black            |"
      ],
      "text/plain": [
       "<IPython.core.display.Markdown object>"
      ]
     },
     "metadata": {},
     "output_type": "display_data"
    },
    {
     "name": "stdout",
     "output_type": "stream",
     "text": [
      "\n",
      "5) City and gender of people with age >= 12:\n"
     ]
    },
    {
     "data": {
      "text/markdown": [
       "|   age | section   | city   | gender   | favorite_color   |\n",
       "|------:|:----------|:-------|:---------|:-----------------|\n",
       "|    21 | B         | Delhi  | M        | pink             |\n",
       "|    12 | B         | Mumbai | M        | black            |"
      ],
      "text/plain": [
       "<IPython.core.display.Markdown object>"
      ]
     },
     "metadata": {},
     "output_type": "display_data"
    }
   ],
   "source": [
    "import pandas as pd\n",
    "\n",
    "data = {\n",
    "    'age':            [10,22,13,21,12,11,17],\n",
    "    'section':        ['A','B','C','B','B','A','A'],\n",
    "    'city':           ['Gurgaon','Delhi','Mumbai','Delhi','Mumbai','Delhi','Mumbai'],\n",
    "    'gender':         ['M','F','F','M','M','M','F'],\n",
    "    'favorite_color': ['red','black','yellow','pink','black','green','red']   \n",
    "}\n",
    "df = pd.DataFrame(data)\n",
    "\n",
    "print('\\n1) Original data:')\n",
    "display_df()\n",
    "\n",
    "print('\\n2) Records of index 1 & 3')\n",
    "res_df = df.iloc[ [1,3] , : ]\n",
    "display_df(res_df)\n",
    "\n",
    "print('\\n3) Records where age >= 15:')\n",
    "res_df = df.query('age >= 15')\n",
    "display_df(res_df)\n",
    "\n",
    "print('\\n4) Records where age >= 12 and gender = Male:')\n",
    "res_df = df.query('age >= 12 and gender == \"M\"')\n",
    "display_df(res_df)\n",
    "\n",
    "print('\\n5) City and gender of people with age >= 12:')\n",
    "df.query('age >= 12')[['city','gender']]\n",
    "display_df(res_df)"
   ]
  },
  {
   "cell_type": "markdown",
   "id": "5a18f548-d8c6-4758-a436-93a386352a9c",
   "metadata": {},
   "source": [
    "<br><br><br>"
   ]
  },
  {
   "cell_type": "markdown",
   "id": "901ea773-ee75-4088-aad2-31525efc45a1",
   "metadata": {},
   "source": [
    "### Q3) Create a dataframe to store data of 10 students, with the columns being \"Name\", \"Age\", \"Semester I marks out of 600\", \"Semester II marks out of 500\", and \"Attendance\"\n",
    "\n",
    "1) Display details of students who scored more than 560 marks in sem I\n",
    "2) Display details of students who scored less than 250 marks in sem II\n",
    "3) Display details of student who scored minimum marks in sem II\n",
    "4) Display details of student who scored maximum marks in sem II\n",
    "5) Display details of students whose attendance is more than 75\n",
    "6) Display details of students whose attendance is less than 50\n",
    "7) Insert 2 new records\n",
    "8) Add a column corresponding to percentage of marks of both semesters\n",
    "9) Add a new column corresponding to grades:\n",
    "\n",
    "| Percentage   | Grade |\n",
    "| ------------ | ----- |\n",
    "| >=90         | O     |\n",
    "| >=75 and <90 | A+    |\n",
    "| >=60 and <75 | A     |\n",
    "| >=50 and <60 | B+    |\n",
    "| >=40 and <50 | B     |\n",
    "| >40          | F     |"
   ]
  },
  {
   "cell_type": "code",
   "execution_count": 4,
   "id": "bf639cf7-53bc-4b4e-939f-71f967afe0b7",
   "metadata": {},
   "outputs": [
    {
     "name": "stdout",
     "output_type": "stream",
     "text": [
      "\n",
      "Original data:\n"
     ]
    },
    {
     "data": {
      "text/markdown": [
       "| Name   |   Age |   Semester I marks out of 600 |   Semester II marks out of 500 |   Attendance |\n",
       "|:-------|------:|------------------------------:|-------------------------------:|-------------:|\n",
       "| A      |    20 |                           213 |                            198 |           76 |\n",
       "| B      |    21 |                            31 |                            378 |           26 |\n",
       "| C      |    20 |                            57 |                            133 |           53 |\n",
       "| D      |    22 |                           406 |                            450 |           32 |\n",
       "| E      |    23 |                           417 |                            283 |           50 |\n",
       "| F      |    20 |                            45 |                            485 |           67 |\n",
       "| G      |    21 |                           217 |                            193 |           92 |\n",
       "| H      |    22 |                           200 |                            283 |           62 |\n",
       "| I      |    20 |                           588 |                            236 |           44 |\n",
       "| J      |    21 |                           319 |                            191 |           85 |"
      ],
      "text/plain": [
       "<IPython.core.display.Markdown object>"
      ]
     },
     "metadata": {},
     "output_type": "display_data"
    },
    {
     "name": "stdout",
     "output_type": "stream",
     "text": [
      "\n",
      "1) Students who scored more than 560 marks in sem I:\n"
     ]
    },
    {
     "data": {
      "text/markdown": [
       "|    | Name   |   Age |   Semester I marks out of 600 |   Semester II marks out of 500 |   Attendance |\n",
       "|---:|:-------|------:|------------------------------:|-------------------------------:|-------------:|\n",
       "|  8 | I      |    20 |                           588 |                            236 |           44 |"
      ],
      "text/plain": [
       "<IPython.core.display.Markdown object>"
      ]
     },
     "metadata": {},
     "output_type": "display_data"
    },
    {
     "name": "stdout",
     "output_type": "stream",
     "text": [
      "\n",
      "2) Students who scored less than 250 marks in sem II:\n"
     ]
    },
    {
     "data": {
      "text/markdown": [
       "|    | Name   |   Age |   Semester I marks out of 600 |   Semester II marks out of 500 |   Attendance |\n",
       "|---:|:-------|------:|------------------------------:|-------------------------------:|-------------:|\n",
       "|  0 | A      |    20 |                           213 |                            198 |           76 |\n",
       "|  2 | C      |    20 |                            57 |                            133 |           53 |\n",
       "|  6 | G      |    21 |                           217 |                            193 |           92 |\n",
       "|  8 | I      |    20 |                           588 |                            236 |           44 |\n",
       "|  9 | J      |    21 |                           319 |                            191 |           85 |"
      ],
      "text/plain": [
       "<IPython.core.display.Markdown object>"
      ]
     },
     "metadata": {},
     "output_type": "display_data"
    },
    {
     "name": "stdout",
     "output_type": "stream",
     "text": [
      "\n",
      "3) Student who scored minimum marks in sem II:\n"
     ]
    },
    {
     "data": {
      "text/markdown": [
       "|    | Name   |   Age |   Semester I marks out of 600 |   Semester II marks out of 500 |   Attendance |\n",
       "|---:|:-------|------:|------------------------------:|-------------------------------:|-------------:|\n",
       "|  2 | C      |    20 |                            57 |                            133 |           53 |"
      ],
      "text/plain": [
       "<IPython.core.display.Markdown object>"
      ]
     },
     "metadata": {},
     "output_type": "display_data"
    },
    {
     "name": "stdout",
     "output_type": "stream",
     "text": [
      "\n",
      "4) Student who scored maximum marks in sem II:\n"
     ]
    },
    {
     "data": {
      "text/markdown": [
       "|    | Name   |   Age |   Semester I marks out of 600 |   Semester II marks out of 500 |   Attendance |\n",
       "|---:|:-------|------:|------------------------------:|-------------------------------:|-------------:|\n",
       "|  5 | F      |    20 |                            45 |                            485 |           67 |"
      ],
      "text/plain": [
       "<IPython.core.display.Markdown object>"
      ]
     },
     "metadata": {},
     "output_type": "display_data"
    },
    {
     "name": "stdout",
     "output_type": "stream",
     "text": [
      "\n",
      "5) Students whose attendance is more than 75:\n"
     ]
    },
    {
     "data": {
      "text/markdown": [
       "|    | Name   |   Age |   Semester I marks out of 600 |   Semester II marks out of 500 |   Attendance |\n",
       "|---:|:-------|------:|------------------------------:|-------------------------------:|-------------:|\n",
       "|  0 | A      |    20 |                           213 |                            198 |           76 |\n",
       "|  6 | G      |    21 |                           217 |                            193 |           92 |\n",
       "|  9 | J      |    21 |                           319 |                            191 |           85 |"
      ],
      "text/plain": [
       "<IPython.core.display.Markdown object>"
      ]
     },
     "metadata": {},
     "output_type": "display_data"
    },
    {
     "name": "stdout",
     "output_type": "stream",
     "text": [
      "\n",
      "6) Students whose attendance is less than 50:\n"
     ]
    },
    {
     "data": {
      "text/markdown": [
       "|    | Name   |   Age |   Semester I marks out of 600 |   Semester II marks out of 500 |   Attendance |\n",
       "|---:|:-------|------:|------------------------------:|-------------------------------:|-------------:|\n",
       "|  1 | B      |    21 |                            31 |                            378 |           26 |\n",
       "|  3 | D      |    22 |                           406 |                            450 |           32 |\n",
       "|  8 | I      |    20 |                           588 |                            236 |           44 |"
      ],
      "text/plain": [
       "<IPython.core.display.Markdown object>"
      ]
     },
     "metadata": {},
     "output_type": "display_data"
    },
    {
     "name": "stdout",
     "output_type": "stream",
     "text": [
      "\n",
      "7) Inserted two new records:\n"
     ]
    },
    {
     "data": {
      "text/markdown": [
       "|    | Name   |   Age |   Semester I marks out of 600 |   Semester II marks out of 500 |   Attendance |\n",
       "|---:|:-------|------:|------------------------------:|-------------------------------:|-------------:|\n",
       "|  0 | A      |    20 |                           213 |                            198 |           76 |\n",
       "|  1 | B      |    21 |                            31 |                            378 |           26 |\n",
       "|  2 | C      |    20 |                            57 |                            133 |           53 |\n",
       "|  3 | D      |    22 |                           406 |                            450 |           32 |\n",
       "|  4 | E      |    23 |                           417 |                            283 |           50 |\n",
       "|  5 | F      |    20 |                            45 |                            485 |           67 |\n",
       "|  6 | G      |    21 |                           217 |                            193 |           92 |\n",
       "|  7 | H      |    22 |                           200 |                            283 |           62 |\n",
       "|  8 | I      |    20 |                           588 |                            236 |           44 |\n",
       "|  9 | J      |    21 |                           319 |                            191 |           85 |\n",
       "| 10 | K      |    22 |                           300 |                            400 |           80 |\n",
       "| 11 | L      |    23 |                           400 |                            300 |           40 |"
      ],
      "text/plain": [
       "<IPython.core.display.Markdown object>"
      ]
     },
     "metadata": {},
     "output_type": "display_data"
    },
    {
     "name": "stdout",
     "output_type": "stream",
     "text": [
      "\n",
      "8) Added the percentage column:\n"
     ]
    },
    {
     "data": {
      "text/markdown": [
       "| Name   |   Age |   Semester I marks out of 600 |   Semester II marks out of 500 |   Attendance |   Percentage |\n",
       "|:-------|------:|------------------------------:|-------------------------------:|-------------:|-------------:|\n",
       "| A      |    20 |                           213 |                            198 |           76 |        37.36 |\n",
       "| B      |    21 |                            31 |                            378 |           26 |        37.18 |\n",
       "| C      |    20 |                            57 |                            133 |           53 |        17.27 |\n",
       "| D      |    22 |                           406 |                            450 |           32 |        77.82 |\n",
       "| E      |    23 |                           417 |                            283 |           50 |        63.64 |\n",
       "| F      |    20 |                            45 |                            485 |           67 |        48.18 |\n",
       "| G      |    21 |                           217 |                            193 |           92 |        37.27 |\n",
       "| H      |    22 |                           200 |                            283 |           62 |        43.91 |\n",
       "| I      |    20 |                           588 |                            236 |           44 |        74.91 |\n",
       "| J      |    21 |                           319 |                            191 |           85 |        46.36 |\n",
       "| K      |    22 |                           300 |                            400 |           80 |        63.64 |\n",
       "| L      |    23 |                           400 |                            300 |           40 |        63.64 |"
      ],
      "text/plain": [
       "<IPython.core.display.Markdown object>"
      ]
     },
     "metadata": {},
     "output_type": "display_data"
    },
    {
     "name": "stdout",
     "output_type": "stream",
     "text": [
      "\n",
      "9) Added the grade column:\n"
     ]
    },
    {
     "data": {
      "text/markdown": [
       "| Name   |   Age |   Semester I marks out of 600 |   Semester II marks out of 500 |   Attendance |   Percentage | Grade   |\n",
       "|:-------|------:|------------------------------:|-------------------------------:|-------------:|-------------:|:--------|\n",
       "| A      |    20 |                           213 |                            198 |           76 |        37.36 | F       |\n",
       "| B      |    21 |                            31 |                            378 |           26 |        37.18 | F       |\n",
       "| C      |    20 |                            57 |                            133 |           53 |        17.27 | F       |\n",
       "| D      |    22 |                           406 |                            450 |           32 |        77.82 | A+      |\n",
       "| E      |    23 |                           417 |                            283 |           50 |        63.64 | A       |\n",
       "| F      |    20 |                            45 |                            485 |           67 |        48.18 | B       |\n",
       "| G      |    21 |                           217 |                            193 |           92 |        37.27 | F       |\n",
       "| H      |    22 |                           200 |                            283 |           62 |        43.91 | B       |\n",
       "| I      |    20 |                           588 |                            236 |           44 |        74.91 | A       |\n",
       "| J      |    21 |                           319 |                            191 |           85 |        46.36 | B       |\n",
       "| K      |    22 |                           300 |                            400 |           80 |        63.64 | A       |\n",
       "| L      |    23 |                           400 |                            300 |           40 |        63.64 | A       |"
      ],
      "text/plain": [
       "<IPython.core.display.Markdown object>"
      ]
     },
     "metadata": {},
     "output_type": "display_data"
    }
   ],
   "source": [
    "import pandas as pd\n",
    "\n",
    "data = {\n",
    "    'Name':                         ['A', 'B', 'C', 'D', 'E', 'F', 'G', 'H', 'I', 'J'],\n",
    "    'Age':                          [20, 21, 20, 22, 23, 20, 21, 22, 20, 21],\n",
    "    'Semester I marks out of 600':  [213, 31, 57, 406, 417, 45, 217, 200, 588, 319],\n",
    "    'Semester II marks out of 500': [198, 378, 133, 450, 283, 485, 193, 283, 236, 191],\n",
    "    'Attendance':                   [76, 26, 53, 32, 50, 67, 92, 62, 44, 85]\n",
    "}\n",
    "df = pd.DataFrame(data)\n",
    "\n",
    "print('\\nOriginal data:')\n",
    "display_df()\n",
    "\n",
    "print('\\n1) Students who scored more than 560 marks in sem I:')\n",
    "ans = df.query('`Semester I marks out of 600` > 560')\n",
    "display_df(ans, index=True)\n",
    "\n",
    "print('\\n2) Students who scored less than 250 marks in sem II:')\n",
    "ans = df.query('`Semester II marks out of 500` < 250')\n",
    "display_df(ans, index=True)\n",
    "\n",
    "print('\\n3) Student who scored minimum marks in sem II:')\n",
    "min_marks = min(df['Semester II marks out of 500'])\n",
    "ans       = df.query('`Semester II marks out of 500` == @min_marks')\n",
    "display_df( ans , index=True )\n",
    "\n",
    "print('\\n4) Student who scored maximum marks in sem II:')\n",
    "ans = df.sort_values(by='Semester II marks out of 500',ascending=False).head(1)\n",
    "display_df(ans, index=True)\n",
    "\n",
    "print('\\n5) Students whose attendance is more than 75:')\n",
    "ans = df.query('Attendance > 75')\n",
    "display_df(ans, index=True)\n",
    "\n",
    "print('\\n6) Students whose attendance is less than 50:')\n",
    "ans = df.query('Attendance < 50')\n",
    "display_df(ans, index=True)\n",
    "\n",
    "print('\\n7) Inserted two new records:')\n",
    "new_data = {\n",
    "    'Name':                         ['K', 'L'],\n",
    "    'Age':                          [22,  23],\n",
    "    'Semester I marks out of 600':  [300, 400],\n",
    "    'Semester II marks out of 500': [400, 300],\n",
    "    'Attendance':                   [80,  40]\n",
    "}\n",
    "new_df = pd.DataFrame(new_data)\n",
    "df     = pd.concat([df,new_df], ignore_index=True)\n",
    "display_df(index=True)\n",
    "\n",
    "print('\\n8) Added the percentage column:')\n",
    "df['Percentage'] = (df['Semester I marks out of 600'] + df['Semester II marks out of 500']) / 11\n",
    "df['Percentage'] = df['Percentage'].apply(lambda x: round(x,2))\n",
    "display_df(df)\n",
    "\n",
    "print('\\n9) Added the grade column:')\n",
    "def get_grade(x: float):\n",
    "    if   x >= 90: return 'O'\n",
    "    elif x >= 75: return 'A+'\n",
    "    elif x >= 60: return 'A'\n",
    "    elif x >= 50: return 'B+'\n",
    "    elif x >= 40: return 'B'\n",
    "    else:         return 'F'\n",
    "df['Grade'] = df['Percentage'].apply(get_grade)\n",
    "display_df(df)"
   ]
  },
  {
   "cell_type": "markdown",
   "id": "d5428b6b-ead7-4530-9e5b-05776cd561c9",
   "metadata": {},
   "source": [
    "<br><br><br>"
   ]
  },
  {
   "cell_type": "markdown",
   "id": "05a92922-1b1d-40c7-9849-1c75857fdf2b",
   "metadata": {},
   "source": [
    "### Q4) Create a DataFrame based on E-Commerce data and generate mean, mode, and median"
   ]
  },
  {
   "cell_type": "code",
   "execution_count": 5,
   "id": "f4d2cb88-f096-46cb-ade5-c8f43828bf7c",
   "metadata": {},
   "outputs": [
    {
     "name": "stdout",
     "output_type": "stream",
     "text": [
      "\n",
      "1) Original dataframe:\n"
     ]
    },
    {
     "data": {
      "text/markdown": [
       "|   Order_ID |   Price |   Quantity |\n",
       "|-----------:|--------:|-----------:|\n",
       "|        101 |      50 |          2 |\n",
       "|        102 |      20 |          3 |\n",
       "|        103 |      40 |          1 |\n",
       "|        104 |      50 |          2 |\n",
       "|        105 |      45 |          1 |"
      ],
      "text/plain": [
       "<IPython.core.display.Markdown object>"
      ]
     },
     "metadata": {},
     "output_type": "display_data"
    },
    {
     "name": "stdout",
     "output_type": "stream",
     "text": [
      "\n",
      "2) Means: \n"
     ]
    },
    {
     "data": {
      "text/markdown": [
       "|          |    0 |\n",
       "|:---------|-----:|\n",
       "| Price    | 41   |\n",
       "| Quantity |  1.8 |"
      ],
      "text/plain": [
       "<IPython.core.display.Markdown object>"
      ]
     },
     "metadata": {},
     "output_type": "display_data"
    },
    {
     "name": "stdout",
     "output_type": "stream",
     "text": [
      "\n",
      "3) Modes: \n"
     ]
    },
    {
     "data": {
      "text/markdown": [
       "|    |   Price |   Quantity |\n",
       "|---:|--------:|-----------:|\n",
       "|  0 |      50 |          1 |\n",
       "|  1 |     nan |          2 |"
      ],
      "text/plain": [
       "<IPython.core.display.Markdown object>"
      ]
     },
     "metadata": {},
     "output_type": "display_data"
    },
    {
     "name": "stdout",
     "output_type": "stream",
     "text": [
      "\n",
      "4) Medians: \n"
     ]
    },
    {
     "data": {
      "text/markdown": [
       "|          |   0 |\n",
       "|:---------|----:|\n",
       "| Price    |  45 |\n",
       "| Quantity |   2 |"
      ],
      "text/plain": [
       "<IPython.core.display.Markdown object>"
      ]
     },
     "metadata": {},
     "output_type": "display_data"
    }
   ],
   "source": [
    "import pandas as pd\n",
    "\n",
    "data = {\n",
    "    'Order_ID':     ['101', '102', '103', '104', '105'],\n",
    "    'Price':        [50, 20, 40, 50, 45],\n",
    "    'Quantity':     [2, 3, 1, 2, 1]\n",
    "}\n",
    "df = pd.DataFrame(data)\n",
    "print('\\n1) Original dataframe:')\n",
    "display_df(df)\n",
    "\n",
    "mean_df   = df.mean(numeric_only=True)\n",
    "mode_df   = df.mode(numeric_only=True)\n",
    "median_df = df.median(numeric_only=True)\n",
    "\n",
    "print('\\n2) Means: ')\n",
    "display_df(mean_df, index=True)\n",
    "print('\\n3) Modes: ')\n",
    "display_df(mode_df, index=True)\n",
    "print('\\n4) Medians: ')\n",
    "display_df(median_df, index=True)"
   ]
  },
  {
   "cell_type": "markdown",
   "id": "dae64c2e-0351-44fb-9b29-8bf8b6647ed0",
   "metadata": {},
   "source": [
    "<br><br><br>"
   ]
  },
  {
   "cell_type": "markdown",
   "id": "47813b20-3537-4edc-adea-e38bbd3c6ca8",
   "metadata": {},
   "source": [
    "### Q5) Write a program to implement pivot() and pivot-table() on a DataFrame"
   ]
  },
  {
   "cell_type": "code",
   "execution_count": 6,
   "id": "0be277af-8032-4601-a00e-a3153b7b5752",
   "metadata": {},
   "outputs": [
    {
     "name": "stdout",
     "output_type": "stream",
     "text": [
      "\n",
      "1) Dataframe for pivot(): \n"
     ]
    },
    {
     "data": {
      "text/markdown": [
       "| Day       | City   |   Temperature |\n",
       "|:----------|:-------|--------------:|\n",
       "| Monday    | Delhi  |            32 |\n",
       "| Monday    | Mumbai |            34 |\n",
       "| Tuesday   | Delhi  |            33 |\n",
       "| Tuesday   | Mumbai |            35 |\n",
       "| Wednesday | Delhi  |            34 |\n",
       "| Wednesday | Mumbai |            36 |"
      ],
      "text/plain": [
       "<IPython.core.display.Markdown object>"
      ]
     },
     "metadata": {},
     "output_type": "display_data"
    },
    {
     "name": "stdout",
     "output_type": "stream",
     "text": [
      "\n",
      "2) pivot(): \n"
     ]
    },
    {
     "data": {
      "text/markdown": [
       "| Day       |   Delhi |   Mumbai |\n",
       "|:----------|--------:|---------:|\n",
       "| Monday    |      32 |       34 |\n",
       "| Tuesday   |      33 |       35 |\n",
       "| Wednesday |      34 |       36 |"
      ],
      "text/plain": [
       "<IPython.core.display.Markdown object>"
      ]
     },
     "metadata": {},
     "output_type": "display_data"
    },
    {
     "name": "stdout",
     "output_type": "stream",
     "text": [
      "\n",
      "3) Dataframe for pivot_table(): \n"
     ]
    },
    {
     "data": {
      "text/markdown": [
       "| Day     | City   |   Temperature |\n",
       "|:--------|:-------|--------------:|\n",
       "| Monday  | Delhi  |            32 |\n",
       "| Monday  | Delhi  |            33 |\n",
       "| Monday  | Mumbai |            36 |\n",
       "| Tuesday | Delhi  |            33 |\n",
       "| Tuesday | Mumbai |            36 |\n",
       "| Tuesday | Mumbai |            37 |"
      ],
      "text/plain": [
       "<IPython.core.display.Markdown object>"
      ]
     },
     "metadata": {},
     "output_type": "display_data"
    },
    {
     "name": "stdout",
     "output_type": "stream",
     "text": [
      "\n",
      "4) pivot_table(): \n"
     ]
    },
    {
     "data": {
      "text/markdown": [
       "| Day     |   Delhi |   Mumbai |\n",
       "|:--------|--------:|---------:|\n",
       "| Monday  |       2 |        1 |\n",
       "| Tuesday |       1 |        2 |"
      ],
      "text/plain": [
       "<IPython.core.display.Markdown object>"
      ]
     },
     "metadata": {},
     "output_type": "display_data"
    }
   ],
   "source": [
    "import pandas as pd\n",
    "\n",
    "data = {\n",
    "    'Day':         ['Monday', 'Monday', 'Tuesday', 'Tuesday', 'Wednesday', 'Wednesday'],\n",
    "    'City':        ['Delhi', 'Mumbai', 'Delhi', 'Mumbai', 'Delhi', 'Mumbai'],\n",
    "    'Temperature': [32, 34, 33, 35, 34, 36],\n",
    "}\n",
    "df = pd.DataFrame(data)\n",
    "print('\\n1) Dataframe for pivot(): ')\n",
    "display_df(df)\n",
    "\n",
    "pivot_df = df.pivot(index='Day', columns='City', values='Temperature')\n",
    "print('\\n2) pivot(): ')\n",
    "display_df(pivot_df, index=True)\n",
    "\n",
    "data = {\n",
    "    'Day':         ['Monday', 'Monday', 'Monday', 'Tuesday', 'Tuesday', 'Tuesday'],\n",
    "    'City':        ['Delhi', 'Delhi', 'Mumbai', 'Delhi', 'Mumbai', 'Mumbai'],\n",
    "    'Temperature': [32, 33, 36, 33, 36, 37],\n",
    "}\n",
    "df = pd.DataFrame(data)\n",
    "print('\\n3) Dataframe for pivot_table(): ')\n",
    "display_df(df)\n",
    "\n",
    "pivot_table_df = df.pivot_table(index='Day', columns='City', values='Temperature', aggfunc='count')\n",
    "print('\\n4) pivot_table(): ')\n",
    "display_df(pivot_table_df, index=True)"
   ]
  },
  {
   "cell_type": "markdown",
   "id": "2d37b80e-3feb-425d-84e4-eb07894595e4",
   "metadata": {},
   "source": [
    "<br><br><br>"
   ]
  },
  {
   "cell_type": "markdown",
   "id": "7f75d02c-c24e-44cd-b630-66703750fb8b",
   "metadata": {},
   "source": [
    "### Q6) Write a Program to read a CSV file and create its DataFrame"
   ]
  },
  {
   "cell_type": "code",
   "execution_count": 7,
   "id": "ae609cc2-2399-453a-afbb-a5eace654e34",
   "metadata": {},
   "outputs": [
    {
     "name": "stdout",
     "output_type": "stream",
     "text": [
      "\n",
      "1) Contents of data.csv:\n",
      "Name,Age,Gender\n",
      "Ram,16,M\n",
      "Manish,18,M\n",
      "Sahil,15,M\n",
      "Amrit,20,F\n",
      "Mark,19,M\n",
      "\n",
      "\n",
      "2) Dataframe:\n"
     ]
    },
    {
     "data": {
      "text/markdown": [
       "| Name   |   Age | Gender   |\n",
       "|:-------|------:|:---------|\n",
       "| Ram    |    16 | M        |\n",
       "| Manish |    18 | M        |\n",
       "| Sahil  |    15 | M        |\n",
       "| Amrit  |    20 | F        |\n",
       "| Mark   |    19 | M        |"
      ],
      "text/plain": [
       "<IPython.core.display.Markdown object>"
      ]
     },
     "metadata": {},
     "output_type": "display_data"
    }
   ],
   "source": [
    "import pandas as pd\n",
    "\n",
    "filename = 'data.csv'\n",
    "print(f'\\n1) Contents of {filename}:')\n",
    "with open(filename) as f:\n",
    "    print(f.read())\n",
    "\n",
    "df = pd.read_csv(filename)\n",
    "print('\\n2) Dataframe:')\n",
    "display_df(df)"
   ]
  },
  {
   "cell_type": "markdown",
   "id": "6cd81737-90a7-4266-808b-ecaf673a6296",
   "metadata": {},
   "source": [
    "<br><br><br>"
   ]
  },
  {
   "cell_type": "markdown",
   "id": "6c6f3a97-9b20-49bf-bfec-a022b576ac03",
   "metadata": {},
   "source": [
    "### Q7) Consider the DataFrame QtrSales where each row contains the item category, item name and expenditure and group the rows by category, and print the average expenditure per category"
   ]
  },
  {
   "cell_type": "code",
   "execution_count": 8,
   "id": "953728d0-2372-48bc-905b-934429fc39b2",
   "metadata": {},
   "outputs": [
    {
     "name": "stdout",
     "output_type": "stream",
     "text": [
      "\n",
      "1) Original dataframe:\n"
     ]
    },
    {
     "data": {
      "text/markdown": [
       "| category    | item_name   |   expenditure |\n",
       "|:------------|:------------|--------------:|\n",
       "| Electronics | Laptop      |          1200 |\n",
       "| Electronics | Headphones  |           100 |\n",
       "| Fashion     | T-Shirt     |            31 |\n",
       "| Fashion     | Jeans       |            50 |\n",
       "| Electronics | Smartphone  |           800 |\n",
       "| Fashion     | Shoes       |            60 |"
      ],
      "text/plain": [
       "<IPython.core.display.Markdown object>"
      ]
     },
     "metadata": {},
     "output_type": "display_data"
    },
    {
     "name": "stdout",
     "output_type": "stream",
     "text": [
      "\n",
      "2) Average expenditure per category:\n"
     ]
    },
    {
     "data": {
      "text/markdown": [
       "| category    |   expenditure |\n",
       "|:------------|--------------:|\n",
       "| Electronics |           700 |\n",
       "| Fashion     |            47 |"
      ],
      "text/plain": [
       "<IPython.core.display.Markdown object>"
      ]
     },
     "metadata": {},
     "output_type": "display_data"
    }
   ],
   "source": [
    "import pandas as pd\n",
    "\n",
    "QtrSales = pd.DataFrame({\n",
    "    'category':    ['Electronics', 'Electronics', 'Fashion', 'Fashion', 'Electronics', 'Fashion'],\n",
    "    'item_name':   ['Laptop', 'Headphones', 'T-Shirt', 'Jeans', 'Smartphone', 'Shoes'],\n",
    "    'expenditure': [1200, 100, 31, 50, 800, 60]\n",
    "})\n",
    "print('\\n1) Original dataframe:')\n",
    "display_df(QtrSales)\n",
    "\n",
    "grouped = QtrSales.groupby(by='category')['expenditure']\n",
    "mean_df = grouped.mean()\n",
    "print('\\n2) Average expenditure per category:')\n",
    "display_df(mean_df, index=True)"
   ]
  },
  {
   "cell_type": "markdown",
   "id": "bf1ab046-8402-4493-b785-e2bc8ceb4d66",
   "metadata": {},
   "source": [
    "<br><br><br>"
   ]
  },
  {
   "cell_type": "markdown",
   "id": "b3c60054-7a6b-4d4e-9883-f8dbb8491909",
   "metadata": {},
   "source": [
    "### Q8) Create a DataFrame having age, name, weight of five students. Write a program to display only the weight of first and fourth rows"
   ]
  },
  {
   "cell_type": "code",
   "execution_count": 9,
   "id": "52e09435-3b09-44ed-b62e-965708cc737d",
   "metadata": {},
   "outputs": [
    {
     "name": "stdout",
     "output_type": "stream",
     "text": [
      "\n",
      "1) Original dataframe:\n"
     ]
    },
    {
     "data": {
      "text/markdown": [
       "|    | name    |   age |   weight |\n",
       "|---:|:--------|------:|---------:|\n",
       "|  0 | John    |    20 |       70 |\n",
       "|  1 | Emma    |    21 |       65 |\n",
       "|  2 | Michael |    22 |       75 |\n",
       "|  3 | Sophia  |    20 |       68 |\n",
       "|  4 | William |    23 |       72 |"
      ],
      "text/plain": [
       "<IPython.core.display.Markdown object>"
      ]
     },
     "metadata": {},
     "output_type": "display_data"
    },
    {
     "name": "stdout",
     "output_type": "stream",
     "text": [
      "\n",
      "2) Weight of the first and fourth rows:\n"
     ]
    },
    {
     "data": {
      "text/markdown": [
       "|    |   weight |\n",
       "|---:|---------:|\n",
       "|  0 |       70 |\n",
       "|  3 |       68 |"
      ],
      "text/plain": [
       "<IPython.core.display.Markdown object>"
      ]
     },
     "metadata": {},
     "output_type": "display_data"
    }
   ],
   "source": [
    "import pandas as pd\n",
    "\n",
    "data = {\n",
    "    'name':   ['John', 'Emma', 'Michael', 'Sophia', 'William'],\n",
    "    'age':    [20, 21, 22, 20, 23],\n",
    "    'weight': [70, 65, 75, 68, 72]\n",
    "}\n",
    "df = pd.DataFrame(data)\n",
    "print('\\n1) Original dataframe:')\n",
    "display_df(df, index=True)\n",
    "\n",
    "weight_df = df.loc[ [0,3] , ['weight'] ]\n",
    "print('\\n2) Weight of the first and fourth rows:')\n",
    "display_df(weight_df, index=True)"
   ]
  },
  {
   "cell_type": "markdown",
   "id": "9f472960-e2a7-4b8a-a4b2-a737718e0696",
   "metadata": {},
   "source": [
    "<br><br><br>"
   ]
  },
  {
   "cell_type": "markdown",
   "id": "3aa10034-c060-49b1-891b-932b58d81535",
   "metadata": {},
   "source": [
    "### Q9) Write a program to create a DataFrame to store weight, age and name of three people. Print the DataFrame and its transpose"
   ]
  },
  {
   "cell_type": "code",
   "execution_count": 10,
   "id": "04217443-00b8-4570-823d-8d482a34ca7c",
   "metadata": {},
   "outputs": [
    {
     "name": "stdout",
     "output_type": "stream",
     "text": [
      "\n",
      "1) Original dataframe:\n"
     ]
    },
    {
     "data": {
      "text/markdown": [
       "|    | name    |   age |   weight |\n",
       "|---:|:--------|------:|---------:|\n",
       "|  0 | John    |    20 |       70 |\n",
       "|  1 | Emma    |    21 |       65 |\n",
       "|  2 | Michael |    22 |       75 |\n",
       "|  3 | Sophia  |    20 |       68 |\n",
       "|  4 | William |    23 |       72 |"
      ],
      "text/plain": [
       "<IPython.core.display.Markdown object>"
      ]
     },
     "metadata": {},
     "output_type": "display_data"
    },
    {
     "name": "stdout",
     "output_type": "stream",
     "text": [
      "\n",
      "2) Transpose of the dataframe:\n"
     ]
    },
    {
     "data": {
      "text/markdown": [
       "|        | 0    | 1    | 2       | 3      | 4       |\n",
       "|:-------|:-----|:-----|:--------|:-------|:--------|\n",
       "| name   | John | Emma | Michael | Sophia | William |\n",
       "| age    | 20   | 21   | 22      | 20     | 23      |\n",
       "| weight | 70   | 65   | 75      | 68     | 72      |"
      ],
      "text/plain": [
       "<IPython.core.display.Markdown object>"
      ]
     },
     "metadata": {},
     "output_type": "display_data"
    }
   ],
   "source": [
    "import pandas as pd\n",
    "\n",
    "data = {\n",
    "    'name':   ['John', 'Emma', 'Michael', 'Sophia', 'William'],\n",
    "    'age':    [20, 21, 22, 20, 23],\n",
    "    'weight': [70, 65, 75, 68, 72]\n",
    "}\n",
    "df = pd.DataFrame(data)\n",
    "print('\\n1) Original dataframe:')\n",
    "display_df(df, index=True)\n",
    "\n",
    "print('\\n2) Transpose of the dataframe:')\n",
    "display_df(df.T, index=True)"
   ]
  },
  {
   "cell_type": "markdown",
   "id": "ce3d39aa-7ca7-4c49-b85d-fbe936b31ed6",
   "metadata": {},
   "source": [
    "<br><br><br>"
   ]
  },
  {
   "cell_type": "markdown",
   "id": "4b823f21-9952-41d1-a358-36c1a1c81cf1",
   "metadata": {},
   "source": [
    "### Q10) Create a pandas series from a dictionary of values and an ndarray"
   ]
  },
  {
   "cell_type": "code",
   "execution_count": 11,
   "id": "aad22419-0244-41d6-b12b-ebdb8ffb6ffc",
   "metadata": {},
   "outputs": [
    {
     "name": "stdout",
     "output_type": "stream",
     "text": [
      "\n",
      "1) Dataframe created from a dictionary of values and ndarray:\n"
     ]
    },
    {
     "data": {
      "text/markdown": [
       "| Name   |   Age | Gender   |\n",
       "|:-------|------:|:---------|\n",
       "| Ram    |    16 | M        |\n",
       "| Manish |    18 | M        |\n",
       "| Sahil  |    15 | M        |\n",
       "| Amrit  |    20 | F        |\n",
       "| Mark   |    19 | M        |"
      ],
      "text/plain": [
       "<IPython.core.display.Markdown object>"
      ]
     },
     "metadata": {},
     "output_type": "display_data"
    }
   ],
   "source": [
    "import pandas as pd\n",
    "import numpy as np\n",
    "\n",
    "data = {\n",
    "    'Name':   np.array([ 'Ram', 'Manish', 'Sahil', 'Amrit', 'Mark' ]),\n",
    "    'Age':    np.array([ 16, 18, 15, 20, 19 ]),\n",
    "    'Gender': np.array([ 'M', 'M', 'M', 'F', 'M' ])\n",
    "}\n",
    "df = pd.DataFrame(data)\n",
    "print('\\n1) Dataframe created from a dictionary of values and ndarray:')\n",
    "display_df(df)"
   ]
  },
  {
   "cell_type": "markdown",
   "id": "26098306-91c4-4b28-9046-10ee08a4a454",
   "metadata": {},
   "source": [
    "<br><br><br>"
   ]
  },
  {
   "cell_type": "markdown",
   "id": "1fb74659-f206-4926-869f-a38a425fe1f1",
   "metadata": {},
   "source": [
    "### Q11) Perform sorting on Series data and DataFrames"
   ]
  },
  {
   "cell_type": "code",
   "execution_count": 12,
   "id": "2dc6b20e-2ba7-41ca-b7a6-c294a146576e",
   "metadata": {},
   "outputs": [
    {
     "name": "stdout",
     "output_type": "stream",
     "text": [
      "\n",
      "1) Original dataframe:\n"
     ]
    },
    {
     "data": {
      "text/markdown": [
       "| name   |   year |   reports |\n",
       "|:-------|-------:|----------:|\n",
       "| Jason  |   2012 |         4 |\n",
       "| Molly  |   2012 |        24 |\n",
       "| Tina   |   2013 |        31 |\n",
       "| Jake   |   2014 |         2 |\n",
       "| Amy    |   2014 |         3 |"
      ],
      "text/plain": [
       "<IPython.core.display.Markdown object>"
      ]
     },
     "metadata": {},
     "output_type": "display_data"
    },
    {
     "name": "stdout",
     "output_type": "stream",
     "text": [
      "\n",
      "2) Sorted dataframe (based on reports) in descending order:\n"
     ]
    },
    {
     "data": {
      "text/markdown": [
       "| name   |   year |   reports |\n",
       "|:-------|-------:|----------:|\n",
       "| Tina   |   2013 |        31 |\n",
       "| Molly  |   2012 |        24 |\n",
       "| Jason  |   2012 |         4 |\n",
       "| Amy    |   2014 |         3 |\n",
       "| Jake   |   2014 |         2 |"
      ],
      "text/plain": [
       "<IPython.core.display.Markdown object>"
      ]
     },
     "metadata": {},
     "output_type": "display_data"
    },
    {
     "name": "stdout",
     "output_type": "stream",
     "text": [
      "\n",
      "3) Original series:\n"
     ]
    },
    {
     "data": {
      "text/markdown": [
       "|   0 |\n",
       "|----:|\n",
       "|   3 |\n",
       "|   1 |\n",
       "|   2 |\n",
       "|   3 |\n",
       "|   4 |"
      ],
      "text/plain": [
       "<IPython.core.display.Markdown object>"
      ]
     },
     "metadata": {},
     "output_type": "display_data"
    },
    {
     "name": "stdout",
     "output_type": "stream",
     "text": [
      "\n",
      "4) Sorted series in ascending order:\n"
     ]
    },
    {
     "data": {
      "text/markdown": [
       "|   0 |\n",
       "|----:|\n",
       "|   1 |\n",
       "|   2 |\n",
       "|   3 |\n",
       "|   3 |\n",
       "|   4 |"
      ],
      "text/plain": [
       "<IPython.core.display.Markdown object>"
      ]
     },
     "metadata": {},
     "output_type": "display_data"
    }
   ],
   "source": [
    "import pandas as pd\n",
    "\n",
    "data = {\n",
    "    'name':    ['Jason', 'Molly', 'Tina', 'Jake', 'Amy'],\n",
    "    'year':    [2012, 2012, 2013, 2014, 2014],\n",
    "    'reports': [4, 24, 31, 2, 3]\n",
    "}\n",
    "df        = pd.DataFrame(data)\n",
    "print('\\n1) Original dataframe:')\n",
    "display_df(df)\n",
    "\n",
    "sorted_df = df.sort_values(by='reports', ascending=False)\n",
    "print('\\n2) Sorted dataframe (based on reports) in descending order:')\n",
    "display_df(sorted_df)\n",
    "\n",
    "s = pd.Series([3, 1, 2, 3, 4])\n",
    "print('\\n3) Original series:')\n",
    "display_df(s)\n",
    "\n",
    "s.sort_values(inplace=True)\n",
    "print('\\n4) Sorted series in ascending order:')\n",
    "display_df(s)"
   ]
  },
  {
   "cell_type": "markdown",
   "id": "027106a6-8987-47fe-9239-90d8572997f7",
   "metadata": {},
   "source": [
    "<br><br><br>"
   ]
  },
  {
   "cell_type": "markdown",
   "id": "7d9bee31-d9a7-4177-a42b-0ea5a21bf04e",
   "metadata": {},
   "source": [
    "### Q12) Two Series object, Population stores the details of four metro cities of India and another object AvgIncome stores the total average income reported in four years in these cities. Calculate income per capita for each of these metro cities"
   ]
  },
  {
   "cell_type": "code",
   "execution_count": 13,
   "id": "7ce15709-8580-4348-9122-1d7617f8fca7",
   "metadata": {},
   "outputs": [
    {
     "name": "stdout",
     "output_type": "stream",
     "text": [
      "\n",
      "1) Population:\n"
     ]
    },
    {
     "data": {
      "text/markdown": [
       "|           |       0 |\n",
       "|:----------|--------:|\n",
       "| Delhi     | 2e+07   |\n",
       "| Mumbai    | 2.2e+07 |\n",
       "| Bangalore | 1.2e+07 |\n",
       "| Kolkata   | 1.5e+07 |"
      ],
      "text/plain": [
       "<IPython.core.display.Markdown object>"
      ]
     },
     "metadata": {},
     "output_type": "display_data"
    },
    {
     "name": "stdout",
     "output_type": "stream",
     "text": [
      "\n",
      "2) AvgIncome:\n"
     ]
    },
    {
     "data": {
      "text/markdown": [
       "|           |      0 |\n",
       "|:----------|-------:|\n",
       "| Delhi     | 350000 |\n",
       "| Mumbai    | 320000 |\n",
       "| Bangalore | 300000 |\n",
       "| Kolkata   | 280000 |"
      ],
      "text/plain": [
       "<IPython.core.display.Markdown object>"
      ]
     },
     "metadata": {},
     "output_type": "display_data"
    },
    {
     "name": "stdout",
     "output_type": "stream",
     "text": [
      "\n",
      "3) Income per capita for each metro city:\n"
     ]
    },
    {
     "data": {
      "text/markdown": [
       "|           |         0 |\n",
       "|:----------|----------:|\n",
       "| Delhi     | 0.0175    |\n",
       "| Mumbai    | 0.0145455 |\n",
       "| Bangalore | 0.025     |\n",
       "| Kolkata   | 0.0186667 |"
      ],
      "text/plain": [
       "<IPython.core.display.Markdown object>"
      ]
     },
     "metadata": {},
     "output_type": "display_data"
    }
   ],
   "source": [
    "import pandas as pd\n",
    "\n",
    "Population = pd.Series({'Delhi': 20000000, 'Mumbai': 22000000, 'Bangalore': 12000000, 'Kolkata': 15000000})\n",
    "AvgIncome  = pd.Series({'Delhi': 350000,   'Mumbai': 320000,   'Bangalore': 300000,   'Kolkata': 280000})\n",
    "print('\\n1) Population:')\n",
    "display_df(Population, index=True)\n",
    "print('\\n2) AvgIncome:')\n",
    "display_df(AvgIncome, index=True)\n",
    "\n",
    "income_per_capita = AvgIncome / Population\n",
    "print(\"\\n3) Income per capita for each metro city:\")\n",
    "display_df(income_per_capita, index=True)"
   ]
  },
  {
   "cell_type": "markdown",
   "id": "dbec157c-2bd7-4fae-a641-4c8e7bed4738",
   "metadata": {},
   "source": [
    "<br><br><br>"
   ]
  },
  {
   "cell_type": "markdown",
   "id": "e2e2d87d-a87e-4709-9737-deb17da7779c",
   "metadata": {},
   "source": [
    "### Q13) Series objects Temp1, Temp2, Temp3, and Temp4 store the temperature of days of week 1, week 2, week 3, week 4. Write a script to:\n",
    "1) Print average temperature per week\n",
    "2) Print average temperature of entire month"
   ]
  },
  {
   "cell_type": "code",
   "execution_count": 14,
   "id": "e17f8289-978c-408a-b822-517a8aa749ef",
   "metadata": {},
   "outputs": [
    {
     "name": "stdout",
     "output_type": "stream",
     "text": [
      "\n",
      "1) Original data:\n"
     ]
    },
    {
     "data": {
      "text/markdown": [
       "|           |   Week 1 |   Week 2 |   Week 3 |   Week 4 |\n",
       "|:----------|---------:|---------:|---------:|---------:|\n",
       "| Monday    |       20 |       24 |       22 |       25 |\n",
       "| Tuesday   |       22 |       23 |       23 |       24 |\n",
       "| Wednesday |       21 |       22 |       24 |       23 |\n",
       "| Thursday  |       23 |       21 |       25 |       22 |\n",
       "| Friday    |       25 |       20 |       26 |       21 |"
      ],
      "text/plain": [
       "<IPython.core.display.Markdown object>"
      ]
     },
     "metadata": {},
     "output_type": "display_data"
    },
    {
     "name": "stdout",
     "output_type": "stream",
     "text": [
      "\n",
      "2) Average temperature per week:\n"
     ]
    },
    {
     "data": {
      "text/markdown": [
       "|        |    0 |\n",
       "|:-------|-----:|\n",
       "| Week 1 | 22.2 |\n",
       "| Week 2 | 22   |\n",
       "| Week 3 | 24   |\n",
       "| Week 4 | 23   |"
      ],
      "text/plain": [
       "<IPython.core.display.Markdown object>"
      ]
     },
     "metadata": {},
     "output_type": "display_data"
    },
    {
     "name": "stdout",
     "output_type": "stream",
     "text": [
      "\n",
      "3) Average temperature of the entire month:  22.8\n"
     ]
    }
   ],
   "source": [
    "import pandas as pd\n",
    "\n",
    "Temp1   = pd.Series([20, 22, 21, 23, 25], index=['Monday', 'Tuesday', 'Wednesday', 'Thursday', 'Friday'])\n",
    "Temp2   = pd.Series([24, 23, 22, 21, 20], index=['Monday', 'Tuesday', 'Wednesday', 'Thursday', 'Friday'])\n",
    "Temp3   = pd.Series([22, 23, 24, 25, 26], index=['Monday', 'Tuesday', 'Wednesday', 'Thursday', 'Friday'])\n",
    "Temp4   = pd.Series([25, 24, 23, 22, 21], index=['Monday', 'Tuesday', 'Wednesday', 'Thursday', 'Friday'])\n",
    "temp_df = pd.DataFrame({'Week 1': Temp1, 'Week 2': Temp2, 'Week 3': Temp3, 'Week 4': Temp4})\n",
    "print('\\n1) Original data:')\n",
    "display_df(temp_df, index=True)\n",
    "\n",
    "mean_df = temp_df.mean()\n",
    "print(\"\\n2) Average temperature per week:\")\n",
    "display_df(mean_df, index=True)\n",
    "\n",
    "print(\"\\n3) Average temperature of the entire month: \", temp_df.values.mean())"
   ]
  },
  {
   "cell_type": "markdown",
   "id": "382d8c55-02e5-45f3-b3ca-17cfdec42000",
   "metadata": {},
   "source": [
    "<br><br><br>"
   ]
  },
  {
   "cell_type": "markdown",
   "id": "7902ca61-306c-4f5c-9aff-8a95e2671512",
   "metadata": {},
   "source": [
    "### Q14) Write a pandas program to convert a series of lists to one series"
   ]
  },
  {
   "cell_type": "code",
   "execution_count": 15,
   "id": "3031710f-1639-4e49-ba6c-432d21eb4071",
   "metadata": {},
   "outputs": [
    {
     "name": "stdout",
     "output_type": "stream",
     "text": [
      "\n",
      "1) Original Series:\n"
     ]
    },
    {
     "data": {
      "text/markdown": [
       "| 0                         |\n",
       "|:--------------------------|\n",
       "| ['Red', 'Green', 'White'] |\n",
       "| ['Red', 'Black']          |\n",
       "| ['Yellow']                |"
      ],
      "text/plain": [
       "<IPython.core.display.Markdown object>"
      ]
     },
     "metadata": {},
     "output_type": "display_data"
    },
    {
     "name": "stdout",
     "output_type": "stream",
     "text": [
      "\n",
      "2) Resultant Series:\n"
     ]
    },
    {
     "data": {
      "text/markdown": [
       "| 0      |\n",
       "|:-------|\n",
       "| Red    |\n",
       "| Green  |\n",
       "| White  |\n",
       "| Red    |\n",
       "| Black  |\n",
       "| Yellow |"
      ],
      "text/plain": [
       "<IPython.core.display.Markdown object>"
      ]
     },
     "metadata": {},
     "output_type": "display_data"
    }
   ],
   "source": [
    "import pandas as pd\n",
    "\n",
    "s = pd.Series([\n",
    "    ['Red', 'Green', 'White'],\n",
    "    ['Red', 'Black'],\n",
    "    ['Yellow']\n",
    "])\n",
    "print(\"\\n1) Original Series:\")\n",
    "display_df(s)\n",
    "\n",
    "ans = []\n",
    "for i in s: ans.extend(i)\n",
    "ret = pd.Series(ans)\n",
    "print(\"\\n2) Resultant Series:\")\n",
    "display_df(ret)"
   ]
  },
  {
   "cell_type": "markdown",
   "id": "edb5b058-4375-41de-afa9-648d284bda01",
   "metadata": {},
   "source": [
    "<br><br><br>"
   ]
  },
  {
   "cell_type": "markdown",
   "id": "6be015c8-5cea-42fe-917c-83c4f6bfe8ca",
   "metadata": {},
   "source": [
    "### Q15) Write a pandas program to compare elements of two series"
   ]
  },
  {
   "cell_type": "code",
   "execution_count": 16,
   "id": "8cd81d58-18e0-4744-a074-b79d39a9eb13",
   "metadata": {},
   "outputs": [
    {
     "name": "stdout",
     "output_type": "stream",
     "text": [
      "\n",
      "1) Original series':\n"
     ]
    },
    {
     "data": {
      "text/markdown": [
       "|   0 |\n",
       "|----:|\n",
       "|   1 |\n",
       "|   2 |\n",
       "|   3 |\n",
       "|   4 |\n",
       "|   5 |"
      ],
      "text/plain": [
       "<IPython.core.display.Markdown object>"
      ]
     },
     "metadata": {},
     "output_type": "display_data"
    },
    {
     "name": "stdout",
     "output_type": "stream",
     "text": [
      "\n",
      "\n"
     ]
    },
    {
     "data": {
      "text/markdown": [
       "|   0 |\n",
       "|----:|\n",
       "|   4 |\n",
       "|   0 |\n",
       "|   3 |\n",
       "|   7 |\n",
       "|   4 |"
      ],
      "text/plain": [
       "<IPython.core.display.Markdown object>"
      ]
     },
     "metadata": {},
     "output_type": "display_data"
    },
    {
     "name": "stdout",
     "output_type": "stream",
     "text": [
      "\n",
      "2) Comparing each element one by one:\n",
      "1 < 4\n",
      "2 > 0\n",
      "3 == 3\n",
      "4 < 7\n",
      "5 > 4\n"
     ]
    }
   ],
   "source": [
    "import pandas as pd\n",
    "\n",
    "s1 = pd.Series([1, 2, 3, 4, 5])\n",
    "s2 = pd.Series([4, 0, 3, 7, 4])\n",
    "\n",
    "print(\"\\n1) Original series':\")\n",
    "display_df(s1)\n",
    "print('\\n')\n",
    "display_df(s2)\n",
    "\n",
    "print(\"\\n2) Comparing each element one by one:\")\n",
    "for i,j in zip(s1, s2):\n",
    "    if   i == j: print(f'{i} == {j}')\n",
    "    elif i > j:  print(f'{i} > {j}')\n",
    "    else:        print(f'{i} < {j}')"
   ]
  },
  {
   "cell_type": "markdown",
   "id": "7e1c4568-3112-42eb-b15a-966bb450e162",
   "metadata": {},
   "source": [
    "<br><br><br>"
   ]
  },
  {
   "cell_type": "markdown",
   "id": "b1f7a700-a66d-46ff-957c-d55336c6ca4a",
   "metadata": {},
   "source": [
    "### Q16) Write a pandas program to create a subset of a given series based on values and condition"
   ]
  },
  {
   "cell_type": "code",
   "execution_count": 17,
   "id": "7ced994c-6b98-4378-8d01-cf57b142d182",
   "metadata": {},
   "outputs": [
    {
     "name": "stdout",
     "output_type": "stream",
     "text": [
      "\n",
      "1) Original series:\n"
     ]
    },
    {
     "data": {
      "text/markdown": [
       "|   0 |\n",
       "|----:|\n",
       "|   0 |\n",
       "|   1 |\n",
       "|   2 |\n",
       "|   3 |\n",
       "|   4 |\n",
       "|   5 |\n",
       "|   6 |\n",
       "|   7 |\n",
       "|   8 |\n",
       "|   9 |"
      ],
      "text/plain": [
       "<IPython.core.display.Markdown object>"
      ]
     },
     "metadata": {},
     "output_type": "display_data"
    },
    {
     "name": "stdout",
     "output_type": "stream",
     "text": [
      "\n",
      "2) Subset of elements smaller than 6\n"
     ]
    },
    {
     "data": {
      "text/markdown": [
       "|   0 |\n",
       "|----:|\n",
       "|   0 |\n",
       "|   1 |\n",
       "|   2 |\n",
       "|   3 |\n",
       "|   4 |\n",
       "|   5 |"
      ],
      "text/plain": [
       "<IPython.core.display.Markdown object>"
      ]
     },
     "metadata": {},
     "output_type": "display_data"
    }
   ],
   "source": [
    "import pandas as pd\n",
    "\n",
    "s = pd.Series([0, 1, 2, 3, 4, 5, 6, 7, 8, 9])\n",
    "\n",
    "print(\"\\n1) Original series:\")\n",
    "display_df(s)\n",
    "\n",
    "print(\"\\n2) Subset of elements smaller than 6\")\n",
    "new_s = s[s < 6]\n",
    "display_df(new_s)"
   ]
  },
  {
   "cell_type": "markdown",
   "id": "cce0f43f-876e-45ea-893a-27fcabc28ab3",
   "metadata": {},
   "source": [
    "<br><br><br>"
   ]
  },
  {
   "cell_type": "markdown",
   "id": "b766ebe7-4a58-4437-8abb-1d4036cf6b9f",
   "metadata": {},
   "source": [
    "# Q17) Given the dataset Toyota.csv, do the following operations: \t\n",
    "\n",
    "1. Upload Toyota.csv in dataframe df.\n",
    "2. What is the data type of MetColor?\n",
    "3. How many null values are there in the KM field?\n",
    "4. Which column has 7 unique values?\n",
    "5. How many records are there? What is the mean and median of age grouped by FuelType?\n",
    "6. Replace three, four, five value in Doors column to 3,4,5 respectively\n",
    "7. Change the datatype of Doors to int64\n",
    "8. Impute the value of Price with median\n",
    "9. Replace \"????\" in HP field with mean\n",
    "10. Impute blank values in FuelType with Mode.\n",
    "11. Delete the rows with MetColor and Age as blank\n",
    "12. Replace “??” value in KM with Mean\n",
    "13. What is the mean, median and mode of the KM field?\n",
    "14. Create a new column “Category” based on the value of the column “Age” according to the following table:\n",
    "\n",
    "| Value | Category |\n",
    "| :---: | :------: |\n",
    "| 0-10  | Old      |\n",
    "| 11-20 | Medium   |\n",
    "| 20+   | New      |\n",
    "\n",
    "15. Create Dummy fields for the FuelType column\n",
    "\n"
   ]
  },
  {
   "cell_type": "code",
   "execution_count": 18,
   "id": "cce692e3-0328-4946-adcd-153a7c4330cc",
   "metadata": {},
   "outputs": [
    {
     "name": "stdout",
     "output_type": "stream",
     "text": [
      "\n",
      "2) Datatype of the MetColor column is  float64\n",
      "\n",
      "3) The KM column has 0 null values\n",
      "\n",
      "4) The Doors column has 7 unique values\n",
      "\n",
      "4) No column with 7 unique values\n",
      "\n",
      "5) There are a total of 1436 records\n",
      "\n",
      "13.1) Mean of KM:   69006.62001696353\n",
      "13.2) Median of KM: 63875.5\n",
      "13.3) Mode of KM:   69006\n"
     ]
    }
   ],
   "source": [
    "import pandas as pd\n",
    "\n",
    "\n",
    "# 1) Upload Toyota.csv in dataframe df\n",
    "df = pd.read_csv('Toyota.csv')\n",
    "\n",
    "# 2) What is the data type of MetColor?\n",
    "metcolor_dtype = df['MetColor'].dtype\n",
    "print(f'\\n2) Datatype of the MetColor column is ', metcolor_dtype)\n",
    "\n",
    "# 3) How many null value are there in KM field?\n",
    "num_null = df['KM'].isnull().sum()\n",
    "print(f'\\n3) The KM column has {num_null} null values')\n",
    "\n",
    "# 4) Which column has 7 unique values?\n",
    "for col in df.columns:\n",
    "    if df[col].nunique() == 7:\n",
    "        print(f'\\n4) The {col} column has 7 unique values')\n",
    "else:\n",
    "    print('\\n4) No column with 7 unique values')\n",
    "\n",
    "# 5) How many records are there?\n",
    "print(f'\\n5) There are a total of {len(df)} records')\n",
    "\n",
    "# 6) Replace three, four, five value in Doors column to 3,4,5 respectively.\n",
    "replace_dict = {'three': 3, 'four': 4, 'five': 5}\n",
    "df['Doors'] = df['Doors'].replace(replace_dict)\n",
    "\n",
    "# 7) Change the datatype of Doors to int64\n",
    "df['Doors'] = df['Doors'].astype('int64')\n",
    "\n",
    "# 8) Impute the value of Price with median\n",
    "median_price = df['Price'].median()\n",
    "df['Price']  = df['Price'].fillna(median_price)\n",
    "\n",
    "# 9) Replace \"????\"\" in HP field with mean\n",
    "temp     = df['HP']\n",
    "temp     = temp[temp != '????']\n",
    "temp     = temp.astype('int64')\n",
    "mean_hp  = temp.mean()\n",
    "df['HP'] = df['HP'].replace('????', mean_hp)\n",
    "\n",
    "# 10) Impute blank values in FuelType with Mode\n",
    "mode_fueltype  = df['FuelType'].mode()[0]\n",
    "df['FuelType'] = df['FuelType'].fillna(mode_fueltype)\n",
    "\n",
    "# 11) Delete the rows with MetColor and Age as blank\n",
    "df.dropna(subset=['MetColor', 'Age'], inplace=True)\n",
    "\n",
    "# 12) Replace ?? value in KM with Mean\n",
    "temp     = df['KM']\n",
    "temp     = temp[temp != '??']\n",
    "temp     = temp.astype('int64')\n",
    "mean_km  = temp.mean()\n",
    "df['KM'] = df['KM'].replace('??', mean_km)\n",
    "\n",
    "# 13) What is the mean, median and mode of KM field\n",
    "km = df['KM'].astype('int64')\n",
    "print(f'\\n13.1) Mean of KM:   {mean_km}')\n",
    "print(f'13.2) Median of KM: {km.median()}')\n",
    "print(f'13.3) Mode of KM:   {km.mode()[0]}')\n",
    "\n",
    "# 14) Create a new column \"Category\" based on the value of the column \"Age\"\n",
    "def func(val):\n",
    "    if   val <= 10: return 'New'\n",
    "    elif val <= 20: return 'Medium'\n",
    "    else:           return 'Old'\n",
    "df['Category'] = df['Age'].apply(func)\n",
    "\n",
    "# 15) Create Dummy fields for FuelType\n",
    "df = pd.get_dummies(df, columns=['FuelType'])"
   ]
  },
  {
   "cell_type": "markdown",
   "id": "09cb59c6-9e5d-4cfc-90bb-43e29902973f",
   "metadata": {},
   "source": [
    "<br><br><br>"
   ]
  },
  {
   "cell_type": "markdown",
   "id": "16367ae1-1a17-4d6e-8cc3-69c70f752435",
   "metadata": {},
   "source": [
    "### Q18) Write a pandas program to change the order of index of a given series"
   ]
  },
  {
   "cell_type": "code",
   "execution_count": 19,
   "id": "24ffbfd6-21ae-4023-b575-963380f64f86",
   "metadata": {},
   "outputs": [
    {
     "name": "stdout",
     "output_type": "stream",
     "text": [
      "Original series:\n"
     ]
    },
    {
     "data": {
      "text/markdown": [
       "|    |   0 |\n",
       "|:---|----:|\n",
       "| A  |   1 |\n",
       "| B  |   2 |\n",
       "| C  |   3 |\n",
       "| D  |   4 |\n",
       "| E  |   5 |"
      ],
      "text/plain": [
       "<IPython.core.display.Markdown object>"
      ]
     },
     "metadata": {},
     "output_type": "display_data"
    },
    {
     "name": "stdout",
     "output_type": "stream",
     "text": [
      "\n",
      "Series after changing the order of index:\n"
     ]
    },
    {
     "data": {
      "text/markdown": [
       "|    |   0 |\n",
       "|:---|----:|\n",
       "| B  |   2 |\n",
       "| A  |   1 |\n",
       "| C  |   3 |\n",
       "| D  |   4 |\n",
       "| E  |   5 |"
      ],
      "text/plain": [
       "<IPython.core.display.Markdown object>"
      ]
     },
     "metadata": {},
     "output_type": "display_data"
    }
   ],
   "source": [
    "s = pd.Series(data = [1, 2, 3, 4, 5], index = ['A', 'B', 'C', 'D', 'E'])\n",
    "print(\"Original series:\")\n",
    "display_df(s, index=True)\n",
    "\n",
    "s = s.reindex(index = ['B', 'A', 'C', 'D', 'E'])\n",
    "print(\"\\nSeries after changing the order of index:\")\n",
    "display_df(s, index=True)"
   ]
  },
  {
   "cell_type": "markdown",
   "id": "63152dd3-dd08-4f01-9d67-0e44b0169c18",
   "metadata": {},
   "source": [
    "<br><br><br>"
   ]
  },
  {
   "cell_type": "markdown",
   "id": "13920d62-c32e-4efb-8f7b-f9b098d05f73",
   "metadata": {},
   "source": [
    "### Q19) Write a pandas program to get the items of a given series not present in another given series"
   ]
  },
  {
   "cell_type": "code",
   "execution_count": 20,
   "id": "e2622553-8197-4585-8a1b-fc230efe2cea",
   "metadata": {},
   "outputs": [
    {
     "name": "stdout",
     "output_type": "stream",
     "text": [
      "S1:\n"
     ]
    },
    {
     "data": {
      "text/markdown": [
       "|   0 |\n",
       "|----:|\n",
       "|   1 |\n",
       "|   2 |\n",
       "|   3 |\n",
       "|   4 |\n",
       "|   5 |"
      ],
      "text/plain": [
       "<IPython.core.display.Markdown object>"
      ]
     },
     "metadata": {},
     "output_type": "display_data"
    },
    {
     "name": "stdout",
     "output_type": "stream",
     "text": [
      "\n",
      "S2:\n"
     ]
    },
    {
     "data": {
      "text/markdown": [
       "|   0 |\n",
       "|----:|\n",
       "|   1 |\n",
       "|  20 |\n",
       "|  30 |\n",
       "|   4 |\n",
       "|  50 |"
      ],
      "text/plain": [
       "<IPython.core.display.Markdown object>"
      ]
     },
     "metadata": {},
     "output_type": "display_data"
    },
    {
     "name": "stdout",
     "output_type": "stream",
     "text": [
      "\n",
      "Items of s1 not present in s2:\n"
     ]
    },
    {
     "data": {
      "text/markdown": [
       "|   0 |\n",
       "|----:|\n",
       "|   2 |\n",
       "|   3 |\n",
       "|   5 |"
      ],
      "text/plain": [
       "<IPython.core.display.Markdown object>"
      ]
     },
     "metadata": {},
     "output_type": "display_data"
    }
   ],
   "source": [
    "import pandas as pd\n",
    "\n",
    "s1 = pd.Series([1, 2, 3, 4, 5])\n",
    "s2 = pd.Series([1, 20, 30, 4, 50])\n",
    "\n",
    "print(\"S1:\")\n",
    "display_df(s1)\n",
    "print(\"\\nS2:\")\n",
    "display_df(s2)\n",
    "\n",
    "print(\"\\nItems of s1 not present in s2:\")\n",
    "ans = s1[~s1.isin(s2)]\n",
    "display_df(ans)"
   ]
  },
  {
   "cell_type": "markdown",
   "id": "96132914-a31d-40bb-b4bb-5e7aa08d8c74",
   "metadata": {},
   "source": [
    "<br><br><br>"
   ]
  },
  {
   "cell_type": "markdown",
   "id": "c3184fcb-5e3d-47cc-a1c6-4a98e42f0857",
   "metadata": {},
   "source": [
    "### Q20) Write a pandas program to calculate the frequency counts of each unique value of a given series"
   ]
  },
  {
   "cell_type": "code",
   "execution_count": 21,
   "id": "31f4674a-b76c-4ccc-8fa7-6bcf740f7f66",
   "metadata": {},
   "outputs": [
    {
     "name": "stdout",
     "output_type": "stream",
     "text": [
      "Original Series:\n"
     ]
    },
    {
     "data": {
      "text/markdown": [
       "|   0 |\n",
       "|----:|\n",
       "|   1 |\n",
       "|   1 |\n",
       "|   2 |\n",
       "|   2 |\n",
       "|   2 |\n",
       "|   3 |\n",
       "|   4 |\n",
       "|   4 |\n",
       "|   4 |\n",
       "|   4 |\n",
       "|   4 |\n",
       "|   5 |\n",
       "|   5 |\n",
       "|   5 |\n",
       "|   5 |\n",
       "|   5 |"
      ],
      "text/plain": [
       "<IPython.core.display.Markdown object>"
      ]
     },
     "metadata": {},
     "output_type": "display_data"
    },
    {
     "name": "stdout",
     "output_type": "stream",
     "text": [
      "\n",
      "Frequency of each unique value:\n"
     ]
    },
    {
     "data": {
      "text/markdown": [
       "|    |   count |\n",
       "|---:|--------:|\n",
       "|  4 |       5 |\n",
       "|  5 |       5 |\n",
       "|  2 |       3 |\n",
       "|  1 |       2 |\n",
       "|  3 |       1 |"
      ],
      "text/plain": [
       "<IPython.core.display.Markdown object>"
      ]
     },
     "metadata": {},
     "output_type": "display_data"
    }
   ],
   "source": [
    "import pandas as pd\n",
    "s = pd.Series([1,1,2,2,2,3,4,4,4,4,4,5,5,5,5,5])\n",
    "print(\"Original Series:\")\n",
    "display_df(s)\n",
    "\n",
    "print(\"\\nFrequency of each unique value:\")\n",
    "freq = s.value_counts()\n",
    "display_df(freq, index=True)"
   ]
  },
  {
   "cell_type": "markdown",
   "id": "7bbba28a-608a-4871-b2b8-c16a00596e22",
   "metadata": {},
   "source": [
    "<br><br><br>"
   ]
  },
  {
   "cell_type": "markdown",
   "id": "93413ab9-74c1-48b6-b0c9-6a02198fb8ec",
   "metadata": {},
   "source": [
    "### Q21) Create a Series and print all the elements that are above 75th percentile"
   ]
  },
  {
   "cell_type": "code",
   "execution_count": 22,
   "id": "7daa957f-3a84-405b-a9e4-a305dfb81c6d",
   "metadata": {},
   "outputs": [
    {
     "name": "stdout",
     "output_type": "stream",
     "text": [
      "7     8\n",
      "8     9\n",
      "9    10\n",
      "dtype: int64\n"
     ]
    }
   ],
   "source": [
    "import pandas as pd\n",
    "\n",
    "s      = pd.Series([1, 2, 3, 4, 5, 6, 7, 8, 9, 10])\n",
    "per_75 = s.quantile(0.75)\n",
    "ans    = s[s > per_75]\n",
    "print(ans)"
   ]
  },
  {
   "cell_type": "markdown",
   "id": "98eb0b6a-589e-44fb-83a5-6a2bdce25334",
   "metadata": {},
   "source": [
    "<br><br><br>"
   ]
  },
  {
   "cell_type": "markdown",
   "id": "1dc375ae-7a30-41d8-a072-39b4b49a9244",
   "metadata": {},
   "source": [
    "### Q22) Write a program to find the MAD (mean absolute deviation) of all columns in a dataframe"
   ]
  },
  {
   "cell_type": "code",
   "execution_count": 23,
   "id": "d7c5b6bf-d7a9-463f-b3d5-9b0e0026d113",
   "metadata": {},
   "outputs": [
    {
     "name": "stdout",
     "output_type": "stream",
     "text": [
      "Original dataframe:\n"
     ]
    },
    {
     "data": {
      "text/markdown": [
       "|   A |   B |\n",
       "|----:|----:|\n",
       "|   1 |   6 |\n",
       "|   2 |   7 |\n",
       "|   3 |   8 |\n",
       "|   4 |   9 |\n",
       "|   5 | 100 |"
      ],
      "text/plain": [
       "<IPython.core.display.Markdown object>"
      ]
     },
     "metadata": {},
     "output_type": "display_data"
    },
    {
     "name": "stdout",
     "output_type": "stream",
     "text": [
      "\n",
      "MADs: \n"
     ]
    },
    {
     "data": {
      "text/markdown": [
       "|    |    0 |\n",
       "|:---|-----:|\n",
       "| A  |  1.2 |\n",
       "| B  | 29.6 |"
      ],
      "text/plain": [
       "<IPython.core.display.Markdown object>"
      ]
     },
     "metadata": {},
     "output_type": "display_data"
    }
   ],
   "source": [
    "import pandas as pd\n",
    "\n",
    "df = pd.DataFrame({\n",
    "    'A': [1, 2, 3, 4, 5],\n",
    "    'B': [6, 7, 8, 9, 100]\n",
    "})\n",
    "\n",
    "ans = pd.Series()\n",
    "for col in df:\n",
    "    mean  = df[col].mean()\n",
    "    diffs = df[col] - mean\n",
    "    diffs = diffs.abs()\n",
    "    mad   = diffs.mean()\n",
    "    ans[col] = mad\n",
    "\n",
    "print('Original dataframe:')\n",
    "display_df(df)\n",
    "print('\\nMADs: ')\n",
    "display_df(ans, index=True)"
   ]
  },
  {
   "cell_type": "markdown",
   "id": "156b37c1-19ba-4eb2-a05d-62f87bfde888",
   "metadata": {},
   "source": [
    "<br><br><br>"
   ]
  },
  {
   "cell_type": "markdown",
   "id": "2a149669-fef7-4b96-ab69-c4da71e8c9f6",
   "metadata": {},
   "source": [
    "### Q23) Create a dataframe based on employee data and generate quartile and variance"
   ]
  },
  {
   "cell_type": "code",
   "execution_count": 24,
   "id": "88c124f8-5f33-43eb-8eca-f6b5077f932d",
   "metadata": {},
   "outputs": [
    {
     "name": "stdout",
     "output_type": "stream",
     "text": [
      "Original dataframe:\n"
     ]
    },
    {
     "data": {
      "text/markdown": [
       "| Name   |   Salary |   Age |\n",
       "|:-------|---------:|------:|\n",
       "| A      |     1000 |    20 |\n",
       "| B      |     2000 |    30 |\n",
       "| C      |     3000 |    40 |\n",
       "| D      |     4000 |    50 |\n",
       "| E      |     5000 |    60 |"
      ],
      "text/plain": [
       "<IPython.core.display.Markdown object>"
      ]
     },
     "metadata": {},
     "output_type": "display_data"
    },
    {
     "name": "stdout",
     "output_type": "stream",
     "text": [
      "\n",
      "Quartiles:\n"
     ]
    },
    {
     "data": {
      "text/markdown": [
       "|      |   Salary |   Age |\n",
       "|-----:|---------:|------:|\n",
       "| 0.25 |     2000 |    30 |\n",
       "| 0.5  |     3000 |    40 |\n",
       "| 0.75 |     4000 |    50 |"
      ],
      "text/plain": [
       "<IPython.core.display.Markdown object>"
      ]
     },
     "metadata": {},
     "output_type": "display_data"
    },
    {
     "name": "stdout",
     "output_type": "stream",
     "text": [
      "\n",
      "Variances:\n"
     ]
    },
    {
     "data": {
      "text/markdown": [
       "|        |         0 |\n",
       "|:-------|----------:|\n",
       "| Salary |   2.5e+06 |\n",
       "| Age    | 250       |"
      ],
      "text/plain": [
       "<IPython.core.display.Markdown object>"
      ]
     },
     "metadata": {},
     "output_type": "display_data"
    }
   ],
   "source": [
    "import pandas as pd\n",
    "\n",
    "df = pd.DataFrame({\n",
    "    'Name':   ['A', 'B', 'C', 'D', 'E'],\n",
    "    'Salary': [1000, 2000, 3000, 4000, 5000],\n",
    "    'Age':    [20, 30, 40, 50, 60]\n",
    "})\n",
    "\n",
    "quartiles = df.quantile([0.25, 0.5, 0.75], numeric_only=True)\n",
    "variances = df.var(numeric_only=True)\n",
    "\n",
    "print('Original dataframe:')\n",
    "display_df(df)\n",
    "print('\\nQuartiles:')\n",
    "display_df(quartiles, index=True)\n",
    "print('\\nVariances:')\n",
    "display_df(variances, index=True)"
   ]
  },
  {
   "cell_type": "markdown",
   "id": "df78d7fc-5527-4542-93dc-9c95985a20ab",
   "metadata": {},
   "source": [
    "<br><br><br>"
   ]
  },
  {
   "cell_type": "markdown",
   "id": "888c18cc-fbea-47e4-b9c3-a8b8257d1146",
   "metadata": {},
   "source": [
    "<br><br><br>"
   ]
  },
  {
   "cell_type": "markdown",
   "id": "346be1e6-9053-4e81-b41b-ff89c626b88b",
   "metadata": {},
   "source": [
    "<br><br><br>"
   ]
  },
  {
   "cell_type": "markdown",
   "id": "d8c9a389-ce90-40ed-80bb-ed7bb0554f02",
   "metadata": {},
   "source": [
    "<br><br><br>"
   ]
  }
 ],
 "metadata": {
  "kernelspec": {
   "display_name": "Python 3 (ipykernel)",
   "language": "python",
   "name": "python3"
  },
  "language_info": {
   "codemirror_mode": {
    "name": "ipython",
    "version": 3
   },
   "file_extension": ".py",
   "mimetype": "text/x-python",
   "name": "python",
   "nbconvert_exporter": "python",
   "pygments_lexer": "ipython3",
   "version": "3.12.2"
  }
 },
 "nbformat": 4,
 "nbformat_minor": 5
}
