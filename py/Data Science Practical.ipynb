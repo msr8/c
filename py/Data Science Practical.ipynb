{
 "cells": [
  {
   "cell_type": "markdown",
   "id": "746b07df-5d0b-4062-af58-9321ddccbf48",
   "metadata": {},
   "source": [
    "# Initialisation"
   ]
  },
  {
   "cell_type": "code",
   "execution_count": 1,
   "id": "e2a51a05-b62d-4b40-867b-abf2d42aa17f",
   "metadata": {},
   "outputs": [],
   "source": [
    "import pandas as pd\n",
    "import numpy  as np\n",
    "from IPython.display import HTML, Markdown, Latex\n",
    "\n",
    "\n",
    "def display_df(tp_df=None, index=False):\n",
    "    tp_df = tp_df if tp_df is not None else df\n",
    "    display(Markdown(tp_df.to_markdown(index=index)))"
   ]
  },
  {
   "cell_type": "markdown",
   "id": "c722abfd-4b1b-4b6e-b715-c996e8bdf92f",
   "metadata": {},
   "source": [
    "<br><br><br>"
   ]
  },
  {
   "cell_type": "markdown",
   "id": "510d46fc-004e-43e4-967b-9c831b588d0c",
   "metadata": {},
   "source": [
    "# 22/02/24\n",
    "\n",
    "Create a dataframe to store data of 10 students, with the columns being \"Name\", \"Age\", \"Semester I marks out of 600\", \"Semester II marks out of 500\", and \"Attendance\"\n",
    "\n",
    "1) Display details of students who scored more than 560 marks in sem I\n",
    "2) Display details of students who scored less than 250 marks in sem II\n",
    "3) Display details of student who scored minimum marks in sem II\n",
    "4) Display details of student who scored maximum marks in sem II\n",
    "5) Display details of students whose attendance is more than 75\n",
    "6) Display details of students whose attendance is less than 50\n",
    "7) Insert 2 new records\n",
    "8) Add a column corresponding to percentage of marks of both semesters\n",
    "9) Add a new column corresponding to grades:\n",
    "\n",
    "| Percentage   | Grade |\n",
    "| ------------ | ----- |\n",
    "| >=90         | O     |\n",
    "| >=75 and <90 | A+    |\n",
    "| >=60 and <75 | A     |\n",
    "| >=50 and <60 | B+    |\n",
    "| >=40 and <50 | B     |\n",
    "| >40          | F     |"
   ]
  },
  {
   "cell_type": "code",
   "execution_count": 2,
   "id": "f7d50119-a928-40af-9ce8-e8a97f497529",
   "metadata": {},
   "outputs": [
    {
     "name": "stdout",
     "output_type": "stream",
     "text": [
      "\n",
      "Original data:\n"
     ]
    },
    {
     "data": {
      "text/markdown": [
       "| Name   |   Age |   Semester I marks out of 600 |   Semester II marks out of 500 |   Attendance |\n",
       "|:-------|------:|------------------------------:|-------------------------------:|-------------:|\n",
       "| A      |    20 |                           213 |                            198 |           76 |\n",
       "| B      |    21 |                            31 |                            378 |           26 |\n",
       "| C      |    20 |                            57 |                            133 |           53 |\n",
       "| D      |    22 |                           406 |                            450 |           32 |\n",
       "| E      |    23 |                           417 |                            283 |           50 |\n",
       "| F      |    20 |                            45 |                            485 |           67 |\n",
       "| G      |    21 |                           217 |                            193 |           92 |\n",
       "| H      |    22 |                           200 |                            283 |           62 |\n",
       "| I      |    20 |                           588 |                            236 |           44 |\n",
       "| J      |    21 |                           319 |                            191 |           85 |"
      ],
      "text/plain": [
       "<IPython.core.display.Markdown object>"
      ]
     },
     "metadata": {},
     "output_type": "display_data"
    },
    {
     "name": "stdout",
     "output_type": "stream",
     "text": [
      "\n",
      "1) Students who scored more than 560 marks in sem I:\n"
     ]
    },
    {
     "data": {
      "text/markdown": [
       "|    | Name   |   Age |   Semester I marks out of 600 |   Semester II marks out of 500 |   Attendance |\n",
       "|---:|:-------|------:|------------------------------:|-------------------------------:|-------------:|\n",
       "|  8 | I      |    20 |                           588 |                            236 |           44 |"
      ],
      "text/plain": [
       "<IPython.core.display.Markdown object>"
      ]
     },
     "metadata": {},
     "output_type": "display_data"
    },
    {
     "name": "stdout",
     "output_type": "stream",
     "text": [
      "\n",
      "2) Students who scored less than 250 marks in sem II:\n"
     ]
    },
    {
     "data": {
      "text/markdown": [
       "|    | Name   |   Age |   Semester I marks out of 600 |   Semester II marks out of 500 |   Attendance |\n",
       "|---:|:-------|------:|------------------------------:|-------------------------------:|-------------:|\n",
       "|  0 | A      |    20 |                           213 |                            198 |           76 |\n",
       "|  2 | C      |    20 |                            57 |                            133 |           53 |\n",
       "|  6 | G      |    21 |                           217 |                            193 |           92 |\n",
       "|  8 | I      |    20 |                           588 |                            236 |           44 |\n",
       "|  9 | J      |    21 |                           319 |                            191 |           85 |"
      ],
      "text/plain": [
       "<IPython.core.display.Markdown object>"
      ]
     },
     "metadata": {},
     "output_type": "display_data"
    },
    {
     "name": "stdout",
     "output_type": "stream",
     "text": [
      "\n",
      "3) Student who scored minimum marks in sem II:\n"
     ]
    },
    {
     "data": {
      "text/markdown": [
       "|    | Name   |   Age |   Semester I marks out of 600 |   Semester II marks out of 500 |   Attendance |\n",
       "|---:|:-------|------:|------------------------------:|-------------------------------:|-------------:|\n",
       "|  2 | C      |    20 |                            57 |                            133 |           53 |"
      ],
      "text/plain": [
       "<IPython.core.display.Markdown object>"
      ]
     },
     "metadata": {},
     "output_type": "display_data"
    },
    {
     "name": "stdout",
     "output_type": "stream",
     "text": [
      "\n",
      "4) Student who scored maximum marks in sem II:\n"
     ]
    },
    {
     "data": {
      "text/markdown": [
       "|    | Name   |   Age |   Semester I marks out of 600 |   Semester II marks out of 500 |   Attendance |\n",
       "|---:|:-------|------:|------------------------------:|-------------------------------:|-------------:|\n",
       "|  5 | F      |    20 |                            45 |                            485 |           67 |"
      ],
      "text/plain": [
       "<IPython.core.display.Markdown object>"
      ]
     },
     "metadata": {},
     "output_type": "display_data"
    },
    {
     "name": "stdout",
     "output_type": "stream",
     "text": [
      "\n",
      "5) Students whose attendance is more than 75:\n"
     ]
    },
    {
     "data": {
      "text/markdown": [
       "|    | Name   |   Age |   Semester I marks out of 600 |   Semester II marks out of 500 |   Attendance |\n",
       "|---:|:-------|------:|------------------------------:|-------------------------------:|-------------:|\n",
       "|  0 | A      |    20 |                           213 |                            198 |           76 |\n",
       "|  6 | G      |    21 |                           217 |                            193 |           92 |\n",
       "|  9 | J      |    21 |                           319 |                            191 |           85 |"
      ],
      "text/plain": [
       "<IPython.core.display.Markdown object>"
      ]
     },
     "metadata": {},
     "output_type": "display_data"
    },
    {
     "name": "stdout",
     "output_type": "stream",
     "text": [
      "\n",
      "6) Students whose attendance is less than 50:\n"
     ]
    },
    {
     "data": {
      "text/markdown": [
       "|    | Name   |   Age |   Semester I marks out of 600 |   Semester II marks out of 500 |   Attendance |\n",
       "|---:|:-------|------:|------------------------------:|-------------------------------:|-------------:|\n",
       "|  1 | B      |    21 |                            31 |                            378 |           26 |\n",
       "|  3 | D      |    22 |                           406 |                            450 |           32 |\n",
       "|  8 | I      |    20 |                           588 |                            236 |           44 |"
      ],
      "text/plain": [
       "<IPython.core.display.Markdown object>"
      ]
     },
     "metadata": {},
     "output_type": "display_data"
    },
    {
     "name": "stdout",
     "output_type": "stream",
     "text": [
      "\n",
      "7) Inserted two new records:\n"
     ]
    },
    {
     "data": {
      "text/markdown": [
       "|    | Name   |   Age |   Semester I marks out of 600 |   Semester II marks out of 500 |   Attendance |\n",
       "|---:|:-------|------:|------------------------------:|-------------------------------:|-------------:|\n",
       "|  0 | A      |    20 |                           213 |                            198 |           76 |\n",
       "|  1 | B      |    21 |                            31 |                            378 |           26 |\n",
       "|  2 | C      |    20 |                            57 |                            133 |           53 |\n",
       "|  3 | D      |    22 |                           406 |                            450 |           32 |\n",
       "|  4 | E      |    23 |                           417 |                            283 |           50 |\n",
       "|  5 | F      |    20 |                            45 |                            485 |           67 |\n",
       "|  6 | G      |    21 |                           217 |                            193 |           92 |\n",
       "|  7 | H      |    22 |                           200 |                            283 |           62 |\n",
       "|  8 | I      |    20 |                           588 |                            236 |           44 |\n",
       "|  9 | J      |    21 |                           319 |                            191 |           85 |\n",
       "| 10 | K      |    22 |                           300 |                            400 |           80 |\n",
       "| 11 | L      |    23 |                           400 |                            300 |           40 |"
      ],
      "text/plain": [
       "<IPython.core.display.Markdown object>"
      ]
     },
     "metadata": {},
     "output_type": "display_data"
    },
    {
     "name": "stdout",
     "output_type": "stream",
     "text": [
      "\n",
      "8) Added the percentage column:\n"
     ]
    },
    {
     "data": {
      "text/markdown": [
       "| Name   |   Age |   Semester I marks out of 600 |   Semester II marks out of 500 |   Attendance |   Percentage |\n",
       "|:-------|------:|------------------------------:|-------------------------------:|-------------:|-------------:|\n",
       "| A      |    20 |                           213 |                            198 |           76 |        37.36 |\n",
       "| B      |    21 |                            31 |                            378 |           26 |        37.18 |\n",
       "| C      |    20 |                            57 |                            133 |           53 |        17.27 |\n",
       "| D      |    22 |                           406 |                            450 |           32 |        77.82 |\n",
       "| E      |    23 |                           417 |                            283 |           50 |        63.64 |\n",
       "| F      |    20 |                            45 |                            485 |           67 |        48.18 |\n",
       "| G      |    21 |                           217 |                            193 |           92 |        37.27 |\n",
       "| H      |    22 |                           200 |                            283 |           62 |        43.91 |\n",
       "| I      |    20 |                           588 |                            236 |           44 |        74.91 |\n",
       "| J      |    21 |                           319 |                            191 |           85 |        46.36 |\n",
       "| K      |    22 |                           300 |                            400 |           80 |        63.64 |\n",
       "| L      |    23 |                           400 |                            300 |           40 |        63.64 |"
      ],
      "text/plain": [
       "<IPython.core.display.Markdown object>"
      ]
     },
     "metadata": {},
     "output_type": "display_data"
    },
    {
     "name": "stdout",
     "output_type": "stream",
     "text": [
      "\n",
      "9) Added the grade column:\n"
     ]
    },
    {
     "data": {
      "text/markdown": [
       "| Name   |   Age |   Semester I marks out of 600 |   Semester II marks out of 500 |   Attendance |   Percentage | Grade   |\n",
       "|:-------|------:|------------------------------:|-------------------------------:|-------------:|-------------:|:--------|\n",
       "| A      |    20 |                           213 |                            198 |           76 |        37.36 | F       |\n",
       "| B      |    21 |                            31 |                            378 |           26 |        37.18 | F       |\n",
       "| C      |    20 |                            57 |                            133 |           53 |        17.27 | F       |\n",
       "| D      |    22 |                           406 |                            450 |           32 |        77.82 | A+      |\n",
       "| E      |    23 |                           417 |                            283 |           50 |        63.64 | A       |\n",
       "| F      |    20 |                            45 |                            485 |           67 |        48.18 | B       |\n",
       "| G      |    21 |                           217 |                            193 |           92 |        37.27 | F       |\n",
       "| H      |    22 |                           200 |                            283 |           62 |        43.91 | B       |\n",
       "| I      |    20 |                           588 |                            236 |           44 |        74.91 | A       |\n",
       "| J      |    21 |                           319 |                            191 |           85 |        46.36 | B       |\n",
       "| K      |    22 |                           300 |                            400 |           80 |        63.64 | A       |\n",
       "| L      |    23 |                           400 |                            300 |           40 |        63.64 | A       |"
      ],
      "text/plain": [
       "<IPython.core.display.Markdown object>"
      ]
     },
     "metadata": {},
     "output_type": "display_data"
    }
   ],
   "source": [
    "data = {\n",
    "    'Name':                         ['A', 'B', 'C', 'D', 'E', 'F', 'G', 'H', 'I', 'J'],\n",
    "    'Age':                          [20, 21, 20, 22, 23, 20, 21, 22, 20, 21],\n",
    "    'Semester I marks out of 600':  [213, 31, 57, 406, 417, 45, 217, 200, 588, 319],\n",
    "    'Semester II marks out of 500': [198, 378, 133, 450, 283, 485, 193, 283, 236, 191],\n",
    "    'Attendance':                   [76, 26, 53, 32, 50, 67, 92, 62, 44, 85]\n",
    "}\n",
    "df = pd.DataFrame(data)\n",
    "\n",
    "print('\\nOriginal data:')\n",
    "display_df()\n",
    "\n",
    "print('\\n1) Students who scored more than 560 marks in sem I:')\n",
    "ans = df.query('`Semester I marks out of 600` > 560')\n",
    "display_df(ans, index=True)\n",
    "\n",
    "print('\\n2) Students who scored less than 250 marks in sem II:')\n",
    "ans = df.query('`Semester II marks out of 500` < 250')\n",
    "display_df(ans, index=True)\n",
    "\n",
    "print('\\n3) Student who scored minimum marks in sem II:')\n",
    "min_marks = min(df['Semester II marks out of 500'])\n",
    "ans       = df.query('`Semester II marks out of 500` == @min_marks')\n",
    "display_df( ans , index=True )\n",
    "\n",
    "print('\\n4) Student who scored maximum marks in sem II:')\n",
    "ans = df.sort_values(by='Semester II marks out of 500',ascending=False).head(1)\n",
    "display_df(ans, index=True)\n",
    "\n",
    "print('\\n5) Students whose attendance is more than 75:')\n",
    "ans = df.query('Attendance > 75')\n",
    "display_df(ans, index=True)\n",
    "\n",
    "print('\\n6) Students whose attendance is less than 50:')\n",
    "ans = df.query('Attendance < 50')\n",
    "display_df(ans, index=True)\n",
    "\n",
    "print('\\n7) Inserted two new records:')\n",
    "new_data = {\n",
    "    'Name':                         ['K', 'L'],\n",
    "    'Age':                          [22,  23],\n",
    "    'Semester I marks out of 600':  [300, 400],\n",
    "    'Semester II marks out of 500': [400, 300],\n",
    "    'Attendance':                   [80,  40]\n",
    "}\n",
    "new_df = pd.DataFrame(new_data)\n",
    "df     = pd.concat([df,new_df], ignore_index=True)\n",
    "display_df(index=True)\n",
    "\n",
    "print('\\n8) Added the percentage column:')\n",
    "df['Percentage'] = (df['Semester I marks out of 600'] + df['Semester II marks out of 500']) / 11\n",
    "df['Percentage'] = df['Percentage'].apply(lambda x: round(x,2))\n",
    "display_df()\n",
    "\n",
    "print('\\n9) Added the grade column:')\n",
    "def get_grade(x: float):\n",
    "    if   x >= 90: return 'O'\n",
    "    elif x >= 75: return 'A+'\n",
    "    elif x >= 60: return 'A'\n",
    "    elif x >= 50: return 'B+'\n",
    "    elif x >= 40: return 'B'\n",
    "    else:         return 'F'\n",
    "df['Grade'] = df['Percentage'].apply(get_grade)\n",
    "display_df()"
   ]
  },
  {
   "cell_type": "markdown",
   "id": "f415ca4d-91cc-426c-9139-1b2ebf07b2f0",
   "metadata": {},
   "source": [
    "<br><br><br>"
   ]
  },
  {
   "cell_type": "markdown",
   "id": "4cc08739-b728-484a-afc5-eed5a607ec7f",
   "metadata": {},
   "source": [
    "# 29/02/24\n",
    "\n",
    "1. Create a DataFrame based on E-Commerce data and generate mean, mode, and median\n",
    "2. Write a program to implement pivot() and pivot-table() on a DataFrame\n",
    "3. Write a Program to read a CSV file and create its DataFrame\n",
    "4. Consider the DataFrame QtrSales where each row contains the item category, item name and expenditure and group the rows by category, and print the average expenditure per category\n",
    "5. Create a DataFrame having age, name, weight of five students. Write a program to display only the weight of first and fourth rows\n",
    "6. Write a program to create a DataFrame to store weight, age and name of three people. Print the DataFrame and its transpose"
   ]
  },
  {
   "cell_type": "code",
   "execution_count": 3,
   "id": "d880f724-973a-4155-802a-6a9793d55c29",
   "metadata": {},
   "outputs": [
    {
     "name": "stdout",
     "output_type": "stream",
     "text": [
      "\n",
      "\n",
      "\n",
      "1.1) Original dataframe:\n"
     ]
    },
    {
     "data": {
      "text/markdown": [
       "|   Order_ID |   Price |   Quantity |\n",
       "|-----------:|--------:|-----------:|\n",
       "|        101 |      50 |          2 |\n",
       "|        102 |      20 |          3 |\n",
       "|        103 |      40 |          1 |\n",
       "|        104 |      50 |          2 |\n",
       "|        105 |      45 |          1 |"
      ],
      "text/plain": [
       "<IPython.core.display.Markdown object>"
      ]
     },
     "metadata": {},
     "output_type": "display_data"
    },
    {
     "name": "stdout",
     "output_type": "stream",
     "text": [
      "\n",
      "1.2) Means: \n"
     ]
    },
    {
     "data": {
      "text/markdown": [
       "|          |    0 |\n",
       "|:---------|-----:|\n",
       "| Price    | 41   |\n",
       "| Quantity |  1.8 |"
      ],
      "text/plain": [
       "<IPython.core.display.Markdown object>"
      ]
     },
     "metadata": {},
     "output_type": "display_data"
    },
    {
     "name": "stdout",
     "output_type": "stream",
     "text": [
      "\n",
      "1.3) Modes: \n"
     ]
    },
    {
     "data": {
      "text/markdown": [
       "|    |   Price |   Quantity |\n",
       "|---:|--------:|-----------:|\n",
       "|  0 |      50 |          1 |\n",
       "|  1 |     nan |          2 |"
      ],
      "text/plain": [
       "<IPython.core.display.Markdown object>"
      ]
     },
     "metadata": {},
     "output_type": "display_data"
    },
    {
     "name": "stdout",
     "output_type": "stream",
     "text": [
      "\n",
      "1.4) Medians: \n"
     ]
    },
    {
     "data": {
      "text/markdown": [
       "|          |   0 |\n",
       "|:---------|----:|\n",
       "| Price    |  45 |\n",
       "| Quantity |   2 |"
      ],
      "text/plain": [
       "<IPython.core.display.Markdown object>"
      ]
     },
     "metadata": {},
     "output_type": "display_data"
    },
    {
     "name": "stdout",
     "output_type": "stream",
     "text": [
      "\n",
      "\n",
      "\n",
      "2.1) Dataframe for pivot(): \n"
     ]
    },
    {
     "data": {
      "text/markdown": [
       "| Day       | City   |   Temperature |\n",
       "|:----------|:-------|--------------:|\n",
       "| Monday    | Delhi  |            32 |\n",
       "| Monday    | Mumbai |            34 |\n",
       "| Tuesday   | Delhi  |            33 |\n",
       "| Tuesday   | Mumbai |            35 |\n",
       "| Wednesday | Delhi  |            34 |\n",
       "| Wednesday | Mumbai |            36 |"
      ],
      "text/plain": [
       "<IPython.core.display.Markdown object>"
      ]
     },
     "metadata": {},
     "output_type": "display_data"
    },
    {
     "name": "stdout",
     "output_type": "stream",
     "text": [
      "\n",
      "2.2) pivot(): \n"
     ]
    },
    {
     "data": {
      "text/markdown": [
       "| Day       |   Delhi |   Mumbai |\n",
       "|:----------|--------:|---------:|\n",
       "| Monday    |      32 |       34 |\n",
       "| Tuesday   |      33 |       35 |\n",
       "| Wednesday |      34 |       36 |"
      ],
      "text/plain": [
       "<IPython.core.display.Markdown object>"
      ]
     },
     "metadata": {},
     "output_type": "display_data"
    },
    {
     "name": "stdout",
     "output_type": "stream",
     "text": [
      "\n",
      "2.3) Dataframe for pivot_table(): \n"
     ]
    },
    {
     "data": {
      "text/markdown": [
       "| Day     | City   |   Temperature |\n",
       "|:--------|:-------|--------------:|\n",
       "| Monday  | Delhi  |            32 |\n",
       "| Monday  | Delhi  |            33 |\n",
       "| Monday  | Mumbai |            36 |\n",
       "| Tuesday | Delhi  |            33 |\n",
       "| Tuesday | Mumbai |            36 |\n",
       "| Tuesday | Mumbai |            37 |"
      ],
      "text/plain": [
       "<IPython.core.display.Markdown object>"
      ]
     },
     "metadata": {},
     "output_type": "display_data"
    },
    {
     "name": "stdout",
     "output_type": "stream",
     "text": [
      "\n",
      "2.4) pivot_table(): \n"
     ]
    },
    {
     "data": {
      "text/markdown": [
       "| Day     |   Delhi |   Mumbai |\n",
       "|:--------|--------:|---------:|\n",
       "| Monday  |       2 |        1 |\n",
       "| Tuesday |       1 |        2 |"
      ],
      "text/plain": [
       "<IPython.core.display.Markdown object>"
      ]
     },
     "metadata": {},
     "output_type": "display_data"
    },
    {
     "name": "stdout",
     "output_type": "stream",
     "text": [
      "\n",
      "\n",
      "\n",
      "3.1) Contents of data.csv:\n",
      "Name,Age,Gender\n",
      "Ram,16,M\n",
      "Manish,18,M\n",
      "Sahil,15,M\n",
      "Amrit,20,F\n",
      "Mark,19,M\n",
      "\n",
      "\n",
      "3.2) Dataframe:\n"
     ]
    },
    {
     "data": {
      "text/markdown": [
       "| Name   |   Age | Gender   |\n",
       "|:-------|------:|:---------|\n",
       "| Ram    |    16 | M        |\n",
       "| Manish |    18 | M        |\n",
       "| Sahil  |    15 | M        |\n",
       "| Amrit  |    20 | F        |\n",
       "| Mark   |    19 | M        |"
      ],
      "text/plain": [
       "<IPython.core.display.Markdown object>"
      ]
     },
     "metadata": {},
     "output_type": "display_data"
    },
    {
     "name": "stdout",
     "output_type": "stream",
     "text": [
      "\n",
      "\n",
      "\n",
      "4.1) Original dataframe:\n"
     ]
    },
    {
     "data": {
      "text/markdown": [
       "| category    | item_name   |   expenditure |\n",
       "|:------------|:------------|--------------:|\n",
       "| Electronics | Laptop      |          1200 |\n",
       "| Electronics | Headphones  |           100 |\n",
       "| Fashion     | T-Shirt     |            31 |\n",
       "| Fashion     | Jeans       |            50 |\n",
       "| Electronics | Smartphone  |           800 |\n",
       "| Fashion     | Shoes       |            60 |"
      ],
      "text/plain": [
       "<IPython.core.display.Markdown object>"
      ]
     },
     "metadata": {},
     "output_type": "display_data"
    },
    {
     "name": "stdout",
     "output_type": "stream",
     "text": [
      "\n",
      "4.2) Average expenditure per category:\n"
     ]
    },
    {
     "data": {
      "text/markdown": [
       "| category    |   expenditure |\n",
       "|:------------|--------------:|\n",
       "| Electronics |           700 |\n",
       "| Fashion     |            47 |"
      ],
      "text/plain": [
       "<IPython.core.display.Markdown object>"
      ]
     },
     "metadata": {},
     "output_type": "display_data"
    },
    {
     "name": "stdout",
     "output_type": "stream",
     "text": [
      "\n",
      "\n",
      "\n",
      "5.1) Original dataframe:\n"
     ]
    },
    {
     "data": {
      "text/markdown": [
       "|    | name    |   age |   weight |\n",
       "|---:|:--------|------:|---------:|\n",
       "|  0 | John    |    20 |       70 |\n",
       "|  1 | Emma    |    21 |       65 |\n",
       "|  2 | Michael |    22 |       75 |\n",
       "|  3 | Sophia  |    20 |       68 |\n",
       "|  4 | William |    23 |       72 |"
      ],
      "text/plain": [
       "<IPython.core.display.Markdown object>"
      ]
     },
     "metadata": {},
     "output_type": "display_data"
    },
    {
     "name": "stdout",
     "output_type": "stream",
     "text": [
      "\n",
      "5.2) Weight of the first and fourth rows:\n"
     ]
    },
    {
     "data": {
      "text/markdown": [
       "|    |   weight |\n",
       "|---:|---------:|\n",
       "|  0 |       70 |\n",
       "|  3 |       68 |"
      ],
      "text/plain": [
       "<IPython.core.display.Markdown object>"
      ]
     },
     "metadata": {},
     "output_type": "display_data"
    },
    {
     "name": "stdout",
     "output_type": "stream",
     "text": [
      "\n",
      "\n",
      "\n",
      "6.1) Original dataframe:\n"
     ]
    },
    {
     "data": {
      "text/markdown": [
       "|    | name    |   age |   weight |\n",
       "|---:|:--------|------:|---------:|\n",
       "|  0 | John    |    20 |       70 |\n",
       "|  1 | Emma    |    21 |       65 |\n",
       "|  2 | Michael |    22 |       75 |\n",
       "|  3 | Sophia  |    20 |       68 |\n",
       "|  4 | William |    23 |       72 |"
      ],
      "text/plain": [
       "<IPython.core.display.Markdown object>"
      ]
     },
     "metadata": {},
     "output_type": "display_data"
    },
    {
     "name": "stdout",
     "output_type": "stream",
     "text": [
      "\n",
      "6.2) Transpose of the dataframe:\n"
     ]
    },
    {
     "data": {
      "text/markdown": [
       "|        | 0    | 1    | 2       | 3      | 4       |\n",
       "|:-------|:-----|:-----|:--------|:-------|:--------|\n",
       "| name   | John | Emma | Michael | Sophia | William |\n",
       "| age    | 20   | 21   | 22      | 20     | 23      |\n",
       "| weight | 70   | 65   | 75      | 68     | 72      |"
      ],
      "text/plain": [
       "<IPython.core.display.Markdown object>"
      ]
     },
     "metadata": {},
     "output_type": "display_data"
    }
   ],
   "source": [
    "# 1\n",
    "data = {\n",
    "    'Order_ID':     ['101', '102', '103', '104', '105'],\n",
    "    'Price':        [50, 20, 40, 50, 45],\n",
    "    'Quantity':     [2, 3, 1, 2, 1]\n",
    "}\n",
    "df = pd.DataFrame(data)\n",
    "print('\\n\\n\\n1.1) Original dataframe:')\n",
    "display_df(df)\n",
    "\n",
    "mean_df   = df.mean(numeric_only=True)\n",
    "mode_df   = df.mode(numeric_only=True)\n",
    "median_df = df.median(numeric_only=True)\n",
    "\n",
    "print('\\n1.2) Means: ')\n",
    "display_df(mean_df, index=True)\n",
    "print('\\n1.3) Modes: ')\n",
    "display_df(mode_df, index=True)\n",
    "print('\\n1.4) Medians: ')\n",
    "display_df(median_df, index=True)\n",
    "\n",
    "\n",
    "\n",
    "# 2\n",
    "data = {\n",
    "    'Day':         ['Monday', 'Monday', 'Tuesday', 'Tuesday', 'Wednesday', 'Wednesday'],\n",
    "    'City':        ['Delhi', 'Mumbai', 'Delhi', 'Mumbai', 'Delhi', 'Mumbai'],\n",
    "    'Temperature': [32, 34, 33, 35, 34, 36],\n",
    "}\n",
    "df = pd.DataFrame(data)\n",
    "print('\\n\\n\\n2.1) Dataframe for pivot(): ')\n",
    "display_df(df)\n",
    "\n",
    "pivot_df = df.pivot(index='Day', columns='City', values='Temperature')\n",
    "print('\\n2.2) pivot(): ')\n",
    "display_df(pivot_df, index=True)\n",
    "\n",
    "data = {\n",
    "    'Day':         ['Monday', 'Monday', 'Monday', 'Tuesday', 'Tuesday', 'Tuesday'],\n",
    "    'City':        ['Delhi', 'Delhi', 'Mumbai', 'Delhi', 'Mumbai', 'Mumbai'],\n",
    "    'Temperature': [32, 33, 36, 33, 36, 37],\n",
    "}\n",
    "df = pd.DataFrame(data)\n",
    "print('\\n2.3) Dataframe for pivot_table(): ')\n",
    "display_df(df)\n",
    "\n",
    "pivot_table_df = df.pivot_table(index='Day', columns='City', values='Temperature', aggfunc='count')\n",
    "print('\\n2.4) pivot_table(): ')\n",
    "display_df(pivot_table_df, index=True)\n",
    "\n",
    "\n",
    "\n",
    "# 3\n",
    "filename = 'data.csv'\n",
    "print(f'\\n\\n\\n3.1) Contents of {filename}:')\n",
    "with open(filename) as f:\n",
    "    print(f.read())\n",
    "\n",
    "df = pd.read_csv(filename)\n",
    "print('\\n3.2) Dataframe:')\n",
    "display_df(df)\n",
    "\n",
    "\n",
    "\n",
    "# 4\n",
    "QtrSales = pd.DataFrame({\n",
    "    'category':    ['Electronics', 'Electronics', 'Fashion', 'Fashion', 'Electronics', 'Fashion'],\n",
    "    'item_name':   ['Laptop', 'Headphones', 'T-Shirt', 'Jeans', 'Smartphone', 'Shoes'],\n",
    "    'expenditure': [1200, 100, 31, 50, 800, 60]\n",
    "})\n",
    "print('\\n\\n\\n4.1) Original dataframe:')\n",
    "display_df(QtrSales)\n",
    "\n",
    "grouped = QtrSales.groupby(by='category')['expenditure']\n",
    "mean_df = grouped.mean()\n",
    "print('\\n4.2) Average expenditure per category:')\n",
    "display_df(mean_df, index=True)\n",
    "\n",
    "\n",
    "\n",
    "# 5\n",
    "data = {\n",
    "    'name':   ['John', 'Emma', 'Michael', 'Sophia', 'William'],\n",
    "    'age':    [20, 21, 22, 20, 23],\n",
    "    'weight': [70, 65, 75, 68, 72]\n",
    "}\n",
    "df = pd.DataFrame(data)\n",
    "print('\\n\\n\\n5.1) Original dataframe:')\n",
    "display_df(df, index=True)\n",
    "\n",
    "weight_df = df.loc[ [0,3] , ['weight'] ]\n",
    "print('\\n5.2) Weight of the first and fourth rows:')\n",
    "display_df(weight_df, index=True)\n",
    "\n",
    "\n",
    "\n",
    "# 6\n",
    "data = {\n",
    "    'name':   ['John', 'Emma', 'Michael', 'Sophia', 'William'],\n",
    "    'age':    [20, 21, 22, 20, 23],\n",
    "    'weight': [70, 65, 75, 68, 72]\n",
    "}\n",
    "df = pd.DataFrame(data)\n",
    "print('\\n\\n\\n6.1) Original dataframe:')\n",
    "display_df(df, index=True)\n",
    "\n",
    "print('\\n6.2) Transpose of the dataframe:')\n",
    "display_df(df.T, index=True)"
   ]
  },
  {
   "cell_type": "markdown",
   "id": "c376518f-57d2-436c-80df-7b88ef9fd7bd",
   "metadata": {},
   "source": [
    "<br><br><br>"
   ]
  },
  {
   "cell_type": "markdown",
   "id": "df91a449-9dc6-4d9c-929f-e6559ff9520b",
   "metadata": {},
   "source": [
    "# 7/3/24\n",
    "\n",
    "1. Create a pandas series from a dictionary of values and an ndarray\n",
    "2. Perform sorting on Series data and DataFrames\n",
    "3. Two Series object, Population stores the details of four metro cities of India and another object AvgIncome stores the total average income reported in four years in these cities. Calculate income per capita for each of these metro cities\n",
    "4. Series objects temp1, temp2, temp3, and temp 4 stores the temperature of days of week 1, week 2, week 3, week 4. Write a script to:\n",
    "    1) Print average temperature per week\n",
    "    2) Print average temperature of entire month"
   ]
  },
  {
   "cell_type": "code",
   "execution_count": 4,
   "id": "217df832-5130-42b3-8bc9-b449caf933e3",
   "metadata": {},
   "outputs": [
    {
     "name": "stdout",
     "output_type": "stream",
     "text": [
      "1) Dataframe created from a dictionary of values and nd array:\n"
     ]
    },
    {
     "data": {
      "text/markdown": [
       "| Name   |   Age | Gender   |\n",
       "|:-------|------:|:---------|\n",
       "| Ram    |    16 | M        |\n",
       "| Manish |    18 | M        |\n",
       "| Sahil  |    15 | M        |\n",
       "| Amrit  |    20 | F        |\n",
       "| Mark   |    19 | M        |"
      ],
      "text/plain": [
       "<IPython.core.display.Markdown object>"
      ]
     },
     "metadata": {},
     "output_type": "display_data"
    },
    {
     "name": "stdout",
     "output_type": "stream",
     "text": [
      "\n",
      "\n",
      "\n",
      "2.1) Original dataframe:\n"
     ]
    },
    {
     "data": {
      "text/markdown": [
       "| name   |   year |   reports |\n",
       "|:-------|-------:|----------:|\n",
       "| Jason  |   2012 |         4 |\n",
       "| Molly  |   2012 |        24 |\n",
       "| Tina   |   2013 |        31 |\n",
       "| Jake   |   2014 |         2 |\n",
       "| Amy    |   2014 |         3 |"
      ],
      "text/plain": [
       "<IPython.core.display.Markdown object>"
      ]
     },
     "metadata": {},
     "output_type": "display_data"
    },
    {
     "name": "stdout",
     "output_type": "stream",
     "text": [
      "\n",
      "2.2) Sorted dataframe (based on reports) in descending order:\n"
     ]
    },
    {
     "data": {
      "text/markdown": [
       "| name   |   year |   reports |\n",
       "|:-------|-------:|----------:|\n",
       "| Tina   |   2013 |        31 |\n",
       "| Molly  |   2012 |        24 |\n",
       "| Jason  |   2012 |         4 |\n",
       "| Amy    |   2014 |         3 |\n",
       "| Jake   |   2014 |         2 |"
      ],
      "text/plain": [
       "<IPython.core.display.Markdown object>"
      ]
     },
     "metadata": {},
     "output_type": "display_data"
    },
    {
     "name": "stdout",
     "output_type": "stream",
     "text": [
      "\n",
      "2.3) Original series:\n"
     ]
    },
    {
     "data": {
      "text/markdown": [
       "|   0 |\n",
       "|----:|\n",
       "|   3 |\n",
       "|   1 |\n",
       "|   2 |\n",
       "|   3 |\n",
       "|   4 |"
      ],
      "text/plain": [
       "<IPython.core.display.Markdown object>"
      ]
     },
     "metadata": {},
     "output_type": "display_data"
    },
    {
     "name": "stdout",
     "output_type": "stream",
     "text": [
      "\n",
      "2.4) Sorted series in ascending order:\n"
     ]
    },
    {
     "data": {
      "text/markdown": [
       "|   0 |\n",
       "|----:|\n",
       "|   1 |\n",
       "|   2 |\n",
       "|   3 |\n",
       "|   3 |\n",
       "|   4 |"
      ],
      "text/plain": [
       "<IPython.core.display.Markdown object>"
      ]
     },
     "metadata": {},
     "output_type": "display_data"
    },
    {
     "name": "stdout",
     "output_type": "stream",
     "text": [
      "\n",
      "\n",
      "\n",
      "3.1) Population:\n"
     ]
    },
    {
     "data": {
      "text/markdown": [
       "|           |       0 |\n",
       "|:----------|--------:|\n",
       "| Delhi     | 2e+07   |\n",
       "| Mumbai    | 2.2e+07 |\n",
       "| Bangalore | 1.2e+07 |\n",
       "| Kolkata   | 1.5e+07 |"
      ],
      "text/plain": [
       "<IPython.core.display.Markdown object>"
      ]
     },
     "metadata": {},
     "output_type": "display_data"
    },
    {
     "name": "stdout",
     "output_type": "stream",
     "text": [
      "\n",
      "3.2) AvgIncome:\n"
     ]
    },
    {
     "data": {
      "text/markdown": [
       "|           |      0 |\n",
       "|:----------|-------:|\n",
       "| Delhi     | 350000 |\n",
       "| Mumbai    | 320000 |\n",
       "| Bangalore | 300000 |\n",
       "| Kolkata   | 280000 |"
      ],
      "text/plain": [
       "<IPython.core.display.Markdown object>"
      ]
     },
     "metadata": {},
     "output_type": "display_data"
    },
    {
     "name": "stdout",
     "output_type": "stream",
     "text": [
      "\n",
      "3.3) Income per capita for each metro city:\n"
     ]
    },
    {
     "data": {
      "text/markdown": [
       "|           |         0 |\n",
       "|:----------|----------:|\n",
       "| Delhi     | 0.0175    |\n",
       "| Mumbai    | 0.0145455 |\n",
       "| Bangalore | 0.025     |\n",
       "| Kolkata   | 0.0186667 |"
      ],
      "text/plain": [
       "<IPython.core.display.Markdown object>"
      ]
     },
     "metadata": {},
     "output_type": "display_data"
    },
    {
     "name": "stdout",
     "output_type": "stream",
     "text": [
      "\n",
      "\n",
      "\n",
      "4.1) Original data:\n"
     ]
    },
    {
     "data": {
      "text/markdown": [
       "|           |   Week 1 |   Week 2 |   Week 3 |   Week 4 |\n",
       "|:----------|---------:|---------:|---------:|---------:|\n",
       "| Monday    |       20 |       24 |       22 |       25 |\n",
       "| Tuesday   |       22 |       23 |       23 |       24 |\n",
       "| Wednesday |       21 |       22 |       24 |       23 |\n",
       "| Thursday  |       23 |       21 |       25 |       22 |\n",
       "| Friday    |       25 |       20 |       26 |       21 |"
      ],
      "text/plain": [
       "<IPython.core.display.Markdown object>"
      ]
     },
     "metadata": {},
     "output_type": "display_data"
    },
    {
     "name": "stdout",
     "output_type": "stream",
     "text": [
      "\n",
      "4.2) Average temperature per week:\n"
     ]
    },
    {
     "data": {
      "text/markdown": [
       "|        |    0 |\n",
       "|:-------|-----:|\n",
       "| Week 1 | 22.2 |\n",
       "| Week 2 | 22   |\n",
       "| Week 3 | 24   |\n",
       "| Week 4 | 23   |"
      ],
      "text/plain": [
       "<IPython.core.display.Markdown object>"
      ]
     },
     "metadata": {},
     "output_type": "display_data"
    },
    {
     "name": "stdout",
     "output_type": "stream",
     "text": [
      "\n",
      "4.3) Average temperature of the entire month:  22.8\n"
     ]
    }
   ],
   "source": [
    "data = {\n",
    "    'Name':   np.array([ 'Ram', 'Manish', 'Sahil', 'Amrit', 'Mark' ]),\n",
    "    'Age':    np.array([ 16, 18, 15, 20, 19 ]),\n",
    "    'Gender': np.array([ 'M', 'M', 'M', 'F', 'M' ])\n",
    "}\n",
    "df = pd.DataFrame(data)\n",
    "print('1) Dataframe created from a dictionary of values and nd array:')\n",
    "display_df(df)\n",
    "\n",
    "\n",
    "\n",
    "data = {\n",
    "    'name':    ['Jason', 'Molly', 'Tina', 'Jake', 'Amy'],\n",
    "    'year':    [2012, 2012, 2013, 2014, 2014],\n",
    "    'reports': [4, 24, 31, 2, 3]\n",
    "}\n",
    "df        = pd.DataFrame(data)\n",
    "print('\\n\\n\\n2.1) Original dataframe:')\n",
    "display_df(df)\n",
    "\n",
    "sorted_df = df.sort_values(by='reports', ascending=False)\n",
    "print('\\n2.2) Sorted dataframe (based on reports) in descending order:')\n",
    "display_df(sorted_df)\n",
    "\n",
    "s = pd.Series([3, 1, 2, 3, 4])\n",
    "print('\\n2.3) Original series:')\n",
    "display_df(s)\n",
    "s.sort_values(inplace=True)\n",
    "print('\\n2.4) Sorted series in ascending order:')\n",
    "display_df(s)\n",
    "\n",
    "\n",
    "\n",
    "Population = pd.Series({'Delhi': 20000000, 'Mumbai': 22000000, 'Bangalore': 12000000, 'Kolkata': 15000000})\n",
    "AvgIncome  = pd.Series({'Delhi': 350000,   'Mumbai': 320000,   'Bangalore': 300000,   'Kolkata': 280000})\n",
    "print('\\n\\n\\n3.1) Population:')\n",
    "display_df(Population, index=True)\n",
    "print('\\n3.2) AvgIncome:')\n",
    "display_df(AvgIncome, index=True)\n",
    "\n",
    "income_per_capita = AvgIncome / Population\n",
    "print(\"\\n3.3) Income per capita for each metro city:\")\n",
    "display_df(income_per_capita, index=True)\n",
    "\n",
    "\n",
    "\n",
    "\n",
    "Temp1 = pd.Series([20, 22, 21, 23, 25], index=['Monday', 'Tuesday', 'Wednesday', 'Thursday', 'Friday'])\n",
    "Temp2 = pd.Series([24, 23, 22, 21, 20], index=['Monday', 'Tuesday', 'Wednesday', 'Thursday', 'Friday'])\n",
    "Temp3 = pd.Series([22, 23, 24, 25, 26], index=['Monday', 'Tuesday', 'Wednesday', 'Thursday', 'Friday'])\n",
    "Temp4 = pd.Series([25, 24, 23, 22, 21], index=['Monday', 'Tuesday', 'Wednesday', 'Thursday', 'Friday'])\n",
    "temp_df = pd.DataFrame({'Week 1': Temp1, 'Week 2': Temp2, 'Week 3': Temp3, 'Week 4': Temp4})\n",
    "print('\\n\\n\\n4.1) Original data:')\n",
    "display_df(temp_df, index=True)\n",
    "\n",
    "mean_df = temp_df.mean()\n",
    "print(\"\\n4.2) Average temperature per week:\")\n",
    "display_df(mean_df, index=True)\n",
    "\n",
    "print(\"\\n4.3) Average temperature of the entire month: \", temp_df.values.mean())"
   ]
  },
  {
   "cell_type": "markdown",
   "id": "242bc79a-6b31-41b9-930d-51e7529e862f",
   "metadata": {},
   "source": [
    "<br><br><br>"
   ]
  },
  {
   "cell_type": "markdown",
   "id": "22378d85-476d-47c3-bc77-7137c7b5fbfc",
   "metadata": {},
   "source": [
    "<br><br><br>"
   ]
  },
  {
   "cell_type": "markdown",
   "id": "beb091ae-f662-410e-93a1-76628caec41b",
   "metadata": {},
   "source": [
    "<br><br><br>"
   ]
  },
  {
   "cell_type": "markdown",
   "id": "30165545-dff2-4e1c-8fe4-6e202dc4dde9",
   "metadata": {},
   "source": [
    "<br><br><br>"
   ]
  },
  {
   "cell_type": "markdown",
   "id": "edde7eef-057d-423e-8d94-6e6e86969f01",
   "metadata": {},
   "source": [
    "<br><br><br>"
   ]
  },
  {
   "cell_type": "markdown",
   "id": "a2bf5018-ffed-4430-a231-43144f040129",
   "metadata": {},
   "source": [
    "<br><br><br>"
   ]
  },
  {
   "cell_type": "markdown",
   "id": "72503d3a-9c6e-4ec8-86ac-3f0ff009ccd7",
   "metadata": {},
   "source": [
    "<br><br><br>"
   ]
  },
  {
   "cell_type": "markdown",
   "id": "84558d73-d67c-44d4-aa3b-6b73b228c1d2",
   "metadata": {},
   "source": [
    "<br><br><br>"
   ]
  },
  {
   "cell_type": "markdown",
   "id": "96a3ff19-fb7c-413e-9581-374267ffcdeb",
   "metadata": {},
   "source": [
    "<br><br><br>"
   ]
  },
  {
   "cell_type": "markdown",
   "id": "d23b9557-8889-4995-a161-f35322619f61",
   "metadata": {},
   "source": [
    "<br><br><br>"
   ]
  }
 ],
 "metadata": {
  "kernelspec": {
   "display_name": "Python 3 (ipykernel)",
   "language": "python",
   "name": "python3"
  },
  "language_info": {
   "codemirror_mode": {
    "name": "ipython",
    "version": 3
   },
   "file_extension": ".py",
   "mimetype": "text/x-python",
   "name": "python",
   "nbconvert_exporter": "python",
   "pygments_lexer": "ipython3",
   "version": "3.12.2"
  }
 },
 "nbformat": 4,
 "nbformat_minor": 5
}
