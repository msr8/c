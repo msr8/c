{
 "cells": [
  {
   "cell_type": "code",
   "execution_count": null,
   "metadata": {},
   "outputs": [],
   "source": [
    "\n",
    "\n",
    "import pandas as pd\n",
    "from sklearn.datasets import load_iris\n",
    "\n",
    "# Load the Iris dataset\n",
    "iris = load_iris()\n",
    "iris_df = pd.DataFrame(data=iris.data, columns=iris.feature_names)\n",
    "\n",
    "# Introduce some missing values for demonstration\n",
    "import numpy as np\n",
    "np.random.seed(0)\n",
    "missing_mask = np.random.choice([True, False], size=iris_df.shape, p=[0.1, 0.9])\n",
    "iris_df[missing_mask] = np.nan\n",
    "\n",
    "# Check which values are missing\n",
    "print(\"Missing values in the dataset:\")\n",
    "print(iris_df.isnull().sum())\n",
    "\n",
    "# Impute missing values with mean\n",
    "iris_df_filled = iris_df.fillna(iris_df.mean())\n",
    "\n",
    "# Check if missing values have been filled\n",
    "print(\"\\nMissing values after imputation:\")\n",
    "print(iris_df_filled.isnull().sum())\n",
    "\n",
    "\n",
    "# # **DATAFRAMES:Creating an empty Dataframes**\n"
   ]
  },
  {
   "cell_type": "code",
   "execution_count": null,
   "metadata": {},
   "outputs": [],
   "source": [
    "\n",
    "\n",
    "import pandas as pd\n",
    "import numpy as np\n",
    " \n",
    "# Calling DataFrame constructor\n",
    "df = pd.DataFrame()\n",
    " \n",
    "print(df)\n",
    "\n"
   ]
  },
  {
   "cell_type": "code",
   "execution_count": null,
   "metadata": {},
   "outputs": [],
   "source": [
    "\n",
    "\n",
    "data.loc[ data.marks>= 15]\n",
    "\n"
   ]
  },
  {
   "cell_type": "code",
   "execution_count": null,
   "metadata": {},
   "outputs": [],
   "source": [
    "\n",
    "\n",
    "\n",
    "\n"
   ]
  },
  {
   "cell_type": "code",
   "execution_count": null,
   "metadata": {},
   "outputs": [],
   "source": [
    "\n",
    "\n",
    "\n",
    "\n",
    "\n",
    "# # ATTRIBUTES OF DATAFRAME\n",
    "# \n"
   ]
  },
  {
   "cell_type": "code",
   "execution_count": null,
   "metadata": {},
   "outputs": [],
   "source": [
    "\n",
    "\n",
    "import pandas as pd\n",
    "Dict={\"Marketing\":{\"Name\":\"Raja\",\"Age\":34,\"Gender\":\"M\"},\n",
    "      \"Sales\":{\"Name\":\"Parul\",\"Age\":30,\"Gender\":\"F\"}}\n",
    "\n"
   ]
  },
  {
   "cell_type": "code",
   "execution_count": null,
   "metadata": {},
   "outputs": [],
   "source": [
    "\n",
    "\n",
    "Df=pd.DataFrame(Dict)\n",
    "print(Df)\n",
    "print(Df.index)\n",
    "\n"
   ]
  },
  {
   "cell_type": "code",
   "execution_count": null,
   "metadata": {},
   "outputs": [],
   "source": [
    "\n",
    "\n",
    "print(Df)\n",
    "#print(Df.columns)\n",
    "#print(Df.axes)\n",
    "#print (Df.dtypes)\n",
    "#print(Df.size)\n",
    "#print(Df.shape)\n",
    "#print(Df.ndim)\n",
    "print(Df.empty)\n",
    "\n",
    "\n",
    "# # LOC(Label Indexing) n ILoc(Integer Indexing)\n",
    "# DF.loc[StartRow:endRow,StartCol:EndCol]\n"
   ]
  },
  {
   "cell_type": "code",
   "execution_count": null,
   "metadata": {},
   "outputs": [],
   "source": [
    "\n",
    "\n",
    "import pandas as pd\n",
    "Data={\"Name\":[\"ram\",\"sunder\",\"poonam\",\"neha\",\"priya\",\"sarthak\",\"akash\"],\n",
    "     \"Class\":[\"12A\",\"11A\",\"11B\",\"11C\",\"12B\",\"12C\",\"11D\"],\n",
    "     \"Marks\":[11,23,23,11,23,34,14],\n",
    "              \"City\":[\"Kanpur\",\"Goa\",\"Mumbai\",\"Delhi\",\"Jaipur\",\"Kolkata\",\"delhi\"]}\n",
    "S=pd.DataFrame(Data,index=[\"R1\",\"R2\",\"R3\",\"R4\",\"R5\",\"R6\",\"R7\"])\n",
    "print(S)\n",
    "\n"
   ]
  },
  {
   "cell_type": "code",
   "execution_count": null,
   "metadata": {},
   "outputs": [],
   "source": [
    "\n",
    "\n",
    "S.loc[S.Marks>=15]\n",
    "\n"
   ]
  },
  {
   "cell_type": "code",
   "execution_count": null,
   "metadata": {},
   "outputs": [],
   "source": [
    "\n",
    "\n",
    "S.loc[(S.Marks>15) & (S.City=='Goa')]\n",
    "\n"
   ]
  },
  {
   "cell_type": "code",
   "execution_count": null,
   "metadata": {},
   "outputs": [],
   "source": [
    "\n",
    "\n",
    "S.loc[1:3]\n",
    "\n"
   ]
  },
  {
   "cell_type": "code",
   "execution_count": null,
   "metadata": {},
   "outputs": [],
   "source": [
    "\n",
    "\n",
    "# Select few columns with a condition\n",
    "S.loc[(S.Marks>=15),['City','Name']]\n",
    "\n"
   ]
  },
  {
   "cell_type": "code",
   "execution_count": null,
   "metadata": {},
   "outputs": [],
   "source": [
    "\n",
    "\n",
    "# Update columns with a condition\n",
    "S.loc[(S.Marks>=15),['City']]='Chandigarh'\n",
    "S\n",
    "\n"
   ]
  },
  {
   "cell_type": "code",
   "execution_count": null,
   "metadata": {},
   "outputs": [],
   "source": [
    "\n",
    "\n",
    "# Update columns with a condition\n",
    "S.loc[(S.Marks>=25),['City','Class']]=['Brazil','BCA']\n",
    "S\n",
    "\n"
   ]
  },
  {
   "cell_type": "code",
   "execution_count": null,
   "metadata": {},
   "outputs": [],
   "source": [
    "\n",
    "\n",
    "#Select Rows(1-2),Columns(2-3)\n",
    "\n"
   ]
  },
  {
   "cell_type": "code",
   "execution_count": null,
   "metadata": {},
   "outputs": [],
   "source": [
    "\n",
    "\n",
    "#print(S.Name)\n",
    "#print(S[\"Name\"])\n",
    "#print(S[[\"Name\",\"Class\",\"City\"]])\n",
    "print(S[\"Name\"],[\"R3\"])\n",
    "\n"
   ]
  },
  {
   "cell_type": "code",
   "execution_count": null,
   "metadata": {},
   "outputs": [],
   "source": [
    "\n",
    "\n",
    "import pandas as pd\n",
    "Data={\"Name\":[\"ram\",\"sunder\",\"poonam\",\"neha\",\"priya\",\"sarthak\",\"akash\"],\n",
    "     \"Class\":[\"12A\",\"11A\",\"11B\",\"11C\",\"12B\",\"12C\",\"11D\"],\n",
    "     \"Marks\":[11,23,23,11,23,34,14],\n",
    "              \"City\":[\"Kanpur\",\"Goa\",\"Mumbai\",\"Delhi\",\"Jaipur\",\"Kolkata\",\"delhi\"]}\n",
    "S=pd.DataFrame(Data,index=[\"R1\",\"R2\",\"R3\",\"R4\",\"R5\",\"R6\",\"R7\"])\n",
    "print(S)\n",
    "#print(S.loc[\"R3\"])\n",
    "print(S.loc[[\"R3\",\"R7\"]])\n",
    "\n"
   ]
  },
  {
   "cell_type": "code",
   "execution_count": null,
   "metadata": {},
   "outputs": [],
   "source": [
    "\n",
    "\n",
    "print(S.loc[\"R1\":\"R3\"])\n",
    "\n"
   ]
  },
  {
   "cell_type": "code",
   "execution_count": null,
   "metadata": {},
   "outputs": [],
   "source": [
    "\n",
    "\n",
    "print(S.loc[\"R2\":\"R7\"])\n",
    "\n"
   ]
  },
  {
   "cell_type": "code",
   "execution_count": null,
   "metadata": {},
   "outputs": [],
   "source": [
    "\n",
    "\n",
    "print(S.loc[\"R1\":\"R7\":2])\n",
    "#print(S.loc[\"R1\":\"R7\":3])\n",
    "\n"
   ]
  },
  {
   "cell_type": "code",
   "execution_count": null,
   "metadata": {},
   "outputs": [],
   "source": [
    "\n",
    "\n",
    "#print(S.loc[:])\n",
    "print(S.loc[:\"R3\"])\n",
    "\n"
   ]
  },
  {
   "cell_type": "code",
   "execution_count": null,
   "metadata": {},
   "outputs": [],
   "source": [
    "\n",
    "\n",
    "print(S.loc[\"R3\":])\n",
    "\n"
   ]
  },
  {
   "cell_type": "code",
   "execution_count": null,
   "metadata": {},
   "outputs": [],
   "source": [
    "\n",
    "\n",
    "print(S.loc[:,[\"Name\",\"City\"]])\n",
    "\n"
   ]
  },
  {
   "cell_type": "code",
   "execution_count": null,
   "metadata": {},
   "outputs": [],
   "source": [
    "\n",
    "\n",
    "print(S)\n",
    "print(S.loc[:,\"Name\":\"City\":2])\n",
    "\n"
   ]
  },
  {
   "cell_type": "code",
   "execution_count": null,
   "metadata": {},
   "outputs": [],
   "source": [
    "\n",
    "\n",
    "print(S)\n",
    "print(S.loc[\"R1\":\"R7\":2,[\"Name\",\"Marks\"]])\n",
    "\n"
   ]
  },
  {
   "cell_type": "code",
   "execution_count": null,
   "metadata": {},
   "outputs": [],
   "source": [
    "\n",
    "\n",
    "print(S)\n",
    "print(S.loc[[\"R2\",\"R3\",\"R4\"],[\"Class\",\"Marks\"]])\n",
    "\n"
   ]
  },
  {
   "cell_type": "code",
   "execution_count": null,
   "metadata": {},
   "outputs": [],
   "source": [
    "\n",
    "\n",
    "print(S)\n",
    "print(S.loc[[\"R6\",\"R7\"],[\"Marks\",\"City\"]])\n",
    "\n"
   ]
  },
  {
   "cell_type": "code",
   "execution_count": null,
   "metadata": {},
   "outputs": [],
   "source": [
    "\n",
    "\n",
    "### ILOC  ##\n",
    "print(S)\n",
    "print(S.iloc[[5,6],[0,3]])\n",
    "\n"
   ]
  },
  {
   "cell_type": "code",
   "execution_count": null,
   "metadata": {},
   "outputs": [],
   "source": [
    "\n",
    "\n",
    "print(S)\n",
    "#print(S.loc[\"R1\":\"R7\":2,[\"Name\",\"City\"]])\n",
    "#print(S.loc[\"R1\":\"R7\":2,\"Name\":\"City\":3])\n",
    "print(S.iloc[0:6:2,0:3:3])\n",
    "\n"
   ]
  },
  {
   "cell_type": "code",
   "execution_count": null,
   "metadata": {},
   "outputs": [],
   "source": [
    "\n",
    "\n",
    "import pandas as pd\n",
    "Data={\"Name\":[\"ram\",\"sunder\",\"poonam\",\"neha\",\"priya\",\"sarthak\",\"akash\"],\n",
    "     \"Class\":[\"12A\",\"11A\",\"11B\",\"11C\",\"12B\",\"12C\",\"11D\"],\n",
    "     \"Marks\":[11,23,23,11,23,34,14],\n",
    "              \"City\":[\"Kanpur\",\"Goa\",\"Mumbai\",\"Delhi\",\"Jaipur\",\"Kolkata\",\"delhi\"]}\n",
    "S=pd.DataFrame(Data)\n",
    "print(S)\n",
    "\n",
    "print(S.loc[0:7:2,\"City\"])\n",
    "print(S.loc[0:2,\"City\"])\n",
    "print(S.iloc[0:2,0])\n",
    "\n",
    "\n",
    "# # **Creating a Dataframe using List**\n",
    "# It can be created using a single list or list of lists\n",
    "# \n"
   ]
  },
  {
   "cell_type": "code",
   "execution_count": null,
   "metadata": {},
   "outputs": [],
   "source": [
    "\n",
    "\n",
    "# list of strings\n",
    "lst = ['apple', 'orange', 'grapes', 'papaya','pineapple']\n",
    " \n",
    "# Calling DataFrame constructor on list\n",
    "df = pd.DataFrame(lst)\n",
    "print(df)\n",
    "\n",
    "\n",
    "# # **Creating DataFrame from dict of lists/ndarray**\n",
    "# To create DataFrame from dict of narray/list, all the narray must be of same length. \n",
    "# If index is passed then the length index should be equal to the length of arrays.\n",
    "# If no index is passed, then by default, index will be range(n) where n is the array length. \n",
    "# \n"
   ]
  },
  {
   "cell_type": "code",
   "execution_count": null,
   "metadata": {},
   "outputs": [],
   "source": [
    "\n",
    "\n",
    "import pandas as pd\n",
    "\n",
    "# initialise data of lists.\n",
    "data = {'Name':['Tom', 'nick', 'krish', 'jack'], 'Age':[20, 21, 19, 18]}\n",
    " \n",
    "# Create DataFrame\n",
    "df = pd.DataFrame(data)\n",
    " \n",
    "# Print the output.\n",
    "print(df)\n",
    "\n"
   ]
  },
  {
   "cell_type": "code",
   "execution_count": null,
   "metadata": {},
   "outputs": [],
   "source": [
    "\n",
    "\n",
    "d = {\"one\": [1.0, 2.0, 3.0, 4.0], \"two\": [4.0, 3.0, 2.0, 1.0]}\n",
    "pd.DataFrame(d)\n",
    "\n"
   ]
  },
  {
   "cell_type": "code",
   "execution_count": null,
   "metadata": {},
   "outputs": [],
   "source": [
    "\n",
    "\n",
    "pd.DataFrame(d, index=[\"a\", \"b\", \"c\", \"d\"])\n",
    "\n"
   ]
  },
  {
   "cell_type": "code",
   "execution_count": null,
   "metadata": {},
   "outputs": [],
   "source": [
    "\n",
    "\n",
    "import pandas as pd\n",
    "\n",
    "data = {\n",
    "    'Math': [85, 90, 75],\n",
    "    'Science': [80, 88, 72],\n",
    "    'English': [88, 82, 90]\n",
    "}\n",
    "\n",
    "index = ['Alice', 'Bob', 'Charlie']\n",
    "\n",
    "df = pd.DataFrame(data, index=index)\n",
    "print(df)\n",
    "\n"
   ]
  },
  {
   "cell_type": "code",
   "execution_count": null,
   "metadata": {},
   "outputs": [],
   "source": [
    "\n",
    "\n",
    "\n",
    "\n",
    "\n",
    "# # Creating of Dataframe from ndArray\n"
   ]
  },
  {
   "cell_type": "code",
   "execution_count": null,
   "metadata": {},
   "outputs": [],
   "source": [
    "\n",
    "\n",
    "# initialise data of lists.\n",
    "\n",
    "data = {'Name':np.array(['Tom', 'nick', 'krish', 'jack']), 'Age':np.array([20, 21, 19, 18])}\n",
    "# Create DataFrame\n",
    "df = pd.DataFrame(data)\n",
    " \n",
    "# Print the output.\n",
    "print(df)\n",
    "\n"
   ]
  },
  {
   "cell_type": "code",
   "execution_count": null,
   "metadata": {},
   "outputs": [],
   "source": [
    "\n",
    "\n",
    "#NumPy array with a structured dtype, also known as a structured array, \n",
    "#allows you to create arrays where each element can have different data types or fields. This is particularly useful when\n",
    "#dealing with heterogeneous data, such as tabular data with columns of different types (e.g., integers, floats, strings).\n",
    "\n",
    "# Creating Dataframe with Structured dtype\n",
    "\n",
    "import numpy as np\n",
    "import pandas as pd\n",
    "\n",
    "# Define the data as a NumPy array with structured dtype\n",
    "data = np.array([('Tom', 20), ('nick', 21), ('krish', 19), ('jack', 18)],\n",
    "               dtype=[('Name', 'U10'), ('Age', int)])\n",
    "\n",
    "# Create a DataFrame using the NumPy array\n",
    "df = pd.DataFrame(data)\n",
    "\n",
    "# Print the DataFrame\n",
    "print(df)\n",
    "\n"
   ]
  },
  {
   "cell_type": "code",
   "execution_count": null,
   "metadata": {},
   "outputs": [],
   "source": [
    "\n",
    "\n",
    "# Creating a DataFrame from NumPy arrays using a combination of lists and arrays\n",
    "\n",
    "import numpy as np\n",
    "import pandas as pd\n",
    "\n",
    "# Define the data as a list of lists\n",
    "data_list = [['Tom', 20], ['nick', 21], ['krish', 19], ['jack', 18]]\n",
    "\n",
    "# Convert the list of lists to a NumPy array\n",
    "data_array = np.array(data_list)\n",
    "\n",
    "# Create a DataFrame using the NumPy array\n",
    "df = pd.DataFrame(data_array, columns=['Name', 'Age'])\n",
    "\n",
    "# Print the DataFrame\n",
    "print(df)\n",
    "\n",
    "\n",
    "# # **Creating DataFrame from dict of Series or dicts**\n",
    "# The resulting index will be the union of the indexes of the various Series. If there are any nested dicts, these will first be converted to Series. If no columns are passed, the columns will be the ordered list of dict keys.\n",
    "\n",
    "# # **Creating dataframe from a Dict of Series**\n",
    "# The resulting index will be the union of the indexes of the various Series. If there are any nested dicts, these will first be converted to Series. If no columns are passed, the columns will be the ordered list of dict keys.\n"
   ]
  },
  {
   "cell_type": "code",
   "execution_count": null,
   "metadata": {},
   "outputs": [],
   "source": [
    "\n",
    "\n",
    "# creation of dataframe from dictionary of series\n",
    "d ={\"one\": pd.Series([1.0, 2.0, 3.0], index=[\"a\", \"b\", \"c\"]),\n",
    "    \"two\": pd.Series([1.0, 2.0, 3.0, 4.0], index=[\"a\", \"b\", \"c\", \"d\"])}\n",
    "print(d)\n",
    "\n"
   ]
  },
  {
   "cell_type": "code",
   "execution_count": null,
   "metadata": {},
   "outputs": [],
   "source": [
    "\n",
    "\n",
    "df = pd.DataFrame(d)\n",
    "df\n",
    "\n"
   ]
  },
  {
   "cell_type": "code",
   "execution_count": null,
   "metadata": {},
   "outputs": [],
   "source": [
    "\n",
    "\n",
    "df1=pd.DataFrame(d, index=[\"d\", \"b\", \"a\"])\n",
    "df1\n",
    "\n"
   ]
  },
  {
   "cell_type": "code",
   "execution_count": null,
   "metadata": {},
   "outputs": [],
   "source": [
    "\n",
    "\n",
    "df2=pd.DataFrame(d, index=[\"d\", \"b\", \"a\"], columns=[\"two\", \"three\"])\n",
    "df2\n",
    "\n",
    "\n",
    "# The row and column labels can be accessed respectively by accessing the index and columns attributes.\n"
   ]
  },
  {
   "cell_type": "code",
   "execution_count": null,
   "metadata": {},
   "outputs": [],
   "source": [
    "\n",
    "\n",
    "df2.index\n",
    "\n"
   ]
  },
  {
   "cell_type": "code",
   "execution_count": null,
   "metadata": {},
   "outputs": [],
   "source": [
    "\n",
    "\n",
    "df2.columns\n",
    "\n",
    "\n",
    "# # **Creating dataframe from a List of Dicts**\n"
   ]
  },
  {
   "cell_type": "code",
   "execution_count": null,
   "metadata": {},
   "outputs": [],
   "source": [
    "\n",
    "\n",
    "# Creation of dataframe from list containing 2 dictionaries\n",
    "\n",
    "data2 = [{\"a\": 1, \"b\": 2}, {\"a\": 5, \"b\": 10, \"c\": 20}]\n",
    "pd.DataFrame(data2)\n",
    "\n"
   ]
  },
  {
   "cell_type": "code",
   "execution_count": null,
   "metadata": {},
   "outputs": [],
   "source": [
    "\n",
    "\n",
    "pd.DataFrame(data2, index=[\"first\", \"second\"])\n",
    "\n"
   ]
  },
  {
   "cell_type": "code",
   "execution_count": null,
   "metadata": {},
   "outputs": [],
   "source": [
    "\n",
    "\n",
    "pd.DataFrame(data2, columns=[\"a\", \"b\"])\n",
    "\n",
    "\n",
    "# # **Creating a dataframe From a Series**\n",
    "# The result will be a DataFrame with the same index as the input Series, and with one column whose name is the original name of the Series (only if no other column name provided).\n"
   ]
  },
  {
   "cell_type": "code",
   "execution_count": null,
   "metadata": {},
   "outputs": [],
   "source": [
    "\n",
    "\n",
    "ser = pd.Series(range(3), index=list(\"abc\"), name=\"ser\")\n",
    "pd.DataFrame(ser)\n",
    "\n"
   ]
  },
  {
   "cell_type": "code",
   "execution_count": null,
   "metadata": {},
   "outputs": [],
   "source": [
    "\n",
    "\n",
    "import pandas as pd\n",
    "\n",
    "# Create a pandas Series\n",
    "s = pd.Series([1, 2, 3, 4, 5])\n",
    "\n",
    "# Create a DataFrame from the Series\n",
    "df = pd.DataFrame(s, columns=['Numbers'])\n",
    "\n",
    "# Print the DataFrame\n",
    "print(df)\n",
    "\n"
   ]
  },
  {
   "cell_type": "code",
   "execution_count": null,
   "metadata": {},
   "outputs": [],
   "source": [
    "\n",
    "\n",
    "# creating Dataframe from Dict of Dict\n",
    "\n",
    "import pandas as pd\n",
    "\n",
    "# Define the dictionary of dictionaries with more meaningful data\n",
    "data = {\n",
    "    'StudentID': {'101': 'John', '102': 'Alice', '103': 'Bob'},\n",
    "    'Age': {'101': 21, '102': 20, '103': 22},\n",
    "    'Grade': {'101': 'A', '102': 'B', '103': 'C'}\n",
    "}\n",
    "\n",
    "# Create DataFrame from the dictionary of dictionaries\n",
    "df = pd.DataFrame(data)\n",
    "\n",
    "# Print the DataFrame\n",
    "print(df)\n",
    "\n"
   ]
  },
  {
   "cell_type": "code",
   "execution_count": null,
   "metadata": {},
   "outputs": [],
   "source": [
    "\n",
    "\n",
    "\n",
    "\n",
    "\n",
    "# # **Some functions on Retrieval / Manipulation of Dataframes**\n"
   ]
  },
  {
   "cell_type": "code",
   "execution_count": null,
   "metadata": {},
   "outputs": [],
   "source": [
    "\n",
    "\n",
    "data = {'state': ['Texas', 'Texas', 'Texas', 'California', 'California', 'California'],\n",
    "'year': [2000, 2001, 2002, 2001, 2002, 2003],\n",
    "'pop': [1.5, 1.7, 3.6, 2.4, 2.9, 3.2]}\n",
    "frame = pd.DataFrame(data)\n",
    "frame\n",
    "\n",
    "\n",
    "# # **Head method selects only the first five rows**\n",
    "# You can also pass an integer value to tell how many rows you want to be displayed\n"
   ]
  },
  {
   "cell_type": "code",
   "execution_count": null,
   "metadata": {},
   "outputs": [],
   "source": [
    "\n",
    "\n",
    "frame.head(3)\n",
    "\n"
   ]
  },
  {
   "cell_type": "code",
   "execution_count": null,
   "metadata": {},
   "outputs": [],
   "source": [
    "\n",
    "\n",
    "frame.tail()\n",
    "\n"
   ]
  },
  {
   "cell_type": "code",
   "execution_count": null,
   "metadata": {},
   "outputs": [],
   "source": [
    "\n",
    "\n",
    "# renaming the column \"pop\"\n",
    "frame.rename(columns = {\"pop\": \"population\"}, inplace = True)\n",
    "\n"
   ]
  },
  {
   "cell_type": "code",
   "execution_count": null,
   "metadata": {},
   "outputs": [],
   "source": [
    "\n",
    "\n",
    "frame\n",
    "\n"
   ]
  },
  {
   "cell_type": "code",
   "execution_count": null,
   "metadata": {},
   "outputs": [],
   "source": [
    "\n",
    "\n",
    "my_list = [3, 1, 2]\n",
    "sorted_list = sorted(my_list)  # inplace is not set to True\n",
    "print(sorted_list)  # Output: [1, 2, 3]\n",
    "print(my_list)      # Output: [3, 1, 2] (original list remains unchanged)\n",
    "\n"
   ]
  },
  {
   "cell_type": "code",
   "execution_count": null,
   "metadata": {},
   "outputs": [],
   "source": [
    "\n",
    "\n",
    "\n",
    "\n",
    "\n",
    "# # **If you specify a sequence of columns, the DataFrame’s columns will be arranged in that order.**\n"
   ]
  },
  {
   "cell_type": "code",
   "execution_count": null,
   "metadata": {},
   "outputs": [],
   "source": [
    "\n",
    "\n",
    "frame.rename(columns = {\"population\": \"pop\"}, inplace = True)\n",
    "pd.DataFrame(data, columns=['year', 'state', 'pop'])\n",
    "\n",
    "\n",
    "# If you pass a column that isn’t contained in the dict, it will appear with missing values in the result:\n"
   ]
  },
  {
   "cell_type": "code",
   "execution_count": null,
   "metadata": {},
   "outputs": [],
   "source": [
    "\n",
    "\n",
    "\n",
    "frame2 = pd.DataFrame(data, columns=['year', 'state', 'pop', 'debt'], index=['one', 'two', 'three', 'four','five', 'six'])\n",
    "frame2\n",
    "\n"
   ]
  },
  {
   "cell_type": "code",
   "execution_count": null,
   "metadata": {},
   "outputs": [],
   "source": [
    "\n",
    "\n",
    "frame2.columns\n",
    "\n",
    "\n",
    "# A column in a DataFrame can be retrieved as a Series either by **dict-like notation or by attribute**.\n",
    "# frame2[column] works for any column name, but frame2.column only works when the column name is a valid Python variable name. \n"
   ]
  },
  {
   "cell_type": "code",
   "execution_count": null,
   "metadata": {},
   "outputs": [],
   "source": [
    "\n",
    "\n",
    "frame2['state']\n",
    "\n"
   ]
  },
  {
   "cell_type": "code",
   "execution_count": null,
   "metadata": {},
   "outputs": [],
   "source": [
    "\n",
    "\n",
    "frame2.state\n",
    "\n",
    "\n",
    "# **Columns can be modified by assignment**. For example, the empty 'debt' column\n",
    "# could be assigned a scalar value or an array of values\n"
   ]
  },
  {
   "cell_type": "code",
   "execution_count": null,
   "metadata": {},
   "outputs": [],
   "source": [
    "\n",
    "\n",
    "frame2['debt'] = 16.5\n",
    "frame2\n",
    "\n",
    "\n",
    "# When you are assigning lists or arrays to a column, the value’s length must match the length of the DataFrame.\n"
   ]
  },
  {
   "cell_type": "code",
   "execution_count": null,
   "metadata": {},
   "outputs": [],
   "source": [
    "\n",
    "\n",
    "np.arange(10.)\n",
    "\n"
   ]
  },
  {
   "cell_type": "code",
   "execution_count": null,
   "metadata": {},
   "outputs": [],
   "source": [
    "\n",
    "\n",
    "frame2['debt'] = np.arange(6.)\n",
    "frame2\n",
    "\n",
    "\n",
    "# If you assign a Series, its labels will be realigned exactly to\n",
    "# the DataFrame’s index, inserting missing values in any holes.\n"
   ]
  },
  {
   "cell_type": "code",
   "execution_count": null,
   "metadata": {},
   "outputs": [],
   "source": [
    "\n",
    "\n",
    "val = pd.Series([-1.2, -1.5, -1.7], index=['two', 'four', 'five'])\n",
    "frame2['debt'] = val\n",
    "frame2\n",
    "\n",
    "\n",
    "# Assigning a column that doesn’t exist will create a new column. The del keyword will delete columns as with a dict.\n"
   ]
  },
  {
   "cell_type": "code",
   "execution_count": null,
   "metadata": {},
   "outputs": [],
   "source": [
    "\n",
    "\n",
    "frame2['New column']=0\n",
    "frame2\n",
    "\n"
   ]
  },
  {
   "cell_type": "code",
   "execution_count": null,
   "metadata": {},
   "outputs": [],
   "source": [
    "\n",
    "\n",
    "del frame2['New column']\n",
    "frame2\n",
    "\n"
   ]
  },
  {
   "cell_type": "code",
   "execution_count": null,
   "metadata": {},
   "outputs": [],
   "source": [
    "\n",
    "\n",
    "frame2.columns\n",
    "\n",
    "\n",
    "# You can transpose the DataFrame (swap rows and columns) with similar syntax to a NumPy array\n"
   ]
  },
  {
   "cell_type": "code",
   "execution_count": null,
   "metadata": {},
   "outputs": [],
   "source": [
    "\n",
    "\n",
    "a=frame2.T\n",
    "a\n",
    "\n"
   ]
  },
  {
   "cell_type": "code",
   "execution_count": null,
   "metadata": {},
   "outputs": [],
   "source": [
    "\n",
    "\n",
    "frame2\n",
    "\n"
   ]
  },
  {
   "cell_type": "code",
   "execution_count": null,
   "metadata": {},
   "outputs": [],
   "source": [
    "\n",
    "\n",
    "import pandas as pd\n",
    "\n",
    "# Sample DataFrame\n",
    "data = {\n",
    "    'Name': ['Alice', 'Bob', 'Charlie', 'David', 'Emma', 'Frank'],\n",
    "    'Age': [25, 22, 28, 21, 24, 30],\n",
    "    'Score': [85, 90, 75, 80, 95, 70]\n",
    "}\n",
    "\n",
    "df = pd.DataFrame(data)\n",
    "\n",
    "# Sorting rows based on values in the 'Age' column (ascending order)\n",
    "sorted_df_age_asc = df.sort_values(by='Age')\n",
    "\n",
    "print(\"Sorted DataFrame based on Age (ascending order):\")\n",
    "print(sorted_df_age_asc)\n",
    "print()\n",
    "\n",
    "# Sorting rows based on values in the 'Score' column (descending order)\n",
    "sorted_df_score_desc = df.sort_values(by='Score', ascending=False)\n",
    "\n",
    "print(\"Sorted DataFrame based on Score (descending order):\")\n",
    "print(sorted_df_score_desc)\n",
    "\n"
   ]
  },
  {
   "cell_type": "code",
   "execution_count": null,
   "metadata": {},
   "outputs": [],
   "source": [
    "\n",
    "\n",
    "import pandas as pd\n",
    "\n",
    "# Student data\n",
    "student_data = {\n",
    "    'Name': ['Alice', 'Bob', 'Charlie', 'David', 'Emma', 'Frank', 'Grace', 'Hannah', 'Ivy', 'Jack'],\n",
    "    'Age': [20, 21, 19, 20, 22, 21, 20, 19, 20, 21],\n",
    "    'Semester1_Marks': [550, 520, 590, 580, 560, 590, 580, 570, 540, 570],\n",
    "    'Semester2_Marks': [480, 490, 470, 500, 490, 480, 500, 490, 480, 500],\n",
    "    'Attendance': [95, 92, 97, 96, 93, 95, 94, 98, 96, 95]\n",
    "}\n",
    "\n",
    "# Create DataFrame\n",
    "df_students = pd.DataFrame(student_data)\n",
    "\n",
    "# Display DataFrame\n",
    "print(df_students)\n",
    "\n"
   ]
  },
  {
   "cell_type": "code",
   "execution_count": null,
   "metadata": {},
   "outputs": [],
   "source": [
    "\n",
    "\n",
    "import pandas as pd\n",
    "\n",
    "# Student data\n",
    "student_data = {\n",
    "    'Name': ['Alice', 'Bob', 'Charlie', 'David', 'Emma', 'Frank', 'Grace', 'Hannah', 'Ivy', 'Jack'],\n",
    "    'Age': [20, 21, 19, 20, 22, 21, 20, 19, 20, 21],\n",
    "    'Semester1_Marks': [100, 520, 590, 580, 560, 590, 580, 570, 540, 570],\n",
    "    'Semester2_Marks': [480, 490, 470, 500, 490, 480, 500, 490, 480, 500],\n",
    "    'Attendance': [95, 92, 97, 96, 93, 95, 94, 98, 96, 95]\n",
    "}\n",
    "\n",
    "# Create DataFrame\n",
    "df_students = pd.DataFrame(student_data)\n",
    "\n",
    "# Display the details of students who scored more than 560 marks in semester 1\n",
    "#print(\"Students who scored more than 560 marks in semester 1:\")\n",
    "#print(df_students[df_students['Semester1_Marks'] > 560])\n",
    "\n",
    "# Display the details of students who scored less than 250 marks in semester II\n",
    "#print(\"\\nStudents who scored less than 250 marks in semester II:\")\n",
    "#print(df_students[df_students['Semester2_Marks'] < 250])\n",
    "\n",
    "# Display details of students who scored minimum marks in semester II\n",
    "#print(\"\\nDetails of students who scored minimum marks in semester II:\")\n",
    "#print(df_students[df_students['Semester2_Marks'] == df_students['Semester2_Marks'].min()])\n",
    "#min_sem_marks=df_students['Semester2_Marks'].min()\n",
    "#print(min_sem_marks)\n",
    "min_marks=df_students. nsmallest(1,'Semester2_Marks')\n",
    "print(min_marks)\n",
    "\n",
    "\n",
    "# Display details of students who scored maximum marks in semester II\n",
    "#print(\"\\nDetails of students who scored maximum marks in semester II:\")\n",
    "#print(df_students[df_students['Semester2_Marks'] == df_students['Semester2_Marks'].max()])\n",
    "\n",
    "# Display details of students whose attendance is more than 75\n",
    "#print(\"\\nDetails of students whose attendance is more than 75:\")\n",
    "#print(df_students[df_students['Attendance'] > 75])\n",
    "\n",
    "# Display details of students whose attendance is less than 50\n",
    "#print(\"\\nDetails of students whose attendance is less than 50:\")\n",
    "#print(df_students[df_students['Attendance'] < 50])\n",
    "\n",
    "# Insert 2 new records in dataframe\n",
    "#new_records = pd.DataFrame({'Name': ['Kate', 'Liam'], 'Age': [22, 20], 'Semester1_Marks': [580, 570], 'Semester2_Marks': [490, 500], 'Attendance': [90, 85]})\n",
    "#df_students = df_students.append(new_records, ignore_index=True)\n",
    "\n",
    "# Add a new column corresponding to percentage of marks in 2 semesters\n",
    "#df_students['Percentage'] = 0\n",
    "#((df_students['Semester1_Marks'] + df_students['Semester2_Marks']) / 1100) * 100\n",
    "\n",
    "# Display updated DataFrame\n",
    "#print(\"\\nUpdated DataFrame with new records and percentage column:\")\n",
    "#print(df_students)\n",
    "\n"
   ]
  },
  {
   "cell_type": "code",
   "execution_count": null,
   "metadata": {},
   "outputs": [],
   "source": [
    "\n",
    "\n",
    "# Define a function to assign grades based on percentage\n",
    "def assign_grade(percentage):\n",
    "    if percentage >= 90:\n",
    "        return 'O'\n",
    "    elif percentage >= 75:\n",
    "        return 'A+'\n",
    "    elif percentage >= 60:\n",
    "        return 'A'\n",
    "    elif percentage >= 50:\n",
    "        return 'B+'\n",
    "    elif percentage >= 40:\n",
    "        return 'B'\n",
    "    else:\n",
    "        return 'F'\n",
    "\n",
    "# Apply the function to calculate grades for each row\n",
    "df_students['Grade'] = df_students['Percentage'].apply(assign_grade)\n",
    "\n",
    "# Display updated DataFrame with grades\n",
    "print(\"\\nUpdated DataFrame with grades:\")\n",
    "print(df_students)\n",
    "\n"
   ]
  },
  {
   "cell_type": "code",
   "execution_count": null,
   "metadata": {},
   "outputs": [],
   "source": [
    "\n",
    "\n",
    "s = pd.Series(data, index=index)\n",
    "#Here, data can be many different things: **an ndarray**\n",
    "\n"
   ]
  },
  {
   "cell_type": "code",
   "execution_count": null,
   "metadata": {},
   "outputs": [],
   "source": [
    "\n",
    "\n",
    "obj = pd.Series([4, 7, -5, 3])\n",
    "obj\n",
    "\n",
    "\n",
    "# The string representation of a Series displayed interactively shows the index on the\n",
    "# left and the values on the right. Since we did not specify an index for the data, a\n",
    "# default one consisting of the integers 0 through N - 1 (where N is the length of the\n",
    "# data) is created.\n"
   ]
  },
  {
   "cell_type": "code",
   "execution_count": null,
   "metadata": {},
   "outputs": [],
   "source": [
    "\n",
    "\n",
    "Get the array representation and index object of the Series via\n",
    "its values and index attributes, respectively\n",
    "\n"
   ]
  },
  {
   "cell_type": "code",
   "execution_count": null,
   "metadata": {},
   "outputs": [],
   "source": [
    "\n",
    "\n",
    "obj.values\n",
    "\n"
   ]
  },
  {
   "cell_type": "code",
   "execution_count": null,
   "metadata": {},
   "outputs": [],
   "source": [
    "\n",
    "\n",
    "obj.index\n",
    "\n",
    "\n",
    "# create a Series with an index identifying each data point\n",
    "# with a label:\n"
   ]
  },
  {
   "cell_type": "code",
   "execution_count": null,
   "metadata": {},
   "outputs": [],
   "source": [
    "\n",
    "\n",
    "obj2 = pd.Series([4, 7, -5, 3], index=['d', 'b', 'a', 'c'])\n",
    "obj2\n",
    "\n"
   ]
  },
  {
   "cell_type": "code",
   "execution_count": null,
   "metadata": {},
   "outputs": [],
   "source": [
    "\n",
    "\n",
    "obj2.index\n",
    "\n",
    "\n",
    "# You can use labels in the index when selecting single values or a set of values\n"
   ]
  },
  {
   "cell_type": "code",
   "execution_count": null,
   "metadata": {},
   "outputs": [],
   "source": [
    "\n",
    "\n",
    "obj2['a']\n",
    "\n"
   ]
  },
  {
   "cell_type": "code",
   "execution_count": null,
   "metadata": {},
   "outputs": [],
   "source": [
    "\n",
    "\n",
    "obj2[['c', 'a', 'd']]\n",
    "\n",
    "\n",
    "# Using NumPy functions or NumPy-like operations, such as filtering with a boolean\n",
    "# array, scalar multiplication, or applying math functions, will preserve the index-value link\n"
   ]
  },
  {
   "cell_type": "code",
   "execution_count": null,
   "metadata": {},
   "outputs": [],
   "source": [
    "\n",
    "\n",
    "s=pd.Series(90,index=[\"a\",\"j\",\"p\",\"o\"])\n",
    "print(s)\n",
    "\n"
   ]
  },
  {
   "cell_type": "code",
   "execution_count": null,
   "metadata": {},
   "outputs": [],
   "source": [
    "\n",
    "\n",
    "s=pd.Series(range(0,4),index=[\"a\",\"j\",\"p\",\"o\"])\n",
    "print(s)\n",
    "\n"
   ]
  },
  {
   "cell_type": "code",
   "execution_count": null,
   "metadata": {},
   "outputs": [],
   "source": [
    "\n",
    "\n",
    "s=pd.Series(range(0,4),index=range(0,4))\n",
    "print(s)\n",
    "\n"
   ]
  },
  {
   "cell_type": "code",
   "execution_count": null,
   "metadata": {},
   "outputs": [],
   "source": [
    "\n",
    "\n",
    "s=pd.Series([5,\"7\"])\n",
    "print(s)\n",
    "\n"
   ]
  },
  {
   "cell_type": "code",
   "execution_count": null,
   "metadata": {},
   "outputs": [],
   "source": [
    "\n",
    "\n",
    "k=(3,4,7,8,9,6,5,2)\n",
    "s=pd.Series(k,index=[\"a\",\"j\",\"p\",\"q\",\"r\",\"l\",\"m\",\"n\"])\n",
    "\n",
    "print(s[\"a\"])\n",
    "\n",
    "print(s[0:3])\n",
    "\n",
    "print(s[\"a\":\"q\"])\n",
    "\n",
    "print(s[\"a\":\"q\":2])\n",
    "print(s[::-1])\n",
    "\n",
    "\n",
    "# MODIFICATION\n"
   ]
  },
  {
   "cell_type": "code",
   "execution_count": null,
   "metadata": {},
   "outputs": [],
   "source": [
    "\n",
    "\n",
    "k=(3,4,7,8,9,6,5,2)\n",
    "s=pd.Series(k,index=[\"a\",\"j\",\"p\",\"q\",\"r\",\"l\",\"m\",\"n\"])\n",
    "s[\"a\"]=90\n",
    "print(s)\n",
    "s[\"a\":\"p\"]=90\n",
    "print(s)\n",
    "s[\"a\":\"p\"]=90,97,98\n",
    "print(s)\n",
    "\n"
   ]
  },
  {
   "cell_type": "code",
   "execution_count": null,
   "metadata": {},
   "outputs": [],
   "source": [
    "\n",
    "\n",
    "k=(3,4,7,8,9,6,5,2)\n",
    "s=pd.Series(k,index=[\"a\",\"j\",\"p\",\"q\",\"r\",\"l\",\"m\",\"n\"])\n",
    "s.name=90\n",
    "s.drop(\"j\")\n",
    "print(s)\n",
    "\n"
   ]
  },
  {
   "cell_type": "code",
   "execution_count": null,
   "metadata": {},
   "outputs": [],
   "source": [
    "\n",
    "\n",
    "# Dropping\n",
    "k=(3,4,7,8,9,6,5,2)\n",
    "s=pd.Series(k,index=[\"a\",\"j\",\"p\",\"q\",\"r\",\"l\",\"m\",\"n\"])\n",
    "s.name=90\n",
    "s.drop(\"j\",inplace=True)\n",
    "print(s)\n",
    "\n"
   ]
  },
  {
   "cell_type": "code",
   "execution_count": null,
   "metadata": {},
   "outputs": [],
   "source": [
    "\n",
    "\n",
    "#Sorting\n",
    "k=(3,4,7,8,9,6,5,2)\n",
    "s=pd.Series(k,index=[\"a\",\"j\",\"p\",\"q\",\"r\",\"l\",\"m\",\"n\"])\n",
    "#print(s.sort_values)\n",
    "print(s.sort_values(ascending=False))\n",
    "\n",
    "#print(s.sort_index)\n",
    "\n"
   ]
  },
  {
   "cell_type": "code",
   "execution_count": null,
   "metadata": {},
   "outputs": [],
   "source": [
    "\n",
    "\n",
    "k=(30,4,7,88,7,8,10,0)\n",
    "s1=pd.Series(k,index=[\"a\",\"j\",\"p\",\"q\",\"r\",\"l\",\"m\",\"n\"])\n",
    "k=(3,4,70,8,7,8,None,0)\n",
    "s2=pd.Series(k,index=[\"a\",\"j\",\"p\",\"q\",\"r\",\"l\",\"m\",\"n\"])\n",
    "#print(s1>s2)\n",
    "#print(s1>9)\n",
    "#print(s1[s1>9])\n",
    "#print(s1[s1==9])\n",
    "#print(s1+s2)\n",
    "#print(s1.add(s2))\n",
    "#print(s1.add(s2))\n",
    "print(s1.add(s2,fill_value=100))\n",
    "\n"
   ]
  },
  {
   "cell_type": "code",
   "execution_count": null,
   "metadata": {},
   "outputs": [],
   "source": [
    "\n",
    "\n",
    "\n",
    "\n"
   ]
  },
  {
   "cell_type": "code",
   "execution_count": null,
   "metadata": {},
   "outputs": [],
   "source": [
    "\n",
    "\n",
    "\n",
    "\n"
   ]
  },
  {
   "cell_type": "code",
   "execution_count": null,
   "metadata": {},
   "outputs": [],
   "source": [
    "\n",
    "\n",
    "\n",
    "\n"
   ]
  },
  {
   "cell_type": "code",
   "execution_count": null,
   "metadata": {},
   "outputs": [],
   "source": [
    "\n",
    "\n",
    "\n",
    "\n",
    "\n",
    "# # Read CSV Files\n",
    "# A simple way to store big data sets is to use CSV files (comma separated files).\n",
    "# \n",
    "# CSV files contains plain text and is a well know format \n"
   ]
  },
  {
   "cell_type": "code",
   "execution_count": null,
   "metadata": {},
   "outputs": [],
   "source": [
    "\n",
    "\n",
    "#iris = load_iris()\n",
    "#iris_df = pd.DataFrame(data=iris.data, columns=iris.feature_names)\n",
    "\n",
    "df = pd.read_csv('dummy.csv')\n",
    "\n"
   ]
  },
  {
   "cell_type": "code",
   "execution_count": null,
   "metadata": {},
   "outputs": [],
   "source": [
    "\n",
    "\n",
    "df.head()\n",
    "\n"
   ]
  },
  {
   "cell_type": "code",
   "execution_count": null,
   "metadata": {},
   "outputs": [],
   "source": [
    "\n",
    "\n",
    "df.tail()\n",
    "\n",
    "\n",
    "# # df.info()\n",
    "# This function returns a quick summary of the DataFrame. This includes information about column names and their respective data types, missing values, and memory consumption by DataFrame. This function covers all the information which can be retrieved by individual attributess such as df.dtypes, df.columns, df.shape.\n"
   ]
  },
  {
   "cell_type": "code",
   "execution_count": null,
   "metadata": {},
   "outputs": [],
   "source": [
    "\n",
    "\n",
    "df.info()\n",
    "\n"
   ]
  },
  {
   "cell_type": "code",
   "execution_count": null,
   "metadata": {},
   "outputs": [],
   "source": [
    "\n",
    "\n",
    "df.dtypes\n",
    "\n"
   ]
  },
  {
   "cell_type": "code",
   "execution_count": null,
   "metadata": {},
   "outputs": [],
   "source": [
    "\n",
    "\n",
    "type(df)\n",
    "\n"
   ]
  },
  {
   "cell_type": "code",
   "execution_count": null,
   "metadata": {},
   "outputs": [],
   "source": [
    "\n",
    "\n",
    "df.columns\n",
    "\n"
   ]
  },
  {
   "cell_type": "code",
   "execution_count": null,
   "metadata": {},
   "outputs": [],
   "source": [
    "\n",
    "\n",
    "df.shape\n",
    "\n",
    "\n",
    "# # df.describe()\n",
    "# This function returns descriptive statistics about the data. This includes minimum, maximum, mean (central tendency), standard deviation (dispersion) of the values in numerical columns, and the count of all non-null values in the data, as shown below.\n"
   ]
  },
  {
   "cell_type": "code",
   "execution_count": null,
   "metadata": {},
   "outputs": [],
   "source": [
    "\n",
    "\n",
    "df.describe()\n",
    "\n",
    "\n",
    "# # Pandas Functions to Select a Subset of the Dataset\n",
    "# df.query()\n",
    "# This function is used to query the DataFrame based on an expression. An expression can be as simple as a single condition and as complex as a combination of multiple conditions\n",
    "# \n"
   ]
  },
  {
   "cell_type": "code",
   "execution_count": null,
   "metadata": {},
   "outputs": [],
   "source": [
    "\n",
    "\n",
    "df.info()\n",
    "\n"
   ]
  },
  {
   "cell_type": "code",
   "execution_count": null,
   "metadata": {},
   "outputs": [],
   "source": [
    "\n",
    "\n",
    "df.query('OrderID > 444772')\n",
    "\n"
   ]
  },
  {
   "cell_type": "code",
   "execution_count": null,
   "metadata": {},
   "outputs": [],
   "source": [
    "\n",
    "\n",
    "df.query('Quantity > 80')\n",
    "\n",
    "\n",
    "# # If columns contain spaces, Before applying the query() method, the spaces in column names have to be replaced with ‘_’.\n",
    "# #df.columns =[column.replace(\" \", \"_\") for column in df.columns]\n"
   ]
  },
  {
   "cell_type": "code",
   "execution_count": null,
   "metadata": {},
   "outputs": [],
   "source": [
    "\n",
    "\n",
    "df13=df.query('Quantity > 80 and OrderCode > 444772')\n",
    "df13\n",
    "\n"
   ]
  },
  {
   "cell_type": "code",
   "execution_count": null,
   "metadata": {},
   "outputs": [],
   "source": [
    "\n",
    "\n",
    "#df.query('Quantity > 80 and OrderCode > 444772', inplace=True) #for multiple condition query, inplace=True is mandatory\n",
    "#df\n",
    "\n"
   ]
  },
  {
   "cell_type": "code",
   "execution_count": null,
   "metadata": {},
   "outputs": [],
   "source": [
    "\n",
    "\n",
    "df = pd.read_csv('dummy.csv')\n",
    "\n"
   ]
  },
  {
   "cell_type": "code",
   "execution_count": null,
   "metadata": {},
   "outputs": [],
   "source": [
    "\n",
    "\n",
    "df[(df['Quantity']>80)]\n",
    "\n"
   ]
  },
  {
   "cell_type": "code",
   "execution_count": null,
   "metadata": {},
   "outputs": [],
   "source": [
    "\n",
    "\n",
    "df[(df['OrderCode']>444772)]\n",
    "\n"
   ]
  },
  {
   "cell_type": "code",
   "execution_count": null,
   "metadata": {},
   "outputs": [],
   "source": [
    "\n",
    "\n",
    "df[(df['Quantity']>80) & (df['OrderCode']>444772)]\n",
    "\n",
    "\n",
    "# # Indexing and Selecting Data\n",
    "# Indexing in pandas means simply selecting particular rows and columns of data from a DataFrame. Indexing could mean selecting all the rows and some of the columns, some of the rows and all of the columns, or some of each of the rows and columns. \n",
    "# Indexing is also known as Subset Selection.\n",
    "# \n",
    "# # Indexing a Dataframe using indexing operator [] :\n",
    "# Indexing operator is used to refer to the square brackets following an object. \n",
    "# \n"
   ]
  },
  {
   "cell_type": "code",
   "execution_count": null,
   "metadata": {},
   "outputs": [],
   "source": [
    "\n",
    "\n",
    "first=df[\"Status\"]\n",
    "first\n",
    "\n",
    "\n",
    "# # The .loc and .iloc indexers also use the indexing operator to make selections.\n",
    "# \n",
    "# df.loc\n",
    "# \n",
    "# This function is a property of DataFrame that returns the group of rows and columns identified by their labels(row number) or names.\n",
    "# \n",
    "# df.iloc\n",
    "# \n",
    "# This function is again the DataFrame property which returns the same output as df.loc, but uses row and column numbers instead of their labels.\n"
   ]
  },
  {
   "cell_type": "code",
   "execution_count": null,
   "metadata": {},
   "outputs": [],
   "source": [
    "\n",
    "\n",
    "df.loc[2:5] ## rows at index labels between 2 and 5 (inclusive)\n",
    "\n",
    "\n",
    "# # loc\n"
   ]
  },
  {
   "cell_type": "code",
   "execution_count": null,
   "metadata": {},
   "outputs": [],
   "source": [
    "\n",
    "\n",
    "df.loc[100,'Sales_Manager']\n",
    "\n"
   ]
  },
  {
   "cell_type": "code",
   "execution_count": null,
   "metadata": {},
   "outputs": [],
   "source": [
    "\n",
    "\n",
    "df.iloc[100,6]\n",
    "\n"
   ]
  },
  {
   "cell_type": "code",
   "execution_count": null,
   "metadata": {},
   "outputs": [],
   "source": [
    "\n",
    "\n",
    "df.loc[:, \"Quantity\"]\n",
    "\n",
    "\n",
    "#  # iloc\n"
   ]
  },
  {
   "cell_type": "code",
   "execution_count": null,
   "metadata": {},
   "outputs": [],
   "source": [
    "\n",
    "\n",
    "df.iloc[3,:]\n",
    "\n"
   ]
  },
  {
   "cell_type": "code",
   "execution_count": null,
   "metadata": {},
   "outputs": [],
   "source": [
    "\n",
    "\n",
    "df.iloc[2:5] ## rows at index location between 2 and 5 (exclusive)\n",
    "\n"
   ]
  },
  {
   "cell_type": "code",
   "execution_count": null,
   "metadata": {},
   "outputs": [],
   "source": [
    "\n",
    "\n",
    "df.iloc[100,6]\n",
    "\n"
   ]
  },
  {
   "cell_type": "code",
   "execution_count": null,
   "metadata": {},
   "outputs": [],
   "source": [
    "\n",
    "\n",
    "df.iloc[100,6]='abc'\n",
    "\n"
   ]
  },
  {
   "cell_type": "code",
   "execution_count": null,
   "metadata": {},
   "outputs": [],
   "source": [
    "\n",
    "\n",
    "df.iloc[100,6]\n",
    "\n"
   ]
  },
  {
   "cell_type": "code",
   "execution_count": null,
   "metadata": {},
   "outputs": [],
   "source": [
    "\n",
    "\n",
    "df.iloc[[100, 200],[6,3]]\n",
    "\n"
   ]
  },
  {
   "cell_type": "code",
   "execution_count": null,
   "metadata": {},
   "outputs": [],
   "source": [
    "\n",
    "\n",
    "df.iloc[2:5,3:7]\n",
    "\n",
    "\n",
    "# # Pandas Functions to get Deeper Insights into the Dataset\n",
    "# # df.unique()\n",
    "# This function returns the list of unique values in a column or series. Instead of applying on complete DataFrame, it works only on the selected single column.\n",
    "# \n"
   ]
  },
  {
   "cell_type": "code",
   "execution_count": null,
   "metadata": {},
   "outputs": [],
   "source": [
    "\n",
    "\n",
    "df[\"Sales_Manager\"].unique()\n",
    "\n",
    "\n",
    "# # df.nunique()\n",
    "# The nunique() method returns the number of unique values for each column.\n",
    "# \n",
    "# Pandas dataframe.nunique() function return dataframe with number of distinct observations over requested axis. \n",
    "# \n",
    "# If we set the value of axis to be 0, then it finds the total number of unique observations over the index axis. \n",
    "# \n",
    "# If we set the value of axis to be 1, then it find the total number of unique observations over the column axis.\n",
    "# \n",
    "# It also provides the feature to exclude the NaN values from the count of unique numbers.\n",
    "# \n",
    "# Syntax: \n",
    "# DataFrame.nunique(axis=0, dropna=True)\n",
    "# \n",
    "# Parameters :\n",
    "# axis : {0 or ‘index’, 1 or ‘columns’}, default 0\n",
    "# dropna : Don’t include NaN in the counts.\n"
   ]
  },
  {
   "cell_type": "code",
   "execution_count": null,
   "metadata": {},
   "outputs": [],
   "source": [
    "\n",
    "\n",
    "df1 = pd.DataFrame({\"A\":[14, 40, 15, 4, 1],\n",
    "                   \"B\":[5, 2, 54, 3, 2],\n",
    "                   \"C\":[20, 20, 7, 3, 8],\n",
    "                    \"D\":[14, 3, 6, 2, np.nan]})\n",
    "df1\n",
    "\n"
   ]
  },
  {
   "cell_type": "code",
   "execution_count": null,
   "metadata": {},
   "outputs": [],
   "source": [
    "\n",
    "\n",
    "df1.nunique() #same as df1.nunique(axis='index')  i.e. row or axis=0. Ignore Nan\n",
    "\n"
   ]
  },
  {
   "cell_type": "code",
   "execution_count": null,
   "metadata": {},
   "outputs": [],
   "source": [
    "\n",
    "\n",
    "df1.nunique(axis='index')\n",
    "\n"
   ]
  },
  {
   "cell_type": "code",
   "execution_count": null,
   "metadata": {},
   "outputs": [],
   "source": [
    "\n",
    "\n",
    "df1.nunique(axis='columns') #df1.nunique(axis = 1)\n",
    "\n"
   ]
  },
  {
   "cell_type": "code",
   "execution_count": null,
   "metadata": {},
   "outputs": [],
   "source": [
    "\n",
    "\n",
    "df1.nunique(axis='columns', dropna=False)  #count NaN also, don't ignore it\n",
    "\n",
    "\n",
    "# # Working with Missing Data\n",
    "\n",
    "# # df.isnull()\n",
    "# This function helps you to check in which row and which column your data has missing values.\n",
    "# df.isnull() returns output in Boolean form — in terms of True and False — for all the rows in all columns.\n",
    "# \n"
   ]
  },
  {
   "cell_type": "code",
   "execution_count": null,
   "metadata": {},
   "outputs": [],
   "source": [
    "\n",
    "\n",
    "df1.isnull()\n",
    "\n"
   ]
  },
  {
   "cell_type": "code",
   "execution_count": null,
   "metadata": {},
   "outputs": [],
   "source": [
    "\n",
    "\n",
    "df.isnull()\n",
    "\n",
    "\n",
    "# # to select a subset of df, where the Product Category is missing\n"
   ]
  },
  {
   "cell_type": "code",
   "execution_count": null,
   "metadata": {},
   "outputs": [],
   "source": [
    "\n",
    "\n",
    "df[\"Product_Category\"].isnull()\n",
    "\n"
   ]
  },
  {
   "cell_type": "code",
   "execution_count": null,
   "metadata": {},
   "outputs": [],
   "source": [
    "\n",
    "\n",
    "df2 = df[df[\"Product_Category\"].isnull()]\n",
    "df2\n",
    "\n"
   ]
  },
  {
   "cell_type": "code",
   "execution_count": null,
   "metadata": {},
   "outputs": [],
   "source": [
    "\n",
    "\n",
    "df2.info()\n",
    "\n",
    "\n",
    "# # df.notnull() :\n",
    "# notnull() function helps in checking whether a value is not Nan.\n",
    "# \n"
   ]
  },
  {
   "cell_type": "code",
   "execution_count": null,
   "metadata": {},
   "outputs": [],
   "source": [
    "\n",
    "\n",
    "df3 = df[df[\"Product_Category\"].notnull()]\n",
    "df3\n",
    "\n"
   ]
  },
  {
   "cell_type": "code",
   "execution_count": null,
   "metadata": {},
   "outputs": [],
   "source": [
    "\n",
    "\n",
    "df3.info()\n",
    "\n",
    "\n",
    "# # Filling missing values using fillna(), replace() and interpolate() \n",
    "# In order to fill null values in a datasets, we use fillna(), replace() and interpolate() function. These functions replace NaN values with some value of their own. All these functions help in filling a null values in datasets of a DataFrame. \n",
    "# Interpolate() function is basically used to fill NA values in the dataframe but it uses various interpolation technique to fill the missing values rather than hard-coding the value.\n",
    "# \n",
    "# ## fillna() - complete description is in ppt\n"
   ]
  },
  {
   "cell_type": "code",
   "execution_count": null,
   "metadata": {},
   "outputs": [],
   "source": [
    "\n",
    "\n",
    "df = pd.DataFrame([[np.nan, 3, np.nan, 0],\n",
    "                   [4, np.nan, np.nan, 2],\n",
    "                   [np.nan, np.nan, np.nan, 6],\n",
    "                   [5, 4, np.nan, 5]],\n",
    "                  columns=list('PQRS'))\n",
    "df\n",
    "\n"
   ]
  },
  {
   "cell_type": "code",
   "execution_count": null,
   "metadata": {},
   "outputs": [],
   "source": [
    "\n",
    "\n",
    "df.fillna(value=0)  # not in-place\n",
    "\n"
   ]
  },
  {
   "cell_type": "code",
   "execution_count": null,
   "metadata": {},
   "outputs": [],
   "source": [
    "\n",
    "\n",
    "df\n",
    "\n"
   ]
  },
  {
   "cell_type": "code",
   "execution_count": null,
   "metadata": {},
   "outputs": [],
   "source": [
    "\n",
    "\n",
    "df.fillna(method='bfill') #We can also propagate non-null values forward or backward:\n",
    "\n"
   ]
  },
  {
   "cell_type": "code",
   "execution_count": null,
   "metadata": {},
   "outputs": [],
   "source": [
    "\n",
    "\n",
    "df\n",
    "\n",
    "\n",
    "# # df.pad()\n",
    "# By using the DataFrame.pad() method, we can fill all null values or missing values in the DataFrame. It fills the missing values by using the ffill method of pandas\n"
   ]
  },
  {
   "cell_type": "code",
   "execution_count": null,
   "metadata": {},
   "outputs": [],
   "source": [
    "\n",
    "\n",
    "df.pad()\n",
    "\n"
   ]
  },
  {
   "cell_type": "code",
   "execution_count": null,
   "metadata": {},
   "outputs": [],
   "source": [
    "\n",
    "\n",
    "df\n",
    "\n"
   ]
  },
  {
   "cell_type": "code",
   "execution_count": null,
   "metadata": {},
   "outputs": [],
   "source": [
    "\n",
    "\n",
    "df.fillna(method='bfill')\n",
    "\n"
   ]
  },
  {
   "cell_type": "code",
   "execution_count": null,
   "metadata": {},
   "outputs": [],
   "source": [
    "\n",
    "\n",
    "df\n",
    "\n"
   ]
  },
  {
   "cell_type": "code",
   "execution_count": null,
   "metadata": {},
   "outputs": [],
   "source": [
    "\n",
    "\n",
    "values = {'P':0, 'Q':2, 'R':3, 'S':4}\n",
    "df.fillna(value=values)\n",
    "\n"
   ]
  },
  {
   "cell_type": "code",
   "execution_count": null,
   "metadata": {},
   "outputs": [],
   "source": [
    "\n",
    "\n",
    "df\n",
    "\n",
    "\n",
    "# Replace all NaN elements in column ‘P’, ‘Q’, ‘R’, and ‘S’, with 0, 2, 3, and 4 respectively. Only replace the first NaN element:\n"
   ]
  },
  {
   "cell_type": "code",
   "execution_count": null,
   "metadata": {},
   "outputs": [],
   "source": [
    "\n",
    "\n",
    "df.fillna(value=values, limit=1)\n",
    "\n"
   ]
  },
  {
   "cell_type": "code",
   "execution_count": null,
   "metadata": {},
   "outputs": [],
   "source": [
    "\n",
    "\n",
    "df\n",
    "\n"
   ]
  },
  {
   "cell_type": "code",
   "execution_count": null,
   "metadata": {},
   "outputs": [],
   "source": [
    "\n",
    "\n",
    "mean_value=df['Q'].mean()\n",
    "mean_value\n",
    "\n"
   ]
  },
  {
   "cell_type": "code",
   "execution_count": null,
   "metadata": {},
   "outputs": [],
   "source": [
    "\n",
    "\n",
    "df['Q'].fillna(value=mean_value, inplace=True)\n",
    "df\n",
    "\n",
    "\n",
    "# # Filling missing values using replace()  \n",
    "\n",
    "# Pandas dataframe.replace() function is used to replace a string, regex, list, dictionary, series, number, etc. \n",
    "# Every instance of the provided value is replaced after a thorough search of the full DataFrame.\n"
   ]
  },
  {
   "cell_type": "code",
   "execution_count": null,
   "metadata": {},
   "outputs": [],
   "source": [
    "\n",
    "\n",
    "df = pd.DataFrame({'A': [0, 1, 2, 3, 4],\n",
    "                   'B': [5, 6, 7, 8, 9],\n",
    "                   'C': ['a', 'b', 'c', 'd', 'e']})\n",
    "df\n",
    "\n"
   ]
  },
  {
   "cell_type": "code",
   "execution_count": null,
   "metadata": {},
   "outputs": [],
   "source": [
    "\n",
    "\n",
    "# Scalar `to_replace` and `value`\n",
    "\n"
   ]
  },
  {
   "cell_type": "code",
   "execution_count": null,
   "metadata": {},
   "outputs": [],
   "source": [
    "\n",
    "\n",
    "df.replace(0, 5)\n",
    "\n"
   ]
  },
  {
   "cell_type": "code",
   "execution_count": null,
   "metadata": {},
   "outputs": [],
   "source": [
    "\n",
    "\n",
    "df\n",
    "\n"
   ]
  },
  {
   "cell_type": "code",
   "execution_count": null,
   "metadata": {},
   "outputs": [],
   "source": [
    "\n",
    "\n",
    "df.replace(to_replace=0, value=5) #write keyword argument\n",
    "\n",
    "\n",
    "# # List-like `to_replace`\n"
   ]
  },
  {
   "cell_type": "code",
   "execution_count": null,
   "metadata": {},
   "outputs": [],
   "source": [
    "\n",
    "\n",
    "df.replace([0, 1, 2, 3,7], 4)\n",
    "\n"
   ]
  },
  {
   "cell_type": "code",
   "execution_count": null,
   "metadata": {},
   "outputs": [],
   "source": [
    "\n",
    "\n",
    "df\n",
    "\n"
   ]
  },
  {
   "cell_type": "code",
   "execution_count": null,
   "metadata": {},
   "outputs": [],
   "source": [
    "\n",
    "\n",
    "df.replace([5,6,7], [50, 60,70])\n",
    "\n"
   ]
  },
  {
   "cell_type": "code",
   "execution_count": null,
   "metadata": {},
   "outputs": [],
   "source": [
    "\n",
    "\n",
    "df\n",
    "\n"
   ]
  },
  {
   "cell_type": "code",
   "execution_count": null,
   "metadata": {},
   "outputs": [],
   "source": [
    "\n",
    "\n",
    "df.replace([5,7], method='bfill')\n",
    "\n",
    "\n",
    "# # dict-like `to_replace`\n"
   ]
  },
  {
   "cell_type": "code",
   "execution_count": null,
   "metadata": {},
   "outputs": [],
   "source": [
    "\n",
    "\n",
    "df\n",
    "\n"
   ]
  },
  {
   "cell_type": "code",
   "execution_count": null,
   "metadata": {},
   "outputs": [],
   "source": [
    "\n",
    "\n",
    "df.replace({5: 10, 6: 100})\n",
    "\n"
   ]
  },
  {
   "cell_type": "code",
   "execution_count": null,
   "metadata": {},
   "outputs": [],
   "source": [
    "\n",
    "\n",
    "df\n",
    "\n"
   ]
  },
  {
   "cell_type": "code",
   "execution_count": null,
   "metadata": {},
   "outputs": [],
   "source": [
    "\n",
    "\n",
    "df.replace({'A': 0, 'B': 5}, 100)\n",
    "\n"
   ]
  },
  {
   "cell_type": "code",
   "execution_count": null,
   "metadata": {},
   "outputs": [],
   "source": [
    "\n",
    "\n",
    "df\n",
    "\n"
   ]
  },
  {
   "cell_type": "code",
   "execution_count": null,
   "metadata": {},
   "outputs": [],
   "source": [
    "\n",
    "\n",
    "df.replace({'A': {0: 100, 4: 400}})\n",
    "\n",
    "\n",
    "# # Regular expression `to_replace`\n",
    "# ^ matches position just before the first character of the string\n",
    "# $ matches position just after the last character of the string\n",
    "# . matches a single character. Does not matter what character it is, except newline\n",
    "# * matches preceding match zero or more times\n",
    "# So, ^.*$ means - match, from beginning to end, any character that appears zero or more times. \n",
    "# Basically, that means - match everything from start to end of the string. \n"
   ]
  },
  {
   "cell_type": "code",
   "execution_count": null,
   "metadata": {},
   "outputs": [],
   "source": [
    "\n",
    "\n",
    "df = pd.DataFrame({'A': ['bat', 'cat', 'bait'],\n",
    "                   'B': ['abc', 'bar', 'xyz']})\n",
    "\n"
   ]
  },
  {
   "cell_type": "code",
   "execution_count": null,
   "metadata": {},
   "outputs": [],
   "source": [
    "\n",
    "\n",
    "df\n",
    "\n"
   ]
  },
  {
   "cell_type": "code",
   "execution_count": null,
   "metadata": {},
   "outputs": [],
   "source": [
    "\n",
    "\n",
    "df.replace(to_replace=r'^ba.$', value='new', regex=True)\n",
    "\n"
   ]
  },
  {
   "cell_type": "code",
   "execution_count": null,
   "metadata": {},
   "outputs": [],
   "source": [
    "\n",
    "\n",
    "df.replace(to_replace=r'^a..$', value='new', regex=True)\n",
    "\n",
    "\n",
    "# # Filling missing values using interpolate() \n",
    "\n",
    "# When to Use Interpolation?\n",
    "# We can use Interpolation to find missing value/null with the help of its neighbors. When imputing missing values with average does not fit best, we have to move to a different technique, and the technique is Interpolation.\n",
    "# \n",
    "# Interpolation is mostly used while working with time-series data because, in time-series data, we like to fill missing values with the previous one or two values. for example, suppose temperature, now we would always prefer to fill today’s temperature with the mean of the last 2 days, not with the mean of the month. \n",
    "\n",
    "# Linear Interpolation simply means to estimate a missing value by connecting dots in a straight line. In short, It estimates the unknown value in the same increasing order from previous values.\n",
    "# If the missing value is at the first index, then it will leave it as Nan.\n",
    "# The default method used by Interpolation is Linear.\n"
   ]
  },
  {
   "cell_type": "code",
   "execution_count": null,
   "metadata": {},
   "outputs": [],
   "source": [
    "\n",
    "\n",
    "df = pd.DataFrame({\"A\":[12, 4, 5, None, 1],\n",
    "                   \"B\":[None, 2, 54, 3, None],\n",
    "                   \"C\":[20, 16, None, 3, 8],\n",
    "                   \"D\":[14, 3, None, None, 6]})\n",
    "\n"
   ]
  },
  {
   "cell_type": "code",
   "execution_count": null,
   "metadata": {},
   "outputs": [],
   "source": [
    "\n",
    "\n",
    "df\n",
    "\n"
   ]
  },
  {
   "cell_type": "code",
   "execution_count": null,
   "metadata": {},
   "outputs": [],
   "source": [
    "\n",
    "\n",
    "df.interpolate(method ='linear', limit_direction ='forward')\n",
    "\n"
   ]
  },
  {
   "cell_type": "code",
   "execution_count": null,
   "metadata": {},
   "outputs": [],
   "source": [
    "\n",
    "\n",
    "df.interpolate(method ='linear')\n",
    "\n"
   ]
  },
  {
   "cell_type": "code",
   "execution_count": null,
   "metadata": {},
   "outputs": [],
   "source": [
    "\n",
    "\n",
    "Use interpolate() function to interpolate the missing values in the backward direction using linear method and putting a limit on maximum number of consecutive Na values that could be filled.\n",
    "\n"
   ]
  },
  {
   "cell_type": "code",
   "execution_count": null,
   "metadata": {},
   "outputs": [],
   "source": [
    "\n",
    "\n",
    "df = pd.DataFrame({\"A\":[12, 4, 5, None, 1],\n",
    "                   \"B\":[None, 2, 54, 3, None],\n",
    "                   \"C\":[20, 16, None, 3, 8],\n",
    "                   \"D\":[14, 3, None, None, 6]})\n",
    "df\n",
    "\n",
    "\n",
    "# df.interpolate(method ='linear', limit_direction ='backward')\n",
    "# #Notice the fourth column, only one missing value has been filled as we have put the limit to 1. \n",
    "# #The missing value in the last row could not get filled as no row exists after that from which the value could be interpolated.\n",
    "# \n",
    "\n",
    "# # Interpolation with padding:\n",
    "# Interpolation through padding means copying the value just before a missing entry. While using padding interpolation, you need to specify a limit. The limit is the maximum number of nans the method can fill consecutively. This is always in the forward direction only.\n"
   ]
  },
  {
   "cell_type": "code",
   "execution_count": null,
   "metadata": {},
   "outputs": [],
   "source": [
    "\n",
    "\n",
    "df\n",
    "\n"
   ]
  },
  {
   "cell_type": "code",
   "execution_count": null,
   "metadata": {},
   "outputs": [],
   "source": [
    "\n",
    "\n",
    "df.interpolate(method='pad')\n",
    "\n",
    "\n",
    "# # dropna()\n",
    "# drop rows with at least one Nan value. \n",
    "# If argument inplace is True, it does operation inplace and return None.\n",
    "# Refer- ppt\n"
   ]
  },
  {
   "cell_type": "code",
   "execution_count": null,
   "metadata": {},
   "outputs": [],
   "source": [
    "\n",
    "\n",
    "df = pd.DataFrame({\"name\": ['Anita', 'Babita', 'Sunita'],\n",
    "                   \"toy\": [np.nan, 'Bat', 'chess'],\n",
    "                   \"born\": [pd.NaT, pd.Timestamp(\"1999-04-25\"),\n",
    "                            pd.NaT]})\n",
    "\n"
   ]
  },
  {
   "cell_type": "code",
   "execution_count": null,
   "metadata": {},
   "outputs": [],
   "source": [
    "\n",
    "\n",
    "df\n",
    "\n"
   ]
  },
  {
   "cell_type": "code",
   "execution_count": null,
   "metadata": {},
   "outputs": [],
   "source": [
    "\n",
    "\n",
    "\n",
    "\n"
   ]
  },
  {
   "cell_type": "code",
   "execution_count": null,
   "metadata": {},
   "outputs": [],
   "source": [
    "\n",
    "\n",
    "\n",
    "\n"
   ]
  },
  {
   "cell_type": "code",
   "execution_count": null,
   "metadata": {},
   "outputs": [],
   "source": [
    "\n",
    "\n",
    "\n",
    "\n"
   ]
  },
  {
   "cell_type": "code",
   "execution_count": null,
   "metadata": {},
   "outputs": [],
   "source": [
    "\n",
    "\n",
    "\n",
    "\n"
   ]
  },
  {
   "cell_type": "code",
   "execution_count": null,
   "metadata": {},
   "outputs": [],
   "source": [
    "\n",
    "\n",
    "\n",
    "\n"
   ]
  },
  {
   "cell_type": "code",
   "execution_count": null,
   "metadata": {},
   "outputs": [],
   "source": [
    "\n",
    "\n",
    "\n",
    "\n"
   ]
  },
  {
   "cell_type": "code",
   "execution_count": null,
   "metadata": {},
   "outputs": [],
   "source": [
    "\n",
    "\n",
    "\n",
    "\n"
   ]
  },
  {
   "cell_type": "code",
   "execution_count": null,
   "metadata": {},
   "outputs": [],
   "source": [
    "\n",
    "\n",
    "\n",
    "\n"
   ]
  },
  {
   "cell_type": "code",
   "execution_count": null,
   "metadata": {},
   "outputs": [],
   "source": [
    "\n",
    "\n",
    "\n",
    "\n"
   ]
  },
  {
   "cell_type": "code",
   "execution_count": null,
   "metadata": {},
   "outputs": [],
   "source": [
    "\n",
    "\n",
    "\n",
    "\n"
   ]
  },
  {
   "cell_type": "code",
   "execution_count": null,
   "metadata": {},
   "outputs": [],
   "source": [
    "\n",
    "\n",
    "\n",
    "\n"
   ]
  },
  {
   "cell_type": "code",
   "execution_count": null,
   "metadata": {},
   "outputs": [],
   "source": [
    "\n",
    "\n",
    "\n",
    "\n"
   ]
  },
  {
   "cell_type": "code",
   "execution_count": null,
   "metadata": {},
   "outputs": [],
   "source": [
    "\n",
    "\n",
    "\n",
    "\n"
   ]
  },
  {
   "cell_type": "code",
   "execution_count": null,
   "metadata": {},
   "outputs": [],
   "source": [
    "\n",
    "\n",
    "\n",
    "\n"
   ]
  }
 ],
 "metadata": {
  "kernelspec": {
   "display_name": "Python 3 (ipykernel)",
   "language": "python",
   "name": "python3"
  },
  "language_info": {
   "codemirror_mode": {
    "name": "ipython",
    "version": 3
   },
   "file_extension": ".py",
   "mimetype": "text/x-python",
   "name": "python",
   "nbconvert_exporter": "python",
   "pygments_lexer": "ipython3",
   "version": "3.12.1"
  }
 },
 "nbformat": 4,
 "nbformat_minor": 4
}
