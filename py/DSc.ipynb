{
 "cells": [
  {
   "cell_type": "markdown",
   "id": "c096a43a-a160-47ff-adb2-9b5f4e84929d",
   "metadata": {},
   "source": [
    "# Initialisation"
   ]
  },
  {
   "cell_type": "code",
   "execution_count": 1,
   "id": "8d7ddece-5668-4422-bd1e-61294f368416",
   "metadata": {},
   "outputs": [],
   "source": [
    "import pandas as pd\n",
    "import numpy  as np\n",
    "from IPython.display import HTML, Markdown, Latex\n",
    "\n",
    "\n",
    "def display_df(tp_df=None, index=False):\n",
    "    tp_df = tp_df if tp_df is not None else df\n",
    "    display(Markdown(tp_df.to_markdown(index=index)))"
   ]
  },
  {
   "cell_type": "markdown",
   "id": "f8fefd71-bcbd-45e9-ade5-7317089131de",
   "metadata": {},
   "source": [
    "<br><br><br>"
   ]
  },
  {
   "cell_type": "markdown",
   "id": "9d515062-c3ab-491a-b0e0-6b33243c6c3a",
   "metadata": {},
   "source": [
    "# 15/02/24\n",
    "\n",
    "Given a dataset, print the following:\n",
    "\n",
    "1) Records of index 1 & 3\n",
    "2) Records where age >= 15\n",
    "3) Records where age >= 12 and gender = Male\n",
    "4) City and gender of people with age >= 12"
   ]
  },
  {
   "cell_type": "code",
   "execution_count": 2,
   "id": "aa4e5181-592c-4bd8-a08c-07409ff06206",
   "metadata": {},
   "outputs": [
    {
     "name": "stdout",
     "output_type": "stream",
     "text": [
      "\n",
      "Original data:\n"
     ]
    },
    {
     "data": {
      "text/markdown": [
       "|   age | section   | city    | gender   | favorite_color   |\n",
       "|------:|:----------|:--------|:---------|:-----------------|\n",
       "|    10 | A         | Gurgaon | M        | red              |\n",
       "|    22 | B         | Delhi   | F        | black            |\n",
       "|    13 | C         | Mumbai  | F        | yellow           |\n",
       "|    21 | B         | Delhi   | M        | pink             |\n",
       "|    12 | B         | Mumbai  | M        | black            |\n",
       "|    11 | A         | Delhi   | M        | green            |\n",
       "|    17 | A         | Mumbai  | F        | red              |"
      ],
      "text/plain": [
       "<IPython.core.display.Markdown object>"
      ]
     },
     "metadata": {},
     "output_type": "display_data"
    },
    {
     "name": "stdout",
     "output_type": "stream",
     "text": [
      "\n",
      "1) Records of index 1 & 3\n"
     ]
    },
    {
     "data": {
      "text/markdown": [
       "|   age | section   | city   | gender   | favorite_color   |\n",
       "|------:|:----------|:-------|:---------|:-----------------|\n",
       "|    22 | B         | Delhi  | F        | black            |\n",
       "|    21 | B         | Delhi  | M        | pink             |"
      ],
      "text/plain": [
       "<IPython.core.display.Markdown object>"
      ]
     },
     "metadata": {},
     "output_type": "display_data"
    },
    {
     "name": "stdout",
     "output_type": "stream",
     "text": [
      "\n",
      "2) Records where age >= 15:\n"
     ]
    },
    {
     "data": {
      "text/markdown": [
       "|   age | section   | city   | gender   | favorite_color   |\n",
       "|------:|:----------|:-------|:---------|:-----------------|\n",
       "|    22 | B         | Delhi  | F        | black            |\n",
       "|    21 | B         | Delhi  | M        | pink             |\n",
       "|    17 | A         | Mumbai | F        | red              |"
      ],
      "text/plain": [
       "<IPython.core.display.Markdown object>"
      ]
     },
     "metadata": {},
     "output_type": "display_data"
    },
    {
     "name": "stdout",
     "output_type": "stream",
     "text": [
      "\n",
      "3) Records where age >= 12 and gender = Male:\n"
     ]
    },
    {
     "data": {
      "text/markdown": [
       "|   age | section   | city   | gender   | favorite_color   |\n",
       "|------:|:----------|:-------|:---------|:-----------------|\n",
       "|    21 | B         | Delhi  | M        | pink             |\n",
       "|    12 | B         | Mumbai | M        | black            |"
      ],
      "text/plain": [
       "<IPython.core.display.Markdown object>"
      ]
     },
     "metadata": {},
     "output_type": "display_data"
    },
    {
     "name": "stdout",
     "output_type": "stream",
     "text": [
      "\n",
      "4) City and gender of people with age >= 12:\n"
     ]
    },
    {
     "data": {
      "text/markdown": [
       "| city   | gender   |\n",
       "|:-------|:---------|\n",
       "| Delhi  | F        |\n",
       "| Mumbai | F        |\n",
       "| Delhi  | M        |\n",
       "| Mumbai | M        |\n",
       "| Mumbai | F        |"
      ],
      "text/plain": [
       "<IPython.core.display.Markdown object>"
      ]
     },
     "metadata": {},
     "output_type": "display_data"
    }
   ],
   "source": [
    "data = {\n",
    "    'age':            [10,22,13,21,12,11,17],\n",
    "    'section':        ['A','B','C','B','B','A','A'],\n",
    "    'city':           ['Gurgaon','Delhi','Mumbai','Delhi','Mumbai','Delhi','Mumbai'],\n",
    "    'gender':         ['M','F','F','M','M','M','F'],\n",
    "    'favorite_color': ['red','black','yellow','pink','black','green','red']   \n",
    "}\n",
    "df = pd.DataFrame(data)\n",
    "\n",
    "print('\\nOriginal data:')\n",
    "display_df()\n",
    "\n",
    "print('\\n1) Records of index 1 & 3')\n",
    "display_df( df.iloc[ [1,3] , : ] )\n",
    "\n",
    "print('\\n2) Records where age >= 15:')\n",
    "display_df( df.query('age >= 15') )\n",
    "\n",
    "print('\\n3) Records where age >= 12 and gender = Male:')\n",
    "display_df( df.query('age >= 12 and gender == \"M\"') )\n",
    "\n",
    "print('\\n4) City and gender of people with age >= 12:')\n",
    "display_df( df.query('age >= 12')[['city','gender']] )"
   ]
  },
  {
   "cell_type": "markdown",
   "id": "1800854b-c7e2-49d1-b153-c6ef3c5d55f8",
   "metadata": {},
   "source": [
    "<br><br><br>"
   ]
  },
  {
   "cell_type": "markdown",
   "id": "6bdea1a0-1a91-47d3-b311-5089d1aeb04b",
   "metadata": {},
   "source": [
    "# 22/02/24\n",
    "\n",
    "Create a dataframe to store data of 10 students, with the columns being \"Name\", \"Age\", \"Semester I marks out of 600\", \"Semester II marks out of 500\", and \"Attendance\"\n",
    "\n",
    "1) Display details of students who scored more than 560 marks in sem I\n",
    "2) Display details of students who scored less than 250 marks in sem II\n",
    "3) Display details of student who scored minimum marks in sem II\n",
    "4) Display details of student who scored maximum marks in sem II\n",
    "5) Display details of students whose attendance is more than 75\n",
    "6) Display details of students whose attendance is less than 50\n",
    "7) Insert 2 new records\n",
    "8) Add a column corresponding to percentage of marks of both semesters\n",
    "9) Add a new column corresponding to grades:\n",
    "\n",
    "| Percentage   | Grade |\n",
    "| ------------ | ----- |\n",
    "| >=90         | O     |\n",
    "| >=75 and <90 | A+    |\n",
    "| >=60 and <75 | A     |\n",
    "| >=50 and <60 | B+    |\n",
    "| >=40 and <50 | B     |\n",
    "| >40          | F     |"
   ]
  },
  {
   "cell_type": "code",
   "execution_count": 1,
   "id": "f7d50119-a928-40af-9ce8-e8a97f497529",
   "metadata": {},
   "outputs": [
    {
     "ename": "NameError",
     "evalue": "name 'pd' is not defined",
     "output_type": "error",
     "traceback": [
      "\u001b[0;31m---------------------------------------------------------------------------\u001b[0m",
      "\u001b[0;31mNameError\u001b[0m                                 Traceback (most recent call last)",
      "Cell \u001b[0;32mIn[1], line 8\u001b[0m\n\u001b[1;32m      1\u001b[0m data \u001b[38;5;241m=\u001b[39m {\n\u001b[1;32m      2\u001b[0m     \u001b[38;5;124m'\u001b[39m\u001b[38;5;124mName\u001b[39m\u001b[38;5;124m'\u001b[39m:                         [\u001b[38;5;124m'\u001b[39m\u001b[38;5;124mA\u001b[39m\u001b[38;5;124m'\u001b[39m, \u001b[38;5;124m'\u001b[39m\u001b[38;5;124mB\u001b[39m\u001b[38;5;124m'\u001b[39m, \u001b[38;5;124m'\u001b[39m\u001b[38;5;124mC\u001b[39m\u001b[38;5;124m'\u001b[39m, \u001b[38;5;124m'\u001b[39m\u001b[38;5;124mD\u001b[39m\u001b[38;5;124m'\u001b[39m, \u001b[38;5;124m'\u001b[39m\u001b[38;5;124mE\u001b[39m\u001b[38;5;124m'\u001b[39m, \u001b[38;5;124m'\u001b[39m\u001b[38;5;124mF\u001b[39m\u001b[38;5;124m'\u001b[39m, \u001b[38;5;124m'\u001b[39m\u001b[38;5;124mG\u001b[39m\u001b[38;5;124m'\u001b[39m, \u001b[38;5;124m'\u001b[39m\u001b[38;5;124mH\u001b[39m\u001b[38;5;124m'\u001b[39m, \u001b[38;5;124m'\u001b[39m\u001b[38;5;124mI\u001b[39m\u001b[38;5;124m'\u001b[39m, \u001b[38;5;124m'\u001b[39m\u001b[38;5;124mJ\u001b[39m\u001b[38;5;124m'\u001b[39m],\n\u001b[1;32m      3\u001b[0m     \u001b[38;5;124m'\u001b[39m\u001b[38;5;124mAge\u001b[39m\u001b[38;5;124m'\u001b[39m:                          [\u001b[38;5;241m20\u001b[39m, \u001b[38;5;241m21\u001b[39m, \u001b[38;5;241m20\u001b[39m, \u001b[38;5;241m22\u001b[39m, \u001b[38;5;241m23\u001b[39m, \u001b[38;5;241m20\u001b[39m, \u001b[38;5;241m21\u001b[39m, \u001b[38;5;241m22\u001b[39m, \u001b[38;5;241m20\u001b[39m, \u001b[38;5;241m21\u001b[39m],\n\u001b[0;32m   (...)\u001b[0m\n\u001b[1;32m      6\u001b[0m     \u001b[38;5;124m'\u001b[39m\u001b[38;5;124mAttendance\u001b[39m\u001b[38;5;124m'\u001b[39m:                   [\u001b[38;5;241m76\u001b[39m, \u001b[38;5;241m26\u001b[39m, \u001b[38;5;241m53\u001b[39m, \u001b[38;5;241m32\u001b[39m, \u001b[38;5;241m50\u001b[39m, \u001b[38;5;241m67\u001b[39m, \u001b[38;5;241m92\u001b[39m, \u001b[38;5;241m62\u001b[39m, \u001b[38;5;241m44\u001b[39m, \u001b[38;5;241m85\u001b[39m]\n\u001b[1;32m      7\u001b[0m }\n\u001b[0;32m----> 8\u001b[0m df \u001b[38;5;241m=\u001b[39m \u001b[43mpd\u001b[49m\u001b[38;5;241m.\u001b[39mDataFrame(data)\n\u001b[1;32m     10\u001b[0m \u001b[38;5;28mprint\u001b[39m(\u001b[38;5;124m'\u001b[39m\u001b[38;5;130;01m\\n\u001b[39;00m\u001b[38;5;124mOriginal data:\u001b[39m\u001b[38;5;124m'\u001b[39m)\n\u001b[1;32m     11\u001b[0m display_df()\n",
      "\u001b[0;31mNameError\u001b[0m: name 'pd' is not defined"
     ]
    }
   ],
   "source": [
    "data = {\n",
    "    'Name':                         ['A', 'B', 'C', 'D', 'E', 'F', 'G', 'H', 'I', 'J'],\n",
    "    'Age':                          [20, 21, 20, 22, 23, 20, 21, 22, 20, 21],\n",
    "    'Semester I marks out of 600':  [213, 31, 57, 406, 417, 45, 217, 200, 588, 319],\n",
    "    'Semester II marks out of 500': [198, 378, 133, 450, 283, 485, 193, 283, 236, 191],\n",
    "    'Attendance':                   [76, 26, 53, 32, 50, 67, 92, 62, 44, 85]\n",
    "}\n",
    "df = pd.DataFrame(data)\n",
    "\n",
    "print('\\nOriginal data:')\n",
    "display_df()\n",
    "\n",
    "print('\\n1) Students who scored more than 560 marks in sem I:')\n",
    "ans = df.query('`Semester I marks out of 600` > 560')\n",
    "display_df(ans, index=True)\n",
    "\n",
    "print('\\n2) Students who scored less than 250 marks in sem II:')\n",
    "ans = df.query('`Semester II marks out of 500` < 250')\n",
    "display_df(ans, index=True)\n",
    "\n",
    "print('\\n3) Student who scored minimum marks in sem II:')\n",
    "min_marks = min(df['Semester II marks out of 500'])\n",
    "ans       = df.query('`Semester II marks out of 500` == @min_marks')\n",
    "display_df( ans , index=True )\n",
    "\n",
    "print('\\n4) Student who scored maximum marks in sem II:')\n",
    "ans = df.sort_values(by='Semester II marks out of 500',ascending=False).head(1)\n",
    "display_df(ans, index=True)\n",
    "\n",
    "print('\\n5) Students whose attendance is more than 75:')\n",
    "ans = df.query('Attendance > 75')\n",
    "display_df(ans, index=True)\n",
    "\n",
    "print('\\n6) Students whose attendance is less than 50:')\n",
    "ans = df.query('Attendance < 50')\n",
    "display_df(ans, index=True)\n",
    "\n",
    "print('\\n7) Inserted two new records:')\n",
    "new_data = {\n",
    "    'Name':                         ['K', 'L'],\n",
    "    'Age':                          [22,  23],\n",
    "    'Semester I marks out of 600':  [300, 400],\n",
    "    'Semester II marks out of 500': [400, 300],\n",
    "    'Attendance':                   [80,  40]\n",
    "}\n",
    "new_df = pd.DataFrame(new_data)\n",
    "df     = pd.concat([df,new_df], ignore_index=True)\n",
    "display_df(index=True)\n",
    "\n",
    "print('\\n8) Added the percentage column:')\n",
    "df['Percentage'] = (df['Semester I marks out of 600'] + df['Semester II marks out of 500']) / 11\n",
    "df['Percentage'] = df['Percentage'].apply(lambda x: round(x,2))\n",
    "display_df()\n",
    "\n",
    "print('\\n9) Added the grade column:')\n",
    "def get_grade(x: float):\n",
    "    if   x >= 90: return 'O'\n",
    "    elif x >= 75: return 'A+'\n",
    "    elif x >= 60: return 'A'\n",
    "    elif x >= 50: return 'B+'\n",
    "    elif x >= 40: return 'B'\n",
    "    else:         return 'F'\n",
    "df['Grade'] = df['Percentage'].apply(get_grade)\n",
    "display_df()"
   ]
  },
  {
   "cell_type": "markdown",
   "id": "f415ca4d-91cc-426c-9139-1b2ebf07b2f0",
   "metadata": {},
   "source": [
    "<br><br><br>"
   ]
  },
  {
   "cell_type": "markdown",
   "id": "4cc08739-b728-484a-afc5-eed5a607ec7f",
   "metadata": {},
   "source": [
    "# 29/02/24\n",
    "\n",
    "1. Create a DataFrame based on E-Commerce data and generate mean, mode, and median\n",
    "2. Write a program to implement pivot() and pivot-table() on a DataFrame\n",
    "3. Write a Program to read a CSV file and create its DataFrame\n",
    "4. Consider the DataFrame QtrSales where each row contains the item category, item name and expenditure and group the rows by category, and print the average expenditure per category\n",
    "5. Create a DataFrame having age, name, weight of five students. Write a program to display only the weight of first and fourth rows\n",
    "6. Write a program to create a DataFrame to store weight, age and name of three people. Print the DataFrame and its transpose"
   ]
  },
  {
   "cell_type": "code",
   "execution_count": 4,
   "id": "d880f724-973a-4155-802a-6a9793d55c29",
   "metadata": {},
   "outputs": [
    {
     "name": "stdout",
     "output_type": "stream",
     "text": [
      "\n",
      "\n",
      "\n",
      "1.1) Original dataframe:\n"
     ]
    },
    {
     "data": {
      "text/markdown": [
       "|   Order_ID |   Price |   Quantity |\n",
       "|-----------:|--------:|-----------:|\n",
       "|        101 |      50 |          2 |\n",
       "|        102 |      20 |          3 |\n",
       "|        103 |      40 |          1 |\n",
       "|        104 |      50 |          2 |\n",
       "|        105 |      45 |          1 |"
      ],
      "text/plain": [
       "<IPython.core.display.Markdown object>"
      ]
     },
     "metadata": {},
     "output_type": "display_data"
    },
    {
     "name": "stdout",
     "output_type": "stream",
     "text": [
      "\n",
      "1.2) Means: \n"
     ]
    },
    {
     "data": {
      "text/markdown": [
       "|          |    0 |\n",
       "|:---------|-----:|\n",
       "| Price    | 41   |\n",
       "| Quantity |  1.8 |"
      ],
      "text/plain": [
       "<IPython.core.display.Markdown object>"
      ]
     },
     "metadata": {},
     "output_type": "display_data"
    },
    {
     "name": "stdout",
     "output_type": "stream",
     "text": [
      "\n",
      "1.3) Modes: \n"
     ]
    },
    {
     "data": {
      "text/markdown": [
       "|    |   Price |   Quantity |\n",
       "|---:|--------:|-----------:|\n",
       "|  0 |      50 |          1 |\n",
       "|  1 |     nan |          2 |"
      ],
      "text/plain": [
       "<IPython.core.display.Markdown object>"
      ]
     },
     "metadata": {},
     "output_type": "display_data"
    },
    {
     "name": "stdout",
     "output_type": "stream",
     "text": [
      "\n",
      "1.4) Medians: \n"
     ]
    },
    {
     "data": {
      "text/markdown": [
       "|          |   0 |\n",
       "|:---------|----:|\n",
       "| Price    |  45 |\n",
       "| Quantity |   2 |"
      ],
      "text/plain": [
       "<IPython.core.display.Markdown object>"
      ]
     },
     "metadata": {},
     "output_type": "display_data"
    },
    {
     "name": "stdout",
     "output_type": "stream",
     "text": [
      "\n",
      "\n",
      "\n",
      "2.1) Dataframe for pivot(): \n"
     ]
    },
    {
     "data": {
      "text/markdown": [
       "| Day       | City   |   Temperature |\n",
       "|:----------|:-------|--------------:|\n",
       "| Monday    | Delhi  |            32 |\n",
       "| Monday    | Mumbai |            34 |\n",
       "| Tuesday   | Delhi  |            33 |\n",
       "| Tuesday   | Mumbai |            35 |\n",
       "| Wednesday | Delhi  |            34 |\n",
       "| Wednesday | Mumbai |            36 |"
      ],
      "text/plain": [
       "<IPython.core.display.Markdown object>"
      ]
     },
     "metadata": {},
     "output_type": "display_data"
    },
    {
     "name": "stdout",
     "output_type": "stream",
     "text": [
      "\n",
      "2.2) pivot(): \n"
     ]
    },
    {
     "data": {
      "text/markdown": [
       "| Day       |   Delhi |   Mumbai |\n",
       "|:----------|--------:|---------:|\n",
       "| Monday    |      32 |       34 |\n",
       "| Tuesday   |      33 |       35 |\n",
       "| Wednesday |      34 |       36 |"
      ],
      "text/plain": [
       "<IPython.core.display.Markdown object>"
      ]
     },
     "metadata": {},
     "output_type": "display_data"
    },
    {
     "name": "stdout",
     "output_type": "stream",
     "text": [
      "\n",
      "2.3) Dataframe for pivot_table(): \n"
     ]
    },
    {
     "data": {
      "text/markdown": [
       "| Day     | City   |   Temperature |\n",
       "|:--------|:-------|--------------:|\n",
       "| Monday  | Delhi  |            32 |\n",
       "| Monday  | Delhi  |            33 |\n",
       "| Monday  | Mumbai |            36 |\n",
       "| Tuesday | Delhi  |            33 |\n",
       "| Tuesday | Mumbai |            36 |\n",
       "| Tuesday | Mumbai |            37 |"
      ],
      "text/plain": [
       "<IPython.core.display.Markdown object>"
      ]
     },
     "metadata": {},
     "output_type": "display_data"
    },
    {
     "name": "stdout",
     "output_type": "stream",
     "text": [
      "\n",
      "2.4) pivot_table(): \n"
     ]
    },
    {
     "data": {
      "text/markdown": [
       "| Day     |   Delhi |   Mumbai |\n",
       "|:--------|--------:|---------:|\n",
       "| Monday  |       2 |        1 |\n",
       "| Tuesday |       1 |        2 |"
      ],
      "text/plain": [
       "<IPython.core.display.Markdown object>"
      ]
     },
     "metadata": {},
     "output_type": "display_data"
    },
    {
     "name": "stdout",
     "output_type": "stream",
     "text": [
      "\n",
      "\n",
      "\n",
      "3.1) Contents of data.csv:\n",
      "Name,Age,Gender\n",
      "Ram,16,M\n",
      "Manish,18,M\n",
      "Sahil,15,M\n",
      "Amrit,20,F\n",
      "Mark,19,M\n",
      "\n",
      "\n",
      "3.2) Dataframe:\n"
     ]
    },
    {
     "data": {
      "text/markdown": [
       "| Name   |   Age | Gender   |\n",
       "|:-------|------:|:---------|\n",
       "| Ram    |    16 | M        |\n",
       "| Manish |    18 | M        |\n",
       "| Sahil  |    15 | M        |\n",
       "| Amrit  |    20 | F        |\n",
       "| Mark   |    19 | M        |"
      ],
      "text/plain": [
       "<IPython.core.display.Markdown object>"
      ]
     },
     "metadata": {},
     "output_type": "display_data"
    },
    {
     "name": "stdout",
     "output_type": "stream",
     "text": [
      "\n",
      "\n",
      "\n",
      "4.1) Original dataframe:\n"
     ]
    },
    {
     "data": {
      "text/markdown": [
       "| category    | item_name   |   expenditure |\n",
       "|:------------|:------------|--------------:|\n",
       "| Electronics | Laptop      |          1200 |\n",
       "| Electronics | Headphones  |           100 |\n",
       "| Fashion     | T-Shirt     |            31 |\n",
       "| Fashion     | Jeans       |            50 |\n",
       "| Electronics | Smartphone  |           800 |\n",
       "| Fashion     | Shoes       |            60 |"
      ],
      "text/plain": [
       "<IPython.core.display.Markdown object>"
      ]
     },
     "metadata": {},
     "output_type": "display_data"
    },
    {
     "name": "stdout",
     "output_type": "stream",
     "text": [
      "\n",
      "4.2) Average expenditure per category:\n"
     ]
    },
    {
     "data": {
      "text/markdown": [
       "| category    |   expenditure |\n",
       "|:------------|--------------:|\n",
       "| Electronics |           700 |\n",
       "| Fashion     |            47 |"
      ],
      "text/plain": [
       "<IPython.core.display.Markdown object>"
      ]
     },
     "metadata": {},
     "output_type": "display_data"
    },
    {
     "name": "stdout",
     "output_type": "stream",
     "text": [
      "\n",
      "\n",
      "\n",
      "5.1) Original dataframe:\n"
     ]
    },
    {
     "data": {
      "text/markdown": [
       "|    | name    |   age |   weight |\n",
       "|---:|:--------|------:|---------:|\n",
       "|  0 | John    |    20 |       70 |\n",
       "|  1 | Emma    |    21 |       65 |\n",
       "|  2 | Michael |    22 |       75 |\n",
       "|  3 | Sophia  |    20 |       68 |\n",
       "|  4 | William |    23 |       72 |"
      ],
      "text/plain": [
       "<IPython.core.display.Markdown object>"
      ]
     },
     "metadata": {},
     "output_type": "display_data"
    },
    {
     "name": "stdout",
     "output_type": "stream",
     "text": [
      "\n",
      "5.2) Weight of the first and fourth rows:\n"
     ]
    },
    {
     "data": {
      "text/markdown": [
       "|    |   weight |\n",
       "|---:|---------:|\n",
       "|  0 |       70 |\n",
       "|  3 |       68 |"
      ],
      "text/plain": [
       "<IPython.core.display.Markdown object>"
      ]
     },
     "metadata": {},
     "output_type": "display_data"
    },
    {
     "name": "stdout",
     "output_type": "stream",
     "text": [
      "\n",
      "\n",
      "\n",
      "6.1) Original dataframe:\n"
     ]
    },
    {
     "data": {
      "text/markdown": [
       "|    | name    |   age |   weight |\n",
       "|---:|:--------|------:|---------:|\n",
       "|  0 | John    |    20 |       70 |\n",
       "|  1 | Emma    |    21 |       65 |\n",
       "|  2 | Michael |    22 |       75 |\n",
       "|  3 | Sophia  |    20 |       68 |\n",
       "|  4 | William |    23 |       72 |"
      ],
      "text/plain": [
       "<IPython.core.display.Markdown object>"
      ]
     },
     "metadata": {},
     "output_type": "display_data"
    },
    {
     "name": "stdout",
     "output_type": "stream",
     "text": [
      "\n",
      "6.2) Transpose of the dataframe:\n"
     ]
    },
    {
     "data": {
      "text/markdown": [
       "|        | 0    | 1    | 2       | 3      | 4       |\n",
       "|:-------|:-----|:-----|:--------|:-------|:--------|\n",
       "| name   | John | Emma | Michael | Sophia | William |\n",
       "| age    | 20   | 21   | 22      | 20     | 23      |\n",
       "| weight | 70   | 65   | 75      | 68     | 72      |"
      ],
      "text/plain": [
       "<IPython.core.display.Markdown object>"
      ]
     },
     "metadata": {},
     "output_type": "display_data"
    }
   ],
   "source": [
    "# 1\n",
    "data = {\n",
    "    'Order_ID':     ['101', '102', '103', '104', '105'],\n",
    "    'Price':        [50, 20, 40, 50, 45],\n",
    "    'Quantity':     [2, 3, 1, 2, 1]\n",
    "}\n",
    "df = pd.DataFrame(data)\n",
    "print('\\n\\n\\n1.1) Original dataframe:')\n",
    "display_df(df)\n",
    "\n",
    "mean_df   = df.mean(numeric_only=True)\n",
    "mode_df   = df.mode(numeric_only=True)\n",
    "median_df = df.median(numeric_only=True)\n",
    "\n",
    "print('\\n1.2) Means: ')\n",
    "display_df(mean_df, index=True)\n",
    "print('\\n1.3) Modes: ')\n",
    "display_df(mode_df, index=True)\n",
    "print('\\n1.4) Medians: ')\n",
    "display_df(median_df, index=True)\n",
    "\n",
    "\n",
    "\n",
    "# 2\n",
    "data = {\n",
    "    'Day':         ['Monday', 'Monday', 'Tuesday', 'Tuesday', 'Wednesday', 'Wednesday'],\n",
    "    'City':        ['Delhi', 'Mumbai', 'Delhi', 'Mumbai', 'Delhi', 'Mumbai'],\n",
    "    'Temperature': [32, 34, 33, 35, 34, 36],\n",
    "}\n",
    "df = pd.DataFrame(data)\n",
    "print('\\n\\n\\n2.1) Dataframe for pivot(): ')\n",
    "display_df(df)\n",
    "\n",
    "pivot_df = df.pivot(index='Day', columns='City', values='Temperature')\n",
    "print('\\n2.2) pivot(): ')\n",
    "display_df(pivot_df, index=True)\n",
    "\n",
    "data = {\n",
    "    'Day':         ['Monday', 'Monday', 'Monday', 'Tuesday', 'Tuesday', 'Tuesday'],\n",
    "    'City':        ['Delhi', 'Delhi', 'Mumbai', 'Delhi', 'Mumbai', 'Mumbai'],\n",
    "    'Temperature': [32, 33, 36, 33, 36, 37],\n",
    "}\n",
    "df = pd.DataFrame(data)\n",
    "print('\\n2.3) Dataframe for pivot_table(): ')\n",
    "display_df(df)\n",
    "\n",
    "pivot_table_df = df.pivot_table(index='Day', columns='City', values='Temperature', aggfunc='count')\n",
    "print('\\n2.4) pivot_table(): ')\n",
    "display_df(pivot_table_df, index=True)\n",
    "\n",
    "\n",
    "\n",
    "# 3\n",
    "filename = 'data.csv'\n",
    "print(f'\\n\\n\\n3.1) Contents of {filename}:')\n",
    "with open(filename) as f:\n",
    "    print(f.read())\n",
    "\n",
    "df = pd.read_csv(filename)\n",
    "print('\\n3.2) Dataframe:')\n",
    "display_df(df)\n",
    "\n",
    "\n",
    "\n",
    "# 4\n",
    "QtrSales = pd.DataFrame({\n",
    "    'category':    ['Electronics', 'Electronics', 'Fashion', 'Fashion', 'Electronics', 'Fashion'],\n",
    "    'item_name':   ['Laptop', 'Headphones', 'T-Shirt', 'Jeans', 'Smartphone', 'Shoes'],\n",
    "    'expenditure': [1200, 100, 31, 50, 800, 60]\n",
    "})\n",
    "print('\\n\\n\\n4.1) Original dataframe:')\n",
    "display_df(QtrSales)\n",
    "\n",
    "grouped = QtrSales.groupby(by='category')['expenditure']\n",
    "mean_df = grouped.mean()\n",
    "print('\\n4.2) Average expenditure per category:')\n",
    "display_df(mean_df, index=True)\n",
    "\n",
    "\n",
    "\n",
    "# 5\n",
    "data = {\n",
    "    'name':   ['John', 'Emma', 'Michael', 'Sophia', 'William'],\n",
    "    'age':    [20, 21, 22, 20, 23],\n",
    "    'weight': [70, 65, 75, 68, 72]\n",
    "}\n",
    "df = pd.DataFrame(data)\n",
    "print('\\n\\n\\n5.1) Original dataframe:')\n",
    "display_df(df, index=True)\n",
    "\n",
    "weight_df = df.loc[ [0,3] , ['weight'] ]\n",
    "print('\\n5.2) Weight of the first and fourth rows:')\n",
    "display_df(weight_df, index=True)\n",
    "\n",
    "\n",
    "\n",
    "# 6\n",
    "data = {\n",
    "    'name':   ['John', 'Emma', 'Michael', 'Sophia', 'William'],\n",
    "    'age':    [20, 21, 22, 20, 23],\n",
    "    'weight': [70, 65, 75, 68, 72]\n",
    "}\n",
    "df = pd.DataFrame(data)\n",
    "print('\\n\\n\\n6.1) Original dataframe:')\n",
    "display_df(df, index=True)\n",
    "\n",
    "print('\\n6.2) Transpose of the dataframe:')\n",
    "display_df(df.T, index=True)"
   ]
  },
  {
   "cell_type": "markdown",
   "id": "c376518f-57d2-436c-80df-7b88ef9fd7bd",
   "metadata": {},
   "source": [
    "<br><br><br>"
   ]
  }
 ],
 "metadata": {
  "kernelspec": {
   "display_name": "Python 3 (ipykernel)",
   "language": "python",
   "name": "python3"
  },
  "language_info": {
   "codemirror_mode": {
    "name": "ipython",
    "version": 3
   },
   "file_extension": ".py",
   "mimetype": "text/x-python",
   "name": "python",
   "nbconvert_exporter": "python",
   "pygments_lexer": "ipython3",
   "version": "3.12.2"
  }
 },
 "nbformat": 4,
 "nbformat_minor": 5
}
