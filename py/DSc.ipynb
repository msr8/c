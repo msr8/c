{
 "cells": [
  {
   "cell_type": "markdown",
   "id": "c096a43a-a160-47ff-adb2-9b5f4e84929d",
   "metadata": {},
   "source": [
    "# Initialisation"
   ]
  },
  {
   "cell_type": "code",
   "execution_count": 1,
   "id": "8d7ddece-5668-4422-bd1e-61294f368416",
   "metadata": {},
   "outputs": [],
   "source": [
    "import pandas as pd\n",
    "from IPython.display import HTML, Markdown, Latex\n",
    "\n",
    "\n",
    "def display_df(tp_df=None, index=False):\n",
    "    tp_df = tp_df if isinstance(tp_df,pd.DataFrame) else df\n",
    "    display(Markdown(tp_df.to_markdown(index=index)))\n",
    "\n",
    "# def display_df(tp_df=None, index=False):\n",
    "#     tp_df = tp_df if isinstance(tp_df,pd.DataFrame) else df\n",
    "#     display(HTML(tp_df.to_html(index=index)))"
   ]
  },
  {
   "cell_type": "markdown",
   "id": "f8fefd71-bcbd-45e9-ade5-7317089131de",
   "metadata": {},
   "source": [
    "<br><br><br>"
   ]
  },
  {
   "cell_type": "markdown",
   "id": "9d515062-c3ab-491a-b0e0-6b33243c6c3a",
   "metadata": {},
   "source": [
    "# 15/02/24\n",
    "\n",
    "Given a dataset, print the following:\n",
    "\n",
    "1) Records of index 1 & 3\n",
    "2) Records where age >= 15\n",
    "3) Records where age >= 12 and gender = Male\n",
    "4) City and gender of people with age >= 12"
   ]
  },
  {
   "cell_type": "code",
   "execution_count": 2,
   "id": "aa4e5181-592c-4bd8-a08c-07409ff06206",
   "metadata": {},
   "outputs": [
    {
     "name": "stdout",
     "output_type": "stream",
     "text": [
      "\n",
      "Original data:\n"
     ]
    },
    {
     "data": {
      "text/markdown": [
       "|   age | section   | city    | gender   | favorite_color   |\n",
       "|------:|:----------|:--------|:---------|:-----------------|\n",
       "|    10 | A         | Gurgaon | M        | red              |\n",
       "|    22 | B         | Delhi   | F        | black            |\n",
       "|    13 | C         | Mumbai  | F        | yellow           |\n",
       "|    21 | B         | Delhi   | M        | pink             |\n",
       "|    12 | B         | Mumbai  | M        | black            |\n",
       "|    11 | A         | Delhi   | M        | green            |\n",
       "|    17 | A         | Mumbai  | F        | red              |"
      ],
      "text/plain": [
       "<IPython.core.display.Markdown object>"
      ]
     },
     "metadata": {},
     "output_type": "display_data"
    },
    {
     "name": "stdout",
     "output_type": "stream",
     "text": [
      "\n",
      "1) Records of index 1 & 3\n"
     ]
    },
    {
     "data": {
      "text/markdown": [
       "|   age | section   | city   | gender   | favorite_color   |\n",
       "|------:|:----------|:-------|:---------|:-----------------|\n",
       "|    22 | B         | Delhi  | F        | black            |\n",
       "|    21 | B         | Delhi  | M        | pink             |"
      ],
      "text/plain": [
       "<IPython.core.display.Markdown object>"
      ]
     },
     "metadata": {},
     "output_type": "display_data"
    },
    {
     "name": "stdout",
     "output_type": "stream",
     "text": [
      "\n",
      "2) Records where age >= 15:\n"
     ]
    },
    {
     "data": {
      "text/markdown": [
       "|   age | section   | city   | gender   | favorite_color   |\n",
       "|------:|:----------|:-------|:---------|:-----------------|\n",
       "|    22 | B         | Delhi  | F        | black            |\n",
       "|    21 | B         | Delhi  | M        | pink             |\n",
       "|    17 | A         | Mumbai | F        | red              |"
      ],
      "text/plain": [
       "<IPython.core.display.Markdown object>"
      ]
     },
     "metadata": {},
     "output_type": "display_data"
    },
    {
     "name": "stdout",
     "output_type": "stream",
     "text": [
      "\n",
      "3) Records where age >= 12 and gender = Male:\n"
     ]
    },
    {
     "data": {
      "text/markdown": [
       "|   age | section   | city   | gender   | favorite_color   |\n",
       "|------:|:----------|:-------|:---------|:-----------------|\n",
       "|    21 | B         | Delhi  | M        | pink             |\n",
       "|    12 | B         | Mumbai | M        | black            |"
      ],
      "text/plain": [
       "<IPython.core.display.Markdown object>"
      ]
     },
     "metadata": {},
     "output_type": "display_data"
    },
    {
     "name": "stdout",
     "output_type": "stream",
     "text": [
      "\n",
      "4) City and gender of people with age >= 12:\n"
     ]
    },
    {
     "data": {
      "text/markdown": [
       "| city   | gender   |\n",
       "|:-------|:---------|\n",
       "| Delhi  | F        |\n",
       "| Mumbai | F        |\n",
       "| Delhi  | M        |\n",
       "| Mumbai | M        |\n",
       "| Mumbai | F        |"
      ],
      "text/plain": [
       "<IPython.core.display.Markdown object>"
      ]
     },
     "metadata": {},
     "output_type": "display_data"
    }
   ],
   "source": [
    "data = {\n",
    "    'age':            [10,22,13,21,12,11,17],\n",
    "    'section':        ['A','B','C','B','B','A','A'],\n",
    "    'city':           ['Gurgaon','Delhi','Mumbai','Delhi','Mumbai','Delhi','Mumbai'],\n",
    "    'gender':         ['M','F','F','M','M','M','F'],\n",
    "    'favorite_color': ['red','black','yellow','pink','black','green','red']   \n",
    "}\n",
    "df = pd.DataFrame(data)\n",
    "\n",
    "print('\\nOriginal data:')\n",
    "display_df()\n",
    "\n",
    "print('\\n1) Records of index 1 & 3')\n",
    "display_df( df.iloc[ [1,3] , : ] )\n",
    "\n",
    "print('\\n2) Records where age >= 15:')\n",
    "display_df( df.query('age >= 15') )\n",
    "\n",
    "print('\\n3) Records where age >= 12 and gender = Male:')\n",
    "display_df( df.query('age >= 12 and gender == \"M\"') )\n",
    "\n",
    "print('\\n4) City and gender of people with age >= 12:')\n",
    "display_df( df.query('age >= 12')[['city','gender']] )"
   ]
  },
  {
   "cell_type": "markdown",
   "id": "1800854b-c7e2-49d1-b153-c6ef3c5d55f8",
   "metadata": {},
   "source": [
    "<br><br><br>"
   ]
  },
  {
   "cell_type": "markdown",
   "id": "6bdea1a0-1a91-47d3-b311-5089d1aeb04b",
   "metadata": {},
   "source": [
    "# 22/02/24\n",
    "\n",
    "Create a dataframe to store data of 10 students, with the columns being \"Name\", \"Age\", \"Semester I marks out of 600\", \"Semester II marks out of 500\", and \"Attendance\"\n",
    "\n",
    "1) Display details of students who scored more than 560 marks in sem I\n",
    "2) Display details of students who scored less than 250 marks in sem II\n",
    "3) Display details of student who scored minimum marks in sem II\n",
    "4) Display details of student who scored maximum marks in sem II\n",
    "5) Display details of students whose attendance is more than 75\n",
    "6) Display details of students whose attendance is less than 50\n",
    "7) Insert 2 new records\n",
    "8) Add a column corresponding to percentage of marks of both semesters\n",
    "9) Add a new column corresponding to grades:\n",
    "\n",
    "| Percentage   | Grade |\n",
    "| ------------ | ----- |\n",
    "| >=90         | O     |\n",
    "| >=75 and <90 | A+    |\n",
    "| >=60 and <75 | A     |\n",
    "| >=50 and <60 | B+    |\n",
    "| >=40 and <50 | B     |\n",
    "| >40          | F     |"
   ]
  },
  {
   "cell_type": "code",
   "execution_count": 3,
   "id": "f7d50119-a928-40af-9ce8-e8a97f497529",
   "metadata": {},
   "outputs": [
    {
     "name": "stdout",
     "output_type": "stream",
     "text": [
      "\n",
      "Original data:\n"
     ]
    },
    {
     "data": {
      "text/markdown": [
       "| Name   |   Age |   Semester I marks out of 600 |   Semester II marks out of 500 |   Attendance |\n",
       "|:-------|------:|------------------------------:|-------------------------------:|-------------:|\n",
       "| A      |    20 |                           213 |                            198 |           76 |\n",
       "| B      |    21 |                            31 |                            378 |           26 |\n",
       "| C      |    20 |                            57 |                            133 |           53 |\n",
       "| D      |    22 |                           406 |                            450 |           32 |\n",
       "| E      |    23 |                           417 |                            283 |           50 |\n",
       "| F      |    20 |                            45 |                            485 |           67 |\n",
       "| G      |    21 |                           217 |                            193 |           92 |\n",
       "| H      |    22 |                           200 |                            283 |           62 |\n",
       "| I      |    20 |                           588 |                            236 |           44 |\n",
       "| J      |    21 |                           319 |                            191 |           85 |"
      ],
      "text/plain": [
       "<IPython.core.display.Markdown object>"
      ]
     },
     "metadata": {},
     "output_type": "display_data"
    },
    {
     "name": "stdout",
     "output_type": "stream",
     "text": [
      "\n",
      "1) Students who scored more than 560 marks in sem I:\n"
     ]
    },
    {
     "data": {
      "text/markdown": [
       "|    | Name   |   Age |   Semester I marks out of 600 |   Semester II marks out of 500 |   Attendance |\n",
       "|---:|:-------|------:|------------------------------:|-------------------------------:|-------------:|\n",
       "|  8 | I      |    20 |                           588 |                            236 |           44 |"
      ],
      "text/plain": [
       "<IPython.core.display.Markdown object>"
      ]
     },
     "metadata": {},
     "output_type": "display_data"
    },
    {
     "name": "stdout",
     "output_type": "stream",
     "text": [
      "\n",
      "2) Students who scored less than 250 marks in sem II:\n"
     ]
    },
    {
     "data": {
      "text/markdown": [
       "|    | Name   |   Age |   Semester I marks out of 600 |   Semester II marks out of 500 |   Attendance |\n",
       "|---:|:-------|------:|------------------------------:|-------------------------------:|-------------:|\n",
       "|  0 | A      |    20 |                           213 |                            198 |           76 |\n",
       "|  2 | C      |    20 |                            57 |                            133 |           53 |\n",
       "|  6 | G      |    21 |                           217 |                            193 |           92 |\n",
       "|  8 | I      |    20 |                           588 |                            236 |           44 |\n",
       "|  9 | J      |    21 |                           319 |                            191 |           85 |"
      ],
      "text/plain": [
       "<IPython.core.display.Markdown object>"
      ]
     },
     "metadata": {},
     "output_type": "display_data"
    },
    {
     "name": "stdout",
     "output_type": "stream",
     "text": [
      "\n",
      "3) Student who scored minimum marks in sem II:\n"
     ]
    },
    {
     "data": {
      "text/markdown": [
       "|    | Name   |   Age |   Semester I marks out of 600 |   Semester II marks out of 500 |   Attendance |\n",
       "|---:|:-------|------:|------------------------------:|-------------------------------:|-------------:|\n",
       "|  2 | C      |    20 |                            57 |                            133 |           53 |"
      ],
      "text/plain": [
       "<IPython.core.display.Markdown object>"
      ]
     },
     "metadata": {},
     "output_type": "display_data"
    },
    {
     "name": "stdout",
     "output_type": "stream",
     "text": [
      "\n",
      "4) Student who scored maximum marks in sem II:\n"
     ]
    },
    {
     "data": {
      "text/markdown": [
       "|    | Name   |   Age |   Semester I marks out of 600 |   Semester II marks out of 500 |   Attendance |\n",
       "|---:|:-------|------:|------------------------------:|-------------------------------:|-------------:|\n",
       "|  5 | F      |    20 |                            45 |                            485 |           67 |"
      ],
      "text/plain": [
       "<IPython.core.display.Markdown object>"
      ]
     },
     "metadata": {},
     "output_type": "display_data"
    },
    {
     "name": "stdout",
     "output_type": "stream",
     "text": [
      "\n",
      "5) Students whose attendance is more than 75:\n"
     ]
    },
    {
     "data": {
      "text/markdown": [
       "|    | Name   |   Age |   Semester I marks out of 600 |   Semester II marks out of 500 |   Attendance |\n",
       "|---:|:-------|------:|------------------------------:|-------------------------------:|-------------:|\n",
       "|  0 | A      |    20 |                           213 |                            198 |           76 |\n",
       "|  6 | G      |    21 |                           217 |                            193 |           92 |\n",
       "|  9 | J      |    21 |                           319 |                            191 |           85 |"
      ],
      "text/plain": [
       "<IPython.core.display.Markdown object>"
      ]
     },
     "metadata": {},
     "output_type": "display_data"
    },
    {
     "name": "stdout",
     "output_type": "stream",
     "text": [
      "\n",
      "6) Students whose attendance is less than 50:\n"
     ]
    },
    {
     "data": {
      "text/markdown": [
       "|    | Name   |   Age |   Semester I marks out of 600 |   Semester II marks out of 500 |   Attendance |\n",
       "|---:|:-------|------:|------------------------------:|-------------------------------:|-------------:|\n",
       "|  1 | B      |    21 |                            31 |                            378 |           26 |\n",
       "|  3 | D      |    22 |                           406 |                            450 |           32 |\n",
       "|  8 | I      |    20 |                           588 |                            236 |           44 |"
      ],
      "text/plain": [
       "<IPython.core.display.Markdown object>"
      ]
     },
     "metadata": {},
     "output_type": "display_data"
    },
    {
     "name": "stdout",
     "output_type": "stream",
     "text": [
      "\n",
      "7) Inserted two new records:\n"
     ]
    },
    {
     "data": {
      "text/markdown": [
       "|    | Name   |   Age |   Semester I marks out of 600 |   Semester II marks out of 500 |   Attendance |\n",
       "|---:|:-------|------:|------------------------------:|-------------------------------:|-------------:|\n",
       "|  0 | A      |    20 |                           213 |                            198 |           76 |\n",
       "|  1 | B      |    21 |                            31 |                            378 |           26 |\n",
       "|  2 | C      |    20 |                            57 |                            133 |           53 |\n",
       "|  3 | D      |    22 |                           406 |                            450 |           32 |\n",
       "|  4 | E      |    23 |                           417 |                            283 |           50 |\n",
       "|  5 | F      |    20 |                            45 |                            485 |           67 |\n",
       "|  6 | G      |    21 |                           217 |                            193 |           92 |\n",
       "|  7 | H      |    22 |                           200 |                            283 |           62 |\n",
       "|  8 | I      |    20 |                           588 |                            236 |           44 |\n",
       "|  9 | J      |    21 |                           319 |                            191 |           85 |\n",
       "| 10 | K      |    22 |                           300 |                            400 |           80 |\n",
       "| 11 | L      |    23 |                           400 |                            300 |           40 |"
      ],
      "text/plain": [
       "<IPython.core.display.Markdown object>"
      ]
     },
     "metadata": {},
     "output_type": "display_data"
    },
    {
     "name": "stdout",
     "output_type": "stream",
     "text": [
      "\n",
      "8) Added the percentage column:\n"
     ]
    },
    {
     "data": {
      "text/markdown": [
       "| Name   |   Age |   Semester I marks out of 600 |   Semester II marks out of 500 |   Attendance |   Percentage |\n",
       "|:-------|------:|------------------------------:|-------------------------------:|-------------:|-------------:|\n",
       "| A      |    20 |                           213 |                            198 |           76 |        37.36 |\n",
       "| B      |    21 |                            31 |                            378 |           26 |        37.18 |\n",
       "| C      |    20 |                            57 |                            133 |           53 |        17.27 |\n",
       "| D      |    22 |                           406 |                            450 |           32 |        77.82 |\n",
       "| E      |    23 |                           417 |                            283 |           50 |        63.64 |\n",
       "| F      |    20 |                            45 |                            485 |           67 |        48.18 |\n",
       "| G      |    21 |                           217 |                            193 |           92 |        37.27 |\n",
       "| H      |    22 |                           200 |                            283 |           62 |        43.91 |\n",
       "| I      |    20 |                           588 |                            236 |           44 |        74.91 |\n",
       "| J      |    21 |                           319 |                            191 |           85 |        46.36 |\n",
       "| K      |    22 |                           300 |                            400 |           80 |        63.64 |\n",
       "| L      |    23 |                           400 |                            300 |           40 |        63.64 |"
      ],
      "text/plain": [
       "<IPython.core.display.Markdown object>"
      ]
     },
     "metadata": {},
     "output_type": "display_data"
    },
    {
     "name": "stdout",
     "output_type": "stream",
     "text": [
      "\n",
      "9) Added the grade column:\n"
     ]
    },
    {
     "data": {
      "text/markdown": [
       "| Name   |   Age |   Semester I marks out of 600 |   Semester II marks out of 500 |   Attendance |   Percentage | Grade   |\n",
       "|:-------|------:|------------------------------:|-------------------------------:|-------------:|-------------:|:--------|\n",
       "| A      |    20 |                           213 |                            198 |           76 |        37.36 | F       |\n",
       "| B      |    21 |                            31 |                            378 |           26 |        37.18 | F       |\n",
       "| C      |    20 |                            57 |                            133 |           53 |        17.27 | F       |\n",
       "| D      |    22 |                           406 |                            450 |           32 |        77.82 | A+      |\n",
       "| E      |    23 |                           417 |                            283 |           50 |        63.64 | A       |\n",
       "| F      |    20 |                            45 |                            485 |           67 |        48.18 | B       |\n",
       "| G      |    21 |                           217 |                            193 |           92 |        37.27 | F       |\n",
       "| H      |    22 |                           200 |                            283 |           62 |        43.91 | B       |\n",
       "| I      |    20 |                           588 |                            236 |           44 |        74.91 | A       |\n",
       "| J      |    21 |                           319 |                            191 |           85 |        46.36 | B       |\n",
       "| K      |    22 |                           300 |                            400 |           80 |        63.64 | A       |\n",
       "| L      |    23 |                           400 |                            300 |           40 |        63.64 | A       |"
      ],
      "text/plain": [
       "<IPython.core.display.Markdown object>"
      ]
     },
     "metadata": {},
     "output_type": "display_data"
    }
   ],
   "source": [
    "data = {\n",
    "    'Name':                         ['A', 'B', 'C', 'D', 'E', 'F', 'G', 'H', 'I', 'J'],\n",
    "    'Age':                          [20, 21, 20, 22, 23, 20, 21, 22, 20, 21],\n",
    "    'Semester I marks out of 600':  [213, 31, 57, 406, 417, 45, 217, 200, 588, 319],\n",
    "    'Semester II marks out of 500': [198, 378, 133, 450, 283, 485, 193, 283, 236, 191],\n",
    "    'Attendance':                   [76, 26, 53, 32, 50, 67, 92, 62, 44, 85]\n",
    "}\n",
    "df = pd.DataFrame(data)\n",
    "\n",
    "print('\\nOriginal data:')\n",
    "display_df()\n",
    "\n",
    "print('\\n1) Students who scored more than 560 marks in sem I:')\n",
    "ans = df.query('`Semester I marks out of 600` > 560')\n",
    "display_df(ans, index=True)\n",
    "\n",
    "print('\\n2) Students who scored less than 250 marks in sem II:')\n",
    "ans = df.query('`Semester II marks out of 500` < 250')\n",
    "display_df(ans, index=True)\n",
    "\n",
    "print('\\n3) Student who scored minimum marks in sem II:')\n",
    "min_marks = min(df['Semester II marks out of 500'])\n",
    "ans       = df.query('`Semester II marks out of 500` == @min_marks')\n",
    "display_df( ans , index=True )\n",
    "\n",
    "print('\\n4) Student who scored maximum marks in sem II:')\n",
    "ans = df.sort_values(by='Semester II marks out of 500',ascending=False).head(1)\n",
    "display_df(ans, index=True)\n",
    "\n",
    "print('\\n5) Students whose attendance is more than 75:')\n",
    "ans = df.query('Attendance > 75')\n",
    "display_df(ans, index=True)\n",
    "\n",
    "print('\\n6) Students whose attendance is less than 50:')\n",
    "ans = df.query('Attendance < 50')\n",
    "display_df(ans, index=True)\n",
    "\n",
    "print('\\n7) Inserted two new records:')\n",
    "new_data = {\n",
    "    'Name':                         ['K', 'L'],\n",
    "    'Age':                          [22, 23],\n",
    "    'Semester I marks out of 600':  [300, 400],\n",
    "    'Semester II marks out of 500': [400, 300],\n",
    "    'Attendance':                   [80, 40]\n",
    "}\n",
    "new_df = pd.DataFrame(new_data)\n",
    "df     = pd.concat([df,new_df], ignore_index=True)\n",
    "display_df(index=True)\n",
    "\n",
    "print('\\n8) Added the percentage column:')\n",
    "df['Percentage'] = (df['Semester I marks out of 600'] + df['Semester II marks out of 500']) / 11\n",
    "df['Percentage'] = df['Percentage'].apply(lambda x: round(x,2))\n",
    "display_df()\n",
    "\n",
    "print('\\n9) Added the grade column:')\n",
    "def get_grade(x: float):\n",
    "    if   x >= 90: return 'O'\n",
    "    elif x >= 75: return 'A+'\n",
    "    elif x >= 60: return 'A'\n",
    "    elif x >= 50: return 'B+'\n",
    "    elif x >= 40: return 'B'\n",
    "    else:         return 'F'\n",
    "df['Grade'] = df['Percentage'].apply(get_grade)\n",
    "display_df()"
   ]
  },
  {
   "cell_type": "markdown",
   "id": "f415ca4d-91cc-426c-9139-1b2ebf07b2f0",
   "metadata": {},
   "source": [
    "<br><br><br>"
   ]
  },
  {
   "cell_type": "markdown",
   "id": "4cc08739-b728-484a-afc5-eed5a607ec7f",
   "metadata": {},
   "source": [
    "<br><br><br>"
   ]
  },
  {
   "cell_type": "markdown",
   "id": "c376518f-57d2-436c-80df-7b88ef9fd7bd",
   "metadata": {},
   "source": [
    "<br><br><br>"
   ]
  }
 ],
 "metadata": {
  "kernelspec": {
   "display_name": "Python 3 (ipykernel)",
   "language": "python",
   "name": "python3"
  },
  "language_info": {
   "codemirror_mode": {
    "name": "ipython",
    "version": 3
   },
   "file_extension": ".py",
   "mimetype": "text/x-python",
   "name": "python",
   "nbconvert_exporter": "python",
   "pygments_lexer": "ipython3",
   "version": "3.12.1"
  }
 },
 "nbformat": 4,
 "nbformat_minor": 5
}
