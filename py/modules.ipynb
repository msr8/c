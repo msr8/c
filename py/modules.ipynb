{
 "cells": [
  {
   "cell_type": "markdown",
   "id": "60811099-7770-4958-95c1-706c260248f5",
   "metadata": {},
   "source": [
    "# Pandas"
   ]
  },
  {
   "cell_type": "code",
   "execution_count": 13,
   "id": "ddbea68b-2ba0-4f9d-8d04-45c6bcd99af6",
   "metadata": {},
   "outputs": [],
   "source": [
    "import pandas as pd\n",
    "from IPython.display import HTML\n",
    "\n",
    "# This makes it so that no indexing is there when displaying the df\n",
    "def display_df(tp_df=None):\n",
    "    tp_df = tp_df if isinstance(tp_df,pd.DataFrame) else df\n",
    "    display(HTML(tp_df.to_html(index=False)))"
   ]
  },
  {
   "cell_type": "markdown",
   "id": "85a40670-8b18-4913-8b0d-e4e23169ab41",
   "metadata": {},
   "source": [
    "<br>"
   ]
  },
  {
   "cell_type": "markdown",
   "id": "f6fbfc72-040b-4486-a601-f0b7a66b9ae6",
   "metadata": {},
   "source": [
    "Converting the datatype of the values of a dataframe"
   ]
  },
  {
   "cell_type": "code",
   "execution_count": null,
   "id": "8200e88f-adb9-4eb4-a42c-610ffb7c0c24",
   "metadata": {},
   "outputs": [],
   "source": [
    "df = pd.DataFrame({\n",
    "    'A': ['2','7'],\n",
    "    'B': ['6','3']\n",
    "})\n",
    "print(df.dtypes)\n",
    "\n",
    "print('\\n')\n",
    "\n",
    "df = df.astype('int64')\n",
    "print(df.dtypes)"
   ]
  },
  {
   "cell_type": "markdown",
   "id": "af43b329-30fc-40f2-9e93-600b91894fc4",
   "metadata": {},
   "source": [
    "<br>"
   ]
  },
  {
   "cell_type": "markdown",
   "id": "9beffc10-cfb6-4458-89cb-a0be0938d539",
   "metadata": {},
   "source": [
    "Transpose of a matrix/dataframe"
   ]
  },
  {
   "cell_type": "markdown",
   "id": "5b027ce0-11fd-4605-87e2-4855a11603f0",
   "metadata": {},
   "source": [
    "<br>"
   ]
  },
  {
   "cell_type": "markdown",
   "id": "4fa59cc9-22dc-46ae-84de-c0b9245285d0",
   "metadata": {},
   "source": [
    "Getting the number of NaN values in each column of a dataframe"
   ]
  },
  {
   "cell_type": "code",
   "execution_count": null,
   "id": "5bd9dc2f-8cb4-4ae2-b5b2-462ea74a6348",
   "metadata": {},
   "outputs": [],
   "source": [
    "df = pd.read_csv('https://cf-courses-data.s3.us.cloud-object-storage.appdomain.cloud/IBM-ML240EN-SkillsNetwork/labs/data/Ames_Housing_Sales.csv')\n",
    "\n",
    "dict_nans = {\"Column\": [], \"NaN\": []}\n",
    "for column, nans in zip(df.columns, df.isna().sum()):\n",
    "    dict_nans[\"Column\"].append(column)\n",
    "    dict_nans[\"NaN\"].append(nans)\n",
    "\n",
    "df = pd.DataFrame(dict_nans)\n",
    "display_df()"
   ]
  },
  {
   "cell_type": "markdown",
   "id": "ddc895b6-fd0c-459e-9d67-0783c51198dd",
   "metadata": {},
   "source": [
    "<br>"
   ]
  },
  {
   "cell_type": "markdown",
   "id": "bfdd6ba6-d6c3-460d-a923-b7f5fd31cd0c",
   "metadata": {},
   "source": [
    "Getting information like the minimum value, max value, count, mean, etc"
   ]
  },
  {
   "cell_type": "code",
   "execution_count": 14,
   "id": "3c9b68f7-c302-4d38-bccf-bd2fc1fd4d2b",
   "metadata": {},
   "outputs": [
    {
     "data": {
      "text/html": [
       "<table border=\"1\" class=\"dataframe\">\n",
       "  <thead>\n",
       "    <tr style=\"text-align: right;\">\n",
       "      <th>count</th>\n",
       "      <th>mean</th>\n",
       "      <th>std</th>\n",
       "      <th>min</th>\n",
       "      <th>25%</th>\n",
       "      <th>50%</th>\n",
       "      <th>75%</th>\n",
       "      <th>max</th>\n",
       "    </tr>\n",
       "  </thead>\n",
       "  <tbody>\n",
       "    <tr>\n",
       "      <td>1379.0</td>\n",
       "      <td>1177.129804</td>\n",
       "      <td>387.014961</td>\n",
       "      <td>438.0</td>\n",
       "      <td>894.0</td>\n",
       "      <td>1098.0</td>\n",
       "      <td>1414.0</td>\n",
       "      <td>4692.000000</td>\n",
       "    </tr>\n",
       "    <tr>\n",
       "      <td>1379.0</td>\n",
       "      <td>353.424946</td>\n",
       "      <td>439.553171</td>\n",
       "      <td>0.0</td>\n",
       "      <td>0.0</td>\n",
       "      <td>0.0</td>\n",
       "      <td>738.5</td>\n",
       "      <td>2065.000000</td>\n",
       "    </tr>\n",
       "    <tr>\n",
       "      <td>1379.0</td>\n",
       "      <td>3.609862</td>\n",
       "      <td>30.154682</td>\n",
       "      <td>0.0</td>\n",
       "      <td>0.0</td>\n",
       "      <td>0.0</td>\n",
       "      <td>0.0</td>\n",
       "      <td>508.000000</td>\n",
       "    </tr>\n",
       "    <tr>\n",
       "      <td>1379.0</td>\n",
       "      <td>2.865120</td>\n",
       "      <td>0.783961</td>\n",
       "      <td>0.0</td>\n",
       "      <td>2.0</td>\n",
       "      <td>3.0</td>\n",
       "      <td>3.0</td>\n",
       "      <td>6.000000</td>\n",
       "    </tr>\n",
       "    <tr>\n",
       "      <td>1379.0</td>\n",
       "      <td>455.578680</td>\n",
       "      <td>459.691379</td>\n",
       "      <td>0.0</td>\n",
       "      <td>0.0</td>\n",
       "      <td>400.0</td>\n",
       "      <td>732.0</td>\n",
       "      <td>5644.000000</td>\n",
       "    </tr>\n",
       "    <tr>\n",
       "      <td>1379.0</td>\n",
       "      <td>48.102248</td>\n",
       "      <td>164.324665</td>\n",
       "      <td>0.0</td>\n",
       "      <td>0.0</td>\n",
       "      <td>0.0</td>\n",
       "      <td>0.0</td>\n",
       "      <td>1474.000000</td>\n",
       "    </tr>\n",
       "    <tr>\n",
       "      <td>1379.0</td>\n",
       "      <td>0.430747</td>\n",
       "      <td>0.514052</td>\n",
       "      <td>0.0</td>\n",
       "      <td>0.0</td>\n",
       "      <td>0.0</td>\n",
       "      <td>1.0</td>\n",
       "      <td>2.000000</td>\n",
       "    </tr>\n",
       "    <tr>\n",
       "      <td>1379.0</td>\n",
       "      <td>0.058738</td>\n",
       "      <td>0.238285</td>\n",
       "      <td>0.0</td>\n",
       "      <td>0.0</td>\n",
       "      <td>0.0</td>\n",
       "      <td>0.0</td>\n",
       "      <td>2.000000</td>\n",
       "    </tr>\n",
       "    <tr>\n",
       "      <td>1379.0</td>\n",
       "      <td>570.765047</td>\n",
       "      <td>443.677845</td>\n",
       "      <td>0.0</td>\n",
       "      <td>228.0</td>\n",
       "      <td>476.0</td>\n",
       "      <td>811.0</td>\n",
       "      <td>2336.000000</td>\n",
       "    </tr>\n",
       "    <tr>\n",
       "      <td>1379.0</td>\n",
       "      <td>21.039159</td>\n",
       "      <td>60.535107</td>\n",
       "      <td>0.0</td>\n",
       "      <td>0.0</td>\n",
       "      <td>0.0</td>\n",
       "      <td>0.0</td>\n",
       "      <td>552.000000</td>\n",
       "    </tr>\n",
       "    <tr>\n",
       "      <td>1379.0</td>\n",
       "      <td>0.641769</td>\n",
       "      <td>0.645985</td>\n",
       "      <td>0.0</td>\n",
       "      <td>0.0</td>\n",
       "      <td>1.0</td>\n",
       "      <td>1.0</td>\n",
       "      <td>3.000000</td>\n",
       "    </tr>\n",
       "    <tr>\n",
       "      <td>1379.0</td>\n",
       "      <td>1.580131</td>\n",
       "      <td>0.548051</td>\n",
       "      <td>0.0</td>\n",
       "      <td>1.0</td>\n",
       "      <td>2.0</td>\n",
       "      <td>2.0</td>\n",
       "      <td>3.000000</td>\n",
       "    </tr>\n",
       "    <tr>\n",
       "      <td>1379.0</td>\n",
       "      <td>500.762146</td>\n",
       "      <td>185.680520</td>\n",
       "      <td>160.0</td>\n",
       "      <td>380.0</td>\n",
       "      <td>484.0</td>\n",
       "      <td>580.0</td>\n",
       "      <td>1418.000000</td>\n",
       "    </tr>\n",
       "    <tr>\n",
       "      <td>1379.0</td>\n",
       "      <td>1.870921</td>\n",
       "      <td>0.630055</td>\n",
       "      <td>1.0</td>\n",
       "      <td>1.0</td>\n",
       "      <td>2.0</td>\n",
       "      <td>2.0</td>\n",
       "      <td>4.000000</td>\n",
       "    </tr>\n",
       "    <tr>\n",
       "      <td>1379.0</td>\n",
       "      <td>1978.506164</td>\n",
       "      <td>24.689725</td>\n",
       "      <td>1900.0</td>\n",
       "      <td>1961.0</td>\n",
       "      <td>1980.0</td>\n",
       "      <td>2002.0</td>\n",
       "      <td>2010.000000</td>\n",
       "    </tr>\n",
       "    <tr>\n",
       "      <td>1379.0</td>\n",
       "      <td>1534.689630</td>\n",
       "      <td>519.140514</td>\n",
       "      <td>438.0</td>\n",
       "      <td>1154.0</td>\n",
       "      <td>1479.0</td>\n",
       "      <td>1790.0</td>\n",
       "      <td>5642.000000</td>\n",
       "    </tr>\n",
       "    <tr>\n",
       "      <td>1379.0</td>\n",
       "      <td>0.395939</td>\n",
       "      <td>0.502402</td>\n",
       "      <td>0.0</td>\n",
       "      <td>0.0</td>\n",
       "      <td>0.0</td>\n",
       "      <td>1.0</td>\n",
       "      <td>2.000000</td>\n",
       "    </tr>\n",
       "    <tr>\n",
       "      <td>1379.0</td>\n",
       "      <td>1.038434</td>\n",
       "      <td>0.196048</td>\n",
       "      <td>1.0</td>\n",
       "      <td>1.0</td>\n",
       "      <td>1.0</td>\n",
       "      <td>1.0</td>\n",
       "      <td>3.000000</td>\n",
       "    </tr>\n",
       "    <tr>\n",
       "      <td>1379.0</td>\n",
       "      <td>10695.812183</td>\n",
       "      <td>10214.702133</td>\n",
       "      <td>1300.0</td>\n",
       "      <td>7741.0</td>\n",
       "      <td>9591.0</td>\n",
       "      <td>11708.5</td>\n",
       "      <td>215245.000000</td>\n",
       "    </tr>\n",
       "    <tr>\n",
       "      <td>1379.0</td>\n",
       "      <td>75.112314</td>\n",
       "      <td>28.214221</td>\n",
       "      <td>21.0</td>\n",
       "      <td>60.0</td>\n",
       "      <td>71.0</td>\n",
       "      <td>88.0</td>\n",
       "      <td>405.783193</td>\n",
       "    </tr>\n",
       "    <tr>\n",
       "      <td>1379.0</td>\n",
       "      <td>4.134880</td>\n",
       "      <td>40.130546</td>\n",
       "      <td>0.0</td>\n",
       "      <td>0.0</td>\n",
       "      <td>0.0</td>\n",
       "      <td>0.0</td>\n",
       "      <td>572.000000</td>\n",
       "    </tr>\n",
       "    <tr>\n",
       "      <td>1379.0</td>\n",
       "      <td>56.022480</td>\n",
       "      <td>41.026897</td>\n",
       "      <td>20.0</td>\n",
       "      <td>20.0</td>\n",
       "      <td>50.0</td>\n",
       "      <td>70.0</td>\n",
       "      <td>190.000000</td>\n",
       "    </tr>\n",
       "    <tr>\n",
       "      <td>1379.0</td>\n",
       "      <td>108.364757</td>\n",
       "      <td>184.195220</td>\n",
       "      <td>0.0</td>\n",
       "      <td>0.0</td>\n",
       "      <td>0.0</td>\n",
       "      <td>170.5</td>\n",
       "      <td>1600.000000</td>\n",
       "    </tr>\n",
       "    <tr>\n",
       "      <td>1379.0</td>\n",
       "      <td>42.889050</td>\n",
       "      <td>501.613931</td>\n",
       "      <td>0.0</td>\n",
       "      <td>0.0</td>\n",
       "      <td>0.0</td>\n",
       "      <td>0.0</td>\n",
       "      <td>15500.000000</td>\n",
       "    </tr>\n",
       "    <tr>\n",
       "      <td>1379.0</td>\n",
       "      <td>6.334300</td>\n",
       "      <td>2.696674</td>\n",
       "      <td>1.0</td>\n",
       "      <td>5.0</td>\n",
       "      <td>6.0</td>\n",
       "      <td>8.0</td>\n",
       "      <td>12.000000</td>\n",
       "    </tr>\n",
       "    <tr>\n",
       "      <td>1379.0</td>\n",
       "      <td>47.276287</td>\n",
       "      <td>65.210465</td>\n",
       "      <td>0.0</td>\n",
       "      <td>0.0</td>\n",
       "      <td>27.0</td>\n",
       "      <td>69.5</td>\n",
       "      <td>547.000000</td>\n",
       "    </tr>\n",
       "    <tr>\n",
       "      <td>1379.0</td>\n",
       "      <td>5.577955</td>\n",
       "      <td>1.081031</td>\n",
       "      <td>2.0</td>\n",
       "      <td>5.0</td>\n",
       "      <td>5.0</td>\n",
       "      <td>6.0</td>\n",
       "      <td>9.000000</td>\n",
       "    </tr>\n",
       "    <tr>\n",
       "      <td>1379.0</td>\n",
       "      <td>6.187092</td>\n",
       "      <td>1.345780</td>\n",
       "      <td>2.0</td>\n",
       "      <td>5.0</td>\n",
       "      <td>6.0</td>\n",
       "      <td>7.0</td>\n",
       "      <td>10.000000</td>\n",
       "    </tr>\n",
       "    <tr>\n",
       "      <td>1379.0</td>\n",
       "      <td>2.920957</td>\n",
       "      <td>41.335545</td>\n",
       "      <td>0.0</td>\n",
       "      <td>0.0</td>\n",
       "      <td>0.0</td>\n",
       "      <td>0.0</td>\n",
       "      <td>738.000000</td>\n",
       "    </tr>\n",
       "    <tr>\n",
       "      <td>1379.0</td>\n",
       "      <td>15.945613</td>\n",
       "      <td>57.249593</td>\n",
       "      <td>0.0</td>\n",
       "      <td>0.0</td>\n",
       "      <td>0.0</td>\n",
       "      <td>0.0</td>\n",
       "      <td>480.000000</td>\n",
       "    </tr>\n",
       "    <tr>\n",
       "      <td>1379.0</td>\n",
       "      <td>6.552574</td>\n",
       "      <td>1.589821</td>\n",
       "      <td>3.0</td>\n",
       "      <td>5.0</td>\n",
       "      <td>6.0</td>\n",
       "      <td>7.0</td>\n",
       "      <td>12.000000</td>\n",
       "    </tr>\n",
       "    <tr>\n",
       "      <td>1379.0</td>\n",
       "      <td>1074.445975</td>\n",
       "      <td>436.371874</td>\n",
       "      <td>0.0</td>\n",
       "      <td>810.0</td>\n",
       "      <td>1008.0</td>\n",
       "      <td>1314.0</td>\n",
       "      <td>6110.000000</td>\n",
       "    </tr>\n",
       "    <tr>\n",
       "      <td>1379.0</td>\n",
       "      <td>97.456853</td>\n",
       "      <td>126.699192</td>\n",
       "      <td>0.0</td>\n",
       "      <td>0.0</td>\n",
       "      <td>0.0</td>\n",
       "      <td>171.0</td>\n",
       "      <td>857.000000</td>\n",
       "    </tr>\n",
       "    <tr>\n",
       "      <td>1379.0</td>\n",
       "      <td>1972.958666</td>\n",
       "      <td>29.379883</td>\n",
       "      <td>1880.0</td>\n",
       "      <td>1955.0</td>\n",
       "      <td>1976.0</td>\n",
       "      <td>2001.0</td>\n",
       "      <td>2010.000000</td>\n",
       "    </tr>\n",
       "    <tr>\n",
       "      <td>1379.0</td>\n",
       "      <td>1985.435098</td>\n",
       "      <td>20.444852</td>\n",
       "      <td>1950.0</td>\n",
       "      <td>1968.0</td>\n",
       "      <td>1994.0</td>\n",
       "      <td>2004.0</td>\n",
       "      <td>2010.000000</td>\n",
       "    </tr>\n",
       "    <tr>\n",
       "      <td>1379.0</td>\n",
       "      <td>2007.812183</td>\n",
       "      <td>1.330221</td>\n",
       "      <td>2006.0</td>\n",
       "      <td>2007.0</td>\n",
       "      <td>2008.0</td>\n",
       "      <td>2009.0</td>\n",
       "      <td>2010.000000</td>\n",
       "    </tr>\n",
       "    <tr>\n",
       "      <td>1379.0</td>\n",
       "      <td>185479.511240</td>\n",
       "      <td>79023.890600</td>\n",
       "      <td>35311.0</td>\n",
       "      <td>134000.0</td>\n",
       "      <td>167500.0</td>\n",
       "      <td>217750.0</td>\n",
       "      <td>755000.000000</td>\n",
       "    </tr>\n",
       "  </tbody>\n",
       "</table>"
      ],
      "text/plain": [
       "<IPython.core.display.HTML object>"
      ]
     },
     "metadata": {},
     "output_type": "display_data"
    }
   ],
   "source": [
    "df = pd.read_csv('https://cf-courses-data.s3.us.cloud-object-storage.appdomain.cloud/IBM-ML240EN-SkillsNetwork/labs/data/Ames_Housing_Sales.csv')\n",
    "display_df(df.describe().T)"
   ]
  },
  {
   "cell_type": "markdown",
   "id": "4293f2eb-a286-4a14-863d-1abae476531b",
   "metadata": {},
   "source": [
    "<br>"
   ]
  },
  {
   "cell_type": "markdown",
   "id": "96efdf76-a70c-4779-a932-80c95a8368be",
   "metadata": {},
   "source": [
    "Creating/modifying a column based on operations done on other columns (or itself)"
   ]
  },
  {
   "cell_type": "code",
   "execution_count": 12,
   "id": "14635ebf-86f8-44a6-a960-d33fbe9888d9",
   "metadata": {},
   "outputs": [
    {
     "data": {
      "text/html": [
       "<table border=\"1\" class=\"dataframe\">\n",
       "  <thead>\n",
       "    <tr style=\"text-align: right;\">\n",
       "      <th>A</th>\n",
       "      <th>B</th>\n",
       "    </tr>\n",
       "  </thead>\n",
       "  <tbody>\n",
       "    <tr>\n",
       "      <td>2</td>\n",
       "      <td>6</td>\n",
       "    </tr>\n",
       "    <tr>\n",
       "      <td>7</td>\n",
       "      <td>3</td>\n",
       "    </tr>\n",
       "  </tbody>\n",
       "</table>"
      ],
      "text/plain": [
       "<IPython.core.display.HTML object>"
      ]
     },
     "metadata": {},
     "output_type": "display_data"
    },
    {
     "data": {
      "text/html": [
       "<table border=\"1\" class=\"dataframe\">\n",
       "  <thead>\n",
       "    <tr style=\"text-align: right;\">\n",
       "      <th>A</th>\n",
       "      <th>B</th>\n",
       "      <th>C</th>\n",
       "    </tr>\n",
       "  </thead>\n",
       "  <tbody>\n",
       "    <tr>\n",
       "      <td>2</td>\n",
       "      <td>6</td>\n",
       "      <td>8</td>\n",
       "    </tr>\n",
       "    <tr>\n",
       "      <td>7</td>\n",
       "      <td>3</td>\n",
       "      <td>10</td>\n",
       "    </tr>\n",
       "  </tbody>\n",
       "</table>"
      ],
      "text/plain": [
       "<IPython.core.display.HTML object>"
      ]
     },
     "metadata": {},
     "output_type": "display_data"
    },
    {
     "data": {
      "text/html": [
       "<table border=\"1\" class=\"dataframe\">\n",
       "  <thead>\n",
       "    <tr style=\"text-align: right;\">\n",
       "      <th>A</th>\n",
       "      <th>B</th>\n",
       "      <th>C</th>\n",
       "    </tr>\n",
       "  </thead>\n",
       "  <tbody>\n",
       "    <tr>\n",
       "      <td>2</td>\n",
       "      <td>6</td>\n",
       "      <td>4.0</td>\n",
       "    </tr>\n",
       "    <tr>\n",
       "      <td>7</td>\n",
       "      <td>3</td>\n",
       "      <td>5.0</td>\n",
       "    </tr>\n",
       "  </tbody>\n",
       "</table>"
      ],
      "text/plain": [
       "<IPython.core.display.HTML object>"
      ]
     },
     "metadata": {},
     "output_type": "display_data"
    }
   ],
   "source": [
    "# Creating our base dataframe\n",
    "df = pd.DataFrame({\n",
    "    'A': [2,7],\n",
    "    'B': [6,3]\n",
    "})\n",
    "display_df()\n",
    "\n",
    "# Creating a new col based on operations on other existing columns\n",
    "df['C'] = df['A'] + df['B']\n",
    "display_df()\n",
    "\n",
    "# Editing that col based on the value of itself\n",
    "df['C'] = df['C'] / 2\n",
    "display_df()"
   ]
  },
  {
   "cell_type": "markdown",
   "id": "a5b4ac86-9273-4061-b472-9f69fd00ea86",
   "metadata": {},
   "source": [
    "<br>"
   ]
  },
  {
   "cell_type": "markdown",
   "id": "f2236626-224c-4992-84cd-d1b9d9a50797",
   "metadata": {},
   "source": [
    "Combining two dataframes vertically"
   ]
  },
  {
   "cell_type": "code",
   "execution_count": null,
   "id": "6082a39b-a858-4262-bcba-46995448560d",
   "metadata": {},
   "outputs": [],
   "source": [
    "df1 = pd.DataFrame({\n",
    "    'A': [2,4],\n",
    "    'B': [1,3]\n",
    "})\n",
    "\n",
    "df2 = pd.DataFrame({\n",
    "    'B': [5,7],\n",
    "    'A': [6,8]\n",
    "})\n",
    "\n",
    "combined_df = pd.concat([df1, df2])\n",
    "\n",
    "display_df(df1)\n",
    "display_df(df2)\n",
    "display_df(combined_df)"
   ]
  },
  {
   "cell_type": "markdown",
   "id": "9022a581-11f2-4e45-a000-a234db69a741",
   "metadata": {},
   "source": [
    "<br>"
   ]
  },
  {
   "cell_type": "markdown",
   "id": "9e9cf340-ef0e-409c-b2cf-93ca0799d7f3",
   "metadata": {},
   "source": [
    "Combining two dataframes horizantally"
   ]
  },
  {
   "cell_type": "code",
   "execution_count": null,
   "id": "1c58eb92-eab5-4a8c-b50a-79bdc2288a2e",
   "metadata": {},
   "outputs": [],
   "source": [
    "df1 = pd.DataFrame({\n",
    "    'A': [2,7],\n",
    "    'B': [6,3]\n",
    "})\n",
    "\n",
    "df2 = pd.DataFrame()\n",
    "df2['C'] = df1['A'] + df1['B']\n",
    "\n",
    "combined_df = pd.concat([df1, df2], axis=1)\n",
    "\n",
    "display_df(df1)\n",
    "display_df(df2)\n",
    "display_df(combined_df)"
   ]
  },
  {
   "cell_type": "markdown",
   "id": "cb253779-d528-44b4-90d5-3c3cb1cb6998",
   "metadata": {},
   "source": [
    "<br>"
   ]
  },
  {
   "cell_type": "markdown",
   "id": "4c435de1-5146-4974-883c-eecd52a08bee",
   "metadata": {},
   "source": [
    "A way to convert a 2D matrix to a dataframe where the first row is column name"
   ]
  },
  {
   "cell_type": "code",
   "execution_count": null,
   "id": "f0fa73dd-a228-4c20-9c77-166770003e4c",
   "metadata": {},
   "outputs": [],
   "source": [
    "df = pd.DataFrame([\n",
    "    ['A','B'],\n",
    "    [3,4],\n",
    "    [9,7]\n",
    "])\n",
    "display_df()\n",
    "\n",
    "df.columns = df.iloc[0]\n",
    "df = df[1:]\n",
    "\n",
    "display_df()"
   ]
  },
  {
   "cell_type": "markdown",
   "id": "6ced298c-a5f5-4d91-b22f-69dfd0fe8cd9",
   "metadata": {},
   "source": [
    "<br>"
   ]
  },
  {
   "cell_type": "markdown",
   "id": "5f075a86-ad45-4623-bfc1-1060a04fb786",
   "metadata": {},
   "source": [
    "Replacing items in dataframes"
   ]
  },
  {
   "cell_type": "code",
   "execution_count": null,
   "id": "fbe17db1-eb53-403a-8212-898be96b85c3",
   "metadata": {},
   "outputs": [],
   "source": [
    "df = pd.DataFrame({\n",
    "    'A': ['A1', '?' , 'A3'],\n",
    "    'B': ['?' , 'B2', 'B3']\n",
    "})\n",
    "display_df()\n",
    "\n",
    "df.replace(['?'], pd.NA, inplace=True)\n",
    "display_df()"
   ]
  },
  {
   "cell_type": "markdown",
   "id": "43257148-89f5-453b-adf3-183c95e6d1ae",
   "metadata": {},
   "source": [
    "<br>"
   ]
  },
  {
   "cell_type": "markdown",
   "id": "aeb8e1a5-5808-41ea-b1f6-858d4b9d55dc",
   "metadata": {},
   "source": [
    "Dropping rows containing NA (or any specified value)"
   ]
  },
  {
   "cell_type": "code",
   "execution_count": null,
   "id": "66423666-da86-4330-98ff-4041525cd801",
   "metadata": {},
   "outputs": [],
   "source": [
    "df = pd.DataFrame({\n",
    "    'A': ['A1' , pd.NA, 'A3'],\n",
    "    'B': [pd.NA, 'B2' , 'B3']\n",
    "})\n",
    "display(df)\n",
    "\n",
    "df.dropna(inplace=True)\n",
    "display(df) # Here as we can see, the index number of the row is preserved. To solve that, we can use reset_index method\n",
    "\n",
    "# df.reset_index?\n",
    "df.reset_index(inplace=True, drop=True) # drop is by default set to False. So by default, it inserts a new column called \"Index\"\n",
    "display(df)"
   ]
  },
  {
   "cell_type": "code",
   "execution_count": null,
   "id": "44081af5-8bc4-408d-bbbb-ee7d7467e294",
   "metadata": {},
   "outputs": [],
   "source": [
    "round(df.describe(),2)\n",
    "\n",
    "df.decribe(include='object') # This will only describe the columns with object (ie string) datatype\n",
    "df.describe().T\n",
    "\n",
    "df_uniques = df.nunique()\n",
    "\n",
    "binary_cols   = df_uniques[df_uniques == 2].index.tolist()\n",
    "category_cols = df_uniques[(df_uniques > 2) & (df_uniques <= 10)].index.tolist()\n",
    "\n",
    "correlations = df[ATTRS].corrwith(df['SalePrice'])\n",
    "correlations.sort_values(inplace=True)\n",
    "\n"
   ]
  },
  {
   "cell_type": "markdown",
   "id": "2e127930-98a5-4317-8cb4-fe707d6cda36",
   "metadata": {},
   "source": [
    "<br><br><br><br><br>"
   ]
  },
  {
   "cell_type": "markdown",
   "id": "2068ab95-209d-4e96-aaf5-5f33851276ec",
   "metadata": {},
   "source": [
    "# Numpy"
   ]
  },
  {
   "cell_type": "code",
   "execution_count": 2,
   "id": "df668481-8930-4ba1-bf83-36b1ff7d6785",
   "metadata": {},
   "outputs": [
    {
     "name": "stdout",
     "output_type": "stream",
     "text": [
      "[  1.   2.   3.   4.   5.   6.   7.   8.   9.  10.  11.  12.  13.  14.\n",
      "  15.  16.  17.  18.  19.  20.  21.  22.  23.  24.  25.  26.  27.  28.\n",
      "  29.  30.  31.  32.  33.  34.  35.  36.  37.  38.  39.  40.  41.  42.\n",
      "  43.  44.  45.  46.  47.  48.  49.  50.  51.  52.  53.  54.  55.  56.\n",
      "  57.  58.  59.  60.  61.  62.  63.  64.  65.  66.  67.  68.  69.  70.\n",
      "  71.  72.  73.  74.  75.  76.  77.  78.  79.  80.  81.  82.  83.  84.\n",
      "  85.  86.  87.  88.  89.  90.  91.  92.  93.  94.  95.  96.  97.  98.\n",
      "  99. 100.]\n"
     ]
    }
   ],
   "source": [
    "import numpy as np\n",
    "\n",
    "start   = 1\n",
    "end     = 100\n",
    "n_elems = 100\n",
    "\n",
    "print(np.linspace(start, end, n_elems))"
   ]
  },
  {
   "cell_type": "code",
   "execution_count": null,
   "id": "f0494cbf-e79f-422d-8319-89ddfbc37cf0",
   "metadata": {},
   "outputs": [],
   "source": [
    "np.arange()"
   ]
  },
  {
   "cell_type": "markdown",
   "id": "50ccc0a4-cbb4-4c67-9913-1c4c96c844fb",
   "metadata": {},
   "source": [
    "<br><br><br><br><br>"
   ]
  },
  {
   "cell_type": "markdown",
   "id": "ecd50868-14e4-494c-aef7-1ff80840c283",
   "metadata": {},
   "source": [
    "<br><br><br><br><br>"
   ]
  },
  {
   "cell_type": "markdown",
   "id": "e2285648-99de-4e65-bc5e-aee40b46dabb",
   "metadata": {},
   "source": [
    "<br><br><br><br><br>"
   ]
  }
 ],
 "metadata": {
  "kernelspec": {
   "display_name": "Python 3 (ipykernel)",
   "language": "python",
   "name": "python3"
  },
  "language_info": {
   "codemirror_mode": {
    "name": "ipython",
    "version": 3
   },
   "file_extension": ".py",
   "mimetype": "text/x-python",
   "name": "python",
   "nbconvert_exporter": "python",
   "pygments_lexer": "ipython3",
   "version": "3.11.4"
  }
 },
 "nbformat": 4,
 "nbformat_minor": 5
}
