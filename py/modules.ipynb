{
 "cells": [
  {
   "cell_type": "markdown",
   "id": "60811099-7770-4958-95c1-706c260248f5",
   "metadata": {},
   "source": [
    "# Pandas"
   ]
  },
  {
   "cell_type": "code",
   "execution_count": 1,
   "id": "ddbea68b-2ba0-4f9d-8d04-45c6bcd99af6",
   "metadata": {},
   "outputs": [],
   "source": [
    "import pandas as pd\n",
    "from IPython.display import HTML, Markdown, Latex\n",
    "\n",
    "\n",
    "def display_df(tp_df=None, index=False):\n",
    "    tp_df = tp_df if isinstance(tp_df,pd.DataFrame) else df\n",
    "    display(Markdown(tp_df.to_markdown(index=index)))\n",
    "\n",
    "# def display_df(tp_df=None, index=False):\n",
    "#     tp_df = tp_df if isinstance(tp_df,pd.DataFrame) else df\n",
    "#     display(HTML(tp_df.to_html(index=index)))"
   ]
  },
  {
   "cell_type": "markdown",
   "id": "85a40670-8b18-4913-8b0d-e4e23169ab41",
   "metadata": {},
   "source": [
    "<br>"
   ]
  },
  {
   "cell_type": "markdown",
   "id": "f6fbfc72-040b-4486-a601-f0b7a66b9ae6",
   "metadata": {},
   "source": [
    "Converting the datatype of the values of a dataframe"
   ]
  },
  {
   "cell_type": "code",
   "execution_count": 2,
   "id": "8200e88f-adb9-4eb4-a42c-610ffb7c0c24",
   "metadata": {},
   "outputs": [
    {
     "name": "stdout",
     "output_type": "stream",
     "text": [
      "A    object\n",
      "B    object\n",
      "dtype: object\n",
      "\n",
      "\n",
      "A    int64\n",
      "B    int64\n",
      "dtype: object\n"
     ]
    }
   ],
   "source": [
    "df = pd.DataFrame({\n",
    "    'A': ['2','7'],\n",
    "    'B': ['6','3']\n",
    "})\n",
    "print(df.dtypes)\n",
    "\n",
    "print('\\n')\n",
    "\n",
    "df = df.astype('int64')\n",
    "print(df.dtypes)"
   ]
  },
  {
   "cell_type": "markdown",
   "id": "af43b329-30fc-40f2-9e93-600b91894fc4",
   "metadata": {},
   "source": [
    "<br>"
   ]
  },
  {
   "cell_type": "markdown",
   "id": "9beffc10-cfb6-4458-89cb-a0be0938d539",
   "metadata": {},
   "source": [
    "Transpose of a matrix/dataframe"
   ]
  },
  {
   "cell_type": "markdown",
   "id": "5b027ce0-11fd-4605-87e2-4855a11603f0",
   "metadata": {},
   "source": [
    "<br>"
   ]
  },
  {
   "cell_type": "markdown",
   "id": "4fa59cc9-22dc-46ae-84de-c0b9245285d0",
   "metadata": {},
   "source": [
    "Getting the number of NaN values in each column of a dataframe"
   ]
  },
  {
   "cell_type": "code",
   "execution_count": 3,
   "id": "5bd9dc2f-8cb4-4ae2-b5b2-462ea74a6348",
   "metadata": {},
   "outputs": [
    {
     "data": {
      "text/markdown": [
       "| Column        |   NaN |\n",
       "|:--------------|------:|\n",
       "| 1stFlrSF      |     0 |\n",
       "| 2ndFlrSF      |     0 |\n",
       "| 3SsnPorch     |     0 |\n",
       "| Alley         |  1297 |\n",
       "| BedroomAbvGr  |     0 |\n",
       "| BldgType      |     0 |\n",
       "| BsmtCond      |   426 |\n",
       "| BsmtExposure  |   426 |\n",
       "| BsmtFinSF1    |     0 |\n",
       "| BsmtFinSF2    |     0 |\n",
       "| BsmtFinType1  |   426 |\n",
       "| BsmtFinType2  |   427 |\n",
       "| BsmtFullBath  |     0 |\n",
       "| BsmtHalfBath  |     0 |\n",
       "| BsmtQual      |   426 |\n",
       "| BsmtUnfSF     |     0 |\n",
       "| CentralAir    |     0 |\n",
       "| Condition1    |     0 |\n",
       "| Condition2    |     0 |\n",
       "| Electrical    |     0 |\n",
       "| EnclosedPorch |     0 |\n",
       "| ExterCond     |     0 |\n",
       "| ExterQual     |     0 |\n",
       "| Exterior1st   |     0 |\n",
       "| Exterior2nd   |     0 |\n",
       "| Fence         |  1114 |\n",
       "| FireplaceQu   |   618 |\n",
       "| Fireplaces    |     0 |\n",
       "| Foundation    |     0 |\n",
       "| FullBath      |     0 |\n",
       "| Functional    |     0 |\n",
       "| GarageArea    |     0 |\n",
       "| GarageCars    |     0 |\n",
       "| GarageCond    |     0 |\n",
       "| GarageFinish  |     0 |\n",
       "| GarageQual    |     0 |\n",
       "| GarageType    |     0 |\n",
       "| GarageYrBlt   |     0 |\n",
       "| GrLivArea     |     0 |\n",
       "| HalfBath      |     0 |\n",
       "| Heating       |     0 |\n",
       "| HeatingQC     |     0 |\n",
       "| HouseStyle    |     0 |\n",
       "| KitchenAbvGr  |     0 |\n",
       "| KitchenQual   |     0 |\n",
       "| LandContour   |     0 |\n",
       "| LandSlope     |     0 |\n",
       "| LotArea       |     0 |\n",
       "| LotConfig     |     0 |\n",
       "| LotFrontage   |     0 |\n",
       "| LotShape      |     0 |\n",
       "| LowQualFinSF  |     0 |\n",
       "| MSSubClass    |     0 |\n",
       "| MSZoning      |     0 |\n",
       "| MasVnrArea    |     0 |\n",
       "| MasVnrType    |   797 |\n",
       "| MiscFeature   |  1328 |\n",
       "| MiscVal       |     0 |\n",
       "| MoSold        |     0 |\n",
       "| Neighborhood  |     0 |\n",
       "| OpenPorchSF   |     0 |\n",
       "| OverallCond   |     0 |\n",
       "| OverallQual   |     0 |\n",
       "| PavedDrive    |     0 |\n",
       "| PoolArea      |     0 |\n",
       "| PoolQC        |  1372 |\n",
       "| RoofMatl      |     0 |\n",
       "| RoofStyle     |     0 |\n",
       "| SaleCondition |     0 |\n",
       "| SaleType      |     0 |\n",
       "| ScreenPorch   |     0 |\n",
       "| Street        |     0 |\n",
       "| TotRmsAbvGrd  |     0 |\n",
       "| TotalBsmtSF   |     0 |\n",
       "| Utilities     |     0 |\n",
       "| WoodDeckSF    |     0 |\n",
       "| YearBuilt     |     0 |\n",
       "| YearRemodAdd  |     0 |\n",
       "| YrSold        |     0 |\n",
       "| SalePrice     |     0 |"
      ],
      "text/plain": [
       "<IPython.core.display.Markdown object>"
      ]
     },
     "metadata": {},
     "output_type": "display_data"
    }
   ],
   "source": [
    "df = pd.read_csv('https://cf-courses-data.s3.us.cloud-object-storage.appdomain.cloud/IBM-ML240EN-SkillsNetwork/labs/data/Ames_Housing_Sales.csv')\n",
    "\n",
    "dict_nans = {\"Column\": [], \"NaN\": []}\n",
    "for column, nans in zip(df.columns, df.isna().sum()):\n",
    "    dict_nans[\"Column\"].append(column)\n",
    "    dict_nans[\"NaN\"].append(nans)\n",
    "\n",
    "df = pd.DataFrame(dict_nans)\n",
    "display_df()"
   ]
  },
  {
   "cell_type": "markdown",
   "id": "ddc895b6-fd0c-459e-9d67-0783c51198dd",
   "metadata": {},
   "source": [
    "<br>"
   ]
  },
  {
   "cell_type": "markdown",
   "id": "bfdd6ba6-d6c3-460d-a923-b7f5fd31cd0c",
   "metadata": {},
   "source": [
    "Getting information like the minimum value, max value, count, mean, etc"
   ]
  },
  {
   "cell_type": "code",
   "execution_count": 4,
   "id": "3c9b68f7-c302-4d38-bccf-bd2fc1fd4d2b",
   "metadata": {},
   "outputs": [
    {
     "data": {
      "text/markdown": [
       "|   count |           mean |          std |   min |    25% |    50% |      75% |        max |\n",
       "|--------:|---------------:|-------------:|------:|-------:|-------:|---------:|-----------:|\n",
       "|    1379 |   1177.13      |   387.015    |   438 |    894 |   1098 |   1414   |   4692     |\n",
       "|    1379 |    353.425     |   439.553    |     0 |      0 |      0 |    738.5 |   2065     |\n",
       "|    1379 |      3.60986   |    30.1547   |     0 |      0 |      0 |      0   |    508     |\n",
       "|    1379 |      2.86512   |     0.783961 |     0 |      2 |      3 |      3   |      6     |\n",
       "|    1379 |    455.579     |   459.691    |     0 |      0 |    400 |    732   |   5644     |\n",
       "|    1379 |     48.1022    |   164.325    |     0 |      0 |      0 |      0   |   1474     |\n",
       "|    1379 |      0.430747  |     0.514052 |     0 |      0 |      0 |      1   |      2     |\n",
       "|    1379 |      0.0587382 |     0.238285 |     0 |      0 |      0 |      0   |      2     |\n",
       "|    1379 |    570.765     |   443.678    |     0 |    228 |    476 |    811   |   2336     |\n",
       "|    1379 |     21.0392    |    60.5351   |     0 |      0 |      0 |      0   |    552     |\n",
       "|    1379 |      0.641769  |     0.645985 |     0 |      0 |      1 |      1   |      3     |\n",
       "|    1379 |      1.58013   |     0.548051 |     0 |      1 |      2 |      2   |      3     |\n",
       "|    1379 |    500.762     |   185.681    |   160 |    380 |    484 |    580   |   1418     |\n",
       "|    1379 |      1.87092   |     0.630055 |     1 |      1 |      2 |      2   |      4     |\n",
       "|    1379 |   1978.51      |    24.6897   |  1900 |   1961 |   1980 |   2002   |   2010     |\n",
       "|    1379 |   1534.69      |   519.141    |   438 |   1154 |   1479 |   1790   |   5642     |\n",
       "|    1379 |      0.395939  |     0.502402 |     0 |      0 |      0 |      1   |      2     |\n",
       "|    1379 |      1.03843   |     0.196048 |     1 |      1 |      1 |      1   |      3     |\n",
       "|    1379 |  10695.8       | 10214.7      |  1300 |   7741 |   9591 |  11708.5 | 215245     |\n",
       "|    1379 |     75.1123    |    28.2142   |    21 |     60 |     71 |     88   |    405.783 |\n",
       "|    1379 |      4.13488   |    40.1305   |     0 |      0 |      0 |      0   |    572     |\n",
       "|    1379 |     56.0225    |    41.0269   |    20 |     20 |     50 |     70   |    190     |\n",
       "|    1379 |    108.365     |   184.195    |     0 |      0 |      0 |    170.5 |   1600     |\n",
       "|    1379 |     42.8891    |   501.614    |     0 |      0 |      0 |      0   |  15500     |\n",
       "|    1379 |      6.3343    |     2.69667  |     1 |      5 |      6 |      8   |     12     |\n",
       "|    1379 |     47.2763    |    65.2105   |     0 |      0 |     27 |     69.5 |    547     |\n",
       "|    1379 |      5.57796   |     1.08103  |     2 |      5 |      5 |      6   |      9     |\n",
       "|    1379 |      6.18709   |     1.34578  |     2 |      5 |      6 |      7   |     10     |\n",
       "|    1379 |      2.92096   |    41.3355   |     0 |      0 |      0 |      0   |    738     |\n",
       "|    1379 |     15.9456    |    57.2496   |     0 |      0 |      0 |      0   |    480     |\n",
       "|    1379 |      6.55257   |     1.58982  |     3 |      5 |      6 |      7   |     12     |\n",
       "|    1379 |   1074.45      |   436.372    |     0 |    810 |   1008 |   1314   |   6110     |\n",
       "|    1379 |     97.4569    |   126.699    |     0 |      0 |      0 |    171   |    857     |\n",
       "|    1379 |   1972.96      |    29.3799   |  1880 |   1955 |   1976 |   2001   |   2010     |\n",
       "|    1379 |   1985.44      |    20.4449   |  1950 |   1968 |   1994 |   2004   |   2010     |\n",
       "|    1379 |   2007.81      |     1.33022  |  2006 |   2007 |   2008 |   2009   |   2010     |\n",
       "|    1379 | 185480         | 79023.9      | 35311 | 134000 | 167500 | 217750   | 755000     |"
      ],
      "text/plain": [
       "<IPython.core.display.Markdown object>"
      ]
     },
     "metadata": {},
     "output_type": "display_data"
    }
   ],
   "source": [
    "df = pd.read_csv('https://cf-courses-data.s3.us.cloud-object-storage.appdomain.cloud/IBM-ML240EN-SkillsNetwork/labs/data/Ames_Housing_Sales.csv')\n",
    "display_df(df.describe().T)"
   ]
  },
  {
   "cell_type": "markdown",
   "id": "4293f2eb-a286-4a14-863d-1abae476531b",
   "metadata": {},
   "source": [
    "<br>"
   ]
  },
  {
   "cell_type": "markdown",
   "id": "96efdf76-a70c-4779-a932-80c95a8368be",
   "metadata": {},
   "source": [
    "Creating/modifying a column based on operations done on other columns (or itself)"
   ]
  },
  {
   "cell_type": "code",
   "execution_count": 5,
   "id": "14635ebf-86f8-44a6-a960-d33fbe9888d9",
   "metadata": {},
   "outputs": [
    {
     "data": {
      "text/markdown": [
       "|   A |   B |\n",
       "|----:|----:|\n",
       "|   2 |   6 |\n",
       "|   7 |   3 |"
      ],
      "text/plain": [
       "<IPython.core.display.Markdown object>"
      ]
     },
     "metadata": {},
     "output_type": "display_data"
    },
    {
     "data": {
      "text/markdown": [
       "|   A |   B |   C |\n",
       "|----:|----:|----:|\n",
       "|   2 |   6 |   8 |\n",
       "|   7 |   3 |  10 |"
      ],
      "text/plain": [
       "<IPython.core.display.Markdown object>"
      ]
     },
     "metadata": {},
     "output_type": "display_data"
    },
    {
     "data": {
      "text/markdown": [
       "|   A |   B |   C |\n",
       "|----:|----:|----:|\n",
       "|   2 |   6 |   4 |\n",
       "|   7 |   3 |   5 |"
      ],
      "text/plain": [
       "<IPython.core.display.Markdown object>"
      ]
     },
     "metadata": {},
     "output_type": "display_data"
    }
   ],
   "source": [
    "# Creating our base dataframe\n",
    "df = pd.DataFrame({\n",
    "    'A': [2,7],\n",
    "    'B': [6,3]\n",
    "})\n",
    "display_df()\n",
    "\n",
    "# Creating a new col based on operations on other existing columns\n",
    "df['C'] = df['A'] + df['B']\n",
    "display_df()\n",
    "\n",
    "# Editing that col based on the value of itself\n",
    "df['C'] = df['C'] / 2\n",
    "display_df()"
   ]
  },
  {
   "cell_type": "markdown",
   "id": "a5b4ac86-9273-4061-b472-9f69fd00ea86",
   "metadata": {},
   "source": [
    "<br>"
   ]
  },
  {
   "cell_type": "markdown",
   "id": "f2236626-224c-4992-84cd-d1b9d9a50797",
   "metadata": {},
   "source": [
    "Combining two dataframes vertically"
   ]
  },
  {
   "cell_type": "code",
   "execution_count": 6,
   "id": "6082a39b-a858-4262-bcba-46995448560d",
   "metadata": {},
   "outputs": [
    {
     "data": {
      "text/markdown": [
       "|   A |   B |\n",
       "|----:|----:|\n",
       "|   2 |   1 |\n",
       "|   4 |   3 |"
      ],
      "text/plain": [
       "<IPython.core.display.Markdown object>"
      ]
     },
     "metadata": {},
     "output_type": "display_data"
    },
    {
     "data": {
      "text/markdown": [
       "|   B |   A |\n",
       "|----:|----:|\n",
       "|   5 |   6 |\n",
       "|   7 |   8 |"
      ],
      "text/plain": [
       "<IPython.core.display.Markdown object>"
      ]
     },
     "metadata": {},
     "output_type": "display_data"
    },
    {
     "data": {
      "text/markdown": [
       "|   A |   B |\n",
       "|----:|----:|\n",
       "|   2 |   1 |\n",
       "|   4 |   3 |\n",
       "|   6 |   5 |\n",
       "|   8 |   7 |"
      ],
      "text/plain": [
       "<IPython.core.display.Markdown object>"
      ]
     },
     "metadata": {},
     "output_type": "display_data"
    }
   ],
   "source": [
    "df1 = pd.DataFrame({\n",
    "    'A': [2,4],\n",
    "    'B': [1,3]\n",
    "})\n",
    "\n",
    "df2 = pd.DataFrame({\n",
    "    'B': [5,7],\n",
    "    'A': [6,8]\n",
    "})\n",
    "\n",
    "combined_df = pd.concat([df1, df2])\n",
    "\n",
    "display_df(df1)\n",
    "display_df(df2)\n",
    "display_df(combined_df)"
   ]
  },
  {
   "cell_type": "markdown",
   "id": "9022a581-11f2-4e45-a000-a234db69a741",
   "metadata": {},
   "source": [
    "<br>"
   ]
  },
  {
   "cell_type": "markdown",
   "id": "9e9cf340-ef0e-409c-b2cf-93ca0799d7f3",
   "metadata": {},
   "source": [
    "Combining two dataframes horizantally"
   ]
  },
  {
   "cell_type": "code",
   "execution_count": 7,
   "id": "1c58eb92-eab5-4a8c-b50a-79bdc2288a2e",
   "metadata": {},
   "outputs": [
    {
     "data": {
      "text/markdown": [
       "|   A |   B |\n",
       "|----:|----:|\n",
       "|   2 |   6 |\n",
       "|   7 |   3 |"
      ],
      "text/plain": [
       "<IPython.core.display.Markdown object>"
      ]
     },
     "metadata": {},
     "output_type": "display_data"
    },
    {
     "data": {
      "text/markdown": [
       "|   C |\n",
       "|----:|\n",
       "|   8 |\n",
       "|  10 |"
      ],
      "text/plain": [
       "<IPython.core.display.Markdown object>"
      ]
     },
     "metadata": {},
     "output_type": "display_data"
    },
    {
     "data": {
      "text/markdown": [
       "|   A |   B |   C |\n",
       "|----:|----:|----:|\n",
       "|   2 |   6 |   8 |\n",
       "|   7 |   3 |  10 |"
      ],
      "text/plain": [
       "<IPython.core.display.Markdown object>"
      ]
     },
     "metadata": {},
     "output_type": "display_data"
    }
   ],
   "source": [
    "df1 = pd.DataFrame({\n",
    "    'A': [2,7],\n",
    "    'B': [6,3]\n",
    "})\n",
    "\n",
    "df2 = pd.DataFrame()\n",
    "df2['C'] = df1['A'] + df1['B']\n",
    "\n",
    "combined_df = pd.concat([df1, df2], axis=1)\n",
    "\n",
    "display_df(df1)\n",
    "display_df(df2)\n",
    "display_df(combined_df)"
   ]
  },
  {
   "cell_type": "markdown",
   "id": "cb253779-d528-44b4-90d5-3c3cb1cb6998",
   "metadata": {},
   "source": [
    "<br>"
   ]
  },
  {
   "cell_type": "markdown",
   "id": "4c435de1-5146-4974-883c-eecd52a08bee",
   "metadata": {},
   "source": [
    "A way to convert a 2D matrix to a dataframe where the first row is column name"
   ]
  },
  {
   "cell_type": "code",
   "execution_count": 8,
   "id": "f0fa73dd-a228-4c20-9c77-166770003e4c",
   "metadata": {},
   "outputs": [
    {
     "data": {
      "text/markdown": [
       "| 0   | 1   |\n",
       "|:----|:----|\n",
       "| A   | B   |\n",
       "| 3   | 4   |\n",
       "| 9   | 7   |"
      ],
      "text/plain": [
       "<IPython.core.display.Markdown object>"
      ]
     },
     "metadata": {},
     "output_type": "display_data"
    },
    {
     "data": {
      "text/markdown": [
       "|   A |   B |\n",
       "|----:|----:|\n",
       "|   3 |   4 |\n",
       "|   9 |   7 |"
      ],
      "text/plain": [
       "<IPython.core.display.Markdown object>"
      ]
     },
     "metadata": {},
     "output_type": "display_data"
    }
   ],
   "source": [
    "df = pd.DataFrame([\n",
    "    ['A','B'],\n",
    "    [3,4],\n",
    "    [9,7]\n",
    "])\n",
    "display_df()\n",
    "\n",
    "df.columns = df.iloc[0]\n",
    "df = df[1:]\n",
    "\n",
    "display_df()"
   ]
  },
  {
   "cell_type": "markdown",
   "id": "6ced298c-a5f5-4d91-b22f-69dfd0fe8cd9",
   "metadata": {},
   "source": [
    "<br>"
   ]
  },
  {
   "cell_type": "markdown",
   "id": "5f075a86-ad45-4623-bfc1-1060a04fb786",
   "metadata": {},
   "source": [
    "Replacing items in dataframes"
   ]
  },
  {
   "cell_type": "code",
   "execution_count": 9,
   "id": "fbe17db1-eb53-403a-8212-898be96b85c3",
   "metadata": {},
   "outputs": [
    {
     "data": {
      "text/markdown": [
       "| A   | B   |\n",
       "|:----|:----|\n",
       "| A1  | ?   |\n",
       "| ?   | B2  |\n",
       "| A3  | B3  |"
      ],
      "text/plain": [
       "<IPython.core.display.Markdown object>"
      ]
     },
     "metadata": {},
     "output_type": "display_data"
    },
    {
     "data": {
      "text/html": [
       "<div>\n",
       "<style scoped>\n",
       "    .dataframe tbody tr th:only-of-type {\n",
       "        vertical-align: middle;\n",
       "    }\n",
       "\n",
       "    .dataframe tbody tr th {\n",
       "        vertical-align: top;\n",
       "    }\n",
       "\n",
       "    .dataframe thead th {\n",
       "        text-align: right;\n",
       "    }\n",
       "</style>\n",
       "<table border=\"1\" class=\"dataframe\">\n",
       "  <thead>\n",
       "    <tr style=\"text-align: right;\">\n",
       "      <th></th>\n",
       "      <th>A</th>\n",
       "      <th>B</th>\n",
       "    </tr>\n",
       "  </thead>\n",
       "  <tbody>\n",
       "    <tr>\n",
       "      <th>0</th>\n",
       "      <td>A1</td>\n",
       "      <td>&lt;NA&gt;</td>\n",
       "    </tr>\n",
       "    <tr>\n",
       "      <th>1</th>\n",
       "      <td>&lt;NA&gt;</td>\n",
       "      <td>B2</td>\n",
       "    </tr>\n",
       "    <tr>\n",
       "      <th>2</th>\n",
       "      <td>A3</td>\n",
       "      <td>B3</td>\n",
       "    </tr>\n",
       "  </tbody>\n",
       "</table>\n",
       "</div>"
      ],
      "text/plain": [
       "      A     B\n",
       "0    A1  <NA>\n",
       "1  <NA>    B2\n",
       "2    A3    B3"
      ]
     },
     "execution_count": 9,
     "metadata": {},
     "output_type": "execute_result"
    }
   ],
   "source": [
    "df = pd.DataFrame({\n",
    "    'A': ['A1', '?' , 'A3'],\n",
    "    'B': ['?' , 'B2', 'B3']\n",
    "})\n",
    "display_df()\n",
    "\n",
    "df.replace(['?'], pd.NA, inplace=True)\n",
    "df # Cannot do display_df() because of an error when converting to MD, ie \"boolean value of NA is ambiguous\""
   ]
  },
  {
   "cell_type": "markdown",
   "id": "43257148-89f5-453b-adf3-183c95e6d1ae",
   "metadata": {},
   "source": [
    "<br>"
   ]
  },
  {
   "cell_type": "markdown",
   "id": "aeb8e1a5-5808-41ea-b1f6-858d4b9d55dc",
   "metadata": {},
   "source": [
    "Dropping rows containing NA (or any specified value)"
   ]
  },
  {
   "cell_type": "code",
   "execution_count": 10,
   "id": "66423666-da86-4330-98ff-4041525cd801",
   "metadata": {},
   "outputs": [
    {
     "data": {
      "text/html": [
       "<div>\n",
       "<style scoped>\n",
       "    .dataframe tbody tr th:only-of-type {\n",
       "        vertical-align: middle;\n",
       "    }\n",
       "\n",
       "    .dataframe tbody tr th {\n",
       "        vertical-align: top;\n",
       "    }\n",
       "\n",
       "    .dataframe thead th {\n",
       "        text-align: right;\n",
       "    }\n",
       "</style>\n",
       "<table border=\"1\" class=\"dataframe\">\n",
       "  <thead>\n",
       "    <tr style=\"text-align: right;\">\n",
       "      <th></th>\n",
       "      <th>A</th>\n",
       "      <th>B</th>\n",
       "    </tr>\n",
       "  </thead>\n",
       "  <tbody>\n",
       "    <tr>\n",
       "      <th>0</th>\n",
       "      <td>A1</td>\n",
       "      <td>&lt;NA&gt;</td>\n",
       "    </tr>\n",
       "    <tr>\n",
       "      <th>1</th>\n",
       "      <td>&lt;NA&gt;</td>\n",
       "      <td>B2</td>\n",
       "    </tr>\n",
       "    <tr>\n",
       "      <th>2</th>\n",
       "      <td>A3</td>\n",
       "      <td>B3</td>\n",
       "    </tr>\n",
       "  </tbody>\n",
       "</table>\n",
       "</div>"
      ],
      "text/plain": [
       "      A     B\n",
       "0    A1  <NA>\n",
       "1  <NA>    B2\n",
       "2    A3    B3"
      ]
     },
     "metadata": {},
     "output_type": "display_data"
    },
    {
     "data": {
      "text/html": [
       "<div>\n",
       "<style scoped>\n",
       "    .dataframe tbody tr th:only-of-type {\n",
       "        vertical-align: middle;\n",
       "    }\n",
       "\n",
       "    .dataframe tbody tr th {\n",
       "        vertical-align: top;\n",
       "    }\n",
       "\n",
       "    .dataframe thead th {\n",
       "        text-align: right;\n",
       "    }\n",
       "</style>\n",
       "<table border=\"1\" class=\"dataframe\">\n",
       "  <thead>\n",
       "    <tr style=\"text-align: right;\">\n",
       "      <th></th>\n",
       "      <th>A</th>\n",
       "      <th>B</th>\n",
       "    </tr>\n",
       "  </thead>\n",
       "  <tbody>\n",
       "    <tr>\n",
       "      <th>2</th>\n",
       "      <td>A3</td>\n",
       "      <td>B3</td>\n",
       "    </tr>\n",
       "  </tbody>\n",
       "</table>\n",
       "</div>"
      ],
      "text/plain": [
       "    A   B\n",
       "2  A3  B3"
      ]
     },
     "metadata": {},
     "output_type": "display_data"
    },
    {
     "data": {
      "text/html": [
       "<div>\n",
       "<style scoped>\n",
       "    .dataframe tbody tr th:only-of-type {\n",
       "        vertical-align: middle;\n",
       "    }\n",
       "\n",
       "    .dataframe tbody tr th {\n",
       "        vertical-align: top;\n",
       "    }\n",
       "\n",
       "    .dataframe thead th {\n",
       "        text-align: right;\n",
       "    }\n",
       "</style>\n",
       "<table border=\"1\" class=\"dataframe\">\n",
       "  <thead>\n",
       "    <tr style=\"text-align: right;\">\n",
       "      <th></th>\n",
       "      <th>A</th>\n",
       "      <th>B</th>\n",
       "    </tr>\n",
       "  </thead>\n",
       "  <tbody>\n",
       "    <tr>\n",
       "      <th>0</th>\n",
       "      <td>A3</td>\n",
       "      <td>B3</td>\n",
       "    </tr>\n",
       "  </tbody>\n",
       "</table>\n",
       "</div>"
      ],
      "text/plain": [
       "    A   B\n",
       "0  A3  B3"
      ]
     },
     "metadata": {},
     "output_type": "display_data"
    }
   ],
   "source": [
    "df = pd.DataFrame({\n",
    "    'A': ['A1' , pd.NA, 'A3'],\n",
    "    'B': [pd.NA, 'B2' , 'B3']\n",
    "})\n",
    "display(df)\n",
    "\n",
    "df.dropna(inplace=True)\n",
    "display(df) # Here as we can see, the index number of the row is preserved. To solve that, we can use reset_index method\n",
    "\n",
    "# df.reset_index?\n",
    "df.reset_index(inplace=True, drop=True) # drop is by default set to False. So by default, it inserts a new column called \"Index\"\n",
    "display(df)"
   ]
  },
  {
   "cell_type": "code",
   "execution_count": 11,
   "id": "44081af5-8bc4-408d-bbbb-ee7d7467e294",
   "metadata": {},
   "outputs": [
    {
     "data": {
      "text/plain": [
       "\"\\nround(df.describe(),2)\\n\\ndf.decsribe(include='object') # This will only describe the columns with object (ie string) datatype\\ndf.describe().T\\n\\ndf_uniques = df.nunique()\\n\\nbinary_cols   = df_uniques[df_uniques == 2].index.tolist()\\ncategory_cols = df_uniques[(df_uniques > 2) & (df_uniques <= 10)].index.tolist()\\n\\ncorrelations = df[ATTRS].corrwith(df['SalePrice'])\\ncorrelations.sort_values(inplace=True)\\n\\ndf.dtypes\\ndf.T\\ndf.value_counts(normalize=True).sort_index()\\n\""
      ]
     },
     "execution_count": 11,
     "metadata": {},
     "output_type": "execute_result"
    }
   ],
   "source": [
    "'''\n",
    "round(df.describe(),2)\n",
    "\n",
    "df.decsribe(include='object') # This will only describe the columns with object (ie string) datatype\n",
    "df.describe().T\n",
    "\n",
    "df_uniques = df.nunique()\n",
    "\n",
    "binary_cols   = df_uniques[df_uniques == 2].index.tolist()\n",
    "category_cols = df_uniques[(df_uniques > 2) & (df_uniques <= 10)].index.tolist()\n",
    "\n",
    "correlations = df[ATTRS].corrwith(df['SalePrice'])\n",
    "correlations.sort_values(inplace=True)\n",
    "\n",
    "df.dtypes\n",
    "df.T\n",
    "df.value_counts(normalize=True).sort_index()\n",
    "'''"
   ]
  },
  {
   "cell_type": "markdown",
   "id": "2e127930-98a5-4317-8cb4-fe707d6cda36",
   "metadata": {},
   "source": [
    "<br><br><br><br><br>"
   ]
  },
  {
   "cell_type": "markdown",
   "id": "2068ab95-209d-4e96-aaf5-5f33851276ec",
   "metadata": {},
   "source": [
    "# Numpy"
   ]
  },
  {
   "cell_type": "code",
   "execution_count": 12,
   "id": "df668481-8930-4ba1-bf83-36b1ff7d6785",
   "metadata": {},
   "outputs": [
    {
     "name": "stdout",
     "output_type": "stream",
     "text": [
      "[  1.   2.   3.   4.   5.   6.   7.   8.   9.  10.  11.  12.  13.  14.\n",
      "  15.  16.  17.  18.  19.  20.  21.  22.  23.  24.  25.  26.  27.  28.\n",
      "  29.  30.  31.  32.  33.  34.  35.  36.  37.  38.  39.  40.  41.  42.\n",
      "  43.  44.  45.  46.  47.  48.  49.  50.  51.  52.  53.  54.  55.  56.\n",
      "  57.  58.  59.  60.  61.  62.  63.  64.  65.  66.  67.  68.  69.  70.\n",
      "  71.  72.  73.  74.  75.  76.  77.  78.  79.  80.  81.  82.  83.  84.\n",
      "  85.  86.  87.  88.  89.  90.  91.  92.  93.  94.  95.  96.  97.  98.\n",
      "  99. 100.]\n"
     ]
    }
   ],
   "source": [
    "import numpy as np\n",
    "\n",
    "start   = 1\n",
    "end     = 100\n",
    "n_elems = 100\n",
    "\n",
    "print(np.linspace(start, end, n_elems))"
   ]
  },
  {
   "cell_type": "code",
   "execution_count": 13,
   "id": "f0494cbf-e79f-422d-8319-89ddfbc37cf0",
   "metadata": {},
   "outputs": [
    {
     "data": {
      "text/plain": [
       "\u001b[0;31mDocstring:\u001b[0m\n",
       "arange([start,] stop[, step,], dtype=None, *, like=None)\n",
       "\n",
       "Return evenly spaced values within a given interval.\n",
       "\n",
       "``arange`` can be called with a varying number of positional arguments:\n",
       "\n",
       "* ``arange(stop)``: Values are generated within the half-open interval\n",
       "  ``[0, stop)`` (in other words, the interval including `start` but\n",
       "  excluding `stop`).\n",
       "* ``arange(start, stop)``: Values are generated within the half-open\n",
       "  interval ``[start, stop)``.\n",
       "* ``arange(start, stop, step)`` Values are generated within the half-open\n",
       "  interval ``[start, stop)``, with spacing between values given by\n",
       "  ``step``.\n",
       "\n",
       "For integer arguments the function is roughly equivalent to the Python\n",
       "built-in :py:class:`range`, but returns an ndarray rather than a ``range``\n",
       "instance.\n",
       "\n",
       "When using a non-integer step, such as 0.1, it is often better to use\n",
       "`numpy.linspace`.\n",
       "\n",
       "See the Warning sections below for more information.\n",
       "\n",
       "Parameters\n",
       "----------\n",
       "start : integer or real, optional\n",
       "    Start of interval.  The interval includes this value.  The default\n",
       "    start value is 0.\n",
       "stop : integer or real\n",
       "    End of interval.  The interval does not include this value, except\n",
       "    in some cases where `step` is not an integer and floating point\n",
       "    round-off affects the length of `out`.\n",
       "step : integer or real, optional\n",
       "    Spacing between values.  For any output `out`, this is the distance\n",
       "    between two adjacent values, ``out[i+1] - out[i]``.  The default\n",
       "    step size is 1.  If `step` is specified as a position argument,\n",
       "    `start` must also be given.\n",
       "dtype : dtype, optional\n",
       "    The type of the output array.  If `dtype` is not given, infer the data\n",
       "    type from the other input arguments.\n",
       "like : array_like, optional\n",
       "    Reference object to allow the creation of arrays which are not\n",
       "    NumPy arrays. If an array-like passed in as ``like`` supports\n",
       "    the ``__array_function__`` protocol, the result will be defined\n",
       "    by it. In this case, it ensures the creation of an array object\n",
       "    compatible with that passed in via this argument.\n",
       "\n",
       "    .. versionadded:: 1.20.0\n",
       "\n",
       "Returns\n",
       "-------\n",
       "arange : ndarray\n",
       "    Array of evenly spaced values.\n",
       "\n",
       "    For floating point arguments, the length of the result is\n",
       "    ``ceil((stop - start)/step)``.  Because of floating point overflow,\n",
       "    this rule may result in the last element of `out` being greater\n",
       "    than `stop`.\n",
       "\n",
       "Warnings\n",
       "--------\n",
       "The length of the output might not be numerically stable.\n",
       "\n",
       "Another stability issue is due to the internal implementation of\n",
       "`numpy.arange`.\n",
       "The actual step value used to populate the array is\n",
       "``dtype(start + step) - dtype(start)`` and not `step`. Precision loss\n",
       "can occur here, due to casting or due to using floating points when\n",
       "`start` is much larger than `step`. This can lead to unexpected\n",
       "behaviour. For example::\n",
       "\n",
       "  >>> np.arange(0, 5, 0.5, dtype=int)\n",
       "  array([0, 0, 0, 0, 0, 0, 0, 0, 0, 0])\n",
       "  >>> np.arange(-3, 3, 0.5, dtype=int)\n",
       "  array([-3, -2, -1,  0,  1,  2,  3,  4,  5,  6,  7,  8])\n",
       "\n",
       "In such cases, the use of `numpy.linspace` should be preferred.\n",
       "\n",
       "The built-in :py:class:`range` generates :std:doc:`Python built-in integers\n",
       "that have arbitrary size <python:c-api/long>`, while `numpy.arange`\n",
       "produces `numpy.int32` or `numpy.int64` numbers. This may result in\n",
       "incorrect results for large integer values::\n",
       "\n",
       "  >>> power = 40\n",
       "  >>> modulo = 10000\n",
       "  >>> x1 = [(n ** power) % modulo for n in range(8)]\n",
       "  >>> x2 = [(n ** power) % modulo for n in np.arange(8)]\n",
       "  >>> print(x1)\n",
       "  [0, 1, 7776, 8801, 6176, 625, 6576, 4001]  # correct\n",
       "  >>> print(x2)\n",
       "  [0, 1, 7776, 7185, 0, 5969, 4816, 3361]  # incorrect\n",
       "\n",
       "See Also\n",
       "--------\n",
       "numpy.linspace : Evenly spaced numbers with careful handling of endpoints.\n",
       "numpy.ogrid: Arrays of evenly spaced numbers in N-dimensions.\n",
       "numpy.mgrid: Grid-shaped arrays of evenly spaced numbers in N-dimensions.\n",
       ":ref:`how-to-partition`\n",
       "\n",
       "Examples\n",
       "--------\n",
       ">>> np.arange(3)\n",
       "array([0, 1, 2])\n",
       ">>> np.arange(3.0)\n",
       "array([ 0.,  1.,  2.])\n",
       ">>> np.arange(3,7)\n",
       "array([3, 4, 5, 6])\n",
       ">>> np.arange(3,7,2)\n",
       "array([3, 5])\n",
       "\u001b[0;31mType:\u001b[0m      builtin_function_or_method"
      ]
     },
     "metadata": {},
     "output_type": "display_data"
    }
   ],
   "source": [
    "np.arange?"
   ]
  },
  {
   "cell_type": "code",
   "execution_count": 14,
   "id": "f44573ad-e71f-498d-bc66-383e271899af",
   "metadata": {},
   "outputs": [
    {
     "name": "stdout",
     "output_type": "stream",
     "text": [
      "[[1 2 3]\n",
      " [4 5 6]]\n",
      "[1 2 3]\n",
      "[1 2 3]\n",
      "1\n",
      "1\n",
      "[1 4]\n"
     ]
    }
   ],
   "source": [
    "# Create a 2D array\n",
    "arr = np.array([[1, 2, 3], [4, 5, 6]])\n",
    "print(arr)\n",
    "# Display the first row\n",
    "print(arr[0])\n",
    "print(arr[0, :])\n",
    "# Display the first element of the first row\n",
    "print(arr[0][0])\n",
    "print(arr[0, 0])\n",
    "# Display the first column of all rows\n",
    "print(arr[:, 0])"
   ]
  },
  {
   "cell_type": "markdown",
   "id": "50ccc0a4-cbb4-4c67-9913-1c4c96c844fb",
   "metadata": {},
   "source": [
    "<br><br><br><br><br>"
   ]
  },
  {
   "cell_type": "markdown",
   "id": "ecd50868-14e4-494c-aef7-1ff80840c283",
   "metadata": {},
   "source": [
    "<br><br><br><br><br>"
   ]
  },
  {
   "cell_type": "markdown",
   "id": "e2285648-99de-4e65-bc5e-aee40b46dabb",
   "metadata": {},
   "source": [
    "<br><br><br><br><br>"
   ]
  }
 ],
 "metadata": {
  "kernelspec": {
   "display_name": "Python 3 (ipykernel)",
   "language": "python",
   "name": "python3"
  },
  "language_info": {
   "codemirror_mode": {
    "name": "ipython",
    "version": 3
   },
   "file_extension": ".py",
   "mimetype": "text/x-python",
   "name": "python",
   "nbconvert_exporter": "python",
   "pygments_lexer": "ipython3",
   "version": "3.12.1"
  }
 },
 "nbformat": 4,
 "nbformat_minor": 5
}
