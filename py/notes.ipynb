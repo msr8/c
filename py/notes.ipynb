{
 "cells": [
  {
   "cell_type": "markdown",
   "id": "98e7e9e3-a869-4643-ac11-36de0a531110",
   "metadata": {},
   "source": [
    "# Comments"
   ]
  },
  {
   "cell_type": "code",
   "execution_count": 1,
   "id": "d92cbdbb-4b61-49ae-868a-798a1513ac8b",
   "metadata": {},
   "outputs": [
    {
     "name": "stdout",
     "output_type": "stream",
     "text": [
      "Hello World\n"
     ]
    }
   ],
   "source": [
    "# This is a comment\n",
    "'''\n",
    "This is also a comment\n",
    "'''\n",
    "\n",
    "print('Hello World')"
   ]
  },
  {
   "cell_type": "markdown",
   "id": "38695fa7-6c96-4158-b59e-270886568deb",
   "metadata": {},
   "source": [
    "<br><br><br>"
   ]
  },
  {
   "cell_type": "markdown",
   "id": "07e98579-caa0-4851-89af-21606237541a",
   "metadata": {},
   "source": [
    "# Multiple statements in single line"
   ]
  },
  {
   "cell_type": "code",
   "execution_count": 2,
   "id": "645a519c-8355-4de3-94e4-b3d5ab419975",
   "metadata": {},
   "outputs": [
    {
     "name": "stdout",
     "output_type": "stream",
     "text": [
      "3\n"
     ]
    }
   ],
   "source": [
    "a = 3; print(a)"
   ]
  },
  {
   "cell_type": "markdown",
   "id": "32c1b27b-6c73-49f9-ace1-95329dfda68d",
   "metadata": {},
   "source": [
    "<br><br><br>"
   ]
  },
  {
   "cell_type": "markdown",
   "id": "db5ffaba-c2c0-4bc5-a2cf-7e363715914c",
   "metadata": {},
   "source": [
    "# Multiline statements"
   ]
  },
  {
   "cell_type": "code",
   "execution_count": 3,
   "id": "7babdb93-72e9-41ef-a924-182e2a4e8f2e",
   "metadata": {},
   "outputs": [
    {
     "name": "stdout",
     "output_type": "stream",
     "text": [
      "26\n"
     ]
    }
   ],
   "source": [
    "a = 1 + 3 + 4 + \\\n",
    "    5 + 6 + 7\n",
    "print(a)"
   ]
  },
  {
   "cell_type": "markdown",
   "id": "28c62c42-1be4-496b-845c-e5098b32fb67",
   "metadata": {},
   "source": [
    "<br><br><br>"
   ]
  },
  {
   "cell_type": "markdown",
   "id": "f908b8f8-b7c6-4d0e-8452-b207318da4e0",
   "metadata": {},
   "source": [
    "# Multiple variable assignmeents"
   ]
  },
  {
   "cell_type": "code",
   "execution_count": 4,
   "id": "64e10dc4-68c1-499b-9c04-5cabd7d1bb95",
   "metadata": {},
   "outputs": [
    {
     "name": "stdout",
     "output_type": "stream",
     "text": [
      "4 5\n"
     ]
    }
   ],
   "source": [
    "a,b = 4,5\n",
    "print(a,b)"
   ]
  },
  {
   "cell_type": "markdown",
   "id": "78e00b22-6cc0-4ab3-bb9f-2a18dda377dc",
   "metadata": {},
   "source": [
    "<br><br><br>"
   ]
  },
  {
   "cell_type": "markdown",
   "id": "44fbcb3f-77a3-484a-b0b1-aa84f30907ea",
   "metadata": {},
   "source": [
    "# `help()` & `__doc__`"
   ]
  },
  {
   "cell_type": "code",
   "execution_count": 5,
   "id": "eeac4d3b-d5cc-4018-8d69-93db5597e739",
   "metadata": {},
   "outputs": [
    {
     "name": "stdout",
     "output_type": "stream",
     "text": [
      "Help on function my_func in module __main__:\n",
      "\n",
      "my_func()\n",
      "    This is a doc-string\n",
      "\n",
      "----------------------------------------------------------------------------------------------------\n",
      "This is a doc-string\n"
     ]
    }
   ],
   "source": [
    "def my_func():\n",
    "    '''This is a doc-string'''\n",
    "    pass\n",
    "\n",
    "help(my_func)\n",
    "print('-'*100)\n",
    "print(my_func.__doc__)"
   ]
  },
  {
   "cell_type": "markdown",
   "id": "470d326b-ad8f-4b80-a87e-a3a20b9735c9",
   "metadata": {},
   "source": [
    "<br><br><br>"
   ]
  },
  {
   "cell_type": "markdown",
   "id": "28fec687-4cd4-4649-8f70-0193bd6a2dc9",
   "metadata": {},
   "source": [
    "# `print()` and `input()`"
   ]
  },
  {
   "cell_type": "code",
   "execution_count": 6,
   "id": "91f6e66e-af3b-40b1-8858-6ba37e162c10",
   "metadata": {},
   "outputs": [
    {
     "data": {
      "text/plain": [
       "\u001b[0;31mSignature:\u001b[0m \u001b[0mprint\u001b[0m\u001b[0;34m(\u001b[0m\u001b[0;34m*\u001b[0m\u001b[0margs\u001b[0m\u001b[0;34m,\u001b[0m \u001b[0msep\u001b[0m\u001b[0;34m=\u001b[0m\u001b[0;34m' '\u001b[0m\u001b[0;34m,\u001b[0m \u001b[0mend\u001b[0m\u001b[0;34m=\u001b[0m\u001b[0;34m'\\n'\u001b[0m\u001b[0;34m,\u001b[0m \u001b[0mfile\u001b[0m\u001b[0;34m=\u001b[0m\u001b[0;32mNone\u001b[0m\u001b[0;34m,\u001b[0m \u001b[0mflush\u001b[0m\u001b[0;34m=\u001b[0m\u001b[0;32mFalse\u001b[0m\u001b[0;34m)\u001b[0m\u001b[0;34m\u001b[0m\u001b[0;34m\u001b[0m\u001b[0m\n",
       "\u001b[0;31mDocstring:\u001b[0m\n",
       "Prints the values to a stream, or to sys.stdout by default.\n",
       "\n",
       "sep\n",
       "  string inserted between values, default a space.\n",
       "end\n",
       "  string appended after the last value, default a newline.\n",
       "file\n",
       "  a file-like object (stream); defaults to the current sys.stdout.\n",
       "flush\n",
       "  whether to forcibly flush the stream.\n",
       "\u001b[0;31mType:\u001b[0m      builtin_function_or_method"
      ]
     },
     "metadata": {},
     "output_type": "display_data"
    }
   ],
   "source": [
    "print?"
   ]
  },
  {
   "cell_type": "code",
   "execution_count": 7,
   "id": "336ec6ec-c2c0-425f-9222-d6cb113800e5",
   "metadata": {},
   "outputs": [
    {
     "data": {
      "text/plain": [
       "\u001b[0;31mSignature:\u001b[0m \u001b[0minput\u001b[0m\u001b[0;34m(\u001b[0m\u001b[0mprompt\u001b[0m\u001b[0;34m=\u001b[0m\u001b[0;34m''\u001b[0m\u001b[0;34m)\u001b[0m\u001b[0;34m\u001b[0m\u001b[0;34m\u001b[0m\u001b[0m\n",
       "\u001b[0;31mDocstring:\u001b[0m\n",
       "Forward raw_input to frontends\n",
       "\n",
       "Raises\n",
       "------\n",
       "StdinNotImplementedError if active frontend doesn't support stdin.\n",
       "\u001b[0;31mFile:\u001b[0m      /usr/local/lib/python3.11/site-packages/ipykernel/kernelbase.py\n",
       "\u001b[0;31mType:\u001b[0m      method"
      ]
     },
     "metadata": {},
     "output_type": "display_data"
    }
   ],
   "source": [
    "input?"
   ]
  },
  {
   "cell_type": "markdown",
   "id": "31a987ad-f65c-41bf-9c53-ec0a7758a41b",
   "metadata": {},
   "source": [
    "<br><br><br>"
   ]
  },
  {
   "cell_type": "markdown",
   "id": "93d01b6c-9ae2-474b-a522-47b3821bcdc9",
   "metadata": {},
   "source": [
    "# Types of statements"
   ]
  },
  {
   "cell_type": "markdown",
   "id": "3d3c69ea-5b42-49a5-a166-f8e3d0b55f9d",
   "metadata": {},
   "source": [
    "### Empty Statements\n",
    "- Empty statements are also known as \"pass statements\"\n",
    "- They serve as a placeholder and do nothing when executed\n",
    "- The `pass` keyword is used to create an empty statement\n",
    "- Commonly used as a temporary placeholder when writing code or as a stub for future implementation\n",
    "\n",
    "### Simple Statements\n",
    "- Simple statements are single-line statements that perform a specific action or operation\n",
    "- They typically end with a newline character or a semicolon\n",
    "- Common examples include assignment statements, function calls, and print statements\n",
    "\n",
    "### Compound Statements (Block Statements)\n",
    "- Compound statements consist of one or more simple statements grouped together into a block\n",
    "- They are often used to control program flow and define structures like loops and conditional statements\n",
    "- Compound statements are defined using indentation (whitespace) in Python\n",
    "- Common examples include if statements, while loops, for loops, and function definitions\n"
   ]
  },
  {
   "cell_type": "code",
   "execution_count": 8,
   "id": "6a0263fc-2aba-4c00-8fea-10568597834d",
   "metadata": {},
   "outputs": [
    {
     "name": "stdout",
     "output_type": "stream",
     "text": [
      "Hello, World!\n",
      "x is positive\n"
     ]
    }
   ],
   "source": [
    "# Empty statement\n",
    "def foo():\n",
    "    pass  # Placeholder for function implementation\n",
    "\n",
    "\n",
    "# Simple statements\n",
    "x = 5  # Assignment statement\n",
    "print(\"Hello, World!\")  # Print statement\n",
    "result = min(2, 3)  # Function call and assignment\n",
    "\n",
    "\n",
    "# Compound statements\n",
    "if x > 0:\n",
    "    print(\"x is positive\")  # Indented block as part of the if statement\n",
    "else:\n",
    "    print(\"x is not positive\")  # Indented block as part of the else statement\n",
    "\n",
    "while x < 5:\n",
    "    print(x)  # Indented block as part of the while loop\n",
    "    x += 1\n",
    "\n",
    "def greet(name):\n",
    "    print(f\"Hello, {name}!\")  # Indented block as part of the function definition\n",
    "\n"
   ]
  },
  {
   "cell_type": "markdown",
   "id": "74c06c82-1073-430e-81dc-4dccd9406e6f",
   "metadata": {},
   "source": [
    "<br><br><br>"
   ]
  },
  {
   "cell_type": "markdown",
   "id": "46183b15-168b-44a6-8f9b-7e14055c17c6",
   "metadata": {},
   "source": [
    "# Switch/Match"
   ]
  },
  {
   "cell_type": "code",
   "execution_count": 9,
   "id": "e59c846c-1803-433e-959d-718a125e9c6c",
   "metadata": {},
   "outputs": [
    {
     "name": "stdout",
     "output_type": "stream",
     "text": [
      "x is 1\n"
     ]
    }
   ],
   "source": [
    "x = 1\n",
    "\n",
    "match x:\n",
    "    case 1: print(\"x is 1\")\n",
    "    case 2: print(\"x is 2\")\n",
    "    case 3: print(\"x is 3\")\n",
    "    case _: print(\"x is something else\")"
   ]
  },
  {
   "cell_type": "markdown",
   "id": "1fd61e60-395d-460f-9e83-c4645f6cf323",
   "metadata": {},
   "source": [
    "<br><br><br>"
   ]
  },
  {
   "cell_type": "markdown",
   "id": "1cd645ae-62ac-4ca3-acce-c6e7ffd5b6d1",
   "metadata": {},
   "source": [
    "# String fuctions\n",
    "\n",
    "(https://www.w3schools.com/python/python_strings_methods.asp)\n",
    "\n",
    "<br>\n",
    "\n",
    "\n",
    "### isprintable()\n",
    "\n",
    "Basically if all characters are printable. Non-printable characters are things starting with `\\` like `\\n`, `\\t`, or `\\x07`\n",
    "\n",
    "\n",
    "<br>\n",
    "\n",
    "\n",
    "### `isnumeric()` vs `isdigit()`\n",
    "`isnumeric()` is more inclusive than `isdigit()` and can handle a wider range of numeric representations. For eg, `123½` will be returned `True` by `isnumeric()` but not by `isdigit()`\n",
    "\n",
    "\n",
    "<br>\n",
    "\n",
    "\n",
    "### `find()` vs `index()`\n",
    "\n",
    "`find()` returns `-1` if the substring wasn't found while `index()` raises a `ValueError`\n",
    "\n",
    "\n",
    "<br>\n",
    "\n",
    "\n",
    "### `split()` vs `rsplit()`\n",
    "\n",
    "- `split()` splits the string from left to right, while `rsplit()` splits it from right to left.\n",
    "- By default, both methods return all substrings, but you can use the `maxsplit` parameter to limit the number of splits. When using `rsplit()`, the remaining part of the string appears as the first element in the result list.\n",
    "\n",
    "\n",
    "<br>\n",
    "\n",
    "\n",
    "### `casefold()` vs `lower()`\n",
    "\n",
    "- Use `lower()` when you need to perform simple case-insensitive operations and you are working with characters primarily from the Latin alphabet.\n",
    "- Use `casefold()` when you need robust case-insensitive operations, especially for internationalization and localization, or when dealing with characters from various languages and scripts.\n",
    "\n",
    "`casefold()` is generally recommended for case-insensitive string comparisons in most applications, as it provides more consistent and accurate results across a wide range of characters and languages.\n",
    "\n",
    "\n",
    "<br>\n",
    "\n",
    "\n",
    "### `partition()` vs `split()`\n",
    "\n",
    "`s.partition()` and `s.split()` are two string methods in Python used for splitting a string based on a specified delimiter. However, they work slightly differently:\n",
    "\n",
    "1. `s.partition(delimiter)`:\n",
    "   - The `s.partition(delimiter)` method splits the string `s` into three parts based on the first occurrence of the specified `delimiter`\n",
    "   - It returns a tuple containing three elements: the part of the string before the delimiter, the delimiter itself, and the part of the string after the delimiter\n",
    "   - If the delimiter is not found in the string, the method returns a tuple with the original string as the first element, followed by two empty strings\n",
    "\n",
    "2. `s.split(delimiter, maxsplit)`:\n",
    "   - The `s.split(delimiter, maxsplit)` method splits the string `s` into a list of substrings based on the specified `delimiter`\n",
    "   - You can optionally specify the `maxsplit` parameter to control the maximum number of splits to perform\n",
    "   - If the delimiter is not found in the string, the method returns a list with the entire string as a single element\n",
    "\n",
    "- `partition()` always returns a tuple with three elements, whereas `split()` returns a list of substrings\n",
    "- `partition()` splits the string only at the first occurrence of the delimiter, while `split()` can split the string at multiple occurrences\n",
    "- `split()` provides more flexibility with the `maxsplit` parameter, allowing you to limit the number of splits\n",
    "\n",
    "\n"
   ]
  },
  {
   "cell_type": "code",
   "execution_count": 10,
   "id": "fd77e149-c70e-4ffa-b20a-1bf43b33c5b5",
   "metadata": {},
   "outputs": [
    {
     "name": "stdout",
     "output_type": "stream",
     "text": [
      "1  Hello world 123!\n",
      "2  hello world 123!\n",
      "3  --hello World 123!--\n",
      "4  2\n",
      "5  True\n",
      "6  hello     World     123!\n",
      "7  4\n",
      "8  4\n",
      "9  False\n",
      "10 False\n",
      "11 True\n",
      "12 False\n",
      "13 False\n",
      "14 False\n",
      "15 False\n",
      "16 False\n",
      "17 True\n",
      "18 False\n",
      "19 False\n",
      "20 False\n",
      "21 hello World 123!--------------\n",
      "22 hello world 123!\n",
      "23 hello World 123!\n",
      "24 hello World 123!\n",
      "25 7\n",
      "26 7\n",
      "27 --------------hello World 123!\n",
      "28 ['hell', ' W', 'rld 123!']\n",
      "29 hello World 123\n",
      "30 ['hell', ' W', 'rld 123!']\n",
      "31 ['hello', 'World', '123!']\n",
      "32 False\n",
      "33 hello World 123\n",
      "34 HELLO wORLD 123!\n",
      "35 Hello World 123!\n",
      "36 HELLO WORLD 123!\n",
      "37 00hello World 123!\n"
     ]
    }
   ],
   "source": [
    "x   = 'hello World 123!'\n",
    "x_t = 'hello\\tWorld\\t123!'\n",
    "x_l = 'hello\\nWorld\\n123!'\n",
    "\n",
    "print('1 ', x.capitalize())              # Capitalize the first character of the string\n",
    "print('2 ', x.casefold())                # Perform case-folding on the string\n",
    "print('3 ', x.center(20,'-'))            # Center-align the string within a width of 20, padding with '-'\n",
    "print('4 ', x.count('o'))                # Count instances of substring 'o'\n",
    "print('5 ', x.endswith('123!'))          # Check if the string ends with '123!'\n",
    "print('6 ', x_t.expandtabs(10))          # Expand tab characters to spaces with tab stops at 10\n",
    "print('7 ', x.find('o'))                 # Find the first occurrence of 'o'\n",
    "print('8 ', x.index('o'))                # Get the index of the first occurrence of 'o'\n",
    "print('9 ', x.isalnum())                 # Check if all characters are alphanumeric\n",
    "print('10', x.isalpha())                 # Check if all characters are alphabetic\n",
    "print('11', x.isascii())                 # Check if the string is ASCII\n",
    "print('12', x.isdecimal())               # Check if all characters are decimal digits\n",
    "print('13', x.isdigit())                 # Check if all characters are digits\n",
    "print('14', x.isidentifier())            # Check if the string is a valid identifier\n",
    "print('15', x.islower())                 # Check if all characters are lowercase\n",
    "print('16', x.isnumeric())               # Check if all characters are numeric\n",
    "print('17', x.isprintable())             # Check if the string is printable\n",
    "print('18', x.isspace())                 # Check if all characters are whitespace\n",
    "print('19', x.istitle())                 # Check if the string is titlecased\n",
    "print('20', x.isupper())                 # Check if all characters are uppercase\n",
    "print('21', x.ljust(30,'-'))             # Left-justify the string within a width of 30, padding with '-'\n",
    "print('22', x.lower())                   # Convert the string to lowercase\n",
    "print('23', x.lstrip('H'))               # Remove leading 'H' characters from the string\n",
    "print('24', x.replace('world','Earth'))  # Replace 'world' with 'Earth' in the string\n",
    "print('25', x.rfind('o'))                # Find the last occurrence of 'o'\n",
    "print('26', x.rindex('o'))               # Get the index of the last occurrence of 'o'\n",
    "print('27', x.rjust(30, '-'))            # Right-justify the string within a width of 30, padding with '-'\n",
    "print('28', x.rsplit('o'))               # Split the string at 'o' from right to left\n",
    "print('29', x.rstrip('!'))               # Remove trailing '!' characters from the string\n",
    "print('30', x.split('o'))                # Split the string at 'o'\n",
    "print('31', x_l.splitlines())            # Split the string into a list of lines\n",
    "print('32', x.startswith('H'))           # Check if the string starts with 'H'\n",
    "print('33', x.strip('!'))                # Remove leading and trailing '!' characters from the string\n",
    "print('34', x.swapcase())                # Swap the case of characters in the string\n",
    "print('35', x.title())                   # Convert the string to titlecase\n",
    "print('36', x.upper())                   # Convert the string to uppercase\n",
    "print('37', x.zfill(18))                 # Pad the string with zeros to a total width of 18"
   ]
  },
  {
   "cell_type": "markdown",
   "id": "3440811b-54bb-4460-aea2-1db30ad0c11f",
   "metadata": {},
   "source": [
    "<br><br><br>"
   ]
  },
  {
   "cell_type": "markdown",
   "id": "e7719504-4f25-467e-8d6e-dc95484ad916",
   "metadata": {},
   "source": [
    "# Lists"
   ]
  },
  {
   "cell_type": "code",
   "execution_count": 11,
   "id": "6c019748-9482-4d8b-82b7-42b0ace74d79",
   "metadata": {},
   "outputs": [
    {
     "name": "stdout",
     "output_type": "stream",
     "text": [
      "1  [0, 1, 2, 3, 4, 4, 6]\n",
      "2  []\n",
      "3  2\n",
      "4  [0, 1, 2, 3, 4, 4, 8, 9, 1]\n",
      "5  4\n",
      "6  [0, 1, 2, 99, 3, 4, 4]\n",
      "7  [0, 1, 2, 4, 4]\n",
      "8  [0, 1, 2, 3, 4]\n",
      "9  [4, 4, 3, 2, 1, 0]\n",
      "10 [4, 4, 3, 2, 1, 0]\n"
     ]
    }
   ],
   "source": [
    "x = [0, 1, 2, 3, 4, 4]\n",
    "\n",
    "# Add an element to the end of an array\n",
    "y = x.copy()\n",
    "y.append(6)\n",
    "print('1 ', y)\n",
    "\n",
    "# Remove all elements from a list\n",
    "y = x.copy()\n",
    "y.clear()\n",
    "print('2 ', y)\n",
    "\n",
    "# Return the number of elements with the specified value\n",
    "print('3 ', x.count(4))\n",
    "\n",
    "# Add the elements of a list (or any iterable), to the end of the current list, basically y + [8,9,1]\n",
    "y = x.copy()\n",
    "y.extend([8,9,1])\n",
    "print('4 ', y)\n",
    "\n",
    "# Return the index of the first element with the specified value\n",
    "print('5 ', x.index(4))\n",
    "\n",
    "# Add an element at the specified position (index, element)\n",
    "y = x.copy()\n",
    "y.insert(3,99)\n",
    "print('6 ', y)\n",
    "\n",
    "# Remove the element at the specified position\n",
    "y = x.copy()\n",
    "y.remove(3)\n",
    "print('7 ', y)\n",
    "\n",
    "# Remove the first item with the specified value\n",
    "y = x.copy()\n",
    "y.remove(4)\n",
    "print('8 ', y)\n",
    "\n",
    "# Reverse the order of the list, basically [::-1] but inplace\n",
    "y = x.copy()\n",
    "y.reverse()\n",
    "print('9 ', y)\n",
    "\n",
    "# Sort the list, basically sorted() but inplace\n",
    "y = x.copy()\n",
    "y.sort(reverse=True)\n",
    "print('10', y)"
   ]
  },
  {
   "cell_type": "markdown",
   "id": "e4674839-003c-46af-9a61-6cfdf6d64e65",
   "metadata": {},
   "source": [
    "<br><br><br>"
   ]
  },
  {
   "cell_type": "markdown",
   "id": "3410fa34-29ce-4f0d-891c-c56d8ea37d68",
   "metadata": {},
   "source": [
    "# Dictionaries"
   ]
  },
  {
   "cell_type": "code",
   "execution_count": 12,
   "id": "4904c98e-77be-4833-b18c-25f336a55e65",
   "metadata": {},
   "outputs": [
    {
     "name": "stdout",
     "output_type": "stream",
     "text": [
      "1  {}\n",
      "2  {1: 'empty', 2: 'empty', 3: 'empty'}\n",
      "3  {1: 'one', 3: 'three'} | two | okay\n",
      "3 {1: 'one', 2: 'two', 3: 'three'} | (4, 'four')\n",
      "4 {1: 'one', 2: 'two', 3: 'three', 4: None} | three | None\n",
      "5 {1: 'one', 2: 'two', 3: 'III', 4: 'four'}\n"
     ]
    }
   ],
   "source": [
    "x = {\n",
    "    1: 'one',\n",
    "    2: 'two',\n",
    "    3: 'three'\n",
    "}\n",
    "\n",
    "# .clear() empties the dictionary\n",
    "y = x.copy()\n",
    "y.clear()\n",
    "print('1 ', y)\n",
    "\n",
    "# .fromkeys() makes a dictionary made via a list of keys. You can optionally provide a value\n",
    "y = dict.fromkeys([1,2,3], 'empty')\n",
    "print('2 ', y)\n",
    "\n",
    "# .pop deletes a key-value pair given a key, similar to del dict[key]. Returns the deleted value. A default value can also be passed which would be returned if key is not present. If keyis not present and no default value is given, KeyError will arise\n",
    "y  = x.copy()\n",
    "z1 = y.pop(2)\n",
    "z2 = y.pop(2, 'okay')\n",
    "print('3 ', y, f'| {z1} | {z2}')\n",
    "\n",
    "# .popitem() pops the most recently inserted item. Returns the deleted key-value pair in a tuple. In versions before 3.7, it removes a random item\n",
    "y = x.copy()\n",
    "y[4] = 'four'\n",
    "z = y.popitem()\n",
    "print(3, y, f'| {z}')\n",
    "\n",
    "# .setdeafult() behaves a bit, uniquely. A key and a an (optional) values is passed (it is by default `None`). if the key exists, its value is returned. Else the key is inserted with the passed value\n",
    "y  = x.copy()\n",
    "z1 = y.setdefault(3)\n",
    "z2 = y.setdefault(4)\n",
    "print(4, y, f'| {z1} | {z2}')\n",
    "\n",
    "# .update() takes in a dict and basically pastes it over the original dictionary. For every key in new disctionary, if the key exists in original dict, its value (in the original dict) is updated. Else, the key-value pair is inserted. Remember, the changes are made only in the original dict\n",
    "y = x.copy()\n",
    "y.update({3:'III', 4:'four'})\n",
    "print(5, y)\n"
   ]
  },
  {
   "cell_type": "markdown",
   "id": "31466789-7198-445a-84ae-41b9817a4693",
   "metadata": {},
   "source": [
    "<br><br><br>"
   ]
  },
  {
   "cell_type": "markdown",
   "id": "68c1380d-8f77-45ed-a707-f01bd964f2d2",
   "metadata": {},
   "source": [
    "# Functions\n",
    "- Max depth of recursion is 1000 by default (can be changed by using the `sys.setrecursionlimit()` function)\n",
    "\n",
    "<br>\n",
    "\n",
    "### Base case vs recursive case\n",
    "- Base case is the case where the function will not be called again, and it usually returns something\n",
    "- Recursive case is the case which calls the function again\n",
    "\n",
    "<br>\n",
    "\n",
    "### Direct vs indirect recursion\n",
    "- In direct recursion, a function directly calls itself during its execution\n",
    "- In indirect recursion, two or more functions are involved in a cycle of calling each other, creating a chain of function calls\n",
    "\n",
    "```python\n",
    "def direct_recursion(n):\n",
    "    if n <= 0:    return 1\n",
    "    else:         return n * direct_recursion(n - 1)\n",
    "\n",
    "def indirect_recursion_a(n):\n",
    "    if n <= 0:    return 1\n",
    "    else:         return n - indirect_recursion_b(n - 1)\n",
    "def indirect_recursion_b(n):\n",
    "    if n <= 0:    return 0\n",
    "    else:         return n + indirect_recursion_a(n - 1)\n",
    "```\n",
    "\n",
    "<br>\n",
    "\n",
    "### Head vs tail recursion\n",
    "- In head recursion, the recursive call is at the beginning of the function, before any other operations\n",
    "- In tail recursion, the recursive call is the last operation in the function, and its result is immediately returned without further computation\n",
    "\n",
    "```python\n",
    "def head_recursion(n):\n",
    "    if n <= 0: return 1\n",
    "    head_recursion(n - 1)\n",
    "    n += 7\n",
    "    print(n)\n",
    "\n",
    "def tail_recursion(n, accumulator=1):\n",
    "    if n <= 0: return accumulator\n",
    "    n += 7\n",
    "    return tail_recursion(n - 1, n * accumulator)\n",
    "```\n",
    "\n",
    "<br>\n",
    "\n",
    "### Types of arguments\n",
    "- Positional (req.)\n",
    "- Keyword (req.)\n",
    "- Variable-length positional args (*args) (optional)\n",
    "- Variable-length keyword args (**kwargs) (optional)\n",
    "\n",
    "<br>\n",
    "\n",
    "### Conditions where recursions are used\n",
    "[To fill in from PPT. If you are reading this, just fucking kill me]"
   ]
  },
  {
   "cell_type": "markdown",
   "id": "6bc63eb9-7ca9-4ca3-88a8-5603b6994bae",
   "metadata": {},
   "source": [
    "<br><br><br>"
   ]
  },
  {
   "cell_type": "markdown",
   "id": "bd931d5f-4df8-43a7-93b9-73ae43163392",
   "metadata": {},
   "source": [
    "# Random module"
   ]
  },
  {
   "cell_type": "code",
   "execution_count": 13,
   "id": "e88c59ea-26a8-40fb-9bc4-baea160c90d9",
   "metadata": {},
   "outputs": [
    {
     "name": "stdout",
     "output_type": "stream",
     "text": [
      "1  0.1456692551041303\n",
      "2  59\n",
      "3  195.1717702826737\n",
      "4  20\n",
      "5  7\n",
      "6  [3, 9, 8, 4, 10, 1, 5, 2, 7, 6]\n",
      "7  [7, 7, 3]\n",
      "8  [4, 5, 10]\n"
     ]
    }
   ],
   "source": [
    "# https://docs.python.org/3/library/random.html\n",
    "# https://www.w3schools.com/python/module_random.asp\n",
    "\n",
    "import random\n",
    "# Set seed. If the argument is omitted or None, the current system time is used. If randomness sources are provided by the operating system, they are used instead of the system time\n",
    "random.seed(100)\n",
    "\n",
    "# Random float N such that 0 <= N <= 1\n",
    "print('1 ', random.random())\n",
    "# Random integer N such that a <= N <= b. Alias for randrange(a, b+1)\n",
    "print('2 ', random.randint(1,100))\n",
    "# Return a random floating point number N such that a <= N <= b for a <= b and b <= N <= a for b < a\n",
    "print('3 ', random.uniform(100, 200))\n",
    "# Randomly selected element from range(start, stop, step). This is roughly equivalent to choice(range(start, stop, step)) but supports arbitrarily large ranges and is optimized for common cases. The positional argument pattern matches the range() function. Keyword arguments should not be used because they can be interpreted in unexpected ways. For example randrange(start=100) is interpreted as randrange(0, 100, 1)\n",
    "print('4 ', random.randrange(0,100,10))\n",
    "# Return a random element from the non-empty sequence seq. If seq is empty, raises IndexError\n",
    "print('5 ', random.choice([1,2,3,4,5,6,7,8,9,10]))\n",
    "# Shuffle the sequence x inplace\n",
    "x = [1,2,3,4,5,6,7,8,9,10]\n",
    "random.shuffle(x)\n",
    "print('6 ', x)\n",
    "# Return a k sized list of elements chosen from the population WITH replacement. If the population is empty, raises IndexError. If a weights sequence is specified, selections are made according to the relative weights. Alternatively, if a cum_weights sequence is given, the selections are made according to the cumulative weights (perhaps computed using itertools.accumulate()). For example, the relative weights [10, 5, 30, 5] are equivalent to the cumulative weights [10, 15, 45, 50]. Internally, the relative weights are converted to cumulative weights before making selections, so supplying the cumulative weights saves work\n",
    "print('7 ', random.choices([1,2,3,4,5,6,7,8,9,10], k=3))\n",
    "# Return a k length list of unique elements chosen from the population sequence. Used for random sampling without replacement\n",
    "print('8 ', random.sample([1,2,3,4,5,6,7,8,9,10], k=3))"
   ]
  },
  {
   "cell_type": "markdown",
   "id": "f1ac63b5-766a-4ff5-9ea3-4398923f481c",
   "metadata": {},
   "source": [
    "<br><br><br>"
   ]
  },
  {
   "cell_type": "markdown",
   "id": "9b6f7f9b-da7f-40ee-aa63-e4d1eae0c26a",
   "metadata": {},
   "source": [
    "# Math module"
   ]
  },
  {
   "cell_type": "code",
   "execution_count": 14,
   "id": "bc199689-af7b-4785-80cd-3b4c551b65f1",
   "metadata": {},
   "outputs": [
    {
     "name": "stdout",
     "output_type": "stream",
     "text": [
      "1   4\n",
      "2   5\n",
      "3   4\n",
      "4   720\n",
      "5   3.0\n",
      "6   5.0\n",
      "7   2\n",
      "8   60\n",
      "9   3.5\n",
      "11  2.718281828459045\n",
      "12  8.0\n",
      "13  1.0\n",
      "14  1.0\n",
      "15  1.0\n",
      "16  81.0\n",
      "17  180.0\n",
      "18  3.141592653589793\n",
      "19  0.0\n",
      "20  1.0\n",
      "21  0.0\n",
      "\n",
      "CONSTANTS\n",
      "\n",
      "𝜋:    3.141592653589793\n",
      "e:    2.718281828459045\n",
      "NAN:  nan\n",
      "∞:    inf\n"
     ]
    }
   ],
   "source": [
    "import math\n",
    "\n",
    "# Return the floor of x, the largest integer less than or equal to x\n",
    "print('1  ', math.floor(4.5))\n",
    "# Return the ceiling of x, the smallest integer greater than or equal to x\n",
    "print('2  ', math.ceil(4.5))\n",
    "# Return x with the fractional part removed, leaving the integer part. This rounds toward 0: trunc() is equivalent to floor() for positive x, and equivalent to ceil() for negative x\n",
    "print('3  ', math.trunc(4.5))\n",
    "# Return n factorial as an integer. Raises ValueError if n is not integral or is negative\n",
    "print('4  ', math.factorial(6))\n",
    "# Return the square root of x (as a float)\n",
    "print('5  ', math.sqrt(9))\n",
    "# Return the Euclidean distance between two points p and q, each given as a sequence (or iterable) of coordinates. The two points must have the same dimension. Returns a float\n",
    "print('6  ', math.dist([0,0],[3,4]))\n",
    "# Return the greatest common divisor of the specified integer arguments. If any of the arguments is nonzero, then the returned value is the largest positive integer that is a divisor of all arguments. If all arguments are zero, then the returned value is 0. gcd() without arguments returns 0\n",
    "print('7  ', math.gcd(2,4,0,6,10))\n",
    "# Return the least common multiple of the specified integer arguments. If all arguments are nonzero, then the returned value is the smallest positive integer that is a multiple of all arguments. If any of the arguments is zero, then the returned value is 0. lcm() without arguments returns 1\n",
    "print('8  ', math.lcm(2,4,6,10))\n",
    "# Return the product of all the elements in the input iterable. The default start value for the product is 1. The start value is the value the product is multiplied with\n",
    "print('9  ', math.prod([1,7], start=0.5))\n",
    "# (New in 3.12) Return the sum of products of values from two iterables p and q. Raises ValueError if the inputs do not have the same length\n",
    "# print('10 ', math.sumprod([1,7], [4,5]))\n",
    "# Return e raised to the power x, where e = 2.718281… is the base of natural logarithms. This is usually more accurate than math.e ** x or pow(math.e, x)\n",
    "print('11 ', math.exp(1))\n",
    "# (New in 3.11) Return 2 raised to the power x. Returns a float\n",
    "print('12 ', math.exp2(3))\n",
    "# With one argument, return the natural logarithm of x (to base e). With two arguments, return the logarithm of x to the given base, calculated as log(x)/log(base)\n",
    "print('13 ', math.log(math.e))\n",
    "# Return the base-2 logarithm of x. This is usually more accurate than log(x, 2)\n",
    "print('14 ', math.log2(2))\n",
    "# Return the base-10 logarithm of x. This is usually more accurate than log(x, 10)\n",
    "print('15 ', math.log10(10))\n",
    "# Return x raised to the power y. pow(1.0, x) and pow(x, 0.0) always return 1.0, even when x is a zero or a NaN. If both x and y are finite, x is negative, and y is not an integer then pow(x, y) is undefined, and raises ValueError. Unlike the built-in ** operator, math.pow() converts both its arguments to type float. Use ** or the built-in pow() function for computing exact integer powers\n",
    "print('16 ', math.pow(9, 2))\n",
    "# Convert angle x from radians to degrees. Returns a float\n",
    "print('17 ', math.degrees(math.pi))\n",
    "# Convert angle x from degrees to radians\n",
    "print('18 ', math.radians(180))\n",
    "# Return the sine of x radians\n",
    "print('19 ', math.sin(0))\n",
    "# Return the cosine of x radians\n",
    "print('20 ', math.cos(0))\n",
    "# Return the tangent of x radians\n",
    "print('21 ', math.tan(0))\n",
    "\n",
    "print('\\nCONSTANTS\\n')\n",
    "print('𝜋:   ', math.pi)\n",
    "print('e:   ', math.e)\n",
    "# A floating-point \"not a number\" (NaN) value. Equivalent to the output of float('nan'). math.nan and float('nan') are not considered to equal to any other numeric value, including themselves. To check whether a number is a NaN, use the isnan() function to test for NaNs instead of is or ==\n",
    "print('NAN: ', math.nan)\n",
    "# A floating-point positive infinity. (For negative infinity, use -math.inf.) Equivalent to the output of float('inf'):\n",
    "print('∞:   ', math.inf)\n",
    "\n"
   ]
  },
  {
   "cell_type": "markdown",
   "id": "dab22aa5-b35a-4739-9c9a-fca8c03dc5c5",
   "metadata": {},
   "source": [
    "<br><br><br>"
   ]
  },
  {
   "cell_type": "markdown",
   "id": "8e212ac7-d7f4-422e-9b43-5a762135f9aa",
   "metadata": {},
   "source": [
    "# Numpy\n",
    "\n",
    "- Written partially in python, most of the parts requiring fast computation utilise C or C++\n",
    "- It’s the universal standard for working with numerical data in Python, and it’s at the core of the scientific python and libraries like numpy, scikit-learn, and pandas\n",
    "- It provides ndarray, a homogeneous n-dimensional array object, with methods to efficiently operate on it\n",
    "- It can be used to perform a wide variety of mathematical operations on arrays\n",
    "- It adds powerful data structures to Pthon that guarantee efficient calculations with arrays and matrices and it supplies an enormous library of high-level mathematical functions that operate on these arrays and matrices\n",
    "- NumPy is a general-purpose array-processing package\n",
    "- It provides a high-performance multidimensional array object, and tools for working with these arrays\n",
    "- It contains various features including these important ones:\n",
    "  - A powerful N-dimensional array object\n",
    "  - Sophisticated (broadcasting) functions\n",
    "  - Tools for integrating C/C++ and Fortran code\n",
    "\n",
    "<br>\n",
    "\n",
    "## Why use numpy?\n",
    "- Numpy aims to provide an array object that is up to 50x faster than traditional Python lists\n",
    "- Numpy array consumes less memory than lists\n",
    "\n",
    "<br>\n",
    "\n",
    "## Element wise operations (2 arrays)\n",
    "(Cant be arsed with showing all of them via code)\n",
    "\n",
    "These basically take in two arrays as arguments. Both should have the same shape. They are:\n",
    "\n",
    "- `np.add()`\n",
    "- `np.subtract()`\n",
    "- `np.multiply()`\n",
    "- `np.divide()`\n",
    "- `np.remainder()`\n",
    "- `np.power()` (First array elements raised to powers from second array)\n",
    "- `np.maximum()`\n",
    "- `np.minimum()`\n",
    "- `np.logical_or()`\n",
    "- `np.logical_and()`\n",
    "\n",
    "<br>\n",
    "\n",
    "## Element wise operations (1 array)\n",
    "These basically take in an array and return an array of the same shape. They are:\n",
    "\n",
    "- `np.reciprocal()` (It makes a zero array for arrays with with the dtype being int)\n",
    "- `np.sign()` (1 for positive, -1 for negative)\n",
    "- `np.abs()`\n",
    "- `np.floor()`\n",
    "- `np.ceil()`\n",
    "- `np.round()` (Can take another argument, ie the argument you would pass in built in function `round`)\n",
    "- `np.sqrt()`\n",
    "\n",
    "<br>\n",
    "\n",
    "## Parameters/arguments\n",
    "\n",
    "### `np.array`\n",
    "  - `dtype`: Data type that all the elements will be converted to. If a value in the list cannot be converted to the desired datatype, a `ValueError` is raised. It can be a python class (like `complex`, `float`, or `bool`), or can be a string representing the desired datatype like:\n",
    "    - `int32` or `float32` (Here `32` represents the number of bytes the item takes)\n",
    "    - `i4` or `f4` (Here `4` represents the number of bits the item takes)\n",
    "    - `uint` (Unsigned integer)\n",
    "    - `U` (Unicode string)\n",
    "    - `S3` (String) (`3` represents the max number of characters in a element)\n",
    "\n",
    "### `np.zeros` and `np.ones`\n",
    "  - `size`: Must be a tuple, with first elem being no. of rows and second elem being no. of columns\n",
    "  - `dtype`\n",
    "\n",
    "<br>\n",
    "\n",
    "## Differences\n",
    "\n",
    "### `.shape` vs `.size` vs `.itemsize`\n",
    "  - `.shape` returns a tuple containing the number of rows and number of columns of the array\n",
    "  - `.size` returns an integer ie the total number of elements in the array\n",
    "  - `.itemsize` returns the number of bytes occupied by a single elem\n",
    "\n",
    "### `min`/`max` vs `argmin`/`argmax`\n",
    "  - `min`/`max` returns the element\n",
    "  - `argmin`/`argmax` returns the index(s)\n",
    "\n",
    "### `.shape` vs `.reshape` vs `.resize`\n",
    "(Note: I am talking about attributes/methods here. `np.resize` returns a copy and also starts repeating elements instead of using `0`. `np.reshape` works in the same way as the method)\n",
    "\n",
    "| Aspect | `.shape` | `.reshape` | `.resize` |\n",
    "| ------ | -------- | ---------- | --------- |\n",
    "| **Error** | Throws an error if mxn != no. of elems | Throws an error if mxn != no. of elems | If mxn != no. of elems, sets the new elements to `0` |\n",
    "| **Inplace/returns** | Inplace | Returns just a \"view\". So if changes to the original array is made, they are reflected | Inplace |\n",
    "\n",
    "### `.ravel` vs `.flatten`\n",
    "(Note: `.flat` is an attribute which represents the array in a 1D view)\n",
    "(Also note: there is also a function called `np.ravel` which works in the same way as the `ravel` method)\n",
    "\n",
    "- They both return shit, neither is inplace\n",
    "- `.ravel` returns a \"view\", while `.flatten` returns a copy\n",
    "- `.ravel` is faster as it does not occupy any memory\n",
    "\n",
    "<br>\n",
    "\n",
    "## Other shit\n",
    "\n",
    "- `numpy.ndarray` and `numpy.array` are essentially the same thing. The `numpy.array` function is a constructor for creating a new array, and the result is an instance of the `numpy.ndarray` class. So, when you use `numpy.array`, you are creating a NumPy array object, which is an instance of the `numpy.ndarray` class\n",
    "- axis 0 means column, axis 1 means row\n",
    "- `any`, `all`, and `median` work in the same syntax as `min` or `max`\n",
    "- Like pandas dataframes, doing something like `2*arr` will double all the elems in `arr`\n",
    "- When doing comparison operators between two arrays, it must be ensured that both arrays have the same shape. The resultant would be an array of the same shape with each element being `True` or `False` depending on the corresponding elements in the original arrays\n"
   ]
  },
  {
   "cell_type": "code",
   "execution_count": 15,
   "id": "81875919-83d3-4ce2-8279-c7e88e30417f",
   "metadata": {},
   "outputs": [
    {
     "name": "stdout",
     "output_type": "stream",
     "text": [
      "1  <class 'numpy.ndarray'>\n",
      "2  2.0\n",
      "3  [[1. 2. 3. 4. 5. 6.]]\n",
      "4  [[1 2 3 4 5 6]]\n",
      "5  float32\n",
      "6  6\n",
      "7  (1, 6)\n",
      "8  2\n",
      "9  4\n",
      "10 [[1.]\n",
      " [2.]\n",
      " [3.]\n",
      " [4.]\n",
      " [5.]\n",
      " [6.]]\n",
      "11 [[4.9e-324 9.9e-324 1.5e-323]\n",
      " [2.0e-323 2.5e-323 3.0e-323]]\n",
      "12 [[False False False]\n",
      " [False False False]]\n",
      "13 [[1 1 1 1]]\n",
      "14 [[1 0]\n",
      " [0 1]]\n",
      "15 [[0.50860435 0.43804196 0.50323485]]\n",
      "16 [0 2 4 6 8]\n",
      "17 [  4.   8.  12.  16.  20.  24.  28.  32.  36.  40.  44.  48.  52.  56.\n",
      "  60.  64.  68.  72.  76.  80.  84.  88.  92.  96. 100.]\n",
      "20 [[1 2 3 4 5 6]]\n",
      "19 True\n",
      "\n",
      "----------------------------------------------------------------------------------------------------\n",
      "\n",
      "SHAPE, RESHAPE, & RESIZE\n",
      "\n",
      "20 [[1. 2. 3. 4. 5. 6.]]\n",
      "21 [[1. 2. 3.]\n",
      " [4. 5. 6.]]\n",
      "22 [[1. 2. 3.]\n",
      " [4. 5. 6.]]\n",
      "23 [[1. 2. 3.]\n",
      " [4. 5. 6.]\n",
      " [0. 0. 0.]]\n",
      "\n",
      "----------------------------------------------------------------------------------------------------\n",
      "\n",
      "SUM & CUMSUM\n",
      "\n",
      "24 [[1 2 3]\n",
      " [4 5 6]\n",
      " [7 8 9]]\n",
      "25 45\n",
      "26 [12 15 18]\n",
      "27 [ 6 15 24]\n",
      "28 [ 1  3  6 10 15 21 28 36 45]\n",
      "29 [[ 1  2  3]\n",
      " [ 5  7  9]\n",
      " [12 15 18]]\n",
      "30 [[ 1  3  6]\n",
      " [ 4  9 15]\n",
      " [ 7 15 24]]\n",
      "\n",
      "----------------------------------------------------------------------------------------------------\n",
      "\n",
      "PROD & CUMPROD\n",
      "\n",
      "31 [[1 2 3]\n",
      " [4 5 6]\n",
      " [7 8 9]]\n",
      "32 362880\n",
      "33 [ 28  80 162]\n",
      "34 [  6 120 504]\n",
      "35 [     1      2      6     24    120    720   5040  40320 362880]\n",
      "36 [[  1   2   3]\n",
      " [  4  10  18]\n",
      " [ 28  80 162]]\n",
      "37 [[  1   2   6]\n",
      " [  4  20 120]\n",
      " [  7  56 504]]\n",
      "\n",
      "----------------------------------------------------------------------------------------------------\n",
      "\n",
      "MEAN\n",
      "\n",
      "38 [[1 2 3]\n",
      " [4 5 6]\n",
      " [7 8 9]]\n",
      "39 5.0\n",
      "40 [4. 5. 6.]\n",
      "41 [2. 5. 8.]\n",
      "\n",
      "----------------------------------------------------------------------------------------------------\n",
      "\n",
      "MIN & MAX\n",
      "\n",
      "42 [[1 2 3]\n",
      " [4 5 6]\n",
      " [7 8 9]]\n",
      "43 1\n",
      "44 [1 2 3]\n",
      "45 [1 4 7]\n",
      "46 9\n",
      "47 [7 8 9]\n",
      "48 [3 6 9]\n"
     ]
    }
   ],
   "source": [
    "import numpy as np\n",
    "\n",
    "arr = np.array([[1,2,3,4,5,6]], dtype='f4')\n",
    "print('1 ', type(arr))\n",
    "print('2 ', arr[0,1])\n",
    "print('3 ', arr)\n",
    "print('4 ', arr.astype(int))\n",
    "print('5 ', arr.dtype)\n",
    "print('6 ', arr.size)\n",
    "print('7 ', arr.shape)\n",
    "print('8 ', arr.ndim)\n",
    "print('9 ', arr.itemsize)\n",
    "print('10', arr.T)\n",
    "print('11', np.empty((2,3), float))\n",
    "print('12', np.zeros((2,3), bool))\n",
    "print('13', np.ones((1,4), int))\n",
    "print('14', np.eye(2, dtype=int)) # Create a (square) identity matrix of n rows and n cols\n",
    "print('15', np.random.random( (1,3) )) # Create a 1x3 array with random values\n",
    "print('16', np.arange(0,10,2)) # Basically np.array( range(0,10,2)\n",
    "print('17', np.linspace(4,100,25)) # Create an array with 25 elems, with the first elem being 4 and the last elem being 25. Gaps b/w the elems is equal\n",
    "arr2 = np.array([[1,2,3,4,5,6]], dtype='i')\n",
    "print('20', arr2)\n",
    "print('19', np.array_equal(arr, arr2))\n",
    "\n",
    "print('\\n'+'-'*100+'\\n')\n",
    "\n",
    "print('SHAPE, RESHAPE, & RESIZE\\n')\n",
    "arr = np.array([[1,2,3,4,5,6]], dtype='f4')\n",
    "arr2 = arr.copy()\n",
    "print('20', arr2)\n",
    "arr2.shape=(2,3)\n",
    "print('21', arr2)\n",
    "print('22', arr.reshape(2,3))\n",
    "arr2 = arr.copy()\n",
    "arr2.resize(3,3)\n",
    "print('23', arr2)\n",
    "\n",
    "print('\\n'+'-'*100+'\\n')\n",
    "\n",
    "print('SUM & CUMSUM\\n')\n",
    "arr = np.array([[1,2,3],[4,5,6],[7,8,9]])\n",
    "print('24', arr)\n",
    "print('25', arr.sum()) # Returns an int ie sum of all vals\n",
    "print('26', arr.sum(axis=0)) # Returns a 1D arr that contains sums of all cols\n",
    "print('27', np.sum(arr,axis=1)) # Returns a 1D arr that contains sums of all rows\n",
    "print('28', arr.cumsum()) # Returns a 1D arr\n",
    "print('29', arr.cumsum(axis=0)) # Returns a 2D arr\n",
    "print('30', np.cumsum(arr,axis=1)) # Returns a 2D arr\n",
    "\n",
    "print('\\n'+'-'*100+'\\n')\n",
    "\n",
    "print('PROD & CUMPROD\\n')\n",
    "arr = np.array([[1,2,3],[4,5,6],[7,8,9]])\n",
    "print('31', arr)\n",
    "print('32', arr.prod()) # Returns an int ie product of all vals\n",
    "print('33', arr.prod(axis=0)) # Returns a 1D arr that contains product of all cols\n",
    "print('34', np.prod(arr,axis=1)) # Returns a 1D arr that contains product of all rows\n",
    "print('35', arr.cumprod()) # Returns a 1D arr\n",
    "print('36', arr.cumprod(axis=0)) # Returns a 2D arr\n",
    "print('37', np.cumprod(arr,axis=1)) # Returns a 2D arr\n",
    "\n",
    "print('\\n'+'-'*100+'\\n')\n",
    "\n",
    "print('MEAN\\n')\n",
    "arr = np.array([[1,2,3],[4,5,6],[7,8,9]])\n",
    "print('38', arr)\n",
    "print('39', arr.mean()) # Returns an int ie mean of all vals\n",
    "print('40', arr.mean(axis=0)) # Returns a 1D arr that contains means for every col\n",
    "print('41', np.mean(arr, axis=1)) # Returns a 1D arr that contains means for every row\n",
    "\n",
    "print('\\n'+'-'*100+'\\n')\n",
    "\n",
    "print('MIN & MAX\\n')\n",
    "arr = np.array([[1,2,3],[4,5,6],[7,8,9]])\n",
    "print('42', arr)\n",
    "print('43', arr.min())\n",
    "print('44', arr.min(axis=0))\n",
    "print('45', np.min(arr, axis=1))\n",
    "print('46', arr.max())\n",
    "print('47', arr.max(axis=0))\n",
    "print('48', np.max(arr, axis=1))"
   ]
  },
  {
   "cell_type": "markdown",
   "id": "1258b57b-7343-496b-84ab-e39c05730178",
   "metadata": {},
   "source": [
    "<br>"
   ]
  },
  {
   "cell_type": "markdown",
   "id": "78c5ef1f-6ff9-4295-8638-83faa6525c3e",
   "metadata": {},
   "source": [
    "<br>"
   ]
  },
  {
   "cell_type": "markdown",
   "id": "84f73879-0224-446a-82d9-daac4fcbb820",
   "metadata": {},
   "source": [
    "<br>"
   ]
  },
  {
   "cell_type": "markdown",
   "id": "b58ecd84-92d3-4918-aa3c-1e13ead74558",
   "metadata": {},
   "source": [
    "<br>"
   ]
  },
  {
   "cell_type": "markdown",
   "id": "624ff918-0425-4d14-b577-fe445afa8cb1",
   "metadata": {},
   "source": [
    "<br>"
   ]
  },
  {
   "cell_type": "markdown",
   "id": "9c54dcb8-1eba-4a59-b0e2-57de69f9fbf7",
   "metadata": {},
   "source": [
    "<br>"
   ]
  },
  {
   "cell_type": "markdown",
   "id": "683cd98d-2afa-46f7-b0a9-6e045470bc1e",
   "metadata": {},
   "source": [
    "<br>"
   ]
  },
  {
   "cell_type": "markdown",
   "id": "91aebd6d-3099-401e-8b0e-def77a141fa7",
   "metadata": {},
   "source": [
    "<br>"
   ]
  },
  {
   "cell_type": "markdown",
   "id": "4aa53299-9513-4488-a7e9-c1a2a4054f25",
   "metadata": {},
   "source": [
    "<br>"
   ]
  }
 ],
 "metadata": {
  "kernelspec": {
   "display_name": "Python 3 (ipykernel)",
   "language": "python",
   "name": "python3"
  },
  "language_info": {
   "codemirror_mode": {
    "name": "ipython",
    "version": 3
   },
   "file_extension": ".py",
   "mimetype": "text/x-python",
   "name": "python",
   "nbconvert_exporter": "python",
   "pygments_lexer": "ipython3",
   "version": "3.11.6"
  }
 },
 "nbformat": 4,
 "nbformat_minor": 5
}
