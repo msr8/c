{
 "cells": [
  {
   "cell_type": "markdown",
   "id": "98e7e9e3-a869-4643-ac11-36de0a531110",
   "metadata": {},
   "source": [
    "# Comments"
   ]
  },
  {
   "cell_type": "code",
   "execution_count": 1,
   "id": "d92cbdbb-4b61-49ae-868a-798a1513ac8b",
   "metadata": {},
   "outputs": [
    {
     "name": "stdout",
     "output_type": "stream",
     "text": [
      "Hello World\n"
     ]
    }
   ],
   "source": [
    "# This is a comment\n",
    "'''\n",
    "This is also a comment\n",
    "'''\n",
    "\n",
    "print('Hello World')"
   ]
  },
  {
   "cell_type": "markdown",
   "id": "38695fa7-6c96-4158-b59e-270886568deb",
   "metadata": {},
   "source": [
    "<br><br><br>"
   ]
  },
  {
   "cell_type": "markdown",
   "id": "07e98579-caa0-4851-89af-21606237541a",
   "metadata": {},
   "source": [
    "# Multiple statements in single line"
   ]
  },
  {
   "cell_type": "code",
   "execution_count": 2,
   "id": "645a519c-8355-4de3-94e4-b3d5ab419975",
   "metadata": {},
   "outputs": [
    {
     "name": "stdout",
     "output_type": "stream",
     "text": [
      "3\n"
     ]
    }
   ],
   "source": [
    "a = 3; print(a)"
   ]
  },
  {
   "cell_type": "markdown",
   "id": "32c1b27b-6c73-49f9-ace1-95329dfda68d",
   "metadata": {},
   "source": [
    "<br><br><br>"
   ]
  },
  {
   "cell_type": "markdown",
   "id": "db5ffaba-c2c0-4bc5-a2cf-7e363715914c",
   "metadata": {},
   "source": [
    "# Multiline statements"
   ]
  },
  {
   "cell_type": "code",
   "execution_count": 3,
   "id": "7babdb93-72e9-41ef-a924-182e2a4e8f2e",
   "metadata": {},
   "outputs": [
    {
     "name": "stdout",
     "output_type": "stream",
     "text": [
      "26\n"
     ]
    }
   ],
   "source": [
    "a = 1 + 3 + 4 + \\\n",
    "    5 + 6 + 7\n",
    "print(a)"
   ]
  },
  {
   "cell_type": "markdown",
   "id": "28c62c42-1be4-496b-845c-e5098b32fb67",
   "metadata": {},
   "source": [
    "<br><br><br>"
   ]
  },
  {
   "cell_type": "markdown",
   "id": "f908b8f8-b7c6-4d0e-8452-b207318da4e0",
   "metadata": {},
   "source": [
    "# Multiple variable assignmeents"
   ]
  },
  {
   "cell_type": "code",
   "execution_count": 4,
   "id": "64e10dc4-68c1-499b-9c04-5cabd7d1bb95",
   "metadata": {},
   "outputs": [
    {
     "name": "stdout",
     "output_type": "stream",
     "text": [
      "4 5\n"
     ]
    }
   ],
   "source": [
    "a,b = 4,5\n",
    "print(a,b)"
   ]
  },
  {
   "cell_type": "markdown",
   "id": "78e00b22-6cc0-4ab3-bb9f-2a18dda377dc",
   "metadata": {},
   "source": [
    "<br><br><br>"
   ]
  },
  {
   "cell_type": "markdown",
   "id": "44fbcb3f-77a3-484a-b0b1-aa84f30907ea",
   "metadata": {},
   "source": [
    "# `help()` & `__doc__`"
   ]
  },
  {
   "cell_type": "code",
   "execution_count": 5,
   "id": "eeac4d3b-d5cc-4018-8d69-93db5597e739",
   "metadata": {},
   "outputs": [
    {
     "name": "stdout",
     "output_type": "stream",
     "text": [
      "Help on function my_func in module __main__:\n",
      "\n",
      "my_func()\n",
      "    This is a doc-string\n",
      "\n",
      "----------------------------------------------------------------------------------------------------\n",
      "This is a doc-string\n"
     ]
    }
   ],
   "source": [
    "def my_func():\n",
    "    '''This is a doc-string'''\n",
    "    pass\n",
    "\n",
    "help(my_func)\n",
    "print('-'*100)\n",
    "print(my_func.__doc__)"
   ]
  },
  {
   "cell_type": "markdown",
   "id": "470d326b-ad8f-4b80-a87e-a3a20b9735c9",
   "metadata": {},
   "source": [
    "<br><br><br>"
   ]
  },
  {
   "cell_type": "markdown",
   "id": "28fec687-4cd4-4649-8f70-0193bd6a2dc9",
   "metadata": {},
   "source": [
    "# `print()` and `input()`"
   ]
  },
  {
   "cell_type": "code",
   "execution_count": 1,
   "id": "91f6e66e-af3b-40b1-8858-6ba37e162c10",
   "metadata": {},
   "outputs": [
    {
     "data": {
      "text/plain": [
       "\u001b[0;31mSignature:\u001b[0m \u001b[0mprint\u001b[0m\u001b[0;34m(\u001b[0m\u001b[0;34m*\u001b[0m\u001b[0margs\u001b[0m\u001b[0;34m,\u001b[0m \u001b[0msep\u001b[0m\u001b[0;34m=\u001b[0m\u001b[0;34m' '\u001b[0m\u001b[0;34m,\u001b[0m \u001b[0mend\u001b[0m\u001b[0;34m=\u001b[0m\u001b[0;34m'\\n'\u001b[0m\u001b[0;34m,\u001b[0m \u001b[0mfile\u001b[0m\u001b[0;34m=\u001b[0m\u001b[0;32mNone\u001b[0m\u001b[0;34m,\u001b[0m \u001b[0mflush\u001b[0m\u001b[0;34m=\u001b[0m\u001b[0;32mFalse\u001b[0m\u001b[0;34m)\u001b[0m\u001b[0;34m\u001b[0m\u001b[0;34m\u001b[0m\u001b[0m\n",
       "\u001b[0;31mDocstring:\u001b[0m\n",
       "Prints the values to a stream, or to sys.stdout by default.\n",
       "\n",
       "sep\n",
       "  string inserted between values, default a space.\n",
       "end\n",
       "  string appended after the last value, default a newline.\n",
       "file\n",
       "  a file-like object (stream); defaults to the current sys.stdout.\n",
       "flush\n",
       "  whether to forcibly flush the stream.\n",
       "\u001b[0;31mType:\u001b[0m      builtin_function_or_method"
      ]
     },
     "metadata": {},
     "output_type": "display_data"
    }
   ],
   "source": [
    "print?"
   ]
  },
  {
   "cell_type": "code",
   "execution_count": 2,
   "id": "336ec6ec-c2c0-425f-9222-d6cb113800e5",
   "metadata": {},
   "outputs": [
    {
     "data": {
      "text/plain": [
       "\u001b[0;31mSignature:\u001b[0m \u001b[0minput\u001b[0m\u001b[0;34m(\u001b[0m\u001b[0mprompt\u001b[0m\u001b[0;34m=\u001b[0m\u001b[0;34m''\u001b[0m\u001b[0;34m)\u001b[0m\u001b[0;34m\u001b[0m\u001b[0;34m\u001b[0m\u001b[0m\n",
       "\u001b[0;31mDocstring:\u001b[0m\n",
       "Forward raw_input to frontends\n",
       "\n",
       "Raises\n",
       "------\n",
       "StdinNotImplementedError if active frontend doesn't support stdin.\n",
       "\u001b[0;31mFile:\u001b[0m      /usr/local/lib/python3.11/site-packages/ipykernel/kernelbase.py\n",
       "\u001b[0;31mType:\u001b[0m      method"
      ]
     },
     "metadata": {},
     "output_type": "display_data"
    }
   ],
   "source": [
    "input?"
   ]
  },
  {
   "cell_type": "markdown",
   "id": "31a987ad-f65c-41bf-9c53-ec0a7758a41b",
   "metadata": {},
   "source": [
    "<br><br><br>"
   ]
  },
  {
   "cell_type": "markdown",
   "id": "93d01b6c-9ae2-474b-a522-47b3821bcdc9",
   "metadata": {},
   "source": [
    "# Types of statements"
   ]
  },
  {
   "cell_type": "markdown",
   "id": "3d3c69ea-5b42-49a5-a166-f8e3d0b55f9d",
   "metadata": {},
   "source": [
    "### Empty Statements\n",
    "- Empty statements are also known as \"pass statements\"\n",
    "- They serve as a placeholder and do nothing when executed\n",
    "- The `pass` keyword is used to create an empty statement\n",
    "- Commonly used as a temporary placeholder when writing code or as a stub for future implementation\n",
    "\n",
    "### Simple Statements\n",
    "- Simple statements are single-line statements that perform a specific action or operation\n",
    "- They typically end with a newline character or a semicolon\n",
    "- Common examples include assignment statements, function calls, and print statements\n",
    "\n",
    "### Compound Statements (Block Statements)\n",
    "- Compound statements consist of one or more simple statements grouped together into a block\n",
    "- They are often used to control program flow and define structures like loops and conditional statements\n",
    "- Compound statements are defined using indentation (whitespace) in Python\n",
    "- Common examples include if statements, while loops, for loops, and function definitions\n"
   ]
  },
  {
   "cell_type": "code",
   "execution_count": 3,
   "id": "6a0263fc-2aba-4c00-8fea-10568597834d",
   "metadata": {},
   "outputs": [
    {
     "name": "stdout",
     "output_type": "stream",
     "text": [
      "Hello, World!\n",
      "x is positive\n"
     ]
    }
   ],
   "source": [
    "# Empty statement\n",
    "def foo():\n",
    "    pass  # Placeholder for function implementation\n",
    "\n",
    "\n",
    "# Simple statements\n",
    "x = 5  # Assignment statement\n",
    "print(\"Hello, World!\")  # Print statement\n",
    "result = min(2, 3)  # Function call and assignment\n",
    "\n",
    "\n",
    "# Compound statements\n",
    "if x > 0:\n",
    "    print(\"x is positive\")  # Indented block as part of the if statement\n",
    "else:\n",
    "    print(\"x is not positive\")  # Indented block as part of the else statement\n",
    "\n",
    "while x < 5:\n",
    "    print(x)  # Indented block as part of the while loop\n",
    "    x += 1\n",
    "\n",
    "def greet(name):\n",
    "    print(f\"Hello, {name}!\")  # Indented block as part of the function definition\n",
    "\n"
   ]
  },
  {
   "cell_type": "markdown",
   "id": "74c06c82-1073-430e-81dc-4dccd9406e6f",
   "metadata": {},
   "source": [
    "<br><br><br>"
   ]
  },
  {
   "cell_type": "markdown",
   "id": "46183b15-168b-44a6-8f9b-7e14055c17c6",
   "metadata": {},
   "source": [
    "# Switch/Match"
   ]
  },
  {
   "cell_type": "code",
   "execution_count": 4,
   "id": "e59c846c-1803-433e-959d-718a125e9c6c",
   "metadata": {},
   "outputs": [
    {
     "name": "stdout",
     "output_type": "stream",
     "text": [
      "x is 1\n"
     ]
    }
   ],
   "source": [
    "x = 1\n",
    "\n",
    "match x:\n",
    "    case 1: print(\"x is 1\")\n",
    "    case 2: print(\"x is 2\")\n",
    "    case 3: print(\"x is 3\")\n",
    "    case _: print(\"x is something else\")"
   ]
  },
  {
   "cell_type": "markdown",
   "id": "1258b57b-7343-496b-84ab-e39c05730178",
   "metadata": {},
   "source": [
    "<br>"
   ]
  },
  {
   "cell_type": "markdown",
   "id": "78c5ef1f-6ff9-4295-8638-83faa6525c3e",
   "metadata": {},
   "source": [
    "<br>"
   ]
  },
  {
   "cell_type": "markdown",
   "id": "84f73879-0224-446a-82d9-daac4fcbb820",
   "metadata": {},
   "source": [
    "<br>"
   ]
  },
  {
   "cell_type": "markdown",
   "id": "b58ecd84-92d3-4918-aa3c-1e13ead74558",
   "metadata": {},
   "source": [
    "<br>"
   ]
  },
  {
   "cell_type": "markdown",
   "id": "624ff918-0425-4d14-b577-fe445afa8cb1",
   "metadata": {},
   "source": [
    "<br>"
   ]
  },
  {
   "cell_type": "markdown",
   "id": "9c54dcb8-1eba-4a59-b0e2-57de69f9fbf7",
   "metadata": {},
   "source": [
    "<br>"
   ]
  },
  {
   "cell_type": "code",
   "execution_count": 6,
   "id": "a6ce71d0-b6de-4c63-8947-aeeddf77058d",
   "metadata": {},
   "outputs": [
    {
     "name": "stdout",
     "output_type": "stream",
     "text": [
      "Overwriting my_module.py\n"
     ]
    }
   ],
   "source": [
    "%%writefile my_module.py\n",
    "def greet():\n",
    "    print('Hello World!')"
   ]
  },
  {
   "cell_type": "markdown",
   "id": "683cd98d-2afa-46f7-b0a9-6e045470bc1e",
   "metadata": {},
   "source": [
    "<br>"
   ]
  },
  {
   "cell_type": "markdown",
   "id": "91aebd6d-3099-401e-8b0e-def77a141fa7",
   "metadata": {},
   "source": [
    "<br>"
   ]
  },
  {
   "cell_type": "markdown",
   "id": "4aa53299-9513-4488-a7e9-c1a2a4054f25",
   "metadata": {},
   "source": [
    "<br>"
   ]
  }
 ],
 "metadata": {
  "kernelspec": {
   "display_name": "Python 3 (ipykernel)",
   "language": "python",
   "name": "python3"
  },
  "language_info": {
   "codemirror_mode": {
    "name": "ipython",
    "version": 3
   },
   "file_extension": ".py",
   "mimetype": "text/x-python",
   "name": "python",
   "nbconvert_exporter": "python",
   "pygments_lexer": "ipython3",
   "version": "3.11.4"
  }
 },
 "nbformat": 4,
 "nbformat_minor": 5
}
