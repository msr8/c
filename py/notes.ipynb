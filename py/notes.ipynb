{
 "cells": [
  {
   "cell_type": "markdown",
   "id": "98e7e9e3-a869-4643-ac11-36de0a531110",
   "metadata": {},
   "source": [
    "# Comments"
   ]
  },
  {
   "cell_type": "code",
   "execution_count": 1,
   "id": "d92cbdbb-4b61-49ae-868a-798a1513ac8b",
   "metadata": {},
   "outputs": [
    {
     "name": "stdout",
     "output_type": "stream",
     "text": [
      "Hello World\n"
     ]
    }
   ],
   "source": [
    "# This is a comment\n",
    "'''\n",
    "This is also a comment\n",
    "'''\n",
    "\n",
    "print('Hello World')"
   ]
  },
  {
   "cell_type": "markdown",
   "id": "38695fa7-6c96-4158-b59e-270886568deb",
   "metadata": {},
   "source": [
    "<br><br><br>"
   ]
  },
  {
   "cell_type": "markdown",
   "id": "07e98579-caa0-4851-89af-21606237541a",
   "metadata": {},
   "source": [
    "# Multiple statements in single line"
   ]
  },
  {
   "cell_type": "code",
   "execution_count": 2,
   "id": "645a519c-8355-4de3-94e4-b3d5ab419975",
   "metadata": {},
   "outputs": [
    {
     "name": "stdout",
     "output_type": "stream",
     "text": [
      "3\n"
     ]
    }
   ],
   "source": [
    "a = 3; print(a)"
   ]
  },
  {
   "cell_type": "markdown",
   "id": "32c1b27b-6c73-49f9-ace1-95329dfda68d",
   "metadata": {},
   "source": [
    "<br><br><br>"
   ]
  },
  {
   "cell_type": "markdown",
   "id": "db5ffaba-c2c0-4bc5-a2cf-7e363715914c",
   "metadata": {},
   "source": [
    "# Multiline statements"
   ]
  },
  {
   "cell_type": "code",
   "execution_count": 3,
   "id": "7babdb93-72e9-41ef-a924-182e2a4e8f2e",
   "metadata": {},
   "outputs": [
    {
     "name": "stdout",
     "output_type": "stream",
     "text": [
      "26\n"
     ]
    }
   ],
   "source": [
    "a = 1 + 3 + 4 + \\\n",
    "    5 + 6 + 7\n",
    "print(a)"
   ]
  },
  {
   "cell_type": "markdown",
   "id": "28c62c42-1be4-496b-845c-e5098b32fb67",
   "metadata": {},
   "source": [
    "<br><br><br>"
   ]
  },
  {
   "cell_type": "markdown",
   "id": "f908b8f8-b7c6-4d0e-8452-b207318da4e0",
   "metadata": {},
   "source": [
    "# Multiple variable assignmeents"
   ]
  },
  {
   "cell_type": "code",
   "execution_count": 4,
   "id": "64e10dc4-68c1-499b-9c04-5cabd7d1bb95",
   "metadata": {},
   "outputs": [
    {
     "name": "stdout",
     "output_type": "stream",
     "text": [
      "4 5\n"
     ]
    }
   ],
   "source": [
    "a,b = 4,5\n",
    "print(a,b)"
   ]
  },
  {
   "cell_type": "markdown",
   "id": "78e00b22-6cc0-4ab3-bb9f-2a18dda377dc",
   "metadata": {},
   "source": [
    "<br><br><br>"
   ]
  },
  {
   "cell_type": "markdown",
   "id": "44fbcb3f-77a3-484a-b0b1-aa84f30907ea",
   "metadata": {},
   "source": [
    "# `help()` & `__doc__`"
   ]
  },
  {
   "cell_type": "code",
   "execution_count": 5,
   "id": "eeac4d3b-d5cc-4018-8d69-93db5597e739",
   "metadata": {},
   "outputs": [
    {
     "name": "stdout",
     "output_type": "stream",
     "text": [
      "Help on function my_func in module __main__:\n",
      "\n",
      "my_func()\n",
      "    This is a doc-string\n",
      "\n",
      "----------------------------------------------------------------------------------------------------\n",
      "This is a doc-string\n"
     ]
    }
   ],
   "source": [
    "def my_func():\n",
    "    '''This is a doc-string'''\n",
    "    pass\n",
    "\n",
    "help(my_func)\n",
    "print('-'*100)\n",
    "print(my_func.__doc__)"
   ]
  },
  {
   "cell_type": "markdown",
   "id": "470d326b-ad8f-4b80-a87e-a3a20b9735c9",
   "metadata": {},
   "source": [
    "<br><br><br>"
   ]
  },
  {
   "cell_type": "markdown",
   "id": "28fec687-4cd4-4649-8f70-0193bd6a2dc9",
   "metadata": {},
   "source": [
    "# `print()` and `input()`"
   ]
  },
  {
   "cell_type": "code",
   "execution_count": 6,
   "id": "91f6e66e-af3b-40b1-8858-6ba37e162c10",
   "metadata": {},
   "outputs": [
    {
     "data": {
      "text/plain": [
       "\u001b[0;31mSignature:\u001b[0m \u001b[0mprint\u001b[0m\u001b[0;34m(\u001b[0m\u001b[0;34m*\u001b[0m\u001b[0margs\u001b[0m\u001b[0;34m,\u001b[0m \u001b[0msep\u001b[0m\u001b[0;34m=\u001b[0m\u001b[0;34m' '\u001b[0m\u001b[0;34m,\u001b[0m \u001b[0mend\u001b[0m\u001b[0;34m=\u001b[0m\u001b[0;34m'\\n'\u001b[0m\u001b[0;34m,\u001b[0m \u001b[0mfile\u001b[0m\u001b[0;34m=\u001b[0m\u001b[0;32mNone\u001b[0m\u001b[0;34m,\u001b[0m \u001b[0mflush\u001b[0m\u001b[0;34m=\u001b[0m\u001b[0;32mFalse\u001b[0m\u001b[0;34m)\u001b[0m\u001b[0;34m\u001b[0m\u001b[0;34m\u001b[0m\u001b[0m\n",
       "\u001b[0;31mDocstring:\u001b[0m\n",
       "Prints the values to a stream, or to sys.stdout by default.\n",
       "\n",
       "sep\n",
       "  string inserted between values, default a space.\n",
       "end\n",
       "  string appended after the last value, default a newline.\n",
       "file\n",
       "  a file-like object (stream); defaults to the current sys.stdout.\n",
       "flush\n",
       "  whether to forcibly flush the stream.\n",
       "\u001b[0;31mType:\u001b[0m      builtin_function_or_method"
      ]
     },
     "metadata": {},
     "output_type": "display_data"
    }
   ],
   "source": [
    "print?"
   ]
  },
  {
   "cell_type": "code",
   "execution_count": 7,
   "id": "336ec6ec-c2c0-425f-9222-d6cb113800e5",
   "metadata": {},
   "outputs": [
    {
     "data": {
      "text/plain": [
       "\u001b[0;31mSignature:\u001b[0m \u001b[0minput\u001b[0m\u001b[0;34m(\u001b[0m\u001b[0mprompt\u001b[0m\u001b[0;34m=\u001b[0m\u001b[0;34m''\u001b[0m\u001b[0;34m)\u001b[0m\u001b[0;34m\u001b[0m\u001b[0;34m\u001b[0m\u001b[0m\n",
       "\u001b[0;31mDocstring:\u001b[0m\n",
       "Forward raw_input to frontends\n",
       "\n",
       "Raises\n",
       "------\n",
       "StdinNotImplementedError if active frontend doesn't support stdin.\n",
       "\u001b[0;31mFile:\u001b[0m      /usr/local/lib/python3.11/site-packages/ipykernel/kernelbase.py\n",
       "\u001b[0;31mType:\u001b[0m      method"
      ]
     },
     "metadata": {},
     "output_type": "display_data"
    }
   ],
   "source": [
    "input?"
   ]
  },
  {
   "cell_type": "markdown",
   "id": "31a987ad-f65c-41bf-9c53-ec0a7758a41b",
   "metadata": {},
   "source": [
    "<br><br><br>"
   ]
  },
  {
   "cell_type": "markdown",
   "id": "93d01b6c-9ae2-474b-a522-47b3821bcdc9",
   "metadata": {},
   "source": [
    "# Types of statements"
   ]
  },
  {
   "cell_type": "markdown",
   "id": "3d3c69ea-5b42-49a5-a166-f8e3d0b55f9d",
   "metadata": {},
   "source": [
    "### Empty Statements\n",
    "- Empty statements are also known as \"pass statements\"\n",
    "- They serve as a placeholder and do nothing when executed\n",
    "- The `pass` keyword is used to create an empty statement\n",
    "- Commonly used as a temporary placeholder when writing code or as a stub for future implementation\n",
    "\n",
    "### Simple Statements\n",
    "- Simple statements are single-line statements that perform a specific action or operation\n",
    "- They typically end with a newline character or a semicolon\n",
    "- Common examples include assignment statements, function calls, and print statements\n",
    "\n",
    "### Compound Statements (Block Statements)\n",
    "- Compound statements consist of one or more simple statements grouped together into a block\n",
    "- They are often used to control program flow and define structures like loops and conditional statements\n",
    "- Compound statements are defined using indentation (whitespace) in Python\n",
    "- Common examples include if statements, while loops, for loops, and function definitions\n"
   ]
  },
  {
   "cell_type": "code",
   "execution_count": 8,
   "id": "6a0263fc-2aba-4c00-8fea-10568597834d",
   "metadata": {},
   "outputs": [
    {
     "name": "stdout",
     "output_type": "stream",
     "text": [
      "Hello, World!\n",
      "x is positive\n"
     ]
    }
   ],
   "source": [
    "# Empty statement\n",
    "def foo():\n",
    "    pass  # Placeholder for function implementation\n",
    "\n",
    "\n",
    "# Simple statements\n",
    "x = 5  # Assignment statement\n",
    "print(\"Hello, World!\")  # Print statement\n",
    "result = min(2, 3)  # Function call and assignment\n",
    "\n",
    "\n",
    "# Compound statements\n",
    "if x > 0:\n",
    "    print(\"x is positive\")  # Indented block as part of the if statement\n",
    "else:\n",
    "    print(\"x is not positive\")  # Indented block as part of the else statement\n",
    "\n",
    "while x < 5:\n",
    "    print(x)  # Indented block as part of the while loop\n",
    "    x += 1\n",
    "\n",
    "def greet(name):\n",
    "    print(f\"Hello, {name}!\")  # Indented block as part of the function definition\n",
    "\n"
   ]
  },
  {
   "cell_type": "markdown",
   "id": "74c06c82-1073-430e-81dc-4dccd9406e6f",
   "metadata": {},
   "source": [
    "<br><br><br>"
   ]
  },
  {
   "cell_type": "markdown",
   "id": "46183b15-168b-44a6-8f9b-7e14055c17c6",
   "metadata": {},
   "source": [
    "# Switch/Match"
   ]
  },
  {
   "cell_type": "code",
   "execution_count": 9,
   "id": "e59c846c-1803-433e-959d-718a125e9c6c",
   "metadata": {},
   "outputs": [
    {
     "name": "stdout",
     "output_type": "stream",
     "text": [
      "x is 1\n"
     ]
    }
   ],
   "source": [
    "x = 1\n",
    "\n",
    "match x:\n",
    "    case 1: print(\"x is 1\")\n",
    "    case 2: print(\"x is 2\")\n",
    "    case 3: print(\"x is 3\")\n",
    "    case _: print(\"x is something else\")"
   ]
  },
  {
   "cell_type": "markdown",
   "id": "1fd61e60-395d-460f-9e83-c4645f6cf323",
   "metadata": {},
   "source": [
    "<br><br><br>"
   ]
  },
  {
   "cell_type": "markdown",
   "id": "1cd645ae-62ac-4ca3-acce-c6e7ffd5b6d1",
   "metadata": {},
   "source": [
    "# String fuctions\n",
    "\n",
    "(https://www.w3schools.com/python/python_strings_methods.asp)\n",
    "\n",
    "<br>\n",
    "\n",
    "\n",
    "### isprintable()\n",
    "\n",
    "Basically if all characters are printable. Non-printable characters are things starting with `\\` like `\\n`, `\\t`, or `\\x07`\n",
    "\n",
    "\n",
    "<br>\n",
    "\n",
    "\n",
    "### `isnumeric()` vs `isdigit()`\n",
    "`isnumeric()` is more inclusive than `isdigit()` and can handle a wider range of numeric representations. For eg, `123½` will be returned `True` by `isnumeric()` but not by `isdigit()`\n",
    "\n",
    "\n",
    "<br>\n",
    "\n",
    "\n",
    "### `find()` vs `index()`\n",
    "\n",
    "`find()` returns `-1` if the substring wasn't found while `index()` raises a `ValueError`\n",
    "\n",
    "\n",
    "<br>\n",
    "\n",
    "\n",
    "### `split()` vs `rsplit()`\n",
    "\n",
    "- `split()` splits the string from left to right, while `rsplit()` splits it from right to left.\n",
    "- By default, both methods return all substrings, but you can use the `maxsplit` parameter to limit the number of splits. When using `rsplit()`, the remaining part of the string appears as the first element in the result list.\n",
    "\n",
    "\n",
    "<br>\n",
    "\n",
    "\n",
    "### `casefold()` vs `lower()`\n",
    "\n",
    "- Use `lower()` when you need to perform simple case-insensitive operations and you are working with characters primarily from the Latin alphabet.\n",
    "- Use `casefold()` when you need robust case-insensitive operations, especially for internationalization and localization, or when dealing with characters from various languages and scripts.\n",
    "\n",
    "`casefold()` is generally recommended for case-insensitive string comparisons in most applications, as it provides more consistent and accurate results across a wide range of characters and languages.\n",
    "\n",
    "\n",
    "<br>\n",
    "\n",
    "\n",
    "### `partition()` vs `split()`\n",
    "\n",
    "`s.partition()` and `s.split()` are two string methods in Python used for splitting a string based on a specified delimiter. However, they work slightly differently:\n",
    "\n",
    "1. `s.partition(delimiter)`:\n",
    "   - The `s.partition(delimiter)` method splits the string `s` into three parts based on the first occurrence of the specified `delimiter`\n",
    "   - It returns a tuple containing three elements: the part of the string before the delimiter, the delimiter itself, and the part of the string after the delimiter\n",
    "   - If the delimiter is not found in the string, the method returns a tuple with the original string as the first element, followed by two empty strings\n",
    "\n",
    "2. `s.split(delimiter, maxsplit)`:\n",
    "   - The `s.split(delimiter, maxsplit)` method splits the string `s` into a list of substrings based on the specified `delimiter`\n",
    "   - You can optionally specify the `maxsplit` parameter to control the maximum number of splits to perform\n",
    "   - If the delimiter is not found in the string, the method returns a list with the entire string as a single element\n",
    "\n",
    "- `partition()` always returns a tuple with three elements, whereas `split()` returns a list of substrings\n",
    "- `partition()` splits the string only at the first occurrence of the delimiter, while `split()` can split the string at multiple occurrences\n",
    "- `split()` provides more flexibility with the `maxsplit` parameter, allowing you to limit the number of splits\n",
    "\n",
    "\n"
   ]
  },
  {
   "cell_type": "code",
   "execution_count": 10,
   "id": "fd77e149-c70e-4ffa-b20a-1bf43b33c5b5",
   "metadata": {},
   "outputs": [
    {
     "name": "stdout",
     "output_type": "stream",
     "text": [
      "1  Hello world 123!\n",
      "2  hello world 123!\n",
      "3  --hello World 123!--\n",
      "4  2\n",
      "5  True\n",
      "6  hello     World     123!\n",
      "7  4\n",
      "8  4\n",
      "9  False\n",
      "10 False\n",
      "11 True\n",
      "12 False\n",
      "13 False\n",
      "14 False\n",
      "15 False\n",
      "16 False\n",
      "17 True\n",
      "18 False\n",
      "19 False\n",
      "20 False\n",
      "21 hello World 123!--------------\n",
      "22 hello world 123!\n",
      "23 hello World 123!\n",
      "24 hello World 123!\n",
      "25 7\n",
      "26 7\n",
      "27 --------------hello World 123!\n",
      "28 ['hell', ' W', 'rld 123!']\n",
      "29 hello World 123\n",
      "30 ['hell', ' W', 'rld 123!']\n",
      "31 ['hello', 'World', '123!']\n",
      "32 False\n",
      "33 hello World 123\n",
      "34 HELLO wORLD 123!\n",
      "35 Hello World 123!\n",
      "36 HELLO WORLD 123!\n",
      "37 00hello World 123!\n"
     ]
    }
   ],
   "source": [
    "x   = 'hello World 123!'\n",
    "x_t = 'hello\\tWorld\\t123!'\n",
    "x_l = 'hello\\nWorld\\n123!'\n",
    "\n",
    "print('1 ', x.capitalize())              # Capitalize the first character of the string\n",
    "print('2 ', x.casefold())                # Perform case-folding on the string\n",
    "print('3 ', x.center(20,'-'))            # Center-align the string within a width of 20, padding with '-'\n",
    "print('4 ', x.count('o'))                # Count instances of substring 'o'\n",
    "print('5 ', x.endswith('123!'))          # Check if the string ends with '123!'\n",
    "print('6 ', x_t.expandtabs(10))          # Expand tab characters to spaces with tab stops at 10\n",
    "print('7 ', x.find('o'))                 # Find the first occurrence of 'o'\n",
    "print('8 ', x.index('o'))                # Get the index of the first occurrence of 'o'\n",
    "print('9 ', x.isalnum())                 # Check if all characters are alphanumeric\n",
    "print('10', x.isalpha())                 # Check if all characters are alphabetic\n",
    "print('11', x.isascii())                 # Check if the string is ASCII\n",
    "print('12', x.isdecimal())               # Check if all characters are decimal digits\n",
    "print('13', x.isdigit())                 # Check if all characters are digits\n",
    "print('14', x.isidentifier())            # Check if the string is a valid identifier\n",
    "print('15', x.islower())                 # Check if all characters are lowercase\n",
    "print('16', x.isnumeric())               # Check if all characters are numeric\n",
    "print('17', x.isprintable())             # Check if the string is printable\n",
    "print('18', x.isspace())                 # Check if all characters are whitespace\n",
    "print('19', x.istitle())                 # Check if the string is titlecased\n",
    "print('20', x.isupper())                 # Check if all characters are uppercase\n",
    "print('21', x.ljust(30,'-'))             # Left-justify the string within a width of 30, padding with '-'\n",
    "print('22', x.lower())                   # Convert the string to lowercase\n",
    "print('23', x.lstrip('H'))               # Remove leading 'H' characters from the string\n",
    "print('24', x.replace('world','Earth'))  # Replace 'world' with 'Earth' in the string\n",
    "print('25', x.rfind('o'))                # Find the last occurrence of 'o'\n",
    "print('26', x.rindex('o'))               # Get the index of the last occurrence of 'o'\n",
    "print('27', x.rjust(30, '-'))            # Right-justify the string within a width of 30, padding with '-'\n",
    "print('28', x.rsplit('o'))               # Split the string at 'o' from right to left\n",
    "print('29', x.rstrip('!'))               # Remove trailing '!' characters from the string\n",
    "print('30', x.split('o'))                # Split the string at 'o'\n",
    "print('31', x_l.splitlines())            # Split the string into a list of lines\n",
    "print('32', x.startswith('H'))           # Check if the string starts with 'H'\n",
    "print('33', x.strip('!'))                # Remove leading and trailing '!' characters from the string\n",
    "print('34', x.swapcase())                # Swap the case of characters in the string\n",
    "print('35', x.title())                   # Convert the string to titlecase\n",
    "print('36', x.upper())                   # Convert the string to uppercase\n",
    "print('37', x.zfill(18))                 # Pad the string with zeros to a total width of 18"
   ]
  },
  {
   "cell_type": "markdown",
   "id": "3440811b-54bb-4460-aea2-1db30ad0c11f",
   "metadata": {},
   "source": [
    "<br><br><br>"
   ]
  },
  {
   "cell_type": "markdown",
   "id": "e7719504-4f25-467e-8d6e-dc95484ad916",
   "metadata": {},
   "source": [
    "# Lists"
   ]
  },
  {
   "cell_type": "code",
   "execution_count": 11,
   "id": "6c019748-9482-4d8b-82b7-42b0ace74d79",
   "metadata": {},
   "outputs": [
    {
     "name": "stdout",
     "output_type": "stream",
     "text": [
      "1  [0, 1, 2, 3, 4, 4, 6]\n",
      "2  []\n",
      "3  2\n",
      "4  [0, 1, 2, 3, 4, 4, 8, 9, 1]\n",
      "5  4\n",
      "6  [0, 1, 2, 99, 3, 4, 4]\n",
      "7  [0, 1, 2, 4, 4]\n",
      "8  [0, 1, 2, 3, 4]\n",
      "9  [4, 4, 3, 2, 1, 0]\n",
      "10 [4, 4, 3, 2, 1, 0]\n"
     ]
    }
   ],
   "source": [
    "x = [0, 1, 2, 3, 4, 4]\n",
    "\n",
    "# Add an element to the end of an array\n",
    "y = x.copy()\n",
    "y.append(6)\n",
    "print('1 ', y)\n",
    "\n",
    "# Remove all elements from a list\n",
    "y = x.copy()\n",
    "y.clear()\n",
    "print('2 ', y)\n",
    "\n",
    "# Return the number of elements with the specified value\n",
    "print('3 ', x.count(4))\n",
    "\n",
    "# Add the elements of a list (or any iterable), to the end of the current list, basically y + [8,9,1]\n",
    "y = x.copy()\n",
    "y.extend([8,9,1])\n",
    "print('4 ', y)\n",
    "\n",
    "# Return the index of the first element with the specified value\n",
    "print('5 ', x.index(4))\n",
    "\n",
    "# Add an element at the specified position (index, element)\n",
    "y = x.copy()\n",
    "y.insert(3,99)\n",
    "print('6 ', y)\n",
    "\n",
    "# Remove the element at the specified position\n",
    "y = x.copy()\n",
    "y.remove(3)\n",
    "print('7 ', y)\n",
    "\n",
    "# Remove the first item with the specified value\n",
    "y = x.copy()\n",
    "y.remove(4)\n",
    "print('8 ', y)\n",
    "\n",
    "# Reverse the order of the list, basically [::-1] but inplace\n",
    "y = x.copy()\n",
    "y.reverse()\n",
    "print('9 ', y)\n",
    "\n",
    "# Sort the list, basically sorted() but inplace\n",
    "y = x.copy()\n",
    "y.sort(reverse=True)\n",
    "print('10', y)"
   ]
  },
  {
   "cell_type": "markdown",
   "id": "1258b57b-7343-496b-84ab-e39c05730178",
   "metadata": {},
   "source": [
    "<br>"
   ]
  },
  {
   "cell_type": "markdown",
   "id": "78c5ef1f-6ff9-4295-8638-83faa6525c3e",
   "metadata": {},
   "source": [
    "<br>"
   ]
  },
  {
   "cell_type": "markdown",
   "id": "84f73879-0224-446a-82d9-daac4fcbb820",
   "metadata": {},
   "source": [
    "<br>"
   ]
  },
  {
   "cell_type": "markdown",
   "id": "b58ecd84-92d3-4918-aa3c-1e13ead74558",
   "metadata": {},
   "source": [
    "<br>"
   ]
  },
  {
   "cell_type": "markdown",
   "id": "624ff918-0425-4d14-b577-fe445afa8cb1",
   "metadata": {},
   "source": [
    "<br>"
   ]
  },
  {
   "cell_type": "markdown",
   "id": "9c54dcb8-1eba-4a59-b0e2-57de69f9fbf7",
   "metadata": {},
   "source": [
    "<br>"
   ]
  },
  {
   "cell_type": "code",
   "execution_count": 12,
   "id": "a6ce71d0-b6de-4c63-8947-aeeddf77058d",
   "metadata": {},
   "outputs": [
    {
     "name": "stdout",
     "output_type": "stream",
     "text": [
      "Overwriting my_module.py\n"
     ]
    }
   ],
   "source": [
    "%%writefile my_module.py\n",
    "def greet():\n",
    "    print('Hello World!')"
   ]
  },
  {
   "cell_type": "markdown",
   "id": "683cd98d-2afa-46f7-b0a9-6e045470bc1e",
   "metadata": {},
   "source": [
    "<br>"
   ]
  },
  {
   "cell_type": "markdown",
   "id": "91aebd6d-3099-401e-8b0e-def77a141fa7",
   "metadata": {},
   "source": [
    "<br>"
   ]
  },
  {
   "cell_type": "markdown",
   "id": "4aa53299-9513-4488-a7e9-c1a2a4054f25",
   "metadata": {},
   "source": [
    "<br>"
   ]
  }
 ],
 "metadata": {
  "kernelspec": {
   "display_name": "Python 3 (ipykernel)",
   "language": "python",
   "name": "python3"
  },
  "language_info": {
   "codemirror_mode": {
    "name": "ipython",
    "version": 3
   },
   "file_extension": ".py",
   "mimetype": "text/x-python",
   "name": "python",
   "nbconvert_exporter": "python",
   "pygments_lexer": "ipython3",
   "version": "3.11.4"
  }
 },
 "nbformat": 4,
 "nbformat_minor": 5
}
