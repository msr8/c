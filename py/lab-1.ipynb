{
 "cells": [
  {
   "cell_type": "markdown",
   "id": "59fa3f5b-0f54-4aa9-b322-2c4cd596889a",
   "metadata": {},
   "source": [
    "### Write a program that inputs a list of numbers and returns the cumulative sum that is, a new list where the (i+1)th element is the sum of the first i elements from the original list. For example, the cumulative sum of [1, 2, 3] is [1, 3, 6]"
   ]
  },
  {
   "cell_type": "markdown",
   "id": "eae5a7fd-d508-42e8-b6b1-910b9ae7e464",
   "metadata": {},
   "source": [
    "# Method 1\n",
    "Deducing subsets and then calculating their sum"
   ]
  },
  {
   "cell_type": "code",
   "execution_count": 1,
   "id": "42bba0f7-6224-4791-b33f-4b68e33e1ffd",
   "metadata": {},
   "outputs": [
    {
     "name": "stdin",
     "output_type": "stream",
     "text": [
      "Enter some numbers (seperated by spaces):  5 4 1 6 7 0\n"
     ]
    },
    {
     "name": "stdout",
     "output_type": "stream",
     "text": [
      "[5, 9, 10, 16, 23, 23]\n"
     ]
    }
   ],
   "source": [
    "def method_1_1(orig:list[int]) -> list[int]:\n",
    "    new = []\n",
    "\n",
    "    for i in range(len(orig)):\n",
    "        sublist = orig[:i+1]\n",
    "        total   = 0\n",
    "        for j in sublist:\n",
    "            total += j\n",
    "        new.append(total)\n",
    "    \n",
    "    return new\n",
    "\n",
    "inp = input('Enter some numbers (seperated by spaces): ')\n",
    "lis = [int(i) for i in inp.split()]\n",
    "print(method_1_1(lis))"
   ]
  },
  {
   "cell_type": "markdown",
   "id": "9ec69be3-abae-438b-b6a0-a3567695772e",
   "metadata": {},
   "source": [
    "<br>"
   ]
  },
  {
   "cell_type": "code",
   "execution_count": 2,
   "id": "c405fc46-0aed-4b0c-b028-99021f3f0630",
   "metadata": {},
   "outputs": [
    {
     "name": "stdin",
     "output_type": "stream",
     "text": [
      "Enter some numbers (seperated by spaces):  5 4 1 6 7 0\n"
     ]
    },
    {
     "name": "stdout",
     "output_type": "stream",
     "text": [
      "[5, 9, 10, 16, 23, 23]\n"
     ]
    }
   ],
   "source": [
    "def method_1_2(orig:list[int]) -> list[int]:\n",
    "    new = []\n",
    "\n",
    "    for i in range(len(orig)):\n",
    "        new.append(sum(orig[:i+1]))\n",
    "    \n",
    "    return new\n",
    "\n",
    "inp = input('Enter some numbers (seperated by spaces): ')\n",
    "lis = [int(i) for i in inp.split()]\n",
    "print(method_1_2(lis))"
   ]
  },
  {
   "cell_type": "markdown",
   "id": "6d9cedb0-7b34-4ce1-a8cb-453eeed7d10c",
   "metadata": {},
   "source": [
    "<br>"
   ]
  },
  {
   "cell_type": "code",
   "execution_count": 3,
   "id": "f6553bd8-580c-4340-8ad5-310fd784fb98",
   "metadata": {},
   "outputs": [
    {
     "name": "stdin",
     "output_type": "stream",
     "text": [
      "Enter some numbers (seperated by spaces):  5 4 1 6 7 0\n"
     ]
    },
    {
     "name": "stdout",
     "output_type": "stream",
     "text": [
      "[5, 9, 10, 16, 23, 23]\n"
     ]
    }
   ],
   "source": [
    "def method_1_3(orig:list[int]) -> list[int]:\n",
    "    return [sum(orig[:i+1]) for i in range(len(orig))]\n",
    "\n",
    "inp = input('Enter some numbers (seperated by spaces): ')\n",
    "lis = [int(i) for i in inp.split()]\n",
    "print(method_1_3(lis))"
   ]
  },
  {
   "cell_type": "markdown",
   "id": "3b434a29-de2a-49c8-a10e-0a50fde367ea",
   "metadata": {},
   "source": [
    "<br><br><br><br><br>"
   ]
  },
  {
   "cell_type": "markdown",
   "id": "5948ffca-57d7-4d5d-a4e4-3a0ff09314be",
   "metadata": {},
   "source": [
    "# Method 2\n",
    "Looping through list and keep adding its elements to `total`"
   ]
  },
  {
   "cell_type": "code",
   "execution_count": 4,
   "id": "df0ae13e-e7a1-45d9-aad6-bbf5a315b12f",
   "metadata": {},
   "outputs": [
    {
     "name": "stdin",
     "output_type": "stream",
     "text": [
      "Enter some numbers (seperated by spaces):  5 4 1 6 7 0\n"
     ]
    },
    {
     "name": "stdout",
     "output_type": "stream",
     "text": [
      "[5, 9, 10, 16, 23, 23]\n"
     ]
    }
   ],
   "source": [
    "def method_2_1(orig:list[int]) -> list[int]:\n",
    "    new = []\n",
    "\n",
    "    total = 0\n",
    "    for i in orig:\n",
    "        total += i\n",
    "        new.append(total)\n",
    "    \n",
    "    return new\n",
    "\n",
    "inp = input('Enter some numbers (seperated by spaces): ')\n",
    "lis = [int(i) for i in inp.split()]\n",
    "print(method_2_1(lis))"
   ]
  },
  {
   "cell_type": "markdown",
   "id": "27e6a3b5-42a5-45ad-8e94-c87b8c128c02",
   "metadata": {},
   "source": [
    "<br>"
   ]
  },
  {
   "cell_type": "code",
   "execution_count": 5,
   "id": "c9744f23-bd33-4d27-abaf-d0e3685edaae",
   "metadata": {},
   "outputs": [
    {
     "name": "stdin",
     "output_type": "stream",
     "text": [
      "Enter some numbers (seperated by spaces):  5 4 1 6 7 0\n"
     ]
    },
    {
     "name": "stdout",
     "output_type": "stream",
     "text": [
      "[5, 9, 10, 16, 23, 23]\n"
     ]
    }
   ],
   "source": [
    "def method_2_2(orig:list[int]) -> list[int]:\n",
    "    total = 0\n",
    "    return [total := total + i for i in orig]\n",
    "\n",
    "inp = input('Enter some numbers (seperated by spaces): ')\n",
    "lis = [int(i) for i in inp.split()]\n",
    "print(method_2_2(lis))"
   ]
  },
  {
   "cell_type": "markdown",
   "id": "779558c8-da89-4d32-a17e-95a9fdbac85d",
   "metadata": {},
   "source": [
    "<br><br><br><br><br>"
   ]
  },
  {
   "cell_type": "markdown",
   "id": "8e21170f-77c8-4572-be3c-2885283a1775",
   "metadata": {},
   "source": [
    "# Measuring performance"
   ]
  },
  {
   "cell_type": "code",
   "execution_count": 6,
   "id": "b9a9adc2-362e-455e-833c-f3e8f30670e8",
   "metadata": {},
   "outputs": [
    {
     "name": "stdout",
     "output_type": "stream",
     "text": [
      "Requirement already satisfied: matplotlib in /usr/local/lib/python3.11/site-packages (3.8.0)\n",
      "Requirement already satisfied: tqdm in /usr/local/lib/python3.11/site-packages (4.66.1)\n",
      "Requirement already satisfied: contourpy>=1.0.1 in /usr/local/lib/python3.11/site-packages (from matplotlib) (1.1.0)\n",
      "Requirement already satisfied: cycler>=0.10 in /usr/local/lib/python3.11/site-packages (from matplotlib) (0.11.0)\n",
      "Requirement already satisfied: fonttools>=4.22.0 in /usr/local/lib/python3.11/site-packages (from matplotlib) (4.41.0)\n",
      "Requirement already satisfied: kiwisolver>=1.0.1 in /usr/local/lib/python3.11/site-packages (from matplotlib) (1.4.4)\n",
      "Requirement already satisfied: numpy<2,>=1.21 in /usr/local/lib/python3.11/site-packages (from matplotlib) (1.24.3)\n",
      "Requirement already satisfied: packaging>=20.0 in /usr/local/lib/python3.11/site-packages (from matplotlib) (23.1)\n",
      "Requirement already satisfied: pillow>=6.2.0 in /usr/local/lib/python3.11/site-packages (from matplotlib) (10.0.1)\n",
      "Requirement already satisfied: pyparsing>=2.3.1 in /usr/local/lib/python3.11/site-packages (from matplotlib) (3.0.9)\n",
      "Requirement already satisfied: python-dateutil>=2.7 in /usr/local/lib/python3.11/site-packages (from matplotlib) (2.8.2)\n",
      "Requirement already satisfied: six>=1.5 in /usr/local/lib/python3.11/site-packages (from python-dateutil>=2.7->matplotlib) (1.16.0)\n"
     ]
    }
   ],
   "source": [
    "!pip install matplotlib tqdm"
   ]
  },
  {
   "cell_type": "code",
   "execution_count": 7,
   "id": "ba5c55de-9fd6-4da6-b72d-bb5699c367de",
   "metadata": {},
   "outputs": [
    {
     "data": {
      "application/vnd.jupyter.widget-view+json": {
       "model_id": "d38df8df2f5b4ff5a5bddb9ca3b33107",
       "version_major": 2,
       "version_minor": 0
      },
      "text/plain": [
       "  0%|          | 0/5 [00:00<?, ?it/s]"
      ]
     },
     "metadata": {},
     "output_type": "display_data"
    },
    {
     "data": {
      "image/png": "[encoded data removed]",
      "text/plain": [
       "<Figure size 640x480 with 1 Axes>"
      ]
     },
     "metadata": {},
     "output_type": "display_data"
    }
   ],
   "source": [
    "from timeit import timeit\n",
    "from matplotlib import pyplot as plt\n",
    "from tqdm.notebook import tqdm\n",
    "plt.style.use('https://raw.githubusercontent.com/msr8/ml-projects/main/dark-style.mplstyle')\n",
    "\n",
    "# Defining some test cases \n",
    "test_cases = (\n",
    "    [],\n",
    "    [0],\n",
    "    [1e15],\n",
    "    [6,3,1,2,4,5],\n",
    "    [503149456575707, 698190489612148, 262893250928604, 985693658244293, 364476413630717, 315322894666451, 292126514133492, 874664968170142, 322712291159343, 521874145074084, 833380799698255, 773124210043604, 34661640333613, 575944562284168, 144283476465546, 671745438905059, 652599455691104, 336162157170910, 484337474145459, 806846215192169, 575437151523392, 935704724135717, 427587999182304, 386337989260336, 743258853037425, 30813046494702, 594263893099356, 612718005149846, 417718224335653, 692264032548908, 722430656854243, 658789827504406, 767317170907344, 633902191010845, 957813117789863, 430505225258070, 98218729467978, 241691867462677, 350487104979477, 50458116984532, 240064153342101, 192212248872267, 846097171645015, 714544756359176, 529484344328201, 217514101102462, 120577680407660, 110311737582538, 739840361796381, 677697689001483, 585937666418406, 99741531009288, 134240628783121, 368181442705016, 457236808984299, 527943112292478, 24632196996650]\n",
    ")\n",
    "N_ITERS = int(1e6) # How many times to run a function\n",
    "funcs = ['method_1_1', 'method_1_2', 'method_1_3', 'method_2_1', 'method_2_2']\n",
    "\n",
    "# Finding runtimes\n",
    "times = {}\n",
    "for func_name in tqdm(funcs):\n",
    "    time_used        = timeit(f'for i in test_cases: {func_name}(i)', setup=f'from __main__ import test_cases,{func_name}', number=N_ITERS)\n",
    "    avg_time         = time_used / N_ITERS * 1000 # Did 1000 to convert it to ms\n",
    "    times[func_name] = avg_time\n",
    "\n",
    "# Plotting our findings\n",
    "plt.title(f'Average runtime of a function (for {N_ITERS:,} runs)')\n",
    "plt.xlabel('Runtime (ms)')\n",
    "plt.ylabel('Functions')\n",
    "plt.barh(\n",
    "    [f'{k}\\n({round(v,5)})' for  k,v in list(times.items())[::-1]],\n",
    "    list(times.values())[::-1],\n",
    ")\n",
    "plt.show()\n"
   ]
  },
  {
   "cell_type": "markdown",
   "id": "3c1e8e74-092c-401a-a773-2d5fac3d65fb",
   "metadata": {},
   "source": [
    "<br><br><br><br><br>"
   ]
  }
 ],
 "metadata": {
  "kernelspec": {
   "display_name": "Python 3 (ipykernel)",
   "language": "python",
   "name": "python3"
  },
  "language_info": {
   "codemirror_mode": {
    "name": "ipython",
    "version": 3
   },
   "file_extension": ".py",
   "mimetype": "text/x-python",
   "name": "python",
   "nbconvert_exporter": "python",
   "pygments_lexer": "ipython3",
   "version": "3.11.5"
  }
 },
 "nbformat": 4,
 "nbformat_minor": 5
}
