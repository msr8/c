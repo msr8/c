{
 "cells": [
  {
   "cell_type": "markdown",
   "id": "08879736-8e47-4e4e-94c0-14f451cd6009",
   "metadata": {},
   "source": [
    "### Q1) Write a program to enter two integers, two floating numbers and then perform all arithmetic operations on them"
   ]
  },
  {
   "cell_type": "code",
   "execution_count": 16,
   "id": "d9187258-abe5-45aa-a724-fda609e370ca",
   "metadata": {},
   "outputs": [
    {
     "name": "stdin",
     "output_type": "stream",
     "text": [
      "Please enter two integers:  6 3\n",
      "Please enter two floating :  8.7 1.4\n"
     ]
    },
    {
     "name": "stdout",
     "output_type": "stream",
     "text": [
      "6 + 3 = 9\n",
      "6 - 3 = 3\n",
      "6 * 3 = 18\n",
      "6 / 3 = 2.0\n",
      "6 % 3 = 0\n",
      "6 // 3 = 2\n",
      "6 ** 3 = 216\n",
      "\n",
      "----------------------------------------------------------------------------------------------------\n",
      "\n",
      "8.7 + 1.4 = 10.1\n",
      "8.7 - 1.4 = 7.299999999999999\n",
      "8.7 * 1.4 = 12.179999999999998\n",
      "8.7 / 1.4 = 6.214285714285714\n",
      "8.7 % 1.4 = 0.2999999999999998\n",
      "8.7 // 1.4 = 6.0\n",
      "8.7 ** 1.4 = 20.66935639233665\n"
     ]
    }
   ],
   "source": [
    "int_inp = input('Please enter two integers: ')\n",
    "flt_inp = input('Please enter two floating : ')\n",
    "a, b    = [int(i)   for i in int_inp.split(' ')]\n",
    "x, y    = [float(i) for i in flt_inp.split(' ')]\n",
    "\n",
    "# Integers\n",
    "print(f'{a} + {b} = {a+b}')\n",
    "print(f'{a} - {b} = {a-b}')\n",
    "print(f'{a} * {b} = {a*b}')\n",
    "print(f'{a} / {b} = {a/b}')\n",
    "print(f'{a} % {b} = {a%b}')\n",
    "print(f'{a} // {b} = {a//b}')\n",
    "print(f'{a} ** {b} = {a**b}')\n",
    "\n",
    "print('\\n' + '-'*100 + '\\n')\n",
    "\n",
    "# Floats\n",
    "print(f'{x} + {y} = {x+y}')\n",
    "print(f'{x} - {y} = {x-y}')\n",
    "print(f'{x} * {y} = {x*y}')\n",
    "print(f'{x} / {y} = {x/y}')\n",
    "print(f'{x} % {y} = {x%y}')\n",
    "print(f'{x} // {y} = {x//y}')\n",
    "print(f'{x} ** {y} = {x**y}')"
   ]
  },
  {
   "cell_type": "markdown",
   "id": "958aaf09-274a-4228-b731-835ca8881a6a",
   "metadata": {},
   "source": [
    "<br><br><br><br><br>"
   ]
  },
  {
   "cell_type": "markdown",
   "id": "31ca4983-0562-40f2-870b-449798c0e24e",
   "metadata": {},
   "source": [
    "### Q2) Write a program to check whether a number is an Armstrong number or not"
   ]
  },
  {
   "cell_type": "code",
   "execution_count": 3,
   "id": "bdc247db-bcc3-4361-a25b-c070c4cd31c8",
   "metadata": {},
   "outputs": [
    {
     "name": "stdin",
     "output_type": "stream",
     "text": [
      "Enter a number: 153\n"
     ]
    },
    {
     "name": "stdout",
     "output_type": "stream",
     "text": [
      "153 is an armstrong number\n"
     ]
    }
   ],
   "source": [
    "x = int(input('Enter a number:'))\n",
    "\n",
    "x_sum  = sum([ int(c)**3 for c in str(x) ])\n",
    "is_arm = x == x_sum\n",
    "\n",
    "if is_arm: print(f'{x} is an armstrong number')\n",
    "else:      print(f'{x} is not an armstrong number')"
   ]
  },
  {
   "cell_type": "markdown",
   "id": "13bbcf28-4e4d-4c59-8669-cd90ec0caf6c",
   "metadata": {},
   "source": [
    "<br><br><br><br><br>"
   ]
  },
  {
   "cell_type": "markdown",
   "id": "6a182449-ecc0-45f3-a739-1023a0e98139",
   "metadata": {},
   "source": [
    "### Q3) Write a program to print the sum of all the primes between two ranges"
   ]
  },
  {
   "cell_type": "code",
   "execution_count": 13,
   "id": "30d2c7a9-37a0-44bc-b8a6-bb4a0bbf181e",
   "metadata": {},
   "outputs": [
    {
     "name": "stdin",
     "output_type": "stream",
     "text": [
      "Please enter two numbers:  1 5\n"
     ]
    },
    {
     "name": "stdout",
     "output_type": "stream",
     "text": [
      "2+3+4+5 = 14\n"
     ]
    }
   ],
   "source": [
    "def is_prime(n):\n",
    "    if n <= 1: return False\n",
    "\n",
    "    ret = True\n",
    "    for i in range(2, n//2):\n",
    "        if n % i == 0:\n",
    "            ret = False\n",
    "    return ret\n",
    "\n",
    "\n",
    "inp = input('Please enter two numbers: ')\n",
    "a,b = [int(i) for i in inp.split(' ')]\n",
    "\n",
    "primes     = [i for i in range(a,b+1) if is_prime(i)]\n",
    "primes_str = [str(i) for i in primes]\n",
    "print(f'{\"+\".join(primes_str)} = {sum(primes)}')"
   ]
  },
  {
   "cell_type": "markdown",
   "id": "0150c341-6591-474c-81ff-21a62f72aee6",
   "metadata": {},
   "source": [
    "<br><br><br><br><br>"
   ]
  },
  {
   "cell_type": "markdown",
   "id": "0068d48c-0b24-4f04-b2d4-1bf198d41964",
   "metadata": {},
   "source": [
    "### Q4) Write a program to swap two strings"
   ]
  },
  {
   "cell_type": "code",
   "execution_count": 15,
   "id": "c303ab6e-b61e-4079-be3a-33badb574e35",
   "metadata": {},
   "outputs": [
    {
     "name": "stdin",
     "output_type": "stream",
     "text": [
      "Please enter the first string:   abc\n",
      "Please enter the second string:  xyz\n"
     ]
    },
    {
     "name": "stdout",
     "output_type": "stream",
     "text": [
      "\n",
      "Before swapping: \n",
      "a='abc' | b='xyz'\n",
      "\n",
      "After swapping: \n",
      "a='xyz' | b='abc'\n"
     ]
    }
   ],
   "source": [
    "a = input('Please enter the first string:  ')\n",
    "b = input('Please enter the second string: ')\n",
    "\n",
    "print('\\nBefore swapping: ')\n",
    "print(f'{a=} | {b=}')\n",
    "a,b = b,a\n",
    "print('\\nAfter swapping: ')\n",
    "print(f'{a=} | {b=}')"
   ]
  },
  {
   "cell_type": "markdown",
   "id": "df523504-1fb2-47cd-9133-31d6882497eb",
   "metadata": {},
   "source": [
    "<br><br><br><br><br>"
   ]
  },
  {
   "cell_type": "markdown",
   "id": "d093748a-d7cd-4e3e-af12-68bcce9cb321",
   "metadata": {},
   "source": [
    "### Q5) Write a menu driven program to accept two strings from the user and perform the various functions using user defined functions"
   ]
  },
  {
   "cell_type": "markdown",
   "id": "355e11e7-7c34-4041-8add-101779faa4c1",
   "metadata": {},
   "source": [
    "<br><br><br><br><br>"
   ]
  },
  {
   "cell_type": "markdown",
   "id": "80c95811-6a35-44cb-9a90-20aac7b11e42",
   "metadata": {},
   "source": [
    "### Q6) Write a program to find smallest and largest number in a list"
   ]
  },
  {
   "cell_type": "code",
   "execution_count": 25,
   "id": "9ca9478b-1cb1-4451-bf54-0ce2e9f6b593",
   "metadata": {},
   "outputs": [
    {
     "name": "stdin",
     "output_type": "stream",
     "text": [
      "Please enter some numbers:  1 6 7 -9 5 0\n"
     ]
    },
    {
     "name": "stdout",
     "output_type": "stream",
     "text": [
      "From the given numbers, the smallest number is -9 and the largest number is 7\n"
     ]
    }
   ],
   "source": [
    "def smallest_and_largest(lis:list[int]) -> int:\n",
    "    if not lis: return None,None\n",
    "\n",
    "    ret_s = lis[0]\n",
    "    ret_l = lis[0]\n",
    "    for i in range(2, len(lis)):\n",
    "        elem = lis[i]\n",
    "        if elem > ret_l: ret_l = elem\n",
    "        if elem < ret_s: ret_s = elem\n",
    "\n",
    "    return ret_s, ret_l\n",
    "\n",
    "\n",
    "inp = input('Please enter some numbers: ')\n",
    "lis = [int(i) for i in inp.split(' ')]\n",
    "s,l = smallest_and_largest(lis)\n",
    "print(f'From the given numbers, the smallest number is {s} and the largest number is {l}')"
   ]
  },
  {
   "cell_type": "markdown",
   "id": "1ac6c002-36ac-4d44-9f94-f0e2c960891a",
   "metadata": {},
   "source": [
    "<br><br><br><br><br>"
   ]
  },
  {
   "cell_type": "markdown",
   "id": "96a41ceb-e46b-43fb-9796-d4f39ac06465",
   "metadata": {},
   "source": [
    "### Q7) Create a dictionary whose keys are month names and whose values are the number of days in the corresponding months\n",
    "\n",
    "- Ask the user to enter a month name and use the dictionary to tell them how many days are in the month\n",
    "- Print out all keys in the alphabetically order\n",
    "- Print out all the months with 31 days\n",
    "- Print out the key value pairs sorted by number of days in each month"
   ]
  },
  {
   "cell_type": "code",
   "execution_count": 50,
   "id": "c99c37d3-70aa-49a0-a34d-13d331984d09",
   "metadata": {},
   "outputs": [
    {
     "name": "stdin",
     "output_type": "stream",
     "text": [
      "Please enter a month name:  february\n"
     ]
    },
    {
     "name": "stdout",
     "output_type": "stream",
     "text": [
      "There are 28 days in February\n",
      "\n",
      "All the keys in alphabeical order are ['April', 'August', 'December', 'February', 'January', 'July', 'June', 'March', 'May', 'November', 'October', 'September']\n",
      "\n",
      "All the months with 31 days are: ['January', 'March', 'May', 'July', 'August', 'October', 'December']\n",
      "\n",
      "Key value pairs sorted by number of days in each month are: [('February', 28), ('April', 30), ('June', 30), ('September', 30), ('November', 30), ('January', 31), ('March', 31), ('May', 31), ('July', 31), ('August', 31), ('October', 31), ('December', 31)]\n"
     ]
    }
   ],
   "source": [
    "dic = {\n",
    "    'January':   31,\n",
    "    'February':  28,\n",
    "    'March':     31,\n",
    "    'April':     30,\n",
    "    'May':       31,\n",
    "    'June':      30,\n",
    "    'July':      31,\n",
    "    'August':    31,\n",
    "    'September': 30,\n",
    "    'October':   31,\n",
    "    'November':  30,\n",
    "    'December':  31\n",
    "}\n",
    "\n",
    "inp = input('Please enter a month name: ').title()\n",
    "print(f'There are {dic[inp]} days in {inp}')\n",
    "\n",
    "print(f'\\nAll the keys in alphabeical order are {sorted(list(dic.keys()))}')\n",
    "print(f'\\nAll the months with 31 days are: {[k for k,e in dic.items() if e==31]}')\n",
    "print(f'\\nKey value pairs sorted by number of days in each month are: {sorted( list(dic.items()) , key=lambda x: x[1] )}')"
   ]
  },
  {
   "cell_type": "markdown",
   "id": "3eaaaf9a-3214-47d5-a16c-d971d087c479",
   "metadata": {},
   "source": [
    "<br><br><br><br><br>"
   ]
  },
  {
   "cell_type": "markdown",
   "id": "d3e8b321-8e0f-478e-9388-d733aab2e850",
   "metadata": {},
   "source": [
    "### Q8) Make a list of first 10 letters of the alphabet, then use the slicing to do the following operations:\n",
    "- Print the first 3 letters of the list\n",
    "- Print any 3 letters from the middle\n",
    "- Print the letter from any particular index to the end of the list"
   ]
  },
  {
   "cell_type": "code",
   "execution_count": 57,
   "id": "bc326468-2836-4584-acaf-c8d0fffcb9f0",
   "metadata": {},
   "outputs": [
    {
     "name": "stdout",
     "output_type": "stream",
     "text": [
      "First 3 letters of the list are ['a', 'b', 'c']\n",
      "Any 3 letters from the middle of the list are ['e', 'f', 'g']\n",
      "The letters from index 2 to the end of the list are ['c', 'd', 'e', 'f', 'g', 'h', 'i', 'j']\n"
     ]
    }
   ],
   "source": [
    "from random import randint\n",
    "\n",
    "lis = ['a', 'b', 'c', 'd', 'e', 'f', 'g', 'h', 'i', 'j']\n",
    "rand_i = randint(2,9)\n",
    "\n",
    "print(f'First 3 letters of the list are {lis[:3]}')\n",
    "print(f'Any 3 letters from the middle of the list are {lis[4:7]}')\n",
    "print(f'The letters from index {rand_i} to the end of the list are {lis[rand_i:]}')"
   ]
  },
  {
   "cell_type": "markdown",
   "id": "dede05e4-4799-408a-8bc8-36a94055608b",
   "metadata": {},
   "source": [
    "<br><br><br><br><br>"
   ]
  },
  {
   "cell_type": "markdown",
   "id": "8345a89a-c082-4dbf-90a1-8293730a7f7d",
   "metadata": {},
   "source": [
    "<br><br><br><br><br>"
   ]
  },
  {
   "cell_type": "markdown",
   "id": "19203ec0-8d80-49a7-91b4-1893e1ff4941",
   "metadata": {},
   "source": [
    "<br><br><br><br><br>"
   ]
  },
  {
   "cell_type": "markdown",
   "id": "39c7d8d7-6529-409d-9059-22a15db1ca94",
   "metadata": {},
   "source": [
    "<br><br><br><br><br>"
   ]
  },
  {
   "cell_type": "markdown",
   "id": "34d45f1b-dc7b-433a-9b3a-61af24707ef6",
   "metadata": {},
   "source": [
    "<br><br><br><br><br>"
   ]
  },
  {
   "cell_type": "markdown",
   "id": "a97edcb5-1386-4778-b612-aad3ae704ba3",
   "metadata": {},
   "source": [
    "<br><br><br><br><br>"
   ]
  },
  {
   "cell_type": "markdown",
   "id": "78fdb1f9-68a6-4c15-a42b-c9a30a240cc5",
   "metadata": {},
   "source": [
    "<br><br><br><br><br>"
   ]
  },
  {
   "cell_type": "markdown",
   "id": "99d13706-f0f0-4667-9b27-e57f684903ba",
   "metadata": {},
   "source": [
    "<br><br><br><br><br>"
   ]
  },
  {
   "cell_type": "markdown",
   "id": "301c35fa-c4af-41f4-bfde-509f7195e633",
   "metadata": {},
   "source": [
    "<br><br><br><br><br>"
   ]
  },
  {
   "cell_type": "markdown",
   "id": "31371afb-144a-4be8-8baa-340e1b4147f5",
   "metadata": {},
   "source": [
    "<br><br><br><br><br>"
   ]
  },
  {
   "cell_type": "markdown",
   "id": "6c85b82d-0541-47b9-aa35-d2c63baadabe",
   "metadata": {},
   "source": [
    "<br><br><br><br><br>"
   ]
  },
  {
   "cell_type": "markdown",
   "id": "9d51f37c-17ea-4e22-94ab-65dad1e897d4",
   "metadata": {},
   "source": [
    "<br><br><br><br><br>"
   ]
  },
  {
   "cell_type": "markdown",
   "id": "74760ae9-2059-463c-8c2d-073ef3bd571e",
   "metadata": {},
   "source": [
    "<br><br><br><br><br>"
   ]
  },
  {
   "cell_type": "markdown",
   "id": "5106265d-091b-4474-9c8e-d70318b4b2c2",
   "metadata": {},
   "source": [
    "<br><br><br><br><br>"
   ]
  },
  {
   "cell_type": "markdown",
   "id": "2fdfa29a-6421-49c6-95e9-e5d086d328b5",
   "metadata": {},
   "source": [
    "<br><br><br><br><br>"
   ]
  },
  {
   "cell_type": "markdown",
   "id": "1db49607-5a17-4d4d-8c7e-4b8f95b76a94",
   "metadata": {},
   "source": [
    "<br><br><br><br><br>"
   ]
  },
  {
   "cell_type": "markdown",
   "id": "3fde40fd-e183-4078-a7e3-cba123f511ff",
   "metadata": {},
   "source": [
    "<br><br><br><br><br>"
   ]
  },
  {
   "cell_type": "markdown",
   "id": "ef48345e-601c-46aa-8086-f9d6a36d4d7f",
   "metadata": {},
   "source": [
    "<br><br><br><br><br>"
   ]
  }
 ],
 "metadata": {
  "kernelspec": {
   "display_name": "Python 3 (ipykernel)",
   "language": "python",
   "name": "python3"
  },
  "language_info": {
   "codemirror_mode": {
    "name": "ipython",
    "version": 3
   },
   "file_extension": ".py",
   "mimetype": "text/x-python",
   "name": "python",
   "nbconvert_exporter": "python",
   "pygments_lexer": "ipython3",
   "version": "3.11.4"
  }
 },
 "nbformat": 4,
 "nbformat_minor": 5
}
