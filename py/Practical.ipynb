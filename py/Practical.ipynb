{
 "cells": [
  {
   "cell_type": "markdown",
   "id": "08879736-8e47-4e4e-94c0-14f451cd6009",
   "metadata": {},
   "source": [
    "### Q1) Write a program to enter two integers, two floating numbers and then perform all arithmetic operations on them"
   ]
  },
  {
   "cell_type": "code",
   "execution_count": 16,
   "id": "d9187258-abe5-45aa-a724-fda609e370ca",
   "metadata": {},
   "outputs": [
    {
     "name": "stdin",
     "output_type": "stream",
     "text": [
      "Please enter two integers:  6 3\n",
      "Please enter two floating :  8.7 1.4\n"
     ]
    },
    {
     "name": "stdout",
     "output_type": "stream",
     "text": [
      "6 + 3 = 9\n",
      "6 - 3 = 3\n",
      "6 * 3 = 18\n",
      "6 / 3 = 2.0\n",
      "6 % 3 = 0\n",
      "6 // 3 = 2\n",
      "6 ** 3 = 216\n",
      "\n",
      "----------------------------------------------------------------------------------------------------\n",
      "\n",
      "8.7 + 1.4 = 10.1\n",
      "8.7 - 1.4 = 7.299999999999999\n",
      "8.7 * 1.4 = 12.179999999999998\n",
      "8.7 / 1.4 = 6.214285714285714\n",
      "8.7 % 1.4 = 0.2999999999999998\n",
      "8.7 // 1.4 = 6.0\n",
      "8.7 ** 1.4 = 20.66935639233665\n"
     ]
    }
   ],
   "source": [
    "int_inp = input('Please enter two integers: ')\n",
    "flt_inp = input('Please enter two floating : ')\n",
    "a, b    = [int(i)   for i in int_inp.split(' ')]\n",
    "x, y    = [float(i) for i in flt_inp.split(' ')]\n",
    "\n",
    "# Integers\n",
    "print(f'{a} + {b} = {a+b}')\n",
    "print(f'{a} - {b} = {a-b}')\n",
    "print(f'{a} * {b} = {a*b}')\n",
    "print(f'{a} / {b} = {a/b}')\n",
    "print(f'{a} % {b} = {a%b}')\n",
    "print(f'{a} // {b} = {a//b}')\n",
    "print(f'{a} ** {b} = {a**b}')\n",
    "\n",
    "print('\\n' + '-'*100 + '\\n')\n",
    "\n",
    "# Floats\n",
    "print(f'{x} + {y} = {x+y}')\n",
    "print(f'{x} - {y} = {x-y}')\n",
    "print(f'{x} * {y} = {x*y}')\n",
    "print(f'{x} / {y} = {x/y}')\n",
    "print(f'{x} % {y} = {x%y}')\n",
    "print(f'{x} // {y} = {x//y}')\n",
    "print(f'{x} ** {y} = {x**y}')"
   ]
  },
  {
   "cell_type": "markdown",
   "id": "958aaf09-274a-4228-b731-835ca8881a6a",
   "metadata": {},
   "source": [
    "<br><br><br><br><br>"
   ]
  },
  {
   "cell_type": "markdown",
   "id": "31ca4983-0562-40f2-870b-449798c0e24e",
   "metadata": {},
   "source": [
    "### Q2) Write a program to check whether a number is an Armstrong number or not"
   ]
  },
  {
   "cell_type": "code",
   "execution_count": 3,
   "id": "bdc247db-bcc3-4361-a25b-c070c4cd31c8",
   "metadata": {},
   "outputs": [
    {
     "name": "stdin",
     "output_type": "stream",
     "text": [
      "Enter a number: 153\n"
     ]
    },
    {
     "name": "stdout",
     "output_type": "stream",
     "text": [
      "153 is an armstrong number\n"
     ]
    }
   ],
   "source": [
    "x = int(input('Enter a number:'))\n",
    "\n",
    "x_sum  = sum([ int(c)**3 for c in str(x) ])\n",
    "is_arm = x == x_sum\n",
    "\n",
    "if is_arm: print(f'{x} is an armstrong number')\n",
    "else:      print(f'{x} is not an armstrong number')"
   ]
  },
  {
   "cell_type": "markdown",
   "id": "13bbcf28-4e4d-4c59-8669-cd90ec0caf6c",
   "metadata": {},
   "source": [
    "<br><br><br><br><br>"
   ]
  },
  {
   "cell_type": "markdown",
   "id": "6a182449-ecc0-45f3-a739-1023a0e98139",
   "metadata": {},
   "source": [
    "### Q3) Write a program to print the sum of all the primes between two ranges"
   ]
  },
  {
   "cell_type": "code",
   "execution_count": 9,
   "id": "30d2c7a9-37a0-44bc-b8a6-bb4a0bbf181e",
   "metadata": {},
   "outputs": [
    {
     "name": "stdin",
     "output_type": "stream",
     "text": [
      "Please enter two numbers:  1 5\n"
     ]
    },
    {
     "name": "stdout",
     "output_type": "stream",
     "text": [
      "2+3+5 = 10\n"
     ]
    }
   ],
   "source": [
    "def is_prime(x):\n",
    "    if x <= 1: return False\n",
    "\n",
    "    ret = True\n",
    "    for i in range(2, x//2+1):\n",
    "        if x % i == 0:\n",
    "            ret = False\n",
    "    return ret\n",
    "\n",
    "\n",
    "inp = input('Please enter two numbers: ')\n",
    "a,b = [int(i) for i in inp.split(' ')]\n",
    "\n",
    "primes     = [i for i in range(a,b+1) if is_prime(i)]\n",
    "primes_str = [str(i) for i in primes]\n",
    "print(f'{\"+\".join(primes_str)} = {sum(primes)}')"
   ]
  },
  {
   "cell_type": "markdown",
   "id": "0150c341-6591-474c-81ff-21a62f72aee6",
   "metadata": {},
   "source": [
    "<br><br><br><br><br>"
   ]
  },
  {
   "cell_type": "markdown",
   "id": "0068d48c-0b24-4f04-b2d4-1bf198d41964",
   "metadata": {},
   "source": [
    "### Q4) Write a program to swap two strings"
   ]
  },
  {
   "cell_type": "code",
   "execution_count": 15,
   "id": "c303ab6e-b61e-4079-be3a-33badb574e35",
   "metadata": {},
   "outputs": [
    {
     "name": "stdin",
     "output_type": "stream",
     "text": [
      "Please enter the first string:   abc\n",
      "Please enter the second string:  xyz\n"
     ]
    },
    {
     "name": "stdout",
     "output_type": "stream",
     "text": [
      "\n",
      "Before swapping: \n",
      "a='abc' | b='xyz'\n",
      "\n",
      "After swapping: \n",
      "a='xyz' | b='abc'\n"
     ]
    }
   ],
   "source": [
    "a = input('Please enter the first string:  ')\n",
    "b = input('Please enter the second string: ')\n",
    "\n",
    "print('\\nBefore swapping: ')\n",
    "print(f'{a=} | {b=}')\n",
    "a,b = b,a\n",
    "print('\\nAfter swapping: ')\n",
    "print(f'{a=} | {b=}')"
   ]
  },
  {
   "cell_type": "markdown",
   "id": "df523504-1fb2-47cd-9133-31d6882497eb",
   "metadata": {},
   "source": [
    "<br><br><br><br><br>"
   ]
  },
  {
   "cell_type": "markdown",
   "id": "d093748a-d7cd-4e3e-af12-68bcce9cb321",
   "metadata": {},
   "source": [
    "### Q5) Write a menu driven program to accept two strings from the user and perform the various functions using user defined functions"
   ]
  },
  {
   "cell_type": "markdown",
   "id": "355e11e7-7c34-4041-8add-101779faa4c1",
   "metadata": {},
   "source": [
    "<br><br><br><br><br>"
   ]
  },
  {
   "cell_type": "markdown",
   "id": "80c95811-6a35-44cb-9a90-20aac7b11e42",
   "metadata": {},
   "source": [
    "### Q6) Write a program to find smallest and largest number in a list"
   ]
  },
  {
   "cell_type": "code",
   "execution_count": 25,
   "id": "9ca9478b-1cb1-4451-bf54-0ce2e9f6b593",
   "metadata": {},
   "outputs": [
    {
     "name": "stdin",
     "output_type": "stream",
     "text": [
      "Please enter some numbers:  1 6 7 -9 5 0\n"
     ]
    },
    {
     "name": "stdout",
     "output_type": "stream",
     "text": [
      "From the given numbers, the smallest number is -9 and the largest number is 7\n"
     ]
    }
   ],
   "source": [
    "def smallest_and_largest(lis:list[int]) -> int:\n",
    "    if not lis: return None,None\n",
    "\n",
    "    ret_s = lis[0]\n",
    "    ret_l = lis[0]\n",
    "    for i in range(2, len(lis)):\n",
    "        elem = lis[i]\n",
    "        if elem > ret_l: ret_l = elem\n",
    "        if elem < ret_s: ret_s = elem\n",
    "\n",
    "    return ret_s, ret_l\n",
    "\n",
    "\n",
    "inp = input('Please enter some numbers: ')\n",
    "lis = [int(i) for i in inp.split(' ')]\n",
    "s,l = smallest_and_largest(lis)\n",
    "print(f'From the given numbers, the smallest number is {s} and the largest number is {l}')"
   ]
  },
  {
   "cell_type": "markdown",
   "id": "1ac6c002-36ac-4d44-9f94-f0e2c960891a",
   "metadata": {},
   "source": [
    "<br><br><br><br><br>"
   ]
  },
  {
   "cell_type": "markdown",
   "id": "96a41ceb-e46b-43fb-9796-d4f39ac06465",
   "metadata": {},
   "source": [
    "### Q7) Create a dictionary whose keys are month names and whose values are the number of days in the corresponding months\n",
    "\n",
    "- Ask the user to enter a month name and use the dictionary to tell them how many days are in the month\n",
    "- Print out all keys in the alphabetically order\n",
    "- Print out all the months with 31 days\n",
    "- Print out the key value pairs sorted by number of days in each month"
   ]
  },
  {
   "cell_type": "code",
   "execution_count": 50,
   "id": "c99c37d3-70aa-49a0-a34d-13d331984d09",
   "metadata": {},
   "outputs": [
    {
     "name": "stdin",
     "output_type": "stream",
     "text": [
      "Please enter a month name:  february\n"
     ]
    },
    {
     "name": "stdout",
     "output_type": "stream",
     "text": [
      "There are 28 days in February\n",
      "\n",
      "All the keys in alphabeical order are ['April', 'August', 'December', 'February', 'January', 'July', 'June', 'March', 'May', 'November', 'October', 'September']\n",
      "\n",
      "All the months with 31 days are: ['January', 'March', 'May', 'July', 'August', 'October', 'December']\n",
      "\n",
      "Key value pairs sorted by number of days in each month are: [('February', 28), ('April', 30), ('June', 30), ('September', 30), ('November', 30), ('January', 31), ('March', 31), ('May', 31), ('July', 31), ('August', 31), ('October', 31), ('December', 31)]\n"
     ]
    }
   ],
   "source": [
    "dic = {\n",
    "    'January':   31,\n",
    "    'February':  28,\n",
    "    'March':     31,\n",
    "    'April':     30,\n",
    "    'May':       31,\n",
    "    'June':      30,\n",
    "    'July':      31,\n",
    "    'August':    31,\n",
    "    'September': 30,\n",
    "    'October':   31,\n",
    "    'November':  30,\n",
    "    'December':  31\n",
    "}\n",
    "\n",
    "inp = input('Please enter a month name: ').title()\n",
    "print(f'There are {dic[inp]} days in {inp}')\n",
    "\n",
    "print(f'\\nAll the keys in alphabeical order are {sorted(list(dic.keys()))}')\n",
    "print(f'\\nAll the months with 31 days are: {[k for k,e in dic.items() if e==31]}')\n",
    "print(f'\\nKey value pairs sorted by number of days in each month are: {sorted( list(dic.items()) , key=lambda x: x[1] )}')"
   ]
  },
  {
   "cell_type": "markdown",
   "id": "3eaaaf9a-3214-47d5-a16c-d971d087c479",
   "metadata": {},
   "source": [
    "<br><br><br><br><br>"
   ]
  },
  {
   "cell_type": "markdown",
   "id": "d3e8b321-8e0f-478e-9388-d733aab2e850",
   "metadata": {},
   "source": [
    "### Q8) Make a list of first 10 letters of the alphabet, then use the slicing to do the following operations:\n",
    "- Print the first 3 letters of the list\n",
    "- Print any 3 letters from the middle\n",
    "- Print the letter from any particular index to the end of the list"
   ]
  },
  {
   "cell_type": "code",
   "execution_count": 57,
   "id": "bc326468-2836-4584-acaf-c8d0fffcb9f0",
   "metadata": {},
   "outputs": [
    {
     "name": "stdout",
     "output_type": "stream",
     "text": [
      "First 3 letters of the list are ['a', 'b', 'c']\n",
      "Any 3 letters from the middle of the list are ['e', 'f', 'g']\n",
      "The letters from index 2 to the end of the list are ['c', 'd', 'e', 'f', 'g', 'h', 'i', 'j']\n"
     ]
    }
   ],
   "source": [
    "from random import randint\n",
    "\n",
    "lis = ['a', 'b', 'c', 'd', 'e', 'f', 'g', 'h', 'i', 'j']\n",
    "rand_i = randint(2,9)\n",
    "\n",
    "print(f'First 3 letters of the list are {lis[:3]}')\n",
    "print(f'Any 3 letters from the middle of the list are {lis[4:7]}')\n",
    "print(f'The letters from index {rand_i} to the end of the list are {lis[rand_i:]}')"
   ]
  },
  {
   "cell_type": "markdown",
   "id": "dede05e4-4799-408a-8bc8-36a94055608b",
   "metadata": {},
   "source": [
    "<br><br><br><br><br>"
   ]
  },
  {
   "cell_type": "markdown",
   "id": "8345a89a-c082-4dbf-90a1-8293730a7f7d",
   "metadata": {},
   "source": [
    "### Q9) Write a program that scans an email address and forms a tuple of user name and domain"
   ]
  },
  {
   "cell_type": "code",
   "execution_count": 59,
   "id": "aee62e46-1c50-4344-81a8-3496e08e0d73",
   "metadata": {},
   "outputs": [
    {
     "name": "stdin",
     "output_type": "stream",
     "text": [
      "Enter an email address:  test@gmail.com\n"
     ]
    },
    {
     "name": "stdout",
     "output_type": "stream",
     "text": [
      "Username: test\n",
      "Domain: gmail.com\n"
     ]
    }
   ],
   "source": [
    "x = input('Enter an email address: ')\n",
    "\n",
    "username,domain = x.split('@')\n",
    "print(f'Username: {username}')\n",
    "print(f'Domain: {domain}')"
   ]
  },
  {
   "cell_type": "markdown",
   "id": "19203ec0-8d80-49a7-91b4-1893e1ff4941",
   "metadata": {},
   "source": [
    "<br><br><br><br><br>"
   ]
  },
  {
   "cell_type": "markdown",
   "id": "39c7d8d7-6529-409d-9059-22a15db1ca94",
   "metadata": {},
   "source": [
    "### Q10) Write a program that uses a user defined function that accepts name and gender (as M for Male, F for Female) and prefixes Mr./Ms. on the basis of the gender"
   ]
  },
  {
   "cell_type": "code",
   "execution_count": 61,
   "id": "475b9c00-f690-4b71-a7c8-d4491f82c695",
   "metadata": {},
   "outputs": [
    {
     "name": "stdin",
     "output_type": "stream",
     "text": [
      "Please enter your name:  Shashwat Ahuja\n",
      "Please enter your gender (M for Male, F for Female):  m\n"
     ]
    },
    {
     "name": "stdout",
     "output_type": "stream",
     "text": [
      "\n",
      "Mr. Shashwat Ahuja\n"
     ]
    }
   ],
   "source": [
    "def foo(gender, name):\n",
    "    return f'Mr. {name}' if gender=='M' else f'Ms. {name}'\n",
    "\n",
    "name   = input('Please enter your name: ')\n",
    "gender = input('Please enter your gender (M for Male, F for Female): ').upper()\n",
    "\n",
    "print()\n",
    "print(foo(gender, name))"
   ]
  },
  {
   "cell_type": "markdown",
   "id": "34d45f1b-dc7b-433a-9b3a-61af24707ef6",
   "metadata": {},
   "source": [
    "<br><br><br><br><br>"
   ]
  },
  {
   "cell_type": "markdown",
   "id": "a97edcb5-1386-4778-b612-aad3ae704ba3",
   "metadata": {},
   "source": [
    "### Q11) Write a program to display Bar graphs or Pie chart using Matplotlib"
   ]
  },
  {
   "cell_type": "code",
   "execution_count": 5,
   "id": "3ced4972-b567-4838-b686-3847edfdda6a",
   "metadata": {},
   "outputs": [
    {
     "data": {
      "image/png": "[encoded data removed]",
      "text/plain": [
       "<Figure size 640x480 with 1 Axes>"
      ]
     },
     "metadata": {},
     "output_type": "display_data"
    },
    {
     "data": {
      "image/png": "[encoded data removed]",
      "text/plain": [
       "<Figure size 640x480 with 1 Axes>"
      ]
     },
     "metadata": {},
     "output_type": "display_data"
    }
   ],
   "source": [
    "import matplotlib.pyplot as plt\n",
    "import random as r\n",
    "n = 10\n",
    "x = list(range(1,n+1))\n",
    "y = [r.randint(5,100) for _ in range(n)]\n",
    "\n",
    "# Bar graph\n",
    "plt.bar(x, y)\n",
    "plt.show()\n",
    "\n",
    "# Pie chart\n",
    "plt.pie(y, labels=x)\n",
    "plt.show()"
   ]
  },
  {
   "cell_type": "markdown",
   "id": "78fdb1f9-68a6-4c15-a42b-c9a30a240cc5",
   "metadata": {},
   "source": [
    "<br><br><br><br><br>"
   ]
  },
  {
   "cell_type": "markdown",
   "id": "e517ad1c-ef7d-4d4e-b7f4-58ad6cb309e6",
   "metadata": {},
   "source": [
    "### Q12) Write a program that defines a function large in a module which will be used to find larger of two values and called from code in another module"
   ]
  },
  {
   "cell_type": "code",
   "execution_count": 72,
   "id": "2ed30021-a414-4785-9df6-927e3430090c",
   "metadata": {},
   "outputs": [
    {
     "name": "stdout",
     "output_type": "stream",
     "text": [
      "Overwriting my_module.py\n"
     ]
    }
   ],
   "source": [
    "%%writefile my_module.py\n",
    "def large(a,b):\n",
    "    return a if a>b else b"
   ]
  },
  {
   "cell_type": "code",
   "execution_count": 75,
   "id": "fa309ef0-09d1-470d-84d9-d7b1bd1725d6",
   "metadata": {},
   "outputs": [
    {
     "name": "stdin",
     "output_type": "stream",
     "text": [
      "Please enter two numbers:  5 3\n"
     ]
    },
    {
     "name": "stdout",
     "output_type": "stream",
     "text": [
      "The larger number is 5\n"
     ]
    }
   ],
   "source": [
    "from my_module import large\n",
    "\n",
    "inp = input('Please enter two numbers: ')\n",
    "a,b = [int(i) for i in inp.split(' ')]\n",
    "\n",
    "print(f'The larger number is {large(a,b)}')"
   ]
  },
  {
   "cell_type": "markdown",
   "id": "99d13706-f0f0-4667-9b27-e57f684903ba",
   "metadata": {},
   "source": [
    "<br><br><br><br><br>"
   ]
  },
  {
   "cell_type": "markdown",
   "id": "301c35fa-c4af-41f4-bfde-509f7195e633",
   "metadata": {},
   "source": [
    "### Q13) Write a program to know the cursor position and print the text according to specifications given below:\n",
    "- Print the initial position\n",
    "- Move the cursor to 4th position\n",
    "- Display next 5 characters\n",
    "- Move the cursor to the next 10 characters\n",
    "- Print the current cursor position\n",
    "- Print next 10 characters from the current cursor position"
   ]
  },
  {
   "cell_type": "code",
   "execution_count": 76,
   "id": "384a6a06-86bf-44d0-85d1-f96c6aa3a97d",
   "metadata": {},
   "outputs": [
    {
     "name": "stdout",
     "output_type": "stream",
     "text": [
      "Writing text.txt\n"
     ]
    }
   ],
   "source": [
    "%%writefile text.txt\n",
    "Lorem ipsum dolor sit amet, consectetur adipiscing elit. Suspendisse imperdiet nec ante quis dignissim. Fusce viverra nibh porttitor, laoreet lorem id, iaculis nibh. Pellentesque nisl nulla, dignissim non dictum eu, placerat eget nibh. Ut sed cursus dolor, non tincidunt sapien. Fusce non metus consequat, porta nunc quis, porta risus. Proin quis porttitor diam. Aenean suscipit eu neque a maximus. Morbi vel euismod nunc. Proin eget dui eget dui bibendum condimentum. Phasellus ullamcorper ullamcorper sem. Curabitur lectus mauris, auctor quis vestibulum a, euismod a metus"
   ]
  },
  {
   "cell_type": "code",
   "execution_count": 85,
   "id": "e4bbeed5-3f51-40a7-939e-b540d43a8f8f",
   "metadata": {},
   "outputs": [
    {
     "name": "stdout",
     "output_type": "stream",
     "text": [
      "The initial position is 0\n",
      "Next 5 characters are: b'm ips'\n",
      "The current cursor position is 19\n",
      "Next 10 characters are: b'it amet, c'\n"
     ]
    }
   ],
   "source": [
    "fp = open('text.txt', 'rb')\n",
    "\n",
    "# Print the initial position\n",
    "print(f'The initial position is {fp.tell()}')\n",
    "# Move the cursor to 4th position\n",
    "fp.seek(4)\n",
    "# Display next 5 characters\n",
    "print(f'Next 5 characters are: {fp.read(5)}')\n",
    "# Move the cursor to the next 10 characters\n",
    "fp.seek(10, 1)\n",
    "# Print the current cursor position\n",
    "print(f'The current cursor position is {fp.tell()}')\n",
    "# Print next 10 characters from the current cursor position\n",
    "print(f'Next 10 characters are: {fp.read(10)}')"
   ]
  },
  {
   "cell_type": "markdown",
   "id": "31371afb-144a-4be8-8baa-340e1b4147f5",
   "metadata": {},
   "source": [
    "<br><br><br><br><br>"
   ]
  },
  {
   "cell_type": "markdown",
   "id": "6c85b82d-0541-47b9-aa35-d2c63baadabe",
   "metadata": {},
   "source": [
    "### Q14) Create a binary file with roll number, name and marks. Input a roll number and perform the following operations:\n",
    "- Update the marks\n",
    "- Delete the record\n",
    "- Display the record\n",
    "- Append the record\n",
    "- Search the record"
   ]
  },
  {
   "cell_type": "code",
   "execution_count": 7,
   "id": "8094ffc9-56ca-4707-860b-8f92eaf7c9fc",
   "metadata": {},
   "outputs": [
    {
     "name": "stdout",
     "output_type": "stream",
     "text": [
      "Record added\n",
      "Record added\n",
      "Record added\n",
      "Record added\n"
     ]
    },
    {
     "data": {
      "text/html": [
       "<div>\n",
       "<style scoped>\n",
       "    .dataframe tbody tr th:only-of-type {\n",
       "        vertical-align: middle;\n",
       "    }\n",
       "\n",
       "    .dataframe tbody tr th {\n",
       "        vertical-align: top;\n",
       "    }\n",
       "\n",
       "    .dataframe thead th {\n",
       "        text-align: right;\n",
       "    }\n",
       "</style>\n",
       "<table border=\"1\" class=\"dataframe\">\n",
       "  <thead>\n",
       "    <tr style=\"text-align: right;\">\n",
       "      <th></th>\n",
       "      <th>Roll Number</th>\n",
       "      <th>Name</th>\n",
       "      <th>Marks</th>\n",
       "    </tr>\n",
       "  </thead>\n",
       "  <tbody>\n",
       "    <tr>\n",
       "      <th>0</th>\n",
       "      <td>1</td>\n",
       "      <td>Ayush</td>\n",
       "      <td>31</td>\n",
       "    </tr>\n",
       "    <tr>\n",
       "      <th>1</th>\n",
       "      <td>2</td>\n",
       "      <td>Krish</td>\n",
       "      <td>44</td>\n",
       "    </tr>\n",
       "    <tr>\n",
       "      <th>2</th>\n",
       "      <td>4</td>\n",
       "      <td>Raj</td>\n",
       "      <td>95</td>\n",
       "    </tr>\n",
       "    <tr>\n",
       "      <th>3</th>\n",
       "      <td>3</td>\n",
       "      <td>Rohan</td>\n",
       "      <td>87</td>\n",
       "    </tr>\n",
       "  </tbody>\n",
       "</table>\n",
       "</div>"
      ],
      "text/plain": [
       "   Roll Number   Name  Marks\n",
       "0            1  Ayush     31\n",
       "1            2  Krish     44\n",
       "2            4    Raj     95\n",
       "3            3  Rohan     87"
      ]
     },
     "metadata": {},
     "output_type": "display_data"
    },
    {
     "name": "stdout",
     "output_type": "stream",
     "text": [
      "Marks updated\n"
     ]
    },
    {
     "data": {
      "text/html": [
       "<div>\n",
       "<style scoped>\n",
       "    .dataframe tbody tr th:only-of-type {\n",
       "        vertical-align: middle;\n",
       "    }\n",
       "\n",
       "    .dataframe tbody tr th {\n",
       "        vertical-align: top;\n",
       "    }\n",
       "\n",
       "    .dataframe thead th {\n",
       "        text-align: right;\n",
       "    }\n",
       "</style>\n",
       "<table border=\"1\" class=\"dataframe\">\n",
       "  <thead>\n",
       "    <tr style=\"text-align: right;\">\n",
       "      <th></th>\n",
       "      <th>Roll Number</th>\n",
       "      <th>Name</th>\n",
       "      <th>Marks</th>\n",
       "    </tr>\n",
       "  </thead>\n",
       "  <tbody>\n",
       "    <tr>\n",
       "      <th>0</th>\n",
       "      <td>1</td>\n",
       "      <td>Ayush</td>\n",
       "      <td>31</td>\n",
       "    </tr>\n",
       "    <tr>\n",
       "      <th>1</th>\n",
       "      <td>2</td>\n",
       "      <td>Krish</td>\n",
       "      <td>51</td>\n",
       "    </tr>\n",
       "    <tr>\n",
       "      <th>2</th>\n",
       "      <td>4</td>\n",
       "      <td>Raj</td>\n",
       "      <td>95</td>\n",
       "    </tr>\n",
       "    <tr>\n",
       "      <th>3</th>\n",
       "      <td>3</td>\n",
       "      <td>Rohan</td>\n",
       "      <td>87</td>\n",
       "    </tr>\n",
       "  </tbody>\n",
       "</table>\n",
       "</div>"
      ],
      "text/plain": [
       "   Roll Number   Name  Marks\n",
       "0            1  Ayush     31\n",
       "1            2  Krish     51\n",
       "2            4    Raj     95\n",
       "3            3  Rohan     87"
      ]
     },
     "metadata": {},
     "output_type": "display_data"
    },
    {
     "name": "stdout",
     "output_type": "stream",
     "text": [
      "Record deleted\n"
     ]
    },
    {
     "data": {
      "text/html": [
       "<div>\n",
       "<style scoped>\n",
       "    .dataframe tbody tr th:only-of-type {\n",
       "        vertical-align: middle;\n",
       "    }\n",
       "\n",
       "    .dataframe tbody tr th {\n",
       "        vertical-align: top;\n",
       "    }\n",
       "\n",
       "    .dataframe thead th {\n",
       "        text-align: right;\n",
       "    }\n",
       "</style>\n",
       "<table border=\"1\" class=\"dataframe\">\n",
       "  <thead>\n",
       "    <tr style=\"text-align: right;\">\n",
       "      <th></th>\n",
       "      <th>Roll Number</th>\n",
       "      <th>Name</th>\n",
       "      <th>Marks</th>\n",
       "    </tr>\n",
       "  </thead>\n",
       "  <tbody>\n",
       "    <tr>\n",
       "      <th>0</th>\n",
       "      <td>1</td>\n",
       "      <td>Ayush</td>\n",
       "      <td>31</td>\n",
       "    </tr>\n",
       "    <tr>\n",
       "      <th>1</th>\n",
       "      <td>2</td>\n",
       "      <td>Krish</td>\n",
       "      <td>51</td>\n",
       "    </tr>\n",
       "    <tr>\n",
       "      <th>2</th>\n",
       "      <td>4</td>\n",
       "      <td>Raj</td>\n",
       "      <td>95</td>\n",
       "    </tr>\n",
       "  </tbody>\n",
       "</table>\n",
       "</div>"
      ],
      "text/plain": [
       "   Roll Number   Name  Marks\n",
       "0            1  Ayush     31\n",
       "1            2  Krish     51\n",
       "2            4    Raj     95"
      ]
     },
     "metadata": {},
     "output_type": "display_data"
    },
    {
     "data": {
      "text/html": [
       "<div>\n",
       "<style scoped>\n",
       "    .dataframe tbody tr th:only-of-type {\n",
       "        vertical-align: middle;\n",
       "    }\n",
       "\n",
       "    .dataframe tbody tr th {\n",
       "        vertical-align: top;\n",
       "    }\n",
       "\n",
       "    .dataframe thead th {\n",
       "        text-align: right;\n",
       "    }\n",
       "</style>\n",
       "<table border=\"1\" class=\"dataframe\">\n",
       "  <thead>\n",
       "    <tr style=\"text-align: right;\">\n",
       "      <th></th>\n",
       "      <th>Roll Number</th>\n",
       "      <th>Name</th>\n",
       "      <th>Marks</th>\n",
       "    </tr>\n",
       "  </thead>\n",
       "  <tbody>\n",
       "    <tr>\n",
       "      <th>0</th>\n",
       "      <td>4</td>\n",
       "      <td>Raj</td>\n",
       "      <td>95</td>\n",
       "    </tr>\n",
       "  </tbody>\n",
       "</table>\n",
       "</div>"
      ],
      "text/plain": [
       "   Roll Number Name  Marks\n",
       "0            4  Raj     95"
      ]
     },
     "metadata": {},
     "output_type": "display_data"
    }
   ],
   "source": [
    "import pickle\n",
    "import pandas as pd\n",
    "\n",
    "\n",
    "def read_pickle() -> dict[int, dict]:\n",
    "    with open('students.dat', 'rb') as f:\n",
    "        data = pickle.load(f)\n",
    "    return data\n",
    "\n",
    "def save_pickle(data: dict[int, dict]) -> None:\n",
    "    with open('students.dat', 'wb') as f:\n",
    "        pickle.dump(data, f)\n",
    "\n",
    "\n",
    "\n",
    "def append(roll_no:int, name:str, marks:int) -> None:\n",
    "    data          = read_pickle()\n",
    "    data[roll_no] = {'name': name, 'marks': marks}\n",
    "    save_pickle(data)\n",
    "    print('Record added')\n",
    "\n",
    "def update(roll_no:int, marks:int) -> None:\n",
    "    data = read_pickle()\n",
    "    if roll_no not in data:\n",
    "        print('Roll number not found')\n",
    "        return\n",
    "    data[roll_no]['marks'] = marks\n",
    "    save_pickle(data)\n",
    "    print('Marks updated')\n",
    "\n",
    "def delete(roll_no:int) -> None:\n",
    "    data = read_pickle()\n",
    "    if roll_no not in data:\n",
    "        print('Roll number not found')\n",
    "        return\n",
    "    del data[roll_no]\n",
    "    save_pickle(data)\n",
    "    print('Record deleted')\n",
    "\n",
    "def display_all() -> None:\n",
    "    data     = read_pickle()\n",
    "    new_data = [{'Roll Number':k, 'Name':i['name'], 'Marks':i['marks']} for k,i in data.items()]\n",
    "    df       = pd.DataFrame(new_data)\n",
    "    display(df)\n",
    "\n",
    "def search(roll_no) -> None:\n",
    "    data    = read_pickle()\n",
    "    if roll_no not in data:\n",
    "        print('Roll number not found')\n",
    "        return\n",
    "    df = pd.DataFrame([{'Roll Number':roll_no, 'Name':data[roll_no]['name'], 'Marks':data[roll_no]['marks']}])\n",
    "    display(df)\n",
    "\n",
    "\n",
    "\n",
    "\n",
    "\n",
    "append(1, 'Ayush', 31)\n",
    "append(2, 'Krish', 44)\n",
    "append(3, 'Rohan', 87)\n",
    "append(4, 'Raj',   95)\n",
    "\n",
    "display_all()\n",
    "update(2, 51)\n",
    "display_all()\n",
    "delete(3)\n",
    "display_all()\n",
    "search(4)\n"
   ]
  },
  {
   "cell_type": "markdown",
   "id": "9d51f37c-17ea-4e22-94ab-65dad1e897d4",
   "metadata": {},
   "source": [
    "<br><br><br><br><br>"
   ]
  },
  {
   "cell_type": "markdown",
   "id": "a04be33c-9925-45a9-b8c5-9e6c42895bcc",
   "metadata": {},
   "source": [
    "### Q15) Write a program to Create a CSV file by entering user-id and password, read and search the password for given user id"
   ]
  },
  {
   "cell_type": "code",
   "execution_count": 15,
   "id": "7c12d6ab-e7e1-43d2-89b5-17af0a1d4edd",
   "metadata": {},
   "outputs": [
    {
     "data": {
      "text/plain": [
       "{'username': 'mark', 'password': '18j'}"
      ]
     },
     "execution_count": 15,
     "metadata": {},
     "output_type": "execute_result"
    }
   ],
   "source": [
    "import pandas as pd\n",
    "\n",
    "def read_csv() -> pd.DataFrame:\n",
    "    try:\n",
    "        df = pd.read_csv('users.csv')\n",
    "        return df\n",
    "    except FileNotFoundError:\n",
    "        return pd.DataFrame(columns=['username', 'password'])\n",
    "\n",
    "\n",
    "def create(username, password) -> None:\n",
    "    df      = read_csv()\n",
    "\n",
    "    # If username already exists, update the password\n",
    "    if username in df['username'].values:\n",
    "        cond = df['username'] == username\n",
    "        df.loc[cond, 'password'] = password\n",
    "    # Else, add a new row\n",
    "    else:\n",
    "        new_row = pd.DataFrame( [[username, password]] , columns=['username', 'password'] )\n",
    "        df      = pd.concat( [df, new_row] )\n",
    "    \n",
    "    df.to_csv('users.csv', index=False)\n",
    "\n",
    "\n",
    "\n",
    "def search(username) -> None | dict[str,str]:\n",
    "    df   = read_csv()\n",
    "    # If username does not exist, return None\n",
    "    if username not in df['username'].values:\n",
    "        return None\n",
    "    # Else, return the user's data\n",
    "    cond = df['username'] == username\n",
    "    return df[cond].to_dict('records')[0]\n",
    "\n",
    "\n",
    "\n",
    "create('mark', '17j')\n",
    "search('mark')\n",
    "create('mark', '18j')\n",
    "search('mark')\n"
   ]
  },
  {
   "cell_type": "markdown",
   "id": "a012aa27-7217-4ee9-a486-41c2e69b6af8",
   "metadata": {},
   "source": [
    "<br><br><br><br><br>"
   ]
  },
  {
   "cell_type": "markdown",
   "id": "d7de1096-211b-4094-bcb3-f01182453539",
   "metadata": {},
   "source": [
    "<br><br><br><br><br>"
   ]
  },
  {
   "cell_type": "code",
   "execution_count": 86,
   "id": "1f4638b8-9956-4203-84ef-7962a403f5cf",
   "metadata": {},
   "outputs": [],
   "source": [
    "import pickle\n",
    "\n",
    "with open('students.dat', 'wb') as f:\n",
    "    pickle.dump({}, f)"
   ]
  },
  {
   "cell_type": "markdown",
   "id": "74760ae9-2059-463c-8c2d-073ef3bd571e",
   "metadata": {},
   "source": [
    "<br><br><br><br><br>"
   ]
  },
  {
   "cell_type": "markdown",
   "id": "5106265d-091b-4474-9c8e-d70318b4b2c2",
   "metadata": {},
   "source": [
    "<br><br><br><br><br>"
   ]
  },
  {
   "cell_type": "markdown",
   "id": "2fdfa29a-6421-49c6-95e9-e5d086d328b5",
   "metadata": {},
   "source": [
    "<br><br><br><br><br>"
   ]
  },
  {
   "cell_type": "markdown",
   "id": "1db49607-5a17-4d4d-8c7e-4b8f95b76a94",
   "metadata": {},
   "source": [
    "<br><br><br><br><br>"
   ]
  },
  {
   "cell_type": "markdown",
   "id": "3fde40fd-e183-4078-a7e3-cba123f511ff",
   "metadata": {},
   "source": [
    "<br><br><br><br><br>"
   ]
  },
  {
   "cell_type": "markdown",
   "id": "ef48345e-601c-46aa-8086-f9d6a36d4d7f",
   "metadata": {},
   "source": [
    "<br><br><br><br><br>"
   ]
  }
 ],
 "metadata": {
  "kernelspec": {
   "display_name": "Python 3 (ipykernel)",
   "language": "python",
   "name": "python3"
  },
  "language_info": {
   "codemirror_mode": {
    "name": "ipython",
    "version": 3
   },
   "file_extension": ".py",
   "mimetype": "text/x-python",
   "name": "python",
   "nbconvert_exporter": "python",
   "pygments_lexer": "ipython3",
   "version": "3.11.5"
  }
 },
 "nbformat": 4,
 "nbformat_minor": 5
}
