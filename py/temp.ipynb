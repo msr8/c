{
 "cells": [
  {
   "cell_type": "code",
   "execution_count": 16,
   "id": "63d8aa99-36a1-4e7e-8e87-6b911fa605ce",
   "metadata": {},
   "outputs": [],
   "source": [
    "import pandas as pd\n",
    "from numpy import NaN\n",
    "\n",
    "from matplotlib import pyplot as plt"
   ]
  },
  {
   "cell_type": "markdown",
   "id": "923a8cae-bb10-429f-9d8e-273047ed8a52",
   "metadata": {},
   "source": [
    "<br><br><br>"
   ]
  },
  {
   "cell_type": "markdown",
   "id": "c354173b-a8f7-4f67-a79f-edbacb329be2",
   "metadata": {},
   "source": [
    "Creating the dataframe"
   ]
  },
  {
   "cell_type": "code",
   "execution_count": 18,
   "id": "d1d67b5b-1af8-4560-92ce-55204bd60077",
   "metadata": {},
   "outputs": [
    {
     "name": "stdout",
     "output_type": "stream",
     "text": [
      "21.15\n",
      "2.842170943040401e-14\n",
      "11772.654624999996\n",
      "6053.368559556791\n",
      "1.9447179399073566\n",
      "(2.8500000000000014, 65.97500625000013)\n",
      "(0.8500000000000014, 0.5220062500000034)\n",
      "(-7.149999999999999, 2613.510006249998)\n",
      "(-0.14999999999999858, 0.0005062499999999808)\n",
      "(4.850000000000001, 553.3080062500006)\n",
      "(-2.1499999999999986, 21.367506249999945)\n",
      "(-1.1499999999999986, 1.7490062499999914)\n",
      "(-8.149999999999999, 4411.948506249997)\n",
      "(2.8500000000000014, 65.97500625000013)\n",
      "(4.850000000000001, 553.3080062500006)\n",
      "(2.8500000000000014, 65.97500625000013)\n",
      "(4.850000000000001, 553.3080062500006)\n",
      "(1.8500000000000014, 11.713506250000036)\n",
      "(-1.1499999999999986, 1.7490062499999914)\n",
      "(0.8500000000000014, 0.5220062500000034)\n",
      "(-5.149999999999999, 703.4430062499993)\n",
      "(2.8500000000000014, 65.97500625000013)\n",
      "(4.850000000000001, 553.3080062500006)\n",
      "(-3.1499999999999986, 98.45600624999982)\n",
      "(-6.149999999999999, 1430.5415062499987)\n"
     ]
    }
   ],
   "source": [
    "list = pd.Series([24,22,14,21,26,19,20,13,24,26,24,26,23,20,22,16,24,26,18,15])\n",
    "mean = sum(list) / len(list)\n",
    "print(mean)\n",
    "\n",
    "diff = [i-mean for i in list]\n",
    "diff4 = [i**4 for i in diff]\n",
    "\n",
    "print(sum(diff))\n",
    "print(sum(diff4))\n",
    "print((list.std() ** 4) * len(list))\n",
    "print(11772/6053.32)\n",
    "\n",
    "for i in zip(diff, diff4):\n",
    "    print(i)\n"
   ]
  },
  {
   "cell_type": "code",
   "execution_count": 24,
   "id": "fdf1d25a-bb91-4471-a3c2-10b0e58b8c17",
   "metadata": {},
   "outputs": [
    {
     "data": {
      "image/png": "[encoded data removed]",
      "text/plain": [
       "<Figure size 640x480 with 1 Axes>"
      ]
     },
     "metadata": {},
     "output_type": "display_data"
    },
    {
     "data": {
      "image/png": "[encoded data removed]",
      "text/plain": [
       "<Figure size 640x480 with 1 Axes>"
      ]
     },
     "metadata": {},
     "output_type": "display_data"
    }
   ],
   "source": [
    "df = pd.DataFrame({\n",
    "    'A': [1,2,2,2,3,3,4,5,5,5,6,6,6,6,7.8,8,8,9,27]\n",
    "})\n",
    "\n",
    "df.boxplot(column='A')\n",
    "plt.show()\n",
    "\n",
    "plt.boxplot(df['A'])\n",
    "plt.show()"
   ]
  },
  {
   "cell_type": "markdown",
   "id": "aacea56a-e37c-4cb6-9a7d-8e056df9de9d",
   "metadata": {},
   "source": [
    "<br><br><br>"
   ]
  },
  {
   "cell_type": "markdown",
   "id": "f993f723-17b3-40f7-9f94-22242bfca667",
   "metadata": {},
   "source": [
    "Records where age >= 15"
   ]
  },
  {
   "cell_type": "code",
   "execution_count": 3,
   "id": "4f5dd808-308d-41d5-80f0-28906c4cf0d8",
   "metadata": {},
   "outputs": [
    {
     "data": {
      "text/html": [
       "<div>\n",
       "<style scoped>\n",
       "    .dataframe tbody tr th:only-of-type {\n",
       "        vertical-align: middle;\n",
       "    }\n",
       "\n",
       "    .dataframe tbody tr th {\n",
       "        vertical-align: top;\n",
       "    }\n",
       "\n",
       "    .dataframe thead th {\n",
       "        text-align: right;\n",
       "    }\n",
       "</style>\n",
       "<table border=\"1\" class=\"dataframe\">\n",
       "  <thead>\n",
       "    <tr style=\"text-align: right;\">\n",
       "      <th></th>\n",
       "      <th>age</th>\n",
       "      <th>section</th>\n",
       "      <th>city</th>\n",
       "      <th>gender</th>\n",
       "      <th>favorite_color</th>\n",
       "    </tr>\n",
       "  </thead>\n",
       "  <tbody>\n",
       "    <tr>\n",
       "      <th>1</th>\n",
       "      <td>22</td>\n",
       "      <td>B</td>\n",
       "      <td>Delhi</td>\n",
       "      <td>F</td>\n",
       "      <td>NaN</td>\n",
       "    </tr>\n",
       "    <tr>\n",
       "      <th>3</th>\n",
       "      <td>21</td>\n",
       "      <td>B</td>\n",
       "      <td>Delhi</td>\n",
       "      <td>M</td>\n",
       "      <td>NaN</td>\n",
       "    </tr>\n",
       "    <tr>\n",
       "      <th>6</th>\n",
       "      <td>17</td>\n",
       "      <td>A</td>\n",
       "      <td>Mumbai</td>\n",
       "      <td>F</td>\n",
       "      <td>red</td>\n",
       "    </tr>\n",
       "  </tbody>\n",
       "</table>\n",
       "</div>"
      ],
      "text/plain": [
       "   age section    city gender favorite_color\n",
       "1   22       B   Delhi      F            NaN\n",
       "3   21       B   Delhi      M            NaN\n",
       "6   17       A  Mumbai      F            red"
      ]
     },
     "execution_count": 3,
     "metadata": {},
     "output_type": "execute_result"
    }
   ],
   "source": [
    "df.query('age >= 15')\n",
    "# df[df.age >= 15]\n",
    "# df.iloc[df.age.ge(15).values]\n",
    "# df.loc[df.age.ge(15).values]"
   ]
  },
  {
   "cell_type": "markdown",
   "id": "590f3d5c-df28-4b06-860a-e169642d98fd",
   "metadata": {},
   "source": [
    "<br><br><br>"
   ]
  },
  {
   "cell_type": "markdown",
   "id": "8ff771be-fffb-4230-beb0-fc1b585746eb",
   "metadata": {},
   "source": [
    "Records where age >= 12 and gender = Male"
   ]
  },
  {
   "cell_type": "code",
   "execution_count": 4,
   "id": "652478c6-df09-4739-a577-aced43ac55a2",
   "metadata": {},
   "outputs": [
    {
     "data": {
      "text/html": [
       "<div>\n",
       "<style scoped>\n",
       "    .dataframe tbody tr th:only-of-type {\n",
       "        vertical-align: middle;\n",
       "    }\n",
       "\n",
       "    .dataframe tbody tr th {\n",
       "        vertical-align: top;\n",
       "    }\n",
       "\n",
       "    .dataframe thead th {\n",
       "        text-align: right;\n",
       "    }\n",
       "</style>\n",
       "<table border=\"1\" class=\"dataframe\">\n",
       "  <thead>\n",
       "    <tr style=\"text-align: right;\">\n",
       "      <th></th>\n",
       "      <th>age</th>\n",
       "      <th>section</th>\n",
       "      <th>city</th>\n",
       "      <th>gender</th>\n",
       "      <th>favorite_color</th>\n",
       "    </tr>\n",
       "  </thead>\n",
       "  <tbody>\n",
       "    <tr>\n",
       "      <th>3</th>\n",
       "      <td>21</td>\n",
       "      <td>B</td>\n",
       "      <td>Delhi</td>\n",
       "      <td>M</td>\n",
       "      <td>NaN</td>\n",
       "    </tr>\n",
       "    <tr>\n",
       "      <th>4</th>\n",
       "      <td>12</td>\n",
       "      <td>B</td>\n",
       "      <td>Mumbai</td>\n",
       "      <td>M</td>\n",
       "      <td>black</td>\n",
       "    </tr>\n",
       "  </tbody>\n",
       "</table>\n",
       "</div>"
      ],
      "text/plain": [
       "   age section    city gender favorite_color\n",
       "3   21       B   Delhi      M            NaN\n",
       "4   12       B  Mumbai      M          black"
      ]
     },
     "execution_count": 4,
     "metadata": {},
     "output_type": "execute_result"
    }
   ],
   "source": [
    "df.query('age >= 12 and gender == \"M\"')"
   ]
  },
  {
   "cell_type": "markdown",
   "id": "926491fd-a48a-4a88-982e-d0cca28dbd0e",
   "metadata": {},
   "source": [
    "<br><br><br>"
   ]
  },
  {
   "cell_type": "markdown",
   "id": "78c6217c-e4d4-4cdb-9920-75b7bd5cda13",
   "metadata": {},
   "source": [
    "Records of index 1 & 3"
   ]
  },
  {
   "cell_type": "code",
   "execution_count": 5,
   "id": "69b6b55f-7411-456a-8951-aac5a93425af",
   "metadata": {},
   "outputs": [
    {
     "data": {
      "text/html": [
       "<div>\n",
       "<style scoped>\n",
       "    .dataframe tbody tr th:only-of-type {\n",
       "        vertical-align: middle;\n",
       "    }\n",
       "\n",
       "    .dataframe tbody tr th {\n",
       "        vertical-align: top;\n",
       "    }\n",
       "\n",
       "    .dataframe thead th {\n",
       "        text-align: right;\n",
       "    }\n",
       "</style>\n",
       "<table border=\"1\" class=\"dataframe\">\n",
       "  <thead>\n",
       "    <tr style=\"text-align: right;\">\n",
       "      <th></th>\n",
       "      <th>age</th>\n",
       "      <th>section</th>\n",
       "      <th>city</th>\n",
       "      <th>gender</th>\n",
       "      <th>favorite_color</th>\n",
       "    </tr>\n",
       "  </thead>\n",
       "  <tbody>\n",
       "    <tr>\n",
       "      <th>1</th>\n",
       "      <td>22</td>\n",
       "      <td>B</td>\n",
       "      <td>Delhi</td>\n",
       "      <td>F</td>\n",
       "      <td>NaN</td>\n",
       "    </tr>\n",
       "    <tr>\n",
       "      <th>3</th>\n",
       "      <td>21</td>\n",
       "      <td>B</td>\n",
       "      <td>Delhi</td>\n",
       "      <td>M</td>\n",
       "      <td>NaN</td>\n",
       "    </tr>\n",
       "  </tbody>\n",
       "</table>\n",
       "</div>"
      ],
      "text/plain": [
       "   age section   city gender favorite_color\n",
       "1   22       B  Delhi      F            NaN\n",
       "3   21       B  Delhi      M            NaN"
      ]
     },
     "execution_count": 5,
     "metadata": {},
     "output_type": "execute_result"
    }
   ],
   "source": [
    "df.iloc[ [1,3] ]\n",
    "# df.query('index == 1 or index == 3')"
   ]
  },
  {
   "cell_type": "markdown",
   "id": "d03411f9-c412-4383-bd4b-ebb6e5b8940a",
   "metadata": {},
   "source": [
    "<br><br><br>"
   ]
  },
  {
   "cell_type": "markdown",
   "id": "ca9e4491-d85f-4d5d-a814-e89aa6a4dfe4",
   "metadata": {},
   "source": [
    "Records where age >= 12 and print only the city and gender columns"
   ]
  },
  {
   "cell_type": "code",
   "execution_count": 6,
   "id": "8e87d1e9-e12a-482a-9b1b-20e0f88f56b1",
   "metadata": {},
   "outputs": [
    {
     "data": {
      "text/html": [
       "<div>\n",
       "<style scoped>\n",
       "    .dataframe tbody tr th:only-of-type {\n",
       "        vertical-align: middle;\n",
       "    }\n",
       "\n",
       "    .dataframe tbody tr th {\n",
       "        vertical-align: top;\n",
       "    }\n",
       "\n",
       "    .dataframe thead th {\n",
       "        text-align: right;\n",
       "    }\n",
       "</style>\n",
       "<table border=\"1\" class=\"dataframe\">\n",
       "  <thead>\n",
       "    <tr style=\"text-align: right;\">\n",
       "      <th></th>\n",
       "      <th>city</th>\n",
       "      <th>gender</th>\n",
       "    </tr>\n",
       "  </thead>\n",
       "  <tbody>\n",
       "    <tr>\n",
       "      <th>1</th>\n",
       "      <td>Delhi</td>\n",
       "      <td>F</td>\n",
       "    </tr>\n",
       "    <tr>\n",
       "      <th>2</th>\n",
       "      <td>Mumbai</td>\n",
       "      <td>F</td>\n",
       "    </tr>\n",
       "    <tr>\n",
       "      <th>3</th>\n",
       "      <td>Delhi</td>\n",
       "      <td>M</td>\n",
       "    </tr>\n",
       "    <tr>\n",
       "      <th>4</th>\n",
       "      <td>Mumbai</td>\n",
       "      <td>M</td>\n",
       "    </tr>\n",
       "    <tr>\n",
       "      <th>6</th>\n",
       "      <td>Mumbai</td>\n",
       "      <td>F</td>\n",
       "    </tr>\n",
       "  </tbody>\n",
       "</table>\n",
       "</div>"
      ],
      "text/plain": [
       "     city gender\n",
       "1   Delhi      F\n",
       "2  Mumbai      F\n",
       "3   Delhi      M\n",
       "4  Mumbai      M\n",
       "6  Mumbai      F"
      ]
     },
     "execution_count": 6,
     "metadata": {},
     "output_type": "execute_result"
    }
   ],
   "source": [
    "df.query('age >= 12')[ ['city','gender'] ]\n",
    "# df[df.age >= 12][ ['city','gender'] ]\n",
    "# df.loc[ df.age.ge(12).values, ['city','gender'] ]"
   ]
  },
  {
   "cell_type": "markdown",
   "id": "423f3766-071a-4af0-851f-d834d1071fba",
   "metadata": {},
   "source": [
    "<br><br><br>"
   ]
  }
 ],
 "metadata": {
  "kernelspec": {
   "display_name": "Python 3 (ipykernel)",
   "language": "python",
   "name": "python3"
  },
  "language_info": {
   "codemirror_mode": {
    "name": "ipython",
    "version": 3
   },
   "file_extension": ".py",
   "mimetype": "text/x-python",
   "name": "python",
   "nbconvert_exporter": "python",
   "pygments_lexer": "ipython3",
   "version": "3.12.2"
  }
 },
 "nbformat": 4,
 "nbformat_minor": 5
}
