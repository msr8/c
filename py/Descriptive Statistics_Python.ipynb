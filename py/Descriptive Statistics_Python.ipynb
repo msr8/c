{
 "cells": [
  {
   "cell_type": "code",
   "execution_count": 4,
   "id": "6abebf17",
   "metadata": {},
   "outputs": [],
   "source": [
    "# EXPLORING DESCRIPTIVE STATISTICS USING PANDAS AND SEABORN\n",
    "#Descriptive statistics include those methods that summarize the central tendency, dispersion, and shape of a dataset’s\n",
    "#distribution.\n"
   ]
  },
  {
   "cell_type": "code",
   "execution_count": 5,
   "id": "08b58dfe",
   "metadata": {},
   "outputs": [],
   "source": [
    "import numpy as np\n",
    "import pandas as pd\n",
    "import seaborn as sns\n",
    "import matplotlib.pyplot as plt"
   ]
  },
  {
   "cell_type": "code",
   "execution_count": 6,
   "id": "d6815bfb",
   "metadata": {},
   "outputs": [
    {
     "data": {
      "image/png": "[encoded data removed]",
      "text/plain": [
       "<Figure size 640x480 with 1 Axes>"
      ]
     },
     "metadata": {},
     "output_type": "display_data"
    }
   ],
   "source": [
    "%matplotlib inline\n",
    "import matplotlib.pyplot as plt\n",
    "\n",
    "# Generate some data\n",
    "x = [1, 2, 3, 4, 5]\n",
    "y = [2, 4, 6, 8, 10]\n",
    "\n",
    "# Create a plot\n",
    "plt.plot(x, y)\n",
    "plt.xlabel('X-axis')\n",
    "plt.ylabel('Y-axis')\n",
    "plt.title('Simple Plot')\n",
    "plt.show()\n"
   ]
  },
  {
   "cell_type": "code",
   "execution_count": 6,
   "id": "c27eade6",
   "metadata": {},
   "outputs": [
    {
     "data": {
      "text/html": [
       "<div>\n",
       "<style scoped>\n",
       "    .dataframe tbody tr th:only-of-type {\n",
       "        vertical-align: middle;\n",
       "    }\n",
       "\n",
       "    .dataframe tbody tr th {\n",
       "        vertical-align: top;\n",
       "    }\n",
       "\n",
       "    .dataframe thead th {\n",
       "        text-align: right;\n",
       "    }\n",
       "</style>\n",
       "<table border=\"1\" class=\"dataframe\">\n",
       "  <thead>\n",
       "    <tr style=\"text-align: right;\">\n",
       "      <th></th>\n",
       "      <th>Gender</th>\n",
       "      <th>Height</th>\n",
       "      <th>Weight</th>\n",
       "      <th>bmi</th>\n",
       "      <th>Age</th>\n",
       "    </tr>\n",
       "  </thead>\n",
       "  <tbody>\n",
       "    <tr>\n",
       "      <th>0</th>\n",
       "      <td>Male</td>\n",
       "      <td>174</td>\n",
       "      <td>80</td>\n",
       "      <td>26.4</td>\n",
       "      <td>25</td>\n",
       "    </tr>\n",
       "    <tr>\n",
       "      <th>1</th>\n",
       "      <td>Male</td>\n",
       "      <td>189</td>\n",
       "      <td>87</td>\n",
       "      <td>24.4</td>\n",
       "      <td>27</td>\n",
       "    </tr>\n",
       "    <tr>\n",
       "      <th>2</th>\n",
       "      <td>Female</td>\n",
       "      <td>185</td>\n",
       "      <td>80</td>\n",
       "      <td>23.4</td>\n",
       "      <td>30</td>\n",
       "    </tr>\n",
       "    <tr>\n",
       "      <th>3</th>\n",
       "      <td>Female</td>\n",
       "      <td>165</td>\n",
       "      <td>70</td>\n",
       "      <td>25.7</td>\n",
       "      <td>26</td>\n",
       "    </tr>\n",
       "    <tr>\n",
       "      <th>4</th>\n",
       "      <td>Male</td>\n",
       "      <td>149</td>\n",
       "      <td>61</td>\n",
       "      <td>27.5</td>\n",
       "      <td>28</td>\n",
       "    </tr>\n",
       "    <tr>\n",
       "      <th>5</th>\n",
       "      <td>Male</td>\n",
       "      <td>177</td>\n",
       "      <td>70</td>\n",
       "      <td>22.3</td>\n",
       "      <td>29</td>\n",
       "    </tr>\n",
       "    <tr>\n",
       "      <th>6</th>\n",
       "      <td>Female</td>\n",
       "      <td>147</td>\n",
       "      <td>65</td>\n",
       "      <td>30.1</td>\n",
       "      <td>31</td>\n",
       "    </tr>\n",
       "    <tr>\n",
       "      <th>7</th>\n",
       "      <td>Male</td>\n",
       "      <td>154</td>\n",
       "      <td>62</td>\n",
       "      <td>26.1</td>\n",
       "      <td>32</td>\n",
       "    </tr>\n",
       "    <tr>\n",
       "      <th>8</th>\n",
       "      <td>Male</td>\n",
       "      <td>174</td>\n",
       "      <td>90</td>\n",
       "      <td>29.7</td>\n",
       "      <td>27</td>\n",
       "    </tr>\n",
       "  </tbody>\n",
       "</table>\n",
       "</div>"
      ],
      "text/plain": [
       "   Gender  Height  Weight   bmi  Age\n",
       "0    Male     174      80  26.4   25\n",
       "1    Male     189      87  24.4   27\n",
       "2  Female     185      80  23.4   30\n",
       "3  Female     165      70  25.7   26\n",
       "4    Male     149      61  27.5   28\n",
       "5    Male     177      70  22.3   29\n",
       "6  Female     147      65  30.1   31\n",
       "7    Male     154      62  26.1   32\n",
       "8    Male     174      90  29.7   27"
      ]
     },
     "execution_count": 6,
     "metadata": {},
     "output_type": "execute_result"
    }
   ],
   "source": [
    "df=pd.read_csv(\"bmi.csv\")\n",
    "df"
   ]
  },
  {
   "cell_type": "code",
   "execution_count": 8,
   "id": "7c2c5185",
   "metadata": {},
   "outputs": [
    {
     "name": "stdout",
     "output_type": "stream",
     "text": [
      "Mode(s) of BMI column:\n",
      "0    22.3\n",
      "1    23.4\n",
      "2    24.4\n",
      "3    25.7\n",
      "4    26.1\n",
      "5    26.4\n",
      "6    27.5\n",
      "7    29.7\n",
      "8    30.1\n",
      "Name: bmi, dtype: float64\n"
     ]
    }
   ],
   "source": [
    "import pandas as pd\n",
    "\n",
    "# Creating a DataFrame with your data\n",
    "data = {\n",
    "    \"Gender\": [\"Male\", \"Male\", \"Female\", \"Female\", \"Male\", \"Male\", \"Female\", \"Male\", \"Male\"],\n",
    "    \"Height\": [174, 189, 185, 165, 149, 177, 147, 154, 174],\n",
    "    \"Weight\": [80, 87, 80, 70, 61, 70, 65, 62, 90],\n",
    "    \"bmi\": [26.4, 24.4, 23.4, 25.7, 27.5, 22.3, 30.1, 26.1, 29.7],\n",
    "    \"Age\": [25, 27, 30, 26, 28, 29, 31, 32, 27]\n",
    "}\n",
    "\n",
    "df = pd.DataFrame(data)\n",
    "\n",
    "# Calculate the mode of the BMI column\n",
    "bmi_mode = df[\"bmi\"].mode()\n",
    "\n",
    "print(\"Mode(s) of BMI column:\")\n",
    "print(bmi_mode)\n"
   ]
  },
  {
   "cell_type": "code",
   "execution_count": null,
   "id": "823ca8ed",
   "metadata": {},
   "outputs": [],
   "source": [
    "# Measure of Central tendency"
   ]
  },
  {
   "cell_type": "code",
   "execution_count": 8,
   "id": "11d05f79",
   "metadata": {},
   "outputs": [
    {
     "name": "stderr",
     "output_type": "stream",
     "text": [
      "C:\\Users\\Tarunim Sharma\\AppData\\Local\\Temp\\ipykernel_16216\\3698961737.py:1: FutureWarning: Dropping of nuisance columns in DataFrame reductions (with 'numeric_only=None') is deprecated; in a future version this will raise TypeError.  Select only valid columns before calling the reduction.\n",
      "  df.mean()\n"
     ]
    },
    {
     "data": {
      "text/plain": [
       "Height    168.222222\n",
       "Weight     73.888889\n",
       "bmi        26.177778\n",
       "Age        28.333333\n",
       "dtype: float64"
      ]
     },
     "execution_count": 8,
     "metadata": {},
     "output_type": "execute_result"
    }
   ],
   "source": [
    "df.mean()"
   ]
  },
  {
   "cell_type": "code",
   "execution_count": 9,
   "id": "6d0939f8",
   "metadata": {},
   "outputs": [
    {
     "data": {
      "text/plain": [
       "168.22222222222223"
      ]
     },
     "execution_count": 9,
     "metadata": {},
     "output_type": "execute_result"
    }
   ],
   "source": [
    "df['Height'].mean()"
   ]
  },
  {
   "cell_type": "code",
   "execution_count": 10,
   "id": "734f5b30",
   "metadata": {},
   "outputs": [
    {
     "data": {
      "text/plain": [
       "28.0"
      ]
     },
     "execution_count": 10,
     "metadata": {},
     "output_type": "execute_result"
    }
   ],
   "source": [
    "df[\"Age\"].median()"
   ]
  },
  {
   "cell_type": "code",
   "execution_count": 11,
   "id": "1162df72",
   "metadata": {},
   "outputs": [
    {
     "data": {
      "text/html": [
       "<div>\n",
       "<style scoped>\n",
       "    .dataframe tbody tr th:only-of-type {\n",
       "        vertical-align: middle;\n",
       "    }\n",
       "\n",
       "    .dataframe tbody tr th {\n",
       "        vertical-align: top;\n",
       "    }\n",
       "\n",
       "    .dataframe thead th {\n",
       "        text-align: right;\n",
       "    }\n",
       "</style>\n",
       "<table border=\"1\" class=\"dataframe\">\n",
       "  <thead>\n",
       "    <tr style=\"text-align: right;\">\n",
       "      <th></th>\n",
       "      <th>Gender</th>\n",
       "      <th>Height</th>\n",
       "      <th>Weight</th>\n",
       "      <th>bmi</th>\n",
       "      <th>Age</th>\n",
       "    </tr>\n",
       "  </thead>\n",
       "  <tbody>\n",
       "    <tr>\n",
       "      <th>0</th>\n",
       "      <td>Male</td>\n",
       "      <td>174.0</td>\n",
       "      <td>70.0</td>\n",
       "      <td>22.3</td>\n",
       "      <td>27.0</td>\n",
       "    </tr>\n",
       "    <tr>\n",
       "      <th>1</th>\n",
       "      <td>NaN</td>\n",
       "      <td>NaN</td>\n",
       "      <td>80.0</td>\n",
       "      <td>23.4</td>\n",
       "      <td>NaN</td>\n",
       "    </tr>\n",
       "    <tr>\n",
       "      <th>2</th>\n",
       "      <td>NaN</td>\n",
       "      <td>NaN</td>\n",
       "      <td>NaN</td>\n",
       "      <td>24.4</td>\n",
       "      <td>NaN</td>\n",
       "    </tr>\n",
       "    <tr>\n",
       "      <th>3</th>\n",
       "      <td>NaN</td>\n",
       "      <td>NaN</td>\n",
       "      <td>NaN</td>\n",
       "      <td>25.7</td>\n",
       "      <td>NaN</td>\n",
       "    </tr>\n",
       "    <tr>\n",
       "      <th>4</th>\n",
       "      <td>NaN</td>\n",
       "      <td>NaN</td>\n",
       "      <td>NaN</td>\n",
       "      <td>26.1</td>\n",
       "      <td>NaN</td>\n",
       "    </tr>\n",
       "    <tr>\n",
       "      <th>5</th>\n",
       "      <td>NaN</td>\n",
       "      <td>NaN</td>\n",
       "      <td>NaN</td>\n",
       "      <td>26.4</td>\n",
       "      <td>NaN</td>\n",
       "    </tr>\n",
       "    <tr>\n",
       "      <th>6</th>\n",
       "      <td>NaN</td>\n",
       "      <td>NaN</td>\n",
       "      <td>NaN</td>\n",
       "      <td>27.5</td>\n",
       "      <td>NaN</td>\n",
       "    </tr>\n",
       "    <tr>\n",
       "      <th>7</th>\n",
       "      <td>NaN</td>\n",
       "      <td>NaN</td>\n",
       "      <td>NaN</td>\n",
       "      <td>29.7</td>\n",
       "      <td>NaN</td>\n",
       "    </tr>\n",
       "    <tr>\n",
       "      <th>8</th>\n",
       "      <td>NaN</td>\n",
       "      <td>NaN</td>\n",
       "      <td>NaN</td>\n",
       "      <td>30.1</td>\n",
       "      <td>NaN</td>\n",
       "    </tr>\n",
       "  </tbody>\n",
       "</table>\n",
       "</div>"
      ],
      "text/plain": [
       "  Gender  Height  Weight   bmi   Age\n",
       "0   Male   174.0    70.0  22.3  27.0\n",
       "1    NaN     NaN    80.0  23.4   NaN\n",
       "2    NaN     NaN     NaN  24.4   NaN\n",
       "3    NaN     NaN     NaN  25.7   NaN\n",
       "4    NaN     NaN     NaN  26.1   NaN\n",
       "5    NaN     NaN     NaN  26.4   NaN\n",
       "6    NaN     NaN     NaN  27.5   NaN\n",
       "7    NaN     NaN     NaN  29.7   NaN\n",
       "8    NaN     NaN     NaN  30.1   NaN"
      ]
     },
     "execution_count": 11,
     "metadata": {},
     "output_type": "execute_result"
    }
   ],
   "source": [
    "df.mode()"
   ]
  },
  {
   "cell_type": "code",
   "execution_count": 12,
   "id": "e5580c4a",
   "metadata": {},
   "outputs": [
    {
     "data": {
      "text/plain": [
       "0    27\n",
       "Name: Age, dtype: int64"
      ]
     },
     "execution_count": 12,
     "metadata": {},
     "output_type": "execute_result"
    }
   ],
   "source": [
    "df[\"Age\"].mode()\n"
   ]
  },
  {
   "cell_type": "markdown",
   "id": "397670ff",
   "metadata": {},
   "source": [
    "# Measure of spread\n",
    "The measure of spread/dispersion is used to describe how data is spread. It also describes the variability of the dataset.\n",
    "Standard Deviation, Variance, Range, IQR, are used to describe the measure of spread/dispersion\n",
    "The measure of spread can be shown in graphs like boxplot."
   ]
  },
  {
   "cell_type": "markdown",
   "id": "2c8f5d58",
   "metadata": {},
   "source": [
    "# 1.Variance\n",
    " Variance is used to describe how far each number in the dataset is from the mean."
   ]
  },
  {
   "cell_type": "code",
   "execution_count": 13,
   "id": "1235b60a",
   "metadata": {},
   "outputs": [
    {
     "name": "stderr",
     "output_type": "stream",
     "text": [
      "C:\\Users\\Tarunim Sharma\\AppData\\Local\\Temp\\ipykernel_16216\\1568254755.py:1: FutureWarning: Dropping of nuisance columns in DataFrame reductions (with 'numeric_only=None') is deprecated; in a future version this will raise TypeError.  Select only valid columns before calling the reduction.\n",
      "  df.var()\n"
     ]
    },
    {
     "data": {
      "text/plain": [
       "Height    236.194444\n",
       "Weight    115.361111\n",
       "bmi         6.966944\n",
       "Age         5.500000\n",
       "dtype: float64"
      ]
     },
     "execution_count": 13,
     "metadata": {},
     "output_type": "execute_result"
    }
   ],
   "source": [
    "df.var()"
   ]
  },
  {
   "cell_type": "code",
   "execution_count": 14,
   "id": "d8596c8e",
   "metadata": {},
   "outputs": [
    {
     "data": {
      "text/plain": [
       "5.5"
      ]
     },
     "execution_count": 14,
     "metadata": {},
     "output_type": "execute_result"
    }
   ],
   "source": [
    "df[\"Age\"].var()"
   ]
  },
  {
   "cell_type": "markdown",
   "id": "6fd72116",
   "metadata": {},
   "source": [
    "# 2.Standard Deviation\n",
    "Standard Deviation is the measure of the spread of data from the mean.\n",
    "Standard deviation is the square root of variance.\n",
    "More the standard deviation, more the spread."
   ]
  },
  {
   "cell_type": "code",
   "execution_count": 15,
   "id": "468f204a",
   "metadata": {},
   "outputs": [
    {
     "name": "stderr",
     "output_type": "stream",
     "text": [
      "C:\\Users\\Tarunim Sharma\\AppData\\Local\\Temp\\ipykernel_16216\\3390915376.py:1: FutureWarning: Dropping of nuisance columns in DataFrame reductions (with 'numeric_only=None') is deprecated; in a future version this will raise TypeError.  Select only valid columns before calling the reduction.\n",
      "  df.std()\n"
     ]
    },
    {
     "data": {
      "text/plain": [
       "Height    15.368619\n",
       "Weight    10.740629\n",
       "bmi        2.639497\n",
       "Age        2.345208\n",
       "dtype: float64"
      ]
     },
     "execution_count": 15,
     "metadata": {},
     "output_type": "execute_result"
    }
   ],
   "source": [
    "df.std()"
   ]
  },
  {
   "cell_type": "code",
   "execution_count": 16,
   "id": "ff85b240",
   "metadata": {},
   "outputs": [
    {
     "data": {
      "text/plain": [
       "2.345207879911715"
      ]
     },
     "execution_count": 16,
     "metadata": {},
     "output_type": "execute_result"
    }
   ],
   "source": [
    "df[\"Age\"].std()"
   ]
  },
  {
   "cell_type": "markdown",
   "id": "587f2b6f",
   "metadata": {},
   "source": [
    "# 3.Range\n",
    "The range is the difference between the largest number and the smallest number\n",
    "Larger the range, the more the dispersion."
   ]
  },
  {
   "cell_type": "code",
   "execution_count": 17,
   "id": "591d6296",
   "metadata": {},
   "outputs": [
    {
     "data": {
      "text/plain": [
       "32"
      ]
     },
     "execution_count": 17,
     "metadata": {},
     "output_type": "execute_result"
    }
   ],
   "source": [
    "m1=df[\"Age\"].max()\n",
    "m1"
   ]
  },
  {
   "cell_type": "code",
   "execution_count": 18,
   "id": "f20d49e2",
   "metadata": {},
   "outputs": [
    {
     "data": {
      "text/plain": [
       "25"
      ]
     },
     "execution_count": 18,
     "metadata": {},
     "output_type": "execute_result"
    }
   ],
   "source": [
    "m2=df[\"Age\"].min()\n",
    "m2"
   ]
  },
  {
   "cell_type": "code",
   "execution_count": 19,
   "id": "725c258d",
   "metadata": {},
   "outputs": [
    {
     "data": {
      "text/plain": [
       "7"
      ]
     },
     "execution_count": 19,
     "metadata": {},
     "output_type": "execute_result"
    }
   ],
   "source": [
    "range=m1-m2\n",
    "range"
   ]
  },
  {
   "cell_type": "code",
   "execution_count": 21,
   "id": "ace2e634",
   "metadata": {},
   "outputs": [],
   "source": [
    "# max and min for whole dataframe"
   ]
  },
  {
   "cell_type": "code",
   "execution_count": 9,
   "id": "8126066f",
   "metadata": {},
   "outputs": [
    {
     "data": {
      "text/plain": [
       "Gender    Male\n",
       "Height     189\n",
       "Weight      90\n",
       "bmi       30.1\n",
       "Age         32\n",
       "dtype: object"
      ]
     },
     "execution_count": 9,
     "metadata": {},
     "output_type": "execute_result"
    }
   ],
   "source": [
    "M1=df.max()\n",
    "M1"
   ]
  },
  {
   "cell_type": "code",
   "execution_count": 10,
   "id": "cc296e6c",
   "metadata": {},
   "outputs": [
    {
     "data": {
      "text/plain": [
       "Gender    Female\n",
       "Height       147\n",
       "Weight        61\n",
       "bmi         22.3\n",
       "Age           25\n",
       "dtype: object"
      ]
     },
     "execution_count": 10,
     "metadata": {},
     "output_type": "execute_result"
    }
   ],
   "source": [
    "M2=df.min()\n",
    "M2"
   ]
  },
  {
   "cell_type": "code",
   "execution_count": null,
   "id": "3369787e",
   "metadata": {},
   "outputs": [],
   "source": []
  },
  {
   "cell_type": "markdown",
   "id": "114eb923",
   "metadata": {},
   "source": [
    "# 4. Interquartile range (IQR)\n",
    "Quartiles describe the spread of data by breaking into quarters. The median exactly divides the data into two parts.\n",
    "Q1(Lower quartile) is the middle value in the first half of the sorted dataset.\n",
    "Q2– is the median value\n",
    "Q3 (Upper quartile) is the middle value in the second half of the sorted dataset\n",
    "The interquartile range is the difference between the 75th percentile(Q3) and the 25th percentile(Q1).\n",
    "50% of data fall within this range."
   ]
  },
  {
   "cell_type": "code",
   "execution_count": 52,
   "id": "5ba13ca8",
   "metadata": {},
   "outputs": [
    {
     "data": {
      "text/plain": [
       "Height    154.0\n",
       "Weight     65.0\n",
       "bmi        24.4\n",
       "Age        27.0\n",
       "Name: 0.25, dtype: float64"
      ]
     },
     "execution_count": 52,
     "metadata": {},
     "output_type": "execute_result"
    }
   ],
   "source": [
    "Q1=df.quantile(0.25)\n",
    "Q1"
   ]
  },
  {
   "cell_type": "code",
   "execution_count": 53,
   "id": "019b5a50",
   "metadata": {},
   "outputs": [
    {
     "data": {
      "text/plain": [
       "27.0"
      ]
     },
     "execution_count": 53,
     "metadata": {},
     "output_type": "execute_result"
    }
   ],
   "source": [
    "Q1=df[\"Age\"].quantile(0.25)\n",
    "Q1"
   ]
  },
  {
   "cell_type": "code",
   "execution_count": 13,
   "id": "b853c22c",
   "metadata": {},
   "outputs": [
    {
     "data": {
      "text/plain": [
       "28.0"
      ]
     },
     "execution_count": 13,
     "metadata": {},
     "output_type": "execute_result"
    }
   ],
   "source": [
    "Q50=df[\"Age\"].quantile(0.5)\n",
    "Q50"
   ]
  },
  {
   "cell_type": "code",
   "execution_count": 55,
   "id": "d30508fe",
   "metadata": {},
   "outputs": [
    {
     "data": {
      "text/plain": [
       "30.0"
      ]
     },
     "execution_count": 55,
     "metadata": {},
     "output_type": "execute_result"
    }
   ],
   "source": [
    "Q3=df[\"Age\"].quantile(0.75)\n",
    "Q3"
   ]
  },
  {
   "cell_type": "code",
   "execution_count": 56,
   "id": "7c8c1d45",
   "metadata": {},
   "outputs": [
    {
     "data": {
      "text/plain": [
       "3.0"
      ]
     },
     "execution_count": 56,
     "metadata": {},
     "output_type": "execute_result"
    }
   ],
   "source": [
    "IQR=Q3-Q1\n",
    "IQR"
   ]
  },
  {
   "cell_type": "markdown",
   "id": "1d163775",
   "metadata": {},
   "source": [
    "# describe()\n",
    "describe() function generates descriptive statistics.It is used to view some basic statistical details like mean, median,\n",
    "min, max, percentiles, count of a dataframe, or series of numeric values."
   ]
  },
  {
   "cell_type": "code",
   "execution_count": 28,
   "id": "52a18af8",
   "metadata": {},
   "outputs": [
    {
     "data": {
      "text/plain": [
       "count     9.000000\n",
       "mean     28.333333\n",
       "std       2.345208\n",
       "min      25.000000\n",
       "25%      27.000000\n",
       "50%      28.000000\n",
       "75%      30.000000\n",
       "max      32.000000\n",
       "Name: Age, dtype: float64"
      ]
     },
     "execution_count": 28,
     "metadata": {},
     "output_type": "execute_result"
    }
   ],
   "source": [
    "df[\"Age\"].describe()"
   ]
  },
  {
   "cell_type": "code",
   "execution_count": 29,
   "id": "99bb43a3",
   "metadata": {},
   "outputs": [
    {
     "data": {
      "text/html": [
       "<div>\n",
       "<style scoped>\n",
       "    .dataframe tbody tr th:only-of-type {\n",
       "        vertical-align: middle;\n",
       "    }\n",
       "\n",
       "    .dataframe tbody tr th {\n",
       "        vertical-align: top;\n",
       "    }\n",
       "\n",
       "    .dataframe thead th {\n",
       "        text-align: right;\n",
       "    }\n",
       "</style>\n",
       "<table border=\"1\" class=\"dataframe\">\n",
       "  <thead>\n",
       "    <tr style=\"text-align: right;\">\n",
       "      <th></th>\n",
       "      <th>Height</th>\n",
       "      <th>Weight</th>\n",
       "      <th>bmi</th>\n",
       "      <th>Age</th>\n",
       "    </tr>\n",
       "  </thead>\n",
       "  <tbody>\n",
       "    <tr>\n",
       "      <th>count</th>\n",
       "      <td>9.000000</td>\n",
       "      <td>9.000000</td>\n",
       "      <td>9.000000</td>\n",
       "      <td>9.000000</td>\n",
       "    </tr>\n",
       "    <tr>\n",
       "      <th>mean</th>\n",
       "      <td>168.222222</td>\n",
       "      <td>73.888889</td>\n",
       "      <td>26.177778</td>\n",
       "      <td>28.333333</td>\n",
       "    </tr>\n",
       "    <tr>\n",
       "      <th>std</th>\n",
       "      <td>15.368619</td>\n",
       "      <td>10.740629</td>\n",
       "      <td>2.639497</td>\n",
       "      <td>2.345208</td>\n",
       "    </tr>\n",
       "    <tr>\n",
       "      <th>min</th>\n",
       "      <td>147.000000</td>\n",
       "      <td>61.000000</td>\n",
       "      <td>22.300000</td>\n",
       "      <td>25.000000</td>\n",
       "    </tr>\n",
       "    <tr>\n",
       "      <th>25%</th>\n",
       "      <td>154.000000</td>\n",
       "      <td>65.000000</td>\n",
       "      <td>24.400000</td>\n",
       "      <td>27.000000</td>\n",
       "    </tr>\n",
       "    <tr>\n",
       "      <th>50%</th>\n",
       "      <td>174.000000</td>\n",
       "      <td>70.000000</td>\n",
       "      <td>26.100000</td>\n",
       "      <td>28.000000</td>\n",
       "    </tr>\n",
       "    <tr>\n",
       "      <th>75%</th>\n",
       "      <td>177.000000</td>\n",
       "      <td>80.000000</td>\n",
       "      <td>27.500000</td>\n",
       "      <td>30.000000</td>\n",
       "    </tr>\n",
       "    <tr>\n",
       "      <th>max</th>\n",
       "      <td>189.000000</td>\n",
       "      <td>90.000000</td>\n",
       "      <td>30.100000</td>\n",
       "      <td>32.000000</td>\n",
       "    </tr>\n",
       "  </tbody>\n",
       "</table>\n",
       "</div>"
      ],
      "text/plain": [
       "           Height     Weight        bmi        Age\n",
       "count    9.000000   9.000000   9.000000   9.000000\n",
       "mean   168.222222  73.888889  26.177778  28.333333\n",
       "std     15.368619  10.740629   2.639497   2.345208\n",
       "min    147.000000  61.000000  22.300000  25.000000\n",
       "25%    154.000000  65.000000  24.400000  27.000000\n",
       "50%    174.000000  70.000000  26.100000  28.000000\n",
       "75%    177.000000  80.000000  27.500000  30.000000\n",
       "max    189.000000  90.000000  30.100000  32.000000"
      ]
     },
     "execution_count": 29,
     "metadata": {},
     "output_type": "execute_result"
    }
   ],
   "source": [
    "df.describe()"
   ]
  },
  {
   "cell_type": "code",
   "execution_count": 30,
   "id": "86aa68c6",
   "metadata": {},
   "outputs": [
    {
     "data": {
      "text/html": [
       "<div>\n",
       "<style scoped>\n",
       "    .dataframe tbody tr th:only-of-type {\n",
       "        vertical-align: middle;\n",
       "    }\n",
       "\n",
       "    .dataframe tbody tr th {\n",
       "        vertical-align: top;\n",
       "    }\n",
       "\n",
       "    .dataframe thead th {\n",
       "        text-align: right;\n",
       "    }\n",
       "</style>\n",
       "<table border=\"1\" class=\"dataframe\">\n",
       "  <thead>\n",
       "    <tr style=\"text-align: right;\">\n",
       "      <th></th>\n",
       "      <th>Gender</th>\n",
       "      <th>Height</th>\n",
       "      <th>Weight</th>\n",
       "      <th>bmi</th>\n",
       "      <th>Age</th>\n",
       "    </tr>\n",
       "  </thead>\n",
       "  <tbody>\n",
       "    <tr>\n",
       "      <th>count</th>\n",
       "      <td>9</td>\n",
       "      <td>9.000000</td>\n",
       "      <td>9.000000</td>\n",
       "      <td>9.000000</td>\n",
       "      <td>9.000000</td>\n",
       "    </tr>\n",
       "    <tr>\n",
       "      <th>unique</th>\n",
       "      <td>2</td>\n",
       "      <td>NaN</td>\n",
       "      <td>NaN</td>\n",
       "      <td>NaN</td>\n",
       "      <td>NaN</td>\n",
       "    </tr>\n",
       "    <tr>\n",
       "      <th>top</th>\n",
       "      <td>Male</td>\n",
       "      <td>NaN</td>\n",
       "      <td>NaN</td>\n",
       "      <td>NaN</td>\n",
       "      <td>NaN</td>\n",
       "    </tr>\n",
       "    <tr>\n",
       "      <th>freq</th>\n",
       "      <td>6</td>\n",
       "      <td>NaN</td>\n",
       "      <td>NaN</td>\n",
       "      <td>NaN</td>\n",
       "      <td>NaN</td>\n",
       "    </tr>\n",
       "    <tr>\n",
       "      <th>mean</th>\n",
       "      <td>NaN</td>\n",
       "      <td>168.222222</td>\n",
       "      <td>73.888889</td>\n",
       "      <td>26.177778</td>\n",
       "      <td>28.333333</td>\n",
       "    </tr>\n",
       "    <tr>\n",
       "      <th>std</th>\n",
       "      <td>NaN</td>\n",
       "      <td>15.368619</td>\n",
       "      <td>10.740629</td>\n",
       "      <td>2.639497</td>\n",
       "      <td>2.345208</td>\n",
       "    </tr>\n",
       "    <tr>\n",
       "      <th>min</th>\n",
       "      <td>NaN</td>\n",
       "      <td>147.000000</td>\n",
       "      <td>61.000000</td>\n",
       "      <td>22.300000</td>\n",
       "      <td>25.000000</td>\n",
       "    </tr>\n",
       "    <tr>\n",
       "      <th>25%</th>\n",
       "      <td>NaN</td>\n",
       "      <td>154.000000</td>\n",
       "      <td>65.000000</td>\n",
       "      <td>24.400000</td>\n",
       "      <td>27.000000</td>\n",
       "    </tr>\n",
       "    <tr>\n",
       "      <th>50%</th>\n",
       "      <td>NaN</td>\n",
       "      <td>174.000000</td>\n",
       "      <td>70.000000</td>\n",
       "      <td>26.100000</td>\n",
       "      <td>28.000000</td>\n",
       "    </tr>\n",
       "    <tr>\n",
       "      <th>75%</th>\n",
       "      <td>NaN</td>\n",
       "      <td>177.000000</td>\n",
       "      <td>80.000000</td>\n",
       "      <td>27.500000</td>\n",
       "      <td>30.000000</td>\n",
       "    </tr>\n",
       "    <tr>\n",
       "      <th>max</th>\n",
       "      <td>NaN</td>\n",
       "      <td>189.000000</td>\n",
       "      <td>90.000000</td>\n",
       "      <td>30.100000</td>\n",
       "      <td>32.000000</td>\n",
       "    </tr>\n",
       "  </tbody>\n",
       "</table>\n",
       "</div>"
      ],
      "text/plain": [
       "       Gender      Height     Weight        bmi        Age\n",
       "count       9    9.000000   9.000000   9.000000   9.000000\n",
       "unique      2         NaN        NaN        NaN        NaN\n",
       "top      Male         NaN        NaN        NaN        NaN\n",
       "freq        6         NaN        NaN        NaN        NaN\n",
       "mean      NaN  168.222222  73.888889  26.177778  28.333333\n",
       "std       NaN   15.368619  10.740629   2.639497   2.345208\n",
       "min       NaN  147.000000  61.000000  22.300000  25.000000\n",
       "25%       NaN  154.000000  65.000000  24.400000  27.000000\n",
       "50%       NaN  174.000000  70.000000  26.100000  28.000000\n",
       "75%       NaN  177.000000  80.000000  27.500000  30.000000\n",
       "max       NaN  189.000000  90.000000  30.100000  32.000000"
      ]
     },
     "execution_count": 30,
     "metadata": {},
     "output_type": "execute_result"
    }
   ],
   "source": [
    "df.describe(include=\"all\")"
   ]
  },
  {
   "cell_type": "markdown",
   "id": "dda20b58",
   "metadata": {},
   "source": [
    "# Statistical Plots\n",
    "Statistical plots are used to identify outliers, visualize distributions, discover relationships, and the correlation between variables in a dataset.\n",
    "\n",
    "Boxplots\n",
    "Boxplot is used to describe how the data is distributed in the dataset. This graph represents five-point summary(minimum, maximum, median, lower quartile, and upper quartile). This graph is used to identify outliers.\n",
    "\n",
    "whiskers — denote the spread of data\n",
    "box — represents the IQR- 50% of data lies within this range"
   ]
  },
  {
   "cell_type": "code",
   "execution_count": 31,
   "id": "43de96b1",
   "metadata": {},
   "outputs": [
    {
     "data": {
      "text/plain": [
       "<AxesSubplot:>"
      ]
     },
     "execution_count": 31,
     "metadata": {},
     "output_type": "execute_result"
    },
    {
     "data": {
      "image/png": "[encoded data removed]",
      "text/plain": [
       "<Figure size 640x480 with 1 Axes>"
      ]
     },
     "metadata": {},
     "output_type": "display_data"
    }
   ],
   "source": [
    "df.boxplot(column=\"Age\")"
   ]
  },
  {
   "cell_type": "code",
   "execution_count": 32,
   "id": "1e00e776",
   "metadata": {
    "scrolled": true
   },
   "outputs": [
    {
     "data": {
      "image/png": "[encoded data removed]",
      "text/plain": [
       "<Figure size 640x480 with 1 Axes>"
      ]
     },
     "metadata": {},
     "output_type": "display_data"
    }
   ],
   "source": [
    "sns.boxplot(y=df[\"Age\"]);\n",
    "plt.show()"
   ]
  },
  {
   "cell_type": "markdown",
   "id": "7c795889",
   "metadata": {},
   "source": [
    "# Seaborn's boxplot() function offers several advantages over pandas' built-in boxplot() function in terms of customization and visual appeal:\n",
    "\n",
    "Automatic Grouping and Aggregation: Seaborn's boxplot() function can automatically group data by a categorical variable and calculate summary statistics (such as median, quartiles) for each group. This makes it easy to compare distributions across different categories without manually pre-processing the data.\n",
    "\n",
    "Enhanced Styling Options: Seaborn provides a wide range of styling options to customize the appearance of the boxplot. You can easily modify the color, linewidth, whisker length, notch, and other visual elements of the plot to match your preferences or the requirements of your analysis.\n",
    "\n",
    "Additional Statistical Features: Seaborn allows you to overlay additional statistical information on the boxplot, such as swarm plots, strip plots, or violin plots, to provide more insight into the underlying data distribution. These options can be used in combination with the boxplot to create more informative and visually appealing visualizations.\n",
    "\n",
    "Facet Grids: Seaborn supports the creation of facet grids, which allow you to generate multiple boxplots based on different subsets of your data. This is particularly useful for visualizing complex relationships or comparing distributions across multiple variables in a structured grid layout.\n",
    "\n",
    "Integration with Matplotlib: Seaborn is built on top of Matplotlib, which means you can easily combine Seaborn plots with Matplotlib's extensive customization options and additional plot types. This gives you even more flexibility to create highly customized and complex visualizations.\n",
    "\n"
   ]
  },
  {
   "cell_type": "code",
   "execution_count": 35,
   "id": "4459a2eb",
   "metadata": {},
   "outputs": [],
   "source": [
    "# Boxplot grouped by gender category"
   ]
  },
  {
   "cell_type": "code",
   "execution_count": 36,
   "id": "f4a7bd25",
   "metadata": {},
   "outputs": [
    {
     "data": {
      "text/plain": [
       "<AxesSubplot:title={'center':'Age'}, xlabel='Gender'>"
      ]
     },
     "execution_count": 36,
     "metadata": {},
     "output_type": "execute_result"
    },
    {
     "data": {
      "image/png": "[encoded data removed]",
      "text/plain": [
       "<Figure size 640x480 with 1 Axes>"
      ]
     },
     "metadata": {},
     "output_type": "display_data"
    }
   ],
   "source": [
    "df.boxplot(column=\"Age\",by=\"Gender\")"
   ]
  },
  {
   "cell_type": "code",
   "execution_count": null,
   "id": "e3196918",
   "metadata": {},
   "outputs": [],
   "source": [
    "# Here we have an outlier in the “Male” category."
   ]
  },
  {
   "cell_type": "code",
   "execution_count": 37,
   "id": "a945e668",
   "metadata": {},
   "outputs": [
    {
     "name": "stdout",
     "output_type": "stream",
     "text": [
      "        Height  Weight   bmi  Age\n",
      "Gender                           \n",
      "Male       174      80  26.4   25\n",
      "Male       189      87  24.4   27\n",
      "Female     185      80  23.4   30\n",
      "Female     165      70  25.7   26\n",
      "Male       149      61  27.5   28\n",
      "Male       177      70  22.3   29\n",
      "Female     147      65  30.1   31\n",
      "Male       154      62  26.1   32\n",
      "Male       174      90  29.7   27\n",
      "\n",
      "Gender\n",
      "Male    25\n",
      "Male    27\n",
      "Male    28\n",
      "Male    29\n",
      "Male    32\n",
      "Male    27\n",
      "Name: Age, dtype: int64\n",
      "\n",
      "Mean:  28.0\n"
     ]
    }
   ],
   "source": [
    "df1=df.set_index(\"Gender\")\n",
    "print(df1)\n",
    "print()\n",
    "df2=df1.loc[\"Male\",\"Age\"]\n",
    "print(df2)\n",
    "print()\n",
    "print (\"Mean: \",df2.mean())"
   ]
  },
  {
   "cell_type": "code",
   "execution_count": null,
   "id": "a3a710b7",
   "metadata": {},
   "outputs": [],
   "source": [
    "# Calculating Q1, Q3, and IQR"
   ]
  },
  {
   "cell_type": "code",
   "execution_count": 38,
   "id": "8cee3669",
   "metadata": {},
   "outputs": [
    {
     "name": "stdout",
     "output_type": "stream",
     "text": [
      "Q1 : 27.0\n",
      "Q3 : 28.75\n",
      "IQR : 1.75\n"
     ]
    }
   ],
   "source": [
    "q1=df2.quantile(0.25)\n",
    "print (\"Q1 :\",q1)\n",
    "q3=df2.quantile(0.75)\n",
    "print (\"Q3 :\",q3)\n",
    "IQR=q3-q1\n",
    "print (\"IQR :\",IQR)"
   ]
  },
  {
   "cell_type": "markdown",
   "id": "0ca93e68",
   "metadata": {},
   "source": [
    "# Calculate the length of the upper whisker\n",
    "\n",
    "The length of the upper whisker is the largest value that is no greater than the third quartile(Q3) plus \n",
    "1.5 times the interquartile range(IQR)"
   ]
  },
  {
   "cell_type": "code",
   "execution_count": 39,
   "id": "70f90cca",
   "metadata": {},
   "outputs": [
    {
     "name": "stdout",
     "output_type": "stream",
     "text": [
      "Length of Upper Whisker : 31.375\n"
     ]
    }
   ],
   "source": [
    "whisker1=(1.75*1.5)+(q3)\n",
    "print(\"Length of Upper Whisker :\",whisker1)"
   ]
  },
  {
   "cell_type": "code",
   "execution_count": 40,
   "id": "7f079442",
   "metadata": {},
   "outputs": [
    {
     "data": {
      "text/plain": [
       "31.375"
      ]
     },
     "execution_count": 40,
     "metadata": {},
     "output_type": "execute_result"
    }
   ],
   "source": [
    "whiskerrange=28.75+2.625\n",
    "whiskerrange"
   ]
  },
  {
   "cell_type": "code",
   "execution_count": null,
   "id": "13548bfc",
   "metadata": {},
   "outputs": [],
   "source": [
    "The length of the upper whisker should not be greater than 31.375\n",
    "\n",
    "Age of Male → 25,27,28,29,32,27\n",
    "\n",
    "32 falls above the upper whisker range. So, it’s an outlier.\n",
    "So the length of the upper whisker is taken as 29(second maximum) which falls under the upper whisker range."
   ]
  },
  {
   "cell_type": "code",
   "execution_count": 16,
   "id": "285239c0",
   "metadata": {},
   "outputs": [
    {
     "data": {
      "image/png": "[encoded data removed]",
      "text/plain": [
       "<Figure size 800x600 with 1 Axes>"
      ]
     },
     "metadata": {},
     "output_type": "display_data"
    }
   ],
   "source": [
    "#df2.min()\n",
    "import pandas as pd\n",
    "import seaborn as sns\n",
    "import matplotlib.pyplot as plt\n",
    "\n",
    "# Create a DataFrame with your data\n",
    "data = {\n",
    "    \"Gender\": [\"Male\", \"Male\", \"Female\", \"Female\", \"Male\", \"Male\", \"Female\", \"Male\", \"Male\"],\n",
    "    \"Height\": [174, 189, 185, 165, 149, 177, 147, 154, 174],\n",
    "    \"Weight\": [80, 87, 80, 70, 61, 70, 65, 62, 90],\n",
    "    \"bmi\": [26.4, 24.4, 23.4, 25.7, 27.5, 22.3, 30.1, 26.1, 29.7],\n",
    "    \"Age\": [25, 27, 30, 26, 28, 29, 31, 32, 27]\n",
    "}\n",
    "\n",
    "df = pd.DataFrame(data)\n",
    "\n",
    "# Create a boxplot using Seaborn\n",
    "plt.figure(figsize=(8, 6))\n",
    "sns.boxplot(y=\"bmi\", data=df, color='skyblue')\n",
    "\n",
    "# Add quartiles, IQR, min, and max\n",
    "q1 = df['bmi'].quantile(0.25)\n",
    "q3 = df['bmi'].quantile(0.75)\n",
    "iqr = q3 - q1\n",
    "minimum = df['bmi'].min()\n",
    "maximum = df['bmi'].max()\n",
    "\n",
    "# Plot quartiles and IQR\n",
    "plt.axhline(q1, linestyle='--', color='green', label='Q1')\n",
    "plt.axhline(q3, linestyle='--', color='red', label='Q3')\n",
    "plt.axhline(q1 - 1.5*iqr, linestyle='-.', color='purple', label='Q1 - 1.5*IQR')\n",
    "plt.axhline(q3 + 1.5*iqr, linestyle='-.', color='purple', label='Q3 + 1.5*IQR')\n",
    "\n",
    "# Plot min and max\n",
    "plt.scatter(0, minimum, marker='o', color='blue', label='Minimum')\n",
    "plt.scatter(0, maximum, marker='o', color='orange', label='Maximum')\n",
    "\n",
    "plt.legend()\n",
    "plt.title(\"Boxplot of BMI with Quartiles, IQR, Min, and Max\")\n",
    "plt.ylabel(\"BMI\")\n",
    "plt.show()\n"
   ]
  },
  {
   "cell_type": "code",
   "execution_count": null,
   "id": "9d35eb79",
   "metadata": {},
   "outputs": [],
   "source": []
  },
  {
   "cell_type": "code",
   "execution_count": null,
   "id": "b4511803",
   "metadata": {},
   "outputs": [],
   "source": []
  },
  {
   "cell_type": "code",
   "execution_count": null,
   "id": "11fb1b06",
   "metadata": {},
   "outputs": [],
   "source": []
  },
  {
   "cell_type": "code",
   "execution_count": null,
   "id": "0d6b30ce",
   "metadata": {},
   "outputs": [],
   "source": [
    "#df2.max()"
   ]
  },
  {
   "cell_type": "code",
   "execution_count": null,
   "id": "e5f3355a",
   "metadata": {},
   "outputs": [],
   "source": [
    "# Boxplot using seaborn"
   ]
  },
  {
   "cell_type": "code",
   "execution_count": 42,
   "id": "972f0531",
   "metadata": {},
   "outputs": [
    {
     "data": {
      "text/plain": [
       "<AxesSubplot:xlabel='Age'>"
      ]
     },
     "execution_count": 42,
     "metadata": {},
     "output_type": "execute_result"
    },
    {
     "data": {
      "image/png": "[encoded data removed]",
      "text/plain": [
       "<Figure size 640x480 with 1 Axes>"
      ]
     },
     "metadata": {},
     "output_type": "display_data"
    }
   ],
   "source": [
    "sns.boxplot(x=\"Age\",data=df)"
   ]
  },
  {
   "cell_type": "code",
   "execution_count": 44,
   "id": "84f8a3ac",
   "metadata": {},
   "outputs": [],
   "source": [
    "# Boxplot grouped by gender category"
   ]
  },
  {
   "cell_type": "code",
   "execution_count": 45,
   "id": "e117ad5c",
   "metadata": {},
   "outputs": [
    {
     "data": {
      "text/plain": [
       "<AxesSubplot:xlabel='Age', ylabel='Gender'>"
      ]
     },
     "execution_count": 45,
     "metadata": {},
     "output_type": "execute_result"
    },
    {
     "data": {
      "image/png": "[encoded data removed]",
      "text/plain": [
       "<Figure size 640x480 with 1 Axes>"
      ]
     },
     "metadata": {},
     "output_type": "display_data"
    }
   ],
   "source": [
    "sns.boxplot(x=\"Age\",y=\"Gender\",data=df)"
   ]
  },
  {
   "cell_type": "markdown",
   "id": "53a65b14",
   "metadata": {},
   "source": [
    "# Visualizing distributions of data\n"
   ]
  },
  {
   "cell_type": "markdown",
   "id": "67ec8532",
   "metadata": {},
   "source": [
    "# Plotting univariate distributions\n",
    "Histogram\n",
    "\n",
    "This plot will show the distribution of univariate(single variable).\n",
    "A histogram is a bar plot where the axis representing the data variable is divided into a set of discrete bins and the count of observations falling within each bin is shown using the height of the corresponding bar.\n",
    "Histogram → plotting variable vs their count/frequencies in each bin."
   ]
  },
  {
   "cell_type": "code",
   "execution_count": null,
   "id": "865925a4",
   "metadata": {},
   "outputs": [],
   "source": [
    "# Different ways to plot a histogram\n"
   ]
  },
  {
   "cell_type": "code",
   "execution_count": null,
   "id": "fb883894",
   "metadata": {},
   "outputs": [],
   "source": [
    "# 1. Using pandas\n",
    "Histogram for all columns in the dataframe"
   ]
  },
  {
   "cell_type": "code",
   "execution_count": 46,
   "id": "5aa7a9a7",
   "metadata": {
    "scrolled": true
   },
   "outputs": [
    {
     "data": {
      "text/plain": [
       "array([[<AxesSubplot:title={'center':'Height'}>,\n",
       "        <AxesSubplot:title={'center':'Weight'}>],\n",
       "       [<AxesSubplot:title={'center':'bmi'}>,\n",
       "        <AxesSubplot:title={'center':'Age'}>]], dtype=object)"
      ]
     },
     "execution_count": 46,
     "metadata": {},
     "output_type": "execute_result"
    },
    {
     "data": {
      "image/png": "[encoded data removed]",
      "text/plain": [
       "<Figure size 640x480 with 4 Axes>"
      ]
     },
     "metadata": {},
     "output_type": "display_data"
    }
   ],
   "source": [
    "df.hist()"
   ]
  },
  {
   "cell_type": "code",
   "execution_count": null,
   "id": "f052e284",
   "metadata": {},
   "outputs": [],
   "source": [
    "Histogram for a particular column “Age”"
   ]
  },
  {
   "cell_type": "code",
   "execution_count": 47,
   "id": "2c5b3ece",
   "metadata": {},
   "outputs": [
    {
     "data": {
      "text/plain": [
       "<AxesSubplot:>"
      ]
     },
     "execution_count": 47,
     "metadata": {},
     "output_type": "execute_result"
    },
    {
     "data": {
      "image/png": "[encoded data removed]",
      "text/plain": [
       "<Figure size 640x480 with 1 Axes>"
      ]
     },
     "metadata": {},
     "output_type": "display_data"
    }
   ],
   "source": [
    "df[\"Age\"].hist()"
   ]
  },
  {
   "cell_type": "code",
   "execution_count": null,
   "id": "46025504",
   "metadata": {},
   "outputs": [],
   "source": [
    "Choosing the bin size"
   ]
  },
  {
   "cell_type": "code",
   "execution_count": 48,
   "id": "f6df94d3",
   "metadata": {},
   "outputs": [
    {
     "data": {
      "text/plain": [
       "<AxesSubplot:>"
      ]
     },
     "execution_count": 48,
     "metadata": {},
     "output_type": "execute_result"
    },
    {
     "data": {
      "image/png": "[encoded data removed]",
      "text/plain": [
       "<Figure size 640x480 with 1 Axes>"
      ]
     },
     "metadata": {},
     "output_type": "display_data"
    }
   ],
   "source": [
    "df[\"Age\"].hist(bins=20)"
   ]
  },
  {
   "cell_type": "code",
   "execution_count": null,
   "id": "08dd5926",
   "metadata": {},
   "outputs": [],
   "source": [
    "# 2. Using matplotlib"
   ]
  },
  {
   "cell_type": "code",
   "execution_count": 49,
   "id": "33d5e308",
   "metadata": {},
   "outputs": [
    {
     "data": {
      "text/plain": [
       "(array([1., 1., 2., 0., 1., 1., 0., 1., 1., 1.]),\n",
       " array([25. , 25.7, 26.4, 27.1, 27.8, 28.5, 29.2, 29.9, 30.6, 31.3, 32. ]),\n",
       " <BarContainer object of 10 artists>)"
      ]
     },
     "execution_count": 49,
     "metadata": {},
     "output_type": "execute_result"
    },
    {
     "data": {
      "image/png": "[encoded data removed]",
      "text/plain": [
       "<Figure size 640x480 with 1 Axes>"
      ]
     },
     "metadata": {},
     "output_type": "display_data"
    }
   ],
   "source": [
    "plt.hist(df[\"Age\"])"
   ]
  },
  {
   "cell_type": "code",
   "execution_count": null,
   "id": "5f3d9327",
   "metadata": {},
   "outputs": [],
   "source": [
    "# Plotting Multivariate distribution\n",
    "Pairplot or Scatterplot\n",
    "\n",
    "Pairplot is used to describe pairwise relationships in a dataset. Pairplot is used to visualize the univariate distribution \n",
    "of all variables in a dataset along with all of their pairwise relationships.\n",
    "The diagonal plots are histograms and all the other plots are scatter plots."
   ]
  },
  {
   "cell_type": "code",
   "execution_count": 57,
   "id": "ce0b705d",
   "metadata": {},
   "outputs": [
    {
     "data": {
      "text/plain": [
       "<AxesSubplot:xlabel='Height', ylabel='Age'>"
      ]
     },
     "execution_count": 57,
     "metadata": {},
     "output_type": "execute_result"
    },
    {
     "data": {
      "image/png": "[encoded data removed]",
      "text/plain": [
       "<Figure size 640x480 with 1 Axes>"
      ]
     },
     "metadata": {},
     "output_type": "display_data"
    }
   ],
   "source": [
    "df.plot(kind=\"scatter\",x=\"Height\",y=\"Age\")"
   ]
  },
  {
   "cell_type": "code",
   "execution_count": 58,
   "id": "fa855da8",
   "metadata": {},
   "outputs": [
    {
     "data": {
      "text/plain": [
       "<seaborn.axisgrid.PairGrid at 0x28156fa8dc0>"
      ]
     },
     "execution_count": 58,
     "metadata": {},
     "output_type": "execute_result"
    },
    {
     "data": {
      "image/png": "[encoded data removed]",
      "text/plain": [
       "<Figure size 1000x1000 with 20 Axes>"
      ]
     },
     "metadata": {},
     "output_type": "display_data"
    }
   ],
   "source": [
    "sns.pairplot(df)"
   ]
  },
  {
   "cell_type": "code",
   "execution_count": null,
   "id": "5aa487ec",
   "metadata": {},
   "outputs": [],
   "source": [
    "# Skewness\n",
    "Another useful statistic is skewness, which is the measure of the symmetry, or lack of it, for a real-valued\n",
    "random variable about its mean. The skewness value can be positive, negative, or undefined. In a perfectly symmetrical \n",
    "distribution, the mean, the median, and the mode will all have the same value. However, the variables in our data are\n",
    "not symmetrical, resulting in different values of the central tendency.\n",
    "The skewness values can be interpreted in the following manner:\n",
    "\n",
    "Highly skewed distribution: If the skewness value is less than −1 or greater than +1.\n",
    "\n",
    "Moderately skewed distribution: If the skewness value is between −1 and −½ or between +½ and +1.\n",
    "\n",
    "Approximately symmetric distribution: If the skewness value is between −½ and +½.\n",
    "\n",
    "We can calculate the skewness of the numerical variables using the skew() function, as shown below."
   ]
  },
  {
   "cell_type": "code",
   "execution_count": 59,
   "id": "fdea5e3b",
   "metadata": {},
   "outputs": [
    {
     "name": "stdout",
     "output_type": "stream",
     "text": [
      "Height   -0.213215\n",
      "Weight    0.291925\n",
      "bmi       0.182533\n",
      "Age       0.232583\n",
      "dtype: float64\n"
     ]
    },
    {
     "name": "stderr",
     "output_type": "stream",
     "text": [
      "C:\\Users\\Tarunim Sharma\\AppData\\Local\\Temp\\ipykernel_16216\\1926848427.py:1: FutureWarning: Dropping of nuisance columns in DataFrame reductions (with 'numeric_only=None') is deprecated; in a future version this will raise TypeError.  Select only valid columns before calling the reduction.\n",
      "  print(df.skew())\n"
     ]
    }
   ],
   "source": [
    "print(df.skew())"
   ]
  },
  {
   "cell_type": "code",
   "execution_count": null,
   "id": "4d123275",
   "metadata": {},
   "outputs": [],
   "source": [
    "#plot the skewness"
   ]
  },
  {
   "cell_type": "code",
   "execution_count": 19,
   "id": "64d10d51",
   "metadata": {},
   "outputs": [
    {
     "name": "stdout",
     "output_type": "stream",
     "text": [
      "\n",
      "Skewness for data :  1.1108237139164436\n"
     ]
    },
    {
     "data": {
      "image/png": "[encoded data removed]",
      "text/plain": [
       "<Figure size 640x480 with 1 Axes>"
      ]
     },
     "metadata": {},
     "output_type": "display_data"
    }
   ],
   "source": [
    "from scipy.stats import skew\n",
    "import numpy as np \n",
    "import pylab as p \n",
    "  \n",
    "x1 = np.linspace( -5, 5, 1000 )\n",
    "y1 = 1./(np.sqrt(2.*np.pi)) * np.exp( -.5*(x1)**2  )\n",
    "\n",
    "\n",
    "\n",
    "p.plot(x1, y1, '+')\n",
    "  \n",
    "print( '\\nSkewness for data : ', skew(y1))"
   ]
  },
  {
   "cell_type": "markdown",
   "id": "b4084be5",
   "metadata": {},
   "source": [
    "Kurtosis is a measure of whether the distribution is too peaked (a very narrow distribution with most of the responses in\n",
    "the center). A positive value for the kurtosis indicates a distribution more peaked than normal. In contrast, a negative \n",
    "kurtosis indicates a shape flatter than normal. Analogous to the skewness, the general guideline is that if the kurtosis is\n",
    "greater than +2, the distribution is too peaked. Likewise, a kurtosis of less than −2 indicates a distribution that is too \n",
    "flat. When both skewness and kurtosis are close to zero, the pattern of responses is considered a normal distribution\n",
    "(George & Mallery, 2019).\" (Hair et al., 2022, p. 66).\n",
    "\n",
    "When both skewness and kurtosis are zero (a situation that researchers are very unlikely to ever encounter), the pattern \n",
    "of responses is considered a normal distribution."
   ]
  },
  {
   "cell_type": "code",
   "execution_count": null,
   "id": "b4a77993",
   "metadata": {},
   "outputs": [],
   "source": [
    "from scipy.stats import kurtosis\n",
    "print(kurtosis(y1, axis=0, bias=True))"
   ]
  },
  {
   "cell_type": "markdown",
   "id": "4060886a",
   "metadata": {},
   "source": [
    "# Pandas Series.mad() to calculate Mean Absolute Deviation of a Series\n",
    "MAD is defined as average distance between each value and mean.\n",
    "Syntax: Series.mad(axis=None, skipna=True, level=None)\n",
    "\n",
    "Parameters:\n",
    "axis: 0 or ‘index’ for row wise operation and 1 or ‘columns’ for column wise operation.\n",
    "skipna: Includes NaN values too if False, Result will also be NaN even if a single Null value is included.default is True.\n",
    "level: Defines level name or number in case of multilevel series.\n",
    "\n",
    "Return Type: Float value"
   ]
  },
  {
   "cell_type": "code",
   "execution_count": 61,
   "id": "f7b4e875",
   "metadata": {},
   "outputs": [
    {
     "data": {
      "text/plain": [
       "5.876543209876543"
      ]
     },
     "execution_count": 61,
     "metadata": {},
     "output_type": "execute_result"
    }
   ],
   "source": [
    "# importing pandas module \n",
    "import pandas as pd \n",
    "# importing numpy module \n",
    "import numpy as np \n",
    "# creating list\n",
    "list =[5, 12, 1, 0, 4, 22, 15, 3, 9]\n",
    "# creating series\n",
    "series = pd.Series(list)\n",
    "# calling .mad() method\n",
    "result = series.mad()\n",
    "# display\n",
    "result"
   ]
  },
  {
   "cell_type": "code",
   "execution_count": null,
   "id": "f0b6f761",
   "metadata": {},
   "outputs": [],
   "source": [
    "Calculating Mean of series mean = (5+12+1+0+4+22+15+3+9) / 9 = 7.8888\n",
    "\n",
    "MAD = | (5-7.88)+(12-7.88)+(1-7.88)+(0-7.88)+(4-7.88)+(22-7.88)+(15-7.88)+(3-7.88)+(9-7.88)) | / 9.00\n",
    "\n",
    "MAD = (2.88 + 4.12 + 6.88 + 7.88 + 3.88 + 14.12 + 7.12 + 4.88 + 1.12) / 9.00\n",
    "\n",
    "MAD = 5.8755 (More accurately = 5.876543209876543)"
   ]
  },
  {
   "cell_type": "code",
   "execution_count": 62,
   "id": "d5e52555",
   "metadata": {},
   "outputs": [
    {
     "name": "stdout",
     "output_type": "stream",
     "text": [
      "DataFrame:\n",
      "     C1   C2\n",
      "0  6.50  7.0\n",
      "1  5.10  7.1\n",
      "2  5.60  7.2\n",
      "3  7.00  6.0\n",
      "4  7.10  6.1\n",
      "5  7.45  6.3\n",
      "6  7.75  5.1\n",
      "7  8.00  5.2\n",
      "Mean absolute deviation of columns:\n",
      "C1    0.809375\n",
      "C2    0.650000\n",
      "dtype: float64\n",
      "Mean absolute deviation of rows:\n",
      "0    0.250\n",
      "1    1.000\n",
      "2    0.800\n",
      "3    0.500\n",
      "4    0.500\n",
      "5    0.575\n",
      "6    1.325\n",
      "7    1.400\n",
      "dtype: float64\n"
     ]
    }
   ],
   "source": [
    "import pandas as pd\n",
    "dataSet = {\"C1\":(6.5, 5.1, 5.6, 7.0, 7.1, 7.45, 7.75, 8),\n",
    "\n",
    "           \"C2\":(7, 7.1, 7.2, 6, 6.1, 6.3, 5.1, 5.2) }\n",
    "dataFrame = pd.DataFrame(data=dataSet);\n",
    "print(\"DataFrame:\");\n",
    "print(dataFrame)\n",
    "mad = dataFrame.mad();\n",
    "print(\"Mean absolute deviation of columns:\");\n",
    "print(mad);\n",
    "# Calculate Mean Absolute Deviation of DataFrame rows\n",
    "mad = dataFrame.mad(axis=1);\n",
    "print(\"Mean absolute deviation of rows:\");\n",
    "print(mad);"
   ]
  },
  {
   "cell_type": "code",
   "execution_count": 63,
   "id": "1b9d6ff7",
   "metadata": {},
   "outputs": [
    {
     "name": "stdout",
     "output_type": "stream",
     "text": [
      "DataFrame:\n",
      "    0   1     2     3\n",
      "0   2   3   5.0   7.0\n",
      "1  11  13  17.0  19.0\n",
      "2  23  29   NaN   NaN\n",
      "3  31  37   NaN   NaN\n",
      "Mean absolute deviation of columns(NaNs skipped):\n",
      "0    10.25\n",
      "1    12.50\n",
      "2     6.00\n",
      "3     6.00\n",
      "dtype: float64\n",
      "Mean absolute deviation of columns(NaNs included):\n",
      "0    10.25\n",
      "1    12.50\n",
      "2      NaN\n",
      "3      NaN\n",
      "dtype: float64\n",
      "Mean absolute deviation of rows(NaNs skipped):\n",
      "0    1.75\n",
      "1    3.00\n",
      "2    3.00\n",
      "3    3.00\n",
      "dtype: float64\n",
      "Mean absolute deviation of rows(NaNs included):\n",
      "0    1.75\n",
      "1    3.00\n",
      "2     NaN\n",
      "3     NaN\n",
      "dtype: float64\n"
     ]
    }
   ],
   "source": [
    "import pandas as pd\n",
    "dataValues = [(2,  3,   5, 7,),\n",
    "              (11, 13, 17, 19),\n",
    "              (23, 29, None, None),\n",
    "              (31, 37, None, None)]\n",
    "dataFrameOject = pd.DataFrame(data=dataValues);\n",
    "print(\"DataFrame:\");\n",
    "print(dataFrameOject)\n",
    "# Calculate MAD for the DataFrame columns\n",
    "mad = dataFrameOject.mad(axis=0);\n",
    "print(\"Mean absolute deviation of columns(NaNs skipped):\");\n",
    "#mean is calculated by (5+17)/4=5.5.  For MAD, denominator is 2\n",
    "print(mad);\n",
    "# Calculate MAD for the DataFrame columns\n",
    "mad = dataFrameOject.mad(axis=0, skipna=False);\n",
    "print(\"Mean absolute deviation of columns(NaNs included):\");\n",
    "print(mad);\n",
    "# Calculate MAD for the DataFrame rows\n",
    "mad = dataFrameOject.mad(axis=1);\n",
    "print(\"Mean absolute deviation of rows(NaNs skipped):\");\n",
    "print(mad);\n",
    "# Calculate MAD for the DataFrame rows\n",
    "mad = dataFrameOject.mad(axis=1, skipna=False);\n",
    "print(\"Mean absolute deviation of rows(NaNs included):\");\n",
    "print(mad);"
   ]
  },
  {
   "cell_type": "code",
   "execution_count": null,
   "id": "c8f9f7e2",
   "metadata": {},
   "outputs": [],
   "source": [
    "Output is truncated. View as a scrollable element or open in a text editor. Adjust cell output settings..."
   ]
  },
  {
   "cell_type": "code",
   "execution_count": null,
   "id": "f36f5448",
   "metadata": {},
   "outputs": [],
   "source": []
  },
  {
   "cell_type": "code",
   "execution_count": null,
   "id": "1b75775a",
   "metadata": {},
   "outputs": [],
   "source": []
  },
  {
   "cell_type": "code",
   "execution_count": null,
   "id": "e1085782",
   "metadata": {},
   "outputs": [],
   "source": []
  },
  {
   "cell_type": "code",
   "execution_count": null,
   "id": "773b8d17",
   "metadata": {},
   "outputs": [],
   "source": []
  },
  {
   "cell_type": "code",
   "execution_count": null,
   "id": "1351a11f",
   "metadata": {},
   "outputs": [],
   "source": []
  },
  {
   "cell_type": "code",
   "execution_count": null,
   "id": "76f4a6a7",
   "metadata": {},
   "outputs": [],
   "source": []
  }
 ],
 "metadata": {
  "kernelspec": {
   "display_name": "Python 3 (ipykernel)",
   "language": "python",
   "name": "python3"
  },
  "language_info": {
   "codemirror_mode": {
    "name": "ipython",
    "version": 3
   },
   "file_extension": ".py",
   "mimetype": "text/x-python",
   "name": "python",
   "nbconvert_exporter": "python",
   "pygments_lexer": "ipython3",
   "version": "3.9.13"
  }
 },
 "nbformat": 4,
 "nbformat_minor": 5
}
