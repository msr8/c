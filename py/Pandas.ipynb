{
 "cells": [
  {
   "cell_type": "markdown",
   "id": "60811099-7770-4958-95c1-706c260248f5",
   "metadata": {},
   "source": [
    "- `index` -> axis=0\n",
    "- `columns` -> axis=1"
   ]
  },
  {
   "cell_type": "markdown",
   "id": "64ca379d-894e-4d23-a67a-a2c9b3eaa3ba",
   "metadata": {},
   "source": [
    "<br><br><br>"
   ]
  },
  {
   "cell_type": "markdown",
   "id": "7ee257cb-f1a1-4156-9bcf-59504383bcd9",
   "metadata": {},
   "source": [
    "# Initialisation"
   ]
  },
  {
   "cell_type": "code",
   "execution_count": 1,
   "id": "ddbea68b-2ba0-4f9d-8d04-45c6bcd99af6",
   "metadata": {},
   "outputs": [],
   "source": [
    "import pandas as pd\n",
    "import numpy  as np\n",
    "from IPython.display import HTML, Markdown, Latex\n",
    "\n",
    "\n",
    "def display_df(tp_df=None, index=False):\n",
    "    # tp_df = tp_df if isinstance(tp_df,pd.DataFrame) else df\n",
    "    tp_df = tp_df if tp_df is not None else df\n",
    "    display(Markdown(tp_df.to_markdown(index=index)))\n",
    "\n",
    "# def display_df(tp_df=None, index=False):\n",
    "#     tp_df = tp_df if isinstance(tp_df,pd.DataFrame) else df\n",
    "#     display(HTML(tp_df.to_html(index=index)))"
   ]
  },
  {
   "cell_type": "markdown",
   "id": "85a40670-8b18-4913-8b0d-e4e23169ab41",
   "metadata": {},
   "source": [
    "<br><br><br>"
   ]
  },
  {
   "cell_type": "markdown",
   "id": "a42bc9c5-764b-4a9e-b9c0-8aa97f5cc63c",
   "metadata": {},
   "source": [
    "# Creating a dataframe"
   ]
  },
  {
   "cell_type": "code",
   "execution_count": 2,
   "id": "8b8d023b-1ce8-499a-bf21-3871bd6dbe47",
   "metadata": {},
   "outputs": [
    {
     "data": {
      "text/markdown": [
       "|   age | section   | city    | gender   | favorite_color   |\n",
       "|------:|:----------|:--------|:---------|:-----------------|\n",
       "|    10 | A         | Gurgaon | M        | red              |\n",
       "|    22 | B         | Delhi   | F        | black            |\n",
       "|    13 | C         | Mumbai  | F        | yellow           |\n",
       "|    21 | B         | Delhi   | M        | pink             |\n",
       "|    12 | B         | Mumbai  | M        | black            |\n",
       "|    11 | A         | Delhi   | M        | green            |\n",
       "|    17 | A         | Mumbai  | F        | red              |"
      ],
      "text/plain": [
       "<IPython.core.display.Markdown object>"
      ]
     },
     "metadata": {},
     "output_type": "display_data"
    },
    {
     "data": {
      "text/markdown": [
       "|   age | section   | city    | gender   | favorite_color   |\n",
       "|------:|:----------|:--------|:---------|:-----------------|\n",
       "|    10 | A         | Gurgaon | M        | red              |\n",
       "|    22 | B         | Delhi   | F        | black            |\n",
       "|    13 | C         | Mumbai  | F        | yellow           |\n",
       "|    21 | B         | Delhi   | M        | pink             |\n",
       "|    12 | B         | Mumbai  | M        | black            |\n",
       "|    11 | A         | Delhi   | M        | green            |\n",
       "|    17 | A         | Mumbai  | F        | red              |"
      ],
      "text/plain": [
       "<IPython.core.display.Markdown object>"
      ]
     },
     "metadata": {},
     "output_type": "display_data"
    },
    {
     "data": {
      "text/markdown": [
       "|   age | section   | city    | gender   | favorite_color   |\n",
       "|------:|:----------|:--------|:---------|:-----------------|\n",
       "|    10 | A         | Gurgaon | M        | red              |\n",
       "|    22 | B         | Delhi   | F        | black            |\n",
       "|    13 | C         | Mumbai  | F        | yellow           |\n",
       "|    21 | B         | Delhi   | M        | pink             |\n",
       "|    12 | B         | Mumbai  | M        | black            |\n",
       "|    11 | A         | Delhi   | M        | green            |\n",
       "|    17 | A         | Mumbai  | F        | red              |"
      ],
      "text/plain": [
       "<IPython.core.display.Markdown object>"
      ]
     },
     "metadata": {},
     "output_type": "display_data"
    }
   ],
   "source": [
    "data = {\n",
    "    'age':            [10,22,13,21,12,11,17],\n",
    "    'section':        ['A','B','C','B','B','A','A'],\n",
    "    'city':           ['Gurgaon','Delhi','Mumbai','Delhi','Mumbai','Delhi','Mumbai'],\n",
    "    'gender':         ['M','F','F','M','M','M','F'],\n",
    "    'favorite_color': ['red','black','yellow','pink','black','green','red']   \n",
    "}\n",
    "\n",
    "data_csv = [\n",
    "    ['age', 'section', 'city',    'gender', 'favorite_color'],\n",
    "    [10,    'A',       'Gurgaon', 'M',      'red'           ],\n",
    "    [22,    'B',       'Delhi',   'F',      'black'         ],\n",
    "    [13,    'C',       'Mumbai',  'F',      'yellow'        ],\n",
    "    [21,    'B',       'Delhi',   'M',      'pink'          ],\n",
    "    [12,    'B',       'Mumbai',  'M',      'black'         ],\n",
    "    [11,    'A',       'Delhi',   'M',      'green'         ],\n",
    "    [17,    'A',       'Mumbai',  'F',      'red'           ]\n",
    "]\n",
    "\n",
    "data_dict = [\n",
    "    {'age': 10, 'section': 'A', 'city': 'Gurgaon', 'gender': 'M', 'favorite_color': 'red'},\n",
    "    {'age': 22, 'section': 'B', 'city': 'Delhi',   'gender': 'F', 'favorite_color': 'black'},\n",
    "    {'age': 13, 'section': 'C', 'city': 'Mumbai',  'gender': 'F', 'favorite_color': 'yellow'},\n",
    "    {'age': 21, 'section': 'B', 'city': 'Delhi',   'gender': 'M', 'favorite_color': 'pink'},\n",
    "    {'age': 12, 'section': 'B', 'city': 'Mumbai',  'gender': 'M', 'favorite_color': 'black'},\n",
    "    {'age': 11, 'section': 'A', 'city': 'Delhi',   'gender': 'M', 'favorite_color': 'green'},\n",
    "    {'age': 17, 'section': 'A', 'city': 'Mumbai',  'gender': 'F', 'favorite_color': 'red'}\n",
    "]\n",
    "\n",
    "df = pd.DataFrame(data)\n",
    "display_df()\n",
    "\n",
    "df = pd.DataFrame(data_csv[1:], columns=data_csv[0])\n",
    "display_df()\n",
    "\n",
    "df = pd.DataFrame(data_dict)\n",
    "display_df()"
   ]
  },
  {
   "cell_type": "markdown",
   "id": "30249533-3b32-433a-ba37-5b3ed513f49c",
   "metadata": {},
   "source": [
    "<br><br><br>"
   ]
  },
  {
   "cell_type": "markdown",
   "id": "2ae53406-64da-4713-abb6-b36fa1906022",
   "metadata": {},
   "source": [
    "# Meta stuff"
   ]
  },
  {
   "cell_type": "code",
   "execution_count": 3,
   "id": "80b7f980-d14d-4f71-be18-20acf8773ba2",
   "metadata": {},
   "outputs": [
    {
     "name": "stdout",
     "output_type": "stream",
     "text": [
      "df.empty:   False\n",
      "df.shape:   (7, 5)\n",
      "df.index:   RangeIndex(start=0, stop=7, step=1)\n",
      "df.columns: Index(['age', 'section', 'city', 'gender', 'favorite_color'], dtype='object')\n",
      "\n",
      "df.describe():\n"
     ]
    },
    {
     "data": {
      "text/markdown": [
       "|       |     age |\n",
       "|:------|--------:|\n",
       "| count |  7      |\n",
       "| mean  | 15.1429 |\n",
       "| std   |  4.8795 |\n",
       "| min   | 10      |\n",
       "| 25%   | 11.5    |\n",
       "| 50%   | 13      |\n",
       "| 75%   | 19      |\n",
       "| max   | 22      |"
      ],
      "text/plain": [
       "<IPython.core.display.Markdown object>"
      ]
     },
     "metadata": {},
     "output_type": "display_data"
    },
    {
     "name": "stdout",
     "output_type": "stream",
     "text": [
      "\n",
      "df.info():\n",
      "<class 'pandas.core.frame.DataFrame'>\n",
      "RangeIndex: 7 entries, 0 to 6\n",
      "Data columns (total 5 columns):\n",
      " #   Column          Non-Null Count  Dtype \n",
      "---  ------          --------------  ----- \n",
      " 0   age             7 non-null      int64 \n",
      " 1   section         7 non-null      object\n",
      " 2   city            7 non-null      object\n",
      " 3   gender          7 non-null      object\n",
      " 4   favorite_color  7 non-null      object\n",
      "dtypes: int64(1), object(4)\n",
      "memory usage: 412.0+ bytes\n"
     ]
    }
   ],
   "source": [
    "data = {\n",
    "    'age':            [10,22,13,21,12,11,17],\n",
    "    'section':        ['A','B','C','B','B','A','A'],\n",
    "    'city':           ['Gurgaon','Delhi','Mumbai','Delhi','Mumbai','Delhi','Mumbai'],\n",
    "    'gender':         ['M','F','F','M','M','M','F'],\n",
    "    'favorite_color': ['red','black','yellow','pink','black','green','red']   \n",
    "}\n",
    "\n",
    "df = pd.DataFrame(df)\n",
    "\n",
    "print(f'df.empty:   {df.empty}')\n",
    "print(f'df.shape:   {df.shape}')\n",
    "print(f'df.index:   {df.index}')\n",
    "print(f'df.columns: {df.columns}')\n",
    "\n",
    "print('\\ndf.describe():')\n",
    "display_df(df.describe(), index=True)\n",
    "\n",
    "print('\\ndf.info():')\n",
    "df.info() # This automatically prints stuff to stdout"
   ]
  },
  {
   "cell_type": "markdown",
   "id": "f7db5810-01f0-400c-be64-27461a7b3771",
   "metadata": {},
   "source": [
    "<br><br><br>"
   ]
  },
  {
   "cell_type": "markdown",
   "id": "0a1dbb40-7b8e-42c6-9164-f68a6c2e5a5b",
   "metadata": {},
   "source": [
    "# `.head()` and `.tail()`\n",
    "\n",
    "Both take a single optional argument, ie `n`, which is an integer representing the number of records to show. By default, it is 5. `.head()` shows the n top most records and `.tail()` shows the n bottom most records"
   ]
  },
  {
   "cell_type": "code",
   "execution_count": 4,
   "id": "5257b645-80cd-4dfd-898d-400771701e58",
   "metadata": {},
   "outputs": [
    {
     "data": {
      "text/markdown": [
       "|    |   age | section   | city    | gender   | favorite_color   |\n",
       "|---:|------:|:----------|:--------|:---------|:-----------------|\n",
       "|  0 |    10 | A         | Gurgaon | M        | red              |\n",
       "|  1 |    22 | B         | Delhi   | F        | black            |\n",
       "|  2 |    13 | C         | Mumbai  | F        | yellow           |"
      ],
      "text/plain": [
       "<IPython.core.display.Markdown object>"
      ]
     },
     "metadata": {},
     "output_type": "display_data"
    },
    {
     "data": {
      "text/markdown": [
       "|    |   age | section   | city   | gender   | favorite_color   |\n",
       "|---:|------:|:----------|:-------|:---------|:-----------------|\n",
       "|  4 |    12 | B         | Mumbai | M        | black            |\n",
       "|  5 |    11 | A         | Delhi  | M        | green            |\n",
       "|  6 |    17 | A         | Mumbai | F        | red              |"
      ],
      "text/plain": [
       "<IPython.core.display.Markdown object>"
      ]
     },
     "metadata": {},
     "output_type": "display_data"
    }
   ],
   "source": [
    "display_df( df.head(3) , index=True )\n",
    "display_df( df.tail(3) , index=True )"
   ]
  },
  {
   "cell_type": "markdown",
   "id": "7f98b8af-8462-4924-bba9-a787e3a2a65c",
   "metadata": {},
   "source": [
    "<br><br><br>"
   ]
  },
  {
   "cell_type": "markdown",
   "id": "20f0ff10-2544-4f61-a58f-4c2a9eb68c51",
   "metadata": {},
   "source": [
    "# `.iloc[]`\n",
    "\n",
    "Format is something like `DataFrame.iloc[row_indexer, column_indexer]`. Here `column_indexer` is optional. If it is not given, all columns will be printed\n",
    "\n",
    "Remember, here rows start with index 1 rather than index 0\n",
    "\n",
    "- `row_indexer`: This can be a slice (like `1:9:2` or `:`), or a list of the indexes, like `[1,4,5]`\n",
    "- `column_indexer`: This can be a slice (like `1:9:2` or `:`), or a list of the indexes of the columns, like `[1,4,5]`"
   ]
  },
  {
   "cell_type": "code",
   "execution_count": 5,
   "id": "fbd46b6e-0c7b-4fbb-933a-bc864459483e",
   "metadata": {},
   "outputs": [
    {
     "name": "stdout",
     "output_type": "stream",
     "text": [
      "\n",
      "Original data:\n"
     ]
    },
    {
     "data": {
      "text/markdown": [
       "|   age | section   | city    | gender   | favorite_color   |\n",
       "|------:|:----------|:--------|:---------|:-----------------|\n",
       "|    10 | A         | Gurgaon | M        | red              |\n",
       "|    22 | B         | Delhi   | F        | black            |\n",
       "|    13 | C         | Mumbai  | F        | yellow           |\n",
       "|    21 | B         | Delhi   | M        | pink             |\n",
       "|    12 | B         | Mumbai  | M        | black            |\n",
       "|    11 | A         | Delhi   | M        | green            |\n",
       "|    17 | A         | Mumbai  | F        | red              |"
      ],
      "text/plain": [
       "<IPython.core.display.Markdown object>"
      ]
     },
     "metadata": {},
     "output_type": "display_data"
    },
    {
     "name": "stdout",
     "output_type": "stream",
     "text": [
      "\n",
      "Records of index 1 & 3\n"
     ]
    },
    {
     "data": {
      "text/markdown": [
       "|   age | section   | city   | gender   | favorite_color   |\n",
       "|------:|:----------|:-------|:---------|:-----------------|\n",
       "|    22 | B         | Delhi  | F        | black            |\n",
       "|    21 | B         | Delhi  | M        | pink             |"
      ],
      "text/plain": [
       "<IPython.core.display.Markdown object>"
      ]
     },
     "metadata": {},
     "output_type": "display_data"
    }
   ],
   "source": [
    "data = {\n",
    "    'age':            [10,22,13,21,12,11,17],\n",
    "    'section':        ['A','B','C','B','B','A','A'],\n",
    "    'city':           ['Gurgaon','Delhi','Mumbai','Delhi','Mumbai','Delhi','Mumbai'],\n",
    "    'gender':         ['M','F','F','M','M','M','F'],\n",
    "    'favorite_color': ['red','black','yellow','pink','black','green','red']   \n",
    "}\n",
    "df = pd.DataFrame(data)\n",
    "\n",
    "print('\\nOriginal data:')\n",
    "display_df()\n",
    "\n",
    "print('\\nRecords of index 1 & 3')\n",
    "display_df( df.iloc[ [1,3] , : ] )"
   ]
  },
  {
   "cell_type": "markdown",
   "id": "8a1daa47-54d9-4827-8bb5-dd9f50fefde8",
   "metadata": {},
   "source": [
    "# `.loc[]`\n",
    "\n",
    "Just like `.iloc[]`, but uses names (strings) rather than indexes, and the slicing in end-inclusive (unlike the slicing we have seen till now)"
   ]
  },
  {
   "cell_type": "code",
   "execution_count": null,
   "id": "90a4b6fb-29e1-4f28-b0f1-9aa3c4220bf4",
   "metadata": {},
   "outputs": [],
   "source": []
  },
  {
   "cell_type": "markdown",
   "id": "b61891d9-7ced-411a-b351-87112741e0b3",
   "metadata": {},
   "source": [
    "<br><br><br>"
   ]
  },
  {
   "cell_type": "markdown",
   "id": "f34923bc-b1a7-41c6-8dc7-5a9ad045481f",
   "metadata": {},
   "source": [
    "# `.rename()`\n",
    "It by default doesn't do the renaming inplace, and instead returns a copy\n",
    "\n",
    "(Here the `mapper`, `index`, and `columns` arguments accept a dict-like object or a function)\n",
    "\n",
    "Arguments:\n",
    "\n",
    "- `mapper`: Dict-like or function transformations to apply to that axis' values\n",
    "- `axis: int | str = 0`: Axis to target with mapper. Can be `0`/`index` or `1`/`columns`\n",
    "- `index`: Alternative to specifying axis (`mapper,axis=0` is equivalent to `index=mapper`)\n",
    "- `columns`: Alternative to specifying axis (`mapper,axis=1` is equivalent to `columns=mapper`)\n",
    "- `inplace: bool = False`: Whether to modify the DataFrame rather than creating a new one\n",
    "- `errors: str`: Can be \"raise\" or \"ignore\". If \"raise\", then raise a KeyError when a dict-like mapper, index, or columns contains labels that are not present in the Index being transformed. If \"ignore\", existing keys will be renamed and extra keys will be ignored"
   ]
  },
  {
   "cell_type": "code",
   "execution_count": 6,
   "id": "4fe73d71-4f15-41d3-a019-d780b2a063b3",
   "metadata": {},
   "outputs": [
    {
     "data": {
      "text/markdown": [
       "|       |   New A |   New B |\n",
       "|:------|--------:|--------:|\n",
       "| Row 0 |       1 |       4 |\n",
       "| Row 1 |       2 |       5 |\n",
       "| Row 2 |       3 |       6 |"
      ],
      "text/plain": [
       "<IPython.core.display.Markdown object>"
      ]
     },
     "metadata": {},
     "output_type": "display_data"
    }
   ],
   "source": [
    "df = pd.DataFrame({'A': [1, 2, 3], 'B': [4, 5, 6]})\n",
    "\n",
    "df.rename(columns={'A':'New A', 'B':'New B'}, inplace=True)\n",
    "df.rename(index=lambda x: f'Row {x}', inplace=True)\n",
    "display_df(index=True)"
   ]
  },
  {
   "cell_type": "markdown",
   "id": "e114712b-153b-4570-9e20-eced1cac1c24",
   "metadata": {},
   "source": [
    "<br><br><br>"
   ]
  },
  {
   "cell_type": "markdown",
   "id": "feef1d3d-7b53-44de-b796-e7b347d8f376",
   "metadata": {},
   "source": [
    "# `.query()`\n",
    "\n",
    "Can do SQL-python like queries. Returns a dataframe\n",
    "\n",
    "The format is `DataFrame.query(expr:str, inplace:bool)`. If `inplace` is `True`, `None` is returned and the original df is replaced by the df which would had been returned if `inplace` was `False`"
   ]
  },
  {
   "cell_type": "code",
   "execution_count": 7,
   "id": "f376d850-284a-4cad-a7f3-bba11e5d54a1",
   "metadata": {},
   "outputs": [
    {
     "name": "stdout",
     "output_type": "stream",
     "text": [
      "\n",
      "Original data:\n"
     ]
    },
    {
     "data": {
      "text/markdown": [
       "|   age | section   | city    | gender   | favorite_color   |\n",
       "|------:|:----------|:--------|:---------|:-----------------|\n",
       "|    10 | A         | Gurgaon | M        | red              |\n",
       "|    22 | B         | Delhi   | F        | black            |\n",
       "|    13 | C         | Mumbai  | F        | yellow           |\n",
       "|    21 | B         | Delhi   | M        | pink             |\n",
       "|    12 | B         | Mumbai  | M        | black            |\n",
       "|    11 | A         | Delhi   | M        | green            |\n",
       "|    17 | A         | Mumbai  | F        | red              |"
      ],
      "text/plain": [
       "<IPython.core.display.Markdown object>"
      ]
     },
     "metadata": {},
     "output_type": "display_data"
    },
    {
     "name": "stdout",
     "output_type": "stream",
     "text": [
      "\n",
      "Records where age >= 15:\n"
     ]
    },
    {
     "data": {
      "text/markdown": [
       "|   age | section   | city   | gender   | favorite_color   |\n",
       "|------:|:----------|:-------|:---------|:-----------------|\n",
       "|    22 | B         | Delhi  | F        | black            |\n",
       "|    21 | B         | Delhi  | M        | pink             |\n",
       "|    17 | A         | Mumbai | F        | red              |"
      ],
      "text/plain": [
       "<IPython.core.display.Markdown object>"
      ]
     },
     "metadata": {},
     "output_type": "display_data"
    },
    {
     "name": "stdout",
     "output_type": "stream",
     "text": [
      "\n",
      "Records where age >= 12 and gender = Male:\n"
     ]
    },
    {
     "data": {
      "text/markdown": [
       "|   age | section   | city   | gender   | favorite_color   |\n",
       "|------:|:----------|:-------|:---------|:-----------------|\n",
       "|    21 | B         | Delhi  | M        | pink             |\n",
       "|    12 | B         | Mumbai | M        | black            |"
      ],
      "text/plain": [
       "<IPython.core.display.Markdown object>"
      ]
     },
     "metadata": {},
     "output_type": "display_data"
    },
    {
     "name": "stdout",
     "output_type": "stream",
     "text": [
      "\n",
      "City and gender of people with age >= 12:\n"
     ]
    },
    {
     "data": {
      "text/markdown": [
       "| city   | gender   |\n",
       "|:-------|:---------|\n",
       "| Delhi  | F        |\n",
       "| Mumbai | F        |\n",
       "| Delhi  | M        |\n",
       "| Mumbai | M        |\n",
       "| Mumbai | F        |"
      ],
      "text/plain": [
       "<IPython.core.display.Markdown object>"
      ]
     },
     "metadata": {},
     "output_type": "display_data"
    }
   ],
   "source": [
    "data = {\n",
    "    'age':            [10,22,13,21,12,11,17],\n",
    "    'section':        ['A','B','C','B','B','A','A'],\n",
    "    'city':           ['Gurgaon','Delhi','Mumbai','Delhi','Mumbai','Delhi','Mumbai'],\n",
    "    'gender':         ['M','F','F','M','M','M','F'],\n",
    "    'favorite_color': ['red','black','yellow','pink','black','green','red']   \n",
    "}\n",
    "df = pd.DataFrame(data)\n",
    "\n",
    "print('\\nOriginal data:')\n",
    "display_df()\n",
    "\n",
    "print('\\nRecords where age >= 15:')\n",
    "display_df( df.query('age >= 15') )\n",
    "\n",
    "print('\\nRecords where age >= 12 and gender = Male:')\n",
    "display_df( df.query('age >= 12 and gender == \"M\"') )\n",
    "\n",
    "print('\\nCity and gender of people with age >= 12:')\n",
    "display_df( df.query('age >= 12')[['city','gender']] )\n",
    "\n",
    "# Use of `@` and ```"
   ]
  },
  {
   "cell_type": "markdown",
   "id": "40a5561e-c7b5-41aa-b6c6-ba69d239aa90",
   "metadata": {},
   "source": [
    "<br><br><br>"
   ]
  },
  {
   "cell_type": "markdown",
   "id": "0193fabd-85cf-453d-b384-693f8be4f59a",
   "metadata": {},
   "source": [
    "# [`.sort_values()`](https://pandas.pydata.org/pandas-docs/stable/reference/api/pandas.DataFrame.sort_values.html)\n",
    "\n",
    "Arguments:\n",
    "\n",
    "- `by: str | list[str]`: Name or list of names to sort by\n",
    "- `axis: int | str = 0`: Axis to be sorted. Can be `0`/`index` or `1`/`columns`\n",
    "- `ascending: bool | list[bool] = True`: Self explanatory. Specify list for multiple sort orders. If this is a list of bools, must match the length of the `by`\n",
    "- `inplace: bool = False`: If `True`, perform operation in-place\n",
    "- `na_position: str = \"last\"`: Puts NaNs at the beginning if `first`, and at the end if `last`\n",
    "- `ignore_index: bool = False`: If `True`, the resulting axis will be labeled 0,1,...,n-1"
   ]
  },
  {
   "cell_type": "code",
   "execution_count": 8,
   "id": "a031207a-7504-4402-8263-39b2dc26ab63",
   "metadata": {},
   "outputs": [
    {
     "name": "stdout",
     "output_type": "stream",
     "text": [
      "\n",
      "Original data:\n"
     ]
    },
    {
     "data": {
      "text/markdown": [
       "|   age | section   | city    | gender   | favorite_color   |\n",
       "|------:|:----------|:--------|:---------|:-----------------|\n",
       "|    10 | A         | Gurgaon | M        | red              |\n",
       "|    22 | B         | Delhi   | F        | black            |\n",
       "|    13 | C         | Mumbai  | F        | yellow           |\n",
       "|    21 | B         | Delhi   | M        | pink             |\n",
       "|    12 | B         | Mumbai  | M        | black            |\n",
       "|    11 | A         | Delhi   | M        | green            |\n",
       "|    17 | A         | Mumbai  | F        | red              |"
      ],
      "text/plain": [
       "<IPython.core.display.Markdown object>"
      ]
     },
     "metadata": {},
     "output_type": "display_data"
    },
    {
     "name": "stdout",
     "output_type": "stream",
     "text": [
      "\n",
      "Sorted by age (descending):\n"
     ]
    },
    {
     "data": {
      "text/markdown": [
       "|    |   age | section   | city   | gender   | favorite_color   |\n",
       "|---:|------:|:----------|:-------|:---------|:-----------------|\n",
       "|  1 |    22 | B         | Delhi  | F        | black            |\n",
       "|  3 |    21 | B         | Delhi  | M        | pink             |\n",
       "|  6 |    17 | A         | Mumbai | F        | red              |"
      ],
      "text/plain": [
       "<IPython.core.display.Markdown object>"
      ]
     },
     "metadata": {},
     "output_type": "display_data"
    }
   ],
   "source": [
    "data = {\n",
    "    'age':            [10,22,13,21,12,11,17],\n",
    "    'section':        ['A','B','C','B','B','A','A'],\n",
    "    'city':           ['Gurgaon','Delhi','Mumbai','Delhi','Mumbai','Delhi','Mumbai'],\n",
    "    'gender':         ['M','F','F','M','M','M','F'],\n",
    "    'favorite_color': ['red','black','yellow','pink','black','green','red']   \n",
    "}\n",
    "df = pd.DataFrame(data)\n",
    "\n",
    "print('\\nOriginal data:')\n",
    "display_df()\n",
    "\n",
    "print('\\nSorted by age (descending):')\n",
    "display_df( df.sort_values(by='age',ascending=False).head(3) , index=True )"
   ]
  },
  {
   "cell_type": "markdown",
   "id": "d7369b74-49cf-4efe-a74d-892851fbe765",
   "metadata": {},
   "source": [
    "<br><br><br>"
   ]
  },
  {
   "cell_type": "markdown",
   "id": "8716346c-9c57-4532-a257-6b60544cdd1b",
   "metadata": {},
   "source": [
    "# [`.count()`](https://pandas.pydata.org/pandas-docs/stable/reference/api/pandas.DataFrame.count.html), `.sum()`, `min()`, `max()`, `.mean()`, `median()`, and `mode()`\n",
    "\n",
    "All of these return a `pd.core.series.Series`, except `.mode()`. Mode returns a df cause there might be many values that are the mode, and different rows contains these different values\n",
    "\n",
    "<br>\n",
    "\n",
    "### [`.count()`](https://pandas.pydata.org/pandas-docs/stable/reference/api/pandas.DataFrame.count.html)\n",
    "\n",
    "- `axis: int | str = 0`: If 0 or \"index\" counts are generated for each column. If 1 or \"columns\", counts are generated for each row\n",
    "- `numeric_only: bool = False`: Include only float, int or boolean data`\n",
    "\n",
    "<br>\n",
    "\n",
    "### [`.sum()`](https://pandas.pydata.org/pandas-docs/stable/reference/api/pandas.DataFrame.sum.html)\n",
    "\n",
    "- `axis: int | str = 0`: Axis for the function to be applied on\n",
    "- `numeric_only: bool = False`: Include only float, int or boolean data\n",
    "- `skipna: bool = True`: Exclude NA/null values when computing the result\n",
    "- `min_count: int = 0`: The required number of valid values to perform the operation. If fewer non-NA values are present, the result will be NA\n",
    "\n",
    "<br>\n",
    "\n",
    "### [`.min()`](https://pandas.pydata.org/pandas-docs/stable/reference/api/pandas.DataFrame.min.html), [`.max()`](https://pandas.pydata.org/pandas-docs/stable/reference/api/pandas.DataFrame.max.html), [`.mean()`](https://pandas.pydata.org/pandas-docs/stable/reference/api/pandas.DataFrame.mean.html), [`.median()`](https://pandas.pydata.org/pandas-docs/stable/reference/api/pandas.DataFrame.median.html), & [`.mode()`](https://pandas.pydata.org/pandas-docs/stable/reference/api/pandas.DataFrame.mode.html)\n",
    "\n",
    "- `axis: int | str = 0`: Axis for the function to be applied on\n",
    "- `numeric_only: bool = False`: Include only float, int or boolean data\n",
    "- `skipna: bool = True`: Exclude NA/null values when computing the result"
   ]
  },
  {
   "cell_type": "code",
   "execution_count": 9,
   "id": "f9230dab-4157-4425-8fdb-da2fb473c331",
   "metadata": {},
   "outputs": [
    {
     "name": "stdout",
     "output_type": "stream",
     "text": [
      "Original df:\n"
     ]
    },
    {
     "data": {
      "text/markdown": [
       "| Person   |   Age | Single   |\n",
       "|:---------|------:|:---------|\n",
       "| John     |    24 | False    |\n",
       "| Myla     |   nan | True     |\n",
       "| Lewis    |    21 | True     |\n",
       "| John     |    33 | True     |\n",
       "| Myla     |    26 | False    |"
      ],
      "text/plain": [
       "<IPython.core.display.Markdown object>"
      ]
     },
     "metadata": {},
     "output_type": "display_data"
    },
    {
     "name": "stdout",
     "output_type": "stream",
     "text": [
      "\n",
      "1) Count:\n"
     ]
    },
    {
     "data": {
      "text/markdown": [
       "|        |   0 |\n",
       "|:-------|----:|\n",
       "| Person |   5 |\n",
       "| Age    |   4 |\n",
       "| Single |   5 |"
      ],
      "text/plain": [
       "<IPython.core.display.Markdown object>"
      ]
     },
     "metadata": {},
     "output_type": "display_data"
    },
    {
     "data": {
      "text/markdown": [
       "|        |   0 |\n",
       "|:-------|----:|\n",
       "| Age    |   4 |\n",
       "| Single |   5 |"
      ],
      "text/plain": [
       "<IPython.core.display.Markdown object>"
      ]
     },
     "metadata": {},
     "output_type": "display_data"
    },
    {
     "name": "stdout",
     "output_type": "stream",
     "text": [
      "\n",
      "2) Sum:\n"
     ]
    },
    {
     "data": {
      "text/markdown": [
       "|        | 0                     |\n",
       "|:-------|:----------------------|\n",
       "| Person | JohnMylaLewisJohnMyla |\n",
       "| Age    | 104.0                 |\n",
       "| Single | 3                     |"
      ],
      "text/plain": [
       "<IPython.core.display.Markdown object>"
      ]
     },
     "metadata": {},
     "output_type": "display_data"
    },
    {
     "name": "stdout",
     "output_type": "stream",
     "text": [
      "\n",
      "3) Min:\n"
     ]
    },
    {
     "data": {
      "text/markdown": [
       "|        | 0     |\n",
       "|:-------|:------|\n",
       "| Person | John  |\n",
       "| Age    | 21.0  |\n",
       "| Single | False |"
      ],
      "text/plain": [
       "<IPython.core.display.Markdown object>"
      ]
     },
     "metadata": {},
     "output_type": "display_data"
    },
    {
     "name": "stdout",
     "output_type": "stream",
     "text": [
      "\n",
      "4) Max:\n"
     ]
    },
    {
     "data": {
      "text/markdown": [
       "|        | 0    |\n",
       "|:-------|:-----|\n",
       "| Person | Myla |\n",
       "| Age    | 33.0 |\n",
       "| Single | True |"
      ],
      "text/plain": [
       "<IPython.core.display.Markdown object>"
      ]
     },
     "metadata": {},
     "output_type": "display_data"
    },
    {
     "name": "stdout",
     "output_type": "stream",
     "text": [
      "\n",
      "5) Mean:\n"
     ]
    },
    {
     "data": {
      "text/markdown": [
       "|        |    0 |\n",
       "|:-------|-----:|\n",
       "| Age    | 26   |\n",
       "| Single |  0.6 |"
      ],
      "text/plain": [
       "<IPython.core.display.Markdown object>"
      ]
     },
     "metadata": {},
     "output_type": "display_data"
    },
    {
     "name": "stdout",
     "output_type": "stream",
     "text": [
      "\n",
      "6) Median:\n"
     ]
    },
    {
     "data": {
      "text/markdown": [
       "|        |   0 |\n",
       "|:-------|----:|\n",
       "| Age    |  25 |\n",
       "| Single |   1 |"
      ],
      "text/plain": [
       "<IPython.core.display.Markdown object>"
      ]
     },
     "metadata": {},
     "output_type": "display_data"
    },
    {
     "name": "stdout",
     "output_type": "stream",
     "text": [
      "\n",
      "7) Mode:\n"
     ]
    },
    {
     "data": {
      "text/markdown": [
       "|    |   Age |   Single |\n",
       "|---:|------:|---------:|\n",
       "|  0 |    21 |        1 |\n",
       "|  1 |    24 |      nan |\n",
       "|  2 |    26 |      nan |\n",
       "|  3 |    33 |      nan |"
      ],
      "text/plain": [
       "<IPython.core.display.Markdown object>"
      ]
     },
     "metadata": {},
     "output_type": "display_data"
    }
   ],
   "source": [
    "data = {\n",
    "    \"Person\": [\"John\", \"Myla\", \"Lewis\", \"John\", \"Myla\"],\n",
    "    \"Age\":    [24, np.nan, 21, 33, 26],\n",
    "    \"Single\": [False, True, True, True, False]\n",
    "}\n",
    "df = pd.DataFrame(data)\n",
    "\n",
    "print('Original df:')\n",
    "display_df()\n",
    "\n",
    "print('\\n1) Count:')\n",
    "display_df( df.count(), index=True)\n",
    "display_df( df.count(numeric_only=True), index=True)\n",
    "\n",
    "print('\\n2) Sum:')\n",
    "display_df( df.sum(), index=True)\n",
    "\n",
    "print('\\n3) Min:')\n",
    "display_df( df.min(), index=True)\n",
    "\n",
    "print('\\n4) Max:')\n",
    "display_df( df.max(), index=True)\n",
    "\n",
    "print('\\n5) Mean:')\n",
    "display_df( df.mean(numeric_only=True), index=True)\n",
    "\n",
    "print('\\n6) Median:')\n",
    "display_df( df.median(numeric_only=True), index=True)\n",
    "\n",
    "print('\\n7) Mode:')\n",
    "display_df( df.mode(numeric_only=True), index=True)"
   ]
  },
  {
   "cell_type": "markdown",
   "id": "a7335dbc-eb38-4ac8-80d4-32ea436f49c5",
   "metadata": {},
   "source": [
    "<br><br><br>"
   ]
  },
  {
   "cell_type": "markdown",
   "id": "9ef8d955-11e5-4250-b806-ded939a48d8c",
   "metadata": {},
   "source": [
    "# `.groupby()`\n",
    "\n",
    "Returns a `smth` object"
   ]
  },
  {
   "cell_type": "code",
   "execution_count": 27,
   "id": "2f760426-2cb9-40a2-ba46-839d5a4cf20f",
   "metadata": {},
   "outputs": [
    {
     "name": "stdout",
     "output_type": "stream",
     "text": [
      "Original df:\n"
     ]
    },
    {
     "data": {
      "text/markdown": [
       "| Category   |   Value |\n",
       "|:-----------|--------:|\n",
       "| A          |      10 |\n",
       "| B          |      20 |\n",
       "| A          |      15 |\n",
       "| B          |      25 |\n",
       "| A          |      20 |\n",
       "| B          |      30 |"
      ],
      "text/plain": [
       "<IPython.core.display.Markdown object>"
      ]
     },
     "metadata": {},
     "output_type": "display_data"
    },
    {
     "data": {
      "text/markdown": [
       "| Category   |   Value |\n",
       "|:-----------|--------:|\n",
       "| A          |      15 |\n",
       "| B          |      25 |"
      ],
      "text/plain": [
       "<IPython.core.display.Markdown object>"
      ]
     },
     "metadata": {},
     "output_type": "display_data"
    },
    {
     "data": {
      "text/markdown": [
       "| Category   |   Value |\n",
       "|:-----------|--------:|\n",
       "| A          |       3 |\n",
       "| B          |       3 |"
      ],
      "text/plain": [
       "<IPython.core.display.Markdown object>"
      ]
     },
     "metadata": {},
     "output_type": "display_data"
    }
   ],
   "source": [
    "# Create a DataFrame\n",
    "data = {\n",
    "    'Category': ['A', 'B', 'A', 'B', 'A', 'B'],\n",
    "    'Value':    [10, 20, 15, 25, 20, 30]\n",
    "}\n",
    "df = pd.DataFrame(data)\n",
    "print('Original df:')\n",
    "display_df()\n",
    "\n",
    "# Group the DataFrame by 'Category' column\n",
    "grouped = df.groupby('Category')\n",
    "\n",
    "# Perform aggregation operations on the groups\n",
    "mean_age    = grouped.mean()\n",
    "total_count = grouped.count()\n",
    "\n",
    "# Print the results\n",
    "display_df(mean_age,    index=True)\n",
    "display_df(total_count, index=True)"
   ]
  },
  {
   "cell_type": "markdown",
   "id": "06d1eabc-29b1-40f0-b38a-4064adddb044",
   "metadata": {},
   "source": [
    "<br><br><br>"
   ]
  },
  {
   "cell_type": "markdown",
   "id": "45f50897-8910-4007-b22b-f3340e5ce891",
   "metadata": {},
   "source": [
    "# `.select_dtypes()`"
   ]
  },
  {
   "cell_type": "markdown",
   "id": "e43b4d35-9997-4acc-ac82-4469041ba1a0",
   "metadata": {},
   "source": [
    "<br><br><br>"
   ]
  },
  {
   "cell_type": "markdown",
   "id": "ae575e39-380f-4ca8-9733-85e4629858fe",
   "metadata": {},
   "source": [
    "# `.duplicated()` and `drop_duplicates()`"
   ]
  },
  {
   "cell_type": "markdown",
   "id": "4a6f500e-fffe-41fc-ad9a-5ba201c7107c",
   "metadata": {},
   "source": [
    "<br><br><br>"
   ]
  },
  {
   "cell_type": "markdown",
   "id": "176f66db-f58e-4130-b583-a73d98ae584a",
   "metadata": {},
   "source": [
    "# `pd.concat()` and `pd.append()`"
   ]
  },
  {
   "cell_type": "markdown",
   "id": "d52bdb92-505f-4e1b-8375-c97ed6edd366",
   "metadata": {},
   "source": [
    "<br><br><br>"
   ]
  },
  {
   "cell_type": "markdown",
   "id": "e9284fed-9768-47f8-8e2a-4e6be98fa3ab",
   "metadata": {},
   "source": [
    "# `.pivot()` and `pivot_table()`"
   ]
  },
  {
   "cell_type": "markdown",
   "id": "acb8a1d7-8631-45c9-819b-d301cd8cf16a",
   "metadata": {},
   "source": [
    "<br><br><br>"
   ]
  },
  {
   "cell_type": "markdown",
   "id": "29f54f8f-7f6d-40a7-8732-828a93ca7e2a",
   "metadata": {},
   "source": [
    "<br><br><br>"
   ]
  },
  {
   "cell_type": "markdown",
   "id": "bbb849d6-5bbd-49ea-9c40-fe04fe6839a6",
   "metadata": {},
   "source": [
    "<br><br><br>"
   ]
  },
  {
   "cell_type": "markdown",
   "id": "82198c78-1a80-467b-a884-bdf6e93bb46c",
   "metadata": {},
   "source": [
    "<br><br><br>"
   ]
  },
  {
   "cell_type": "markdown",
   "id": "48e8ce45-ad56-4dd3-80f1-b8c495710706",
   "metadata": {},
   "source": [
    "<br><br><br>"
   ]
  },
  {
   "cell_type": "markdown",
   "id": "9de8f6b4-8658-4878-ac7d-b4814cd22b08",
   "metadata": {},
   "source": [
    "<br><br><br>"
   ]
  },
  {
   "cell_type": "markdown",
   "id": "e42f7f3c-9800-4d7b-b01a-fd4a80453858",
   "metadata": {},
   "source": [
    "<br><br><br>"
   ]
  },
  {
   "cell_type": "markdown",
   "id": "1ac95912-3408-4b54-80fc-38b715c9dad5",
   "metadata": {},
   "source": [
    "<br><br><br>"
   ]
  },
  {
   "cell_type": "markdown",
   "id": "26a2ae56-7448-40e1-a096-ad79432d9fc4",
   "metadata": {},
   "source": [
    "<br><br><br>"
   ]
  },
  {
   "cell_type": "markdown",
   "id": "a1c723dd-c0fb-447b-acba-235e2739dff7",
   "metadata": {},
   "source": [
    "<br><br><br>"
   ]
  },
  {
   "cell_type": "markdown",
   "id": "8c74306a-86a7-4c48-a12b-821cc28d4179",
   "metadata": {},
   "source": [
    "<br><br><br>"
   ]
  }
 ],
 "metadata": {
  "kernelspec": {
   "display_name": "Python 3 (ipykernel)",
   "language": "python",
   "name": "python3"
  },
  "language_info": {
   "codemirror_mode": {
    "name": "ipython",
    "version": 3
   },
   "file_extension": ".py",
   "mimetype": "text/x-python",
   "name": "python",
   "nbconvert_exporter": "python",
   "pygments_lexer": "ipython3",
   "version": "3.12.2"
  }
 },
 "nbformat": 4,
 "nbformat_minor": 5
}
