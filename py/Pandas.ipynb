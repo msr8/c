{
 "cells": [
  {
   "attachments": {
    "87d80c6c-8a6f-47aa-a39a-c9b0a4e5086f.png": {
     "image/png": "[encoded data removed]"
    }
   },
   "cell_type": "markdown",
   "id": "60811099-7770-4958-95c1-706c260248f5",
   "metadata": {},
   "source": [
    "- PANDAS comes from the term \"panel data\"\n",
    "- `index` -> axis=0\n",
    "- `columns` -> axis=1\n",
    "- \"Hierarchical columns\" look like this:\n",
    "\n",
    "![image.png](attachment:87d80c6c-8a6f-47aa-a39a-c9b0a4e5086f.png)"
   ]
  },
  {
   "cell_type": "markdown",
   "id": "64ca379d-894e-4d23-a67a-a2c9b3eaa3ba",
   "metadata": {},
   "source": [
    "<br><br><br>"
   ]
  },
  {
   "cell_type": "markdown",
   "id": "7ee257cb-f1a1-4156-9bcf-59504383bcd9",
   "metadata": {},
   "source": [
    "# Initialisation"
   ]
  },
  {
   "cell_type": "code",
   "execution_count": 1,
   "id": "ddbea68b-2ba0-4f9d-8d04-45c6bcd99af6",
   "metadata": {},
   "outputs": [],
   "source": [
    "import pandas as pd\n",
    "import numpy  as np\n",
    "from IPython.display import HTML, Markdown, Latex\n",
    "\n",
    "\n",
    "def display_df(tp_df=None, index=False):\n",
    "    # tp_df = tp_df if isinstance(tp_df,pd.DataFrame) else df\n",
    "    tp_df = tp_df if tp_df is not None else df\n",
    "    display(Markdown(tp_df.to_markdown(index=index)))\n",
    "\n",
    "# def display_df(tp_df=None, index=False):\n",
    "#     tp_df = tp_df if isinstance(tp_df,pd.DataFrame) else df\n",
    "#     display(HTML(tp_df.to_html(index=index)))"
   ]
  },
  {
   "cell_type": "markdown",
   "id": "85a40670-8b18-4913-8b0d-e4e23169ab41",
   "metadata": {},
   "source": [
    "<br><br><br>"
   ]
  },
  {
   "cell_type": "markdown",
   "id": "a42bc9c5-764b-4a9e-b9c0-8aa97f5cc63c",
   "metadata": {},
   "source": [
    "# Creating a dataframe"
   ]
  },
  {
   "cell_type": "code",
   "execution_count": 2,
   "id": "8b8d023b-1ce8-499a-bf21-3871bd6dbe47",
   "metadata": {},
   "outputs": [
    {
     "data": {
      "text/markdown": [
       "|   age | section   | city    | gender   | favorite_color   |\n",
       "|------:|:----------|:--------|:---------|:-----------------|\n",
       "|    10 | A         | Gurgaon | M        | red              |\n",
       "|    22 | B         | Delhi   | F        | black            |\n",
       "|    13 | C         | Mumbai  | F        | yellow           |\n",
       "|    21 | B         | Delhi   | M        | pink             |\n",
       "|    12 | B         | Mumbai  | M        | black            |\n",
       "|    11 | A         | Delhi   | M        | green            |\n",
       "|    17 | A         | Mumbai  | F        | red              |"
      ],
      "text/plain": [
       "<IPython.core.display.Markdown object>"
      ]
     },
     "metadata": {},
     "output_type": "display_data"
    },
    {
     "data": {
      "text/markdown": [
       "|   age | section   | city    | gender   | favorite_color   |\n",
       "|------:|:----------|:--------|:---------|:-----------------|\n",
       "|    10 | A         | Gurgaon | M        | red              |\n",
       "|    22 | B         | Delhi   | F        | black            |\n",
       "|    13 | C         | Mumbai  | F        | yellow           |\n",
       "|    21 | B         | Delhi   | M        | pink             |\n",
       "|    12 | B         | Mumbai  | M        | black            |\n",
       "|    11 | A         | Delhi   | M        | green            |\n",
       "|    17 | A         | Mumbai  | F        | red              |"
      ],
      "text/plain": [
       "<IPython.core.display.Markdown object>"
      ]
     },
     "metadata": {},
     "output_type": "display_data"
    },
    {
     "data": {
      "text/markdown": [
       "|   age | section   | city    | gender   | favorite_color   |\n",
       "|------:|:----------|:--------|:---------|:-----------------|\n",
       "|    10 | A         | Gurgaon | M        | red              |\n",
       "|    22 | B         | Delhi   | F        | black            |\n",
       "|    13 | C         | Mumbai  | F        | yellow           |\n",
       "|    21 | B         | Delhi   | M        | pink             |\n",
       "|    12 | B         | Mumbai  | M        | black            |\n",
       "|    11 | A         | Delhi   | M        | green            |\n",
       "|    17 | A         | Mumbai  | F        | red              |"
      ],
      "text/plain": [
       "<IPython.core.display.Markdown object>"
      ]
     },
     "metadata": {},
     "output_type": "display_data"
    },
    {
     "data": {
      "text/markdown": [
       "|    |   age | section   | city    | gender   | favorite_color   |\n",
       "|---:|------:|:----------|:--------|:---------|:-----------------|\n",
       "|  0 |    10 | A         | Gurgaon | M        | red              |\n",
       "|  1 |    22 | B         | Delhi   | F        | black            |\n",
       "|  2 |    13 | C         | Mumbai  | F        | yellow           |\n",
       "|  3 |    21 | B         | Delhi   | M        | pink             |\n",
       "|  4 |    12 | B         | Mumbai  | M        | black            |\n",
       "|  5 |    11 | A         | Delhi   | M        | green            |\n",
       "|  6 |    17 | A         | Mumbai  | F        | red              |"
      ],
      "text/plain": [
       "<IPython.core.display.Markdown object>"
      ]
     },
     "metadata": {},
     "output_type": "display_data"
    }
   ],
   "source": [
    "data = {\n",
    "    'age':            [10,22,13,21,12,11,17],\n",
    "    'section':        ['A','B','C','B','B','A','A'],\n",
    "    'city':           ['Gurgaon','Delhi','Mumbai','Delhi','Mumbai','Delhi','Mumbai'],\n",
    "    'gender':         ['M','F','F','M','M','M','F'],\n",
    "    'favorite_color': ['red','black','yellow','pink','black','green','red']   \n",
    "}\n",
    "\n",
    "data_csv = [\n",
    "    ['age', 'section', 'city',    'gender', 'favorite_color'],\n",
    "    [10,    'A',       'Gurgaon', 'M',      'red'           ],\n",
    "    [22,    'B',       'Delhi',   'F',      'black'         ],\n",
    "    [13,    'C',       'Mumbai',  'F',      'yellow'        ],\n",
    "    [21,    'B',       'Delhi',   'M',      'pink'          ],\n",
    "    [12,    'B',       'Mumbai',  'M',      'black'         ],\n",
    "    [11,    'A',       'Delhi',   'M',      'green'         ],\n",
    "    [17,    'A',       'Mumbai',  'F',      'red'           ]\n",
    "]\n",
    "\n",
    "data_dict = [\n",
    "    {'age': 10, 'section': 'A', 'city': 'Gurgaon', 'gender': 'M', 'favorite_color': 'red'},\n",
    "    {'age': 22, 'section': 'B', 'city': 'Delhi',   'gender': 'F', 'favorite_color': 'black'},\n",
    "    {'age': 13, 'section': 'C', 'city': 'Mumbai',  'gender': 'F', 'favorite_color': 'yellow'},\n",
    "    {'age': 21, 'section': 'B', 'city': 'Delhi',   'gender': 'M', 'favorite_color': 'pink'},\n",
    "    {'age': 12, 'section': 'B', 'city': 'Mumbai',  'gender': 'M', 'favorite_color': 'black'},\n",
    "    {'age': 11, 'section': 'A', 'city': 'Delhi',   'gender': 'M', 'favorite_color': 'green'},\n",
    "    {'age': 17, 'section': 'A', 'city': 'Mumbai',  'gender': 'F', 'favorite_color': 'red'}\n",
    "]\n",
    "\n",
    "df = pd.DataFrame(data)\n",
    "display_df()\n",
    "\n",
    "df = pd.DataFrame(data_csv[1:], columns=data_csv[0])\n",
    "display_df()\n",
    "\n",
    "df = pd.DataFrame(data_dict)\n",
    "display_df()\n",
    "\n",
    "display_df(index=True)"
   ]
  },
  {
   "cell_type": "markdown",
   "id": "30249533-3b32-433a-ba37-5b3ed513f49c",
   "metadata": {},
   "source": [
    "<br><br><br>"
   ]
  },
  {
   "cell_type": "markdown",
   "id": "2ae53406-64da-4713-abb6-b36fa1906022",
   "metadata": {},
   "source": [
    "# Meta stuff"
   ]
  },
  {
   "cell_type": "code",
   "execution_count": 3,
   "id": "80b7f980-d14d-4f71-be18-20acf8773ba2",
   "metadata": {},
   "outputs": [
    {
     "name": "stdout",
     "output_type": "stream",
     "text": [
      "df.empty:   False\n",
      "df.shape:   (7, 5)\n",
      "df.index:   RangeIndex(start=0, stop=7, step=1)\n",
      "df.columns: Index(['age', 'section', 'city', 'gender', 'favorite_color'], dtype='object')\n",
      "\n",
      "df.describe():\n"
     ]
    },
    {
     "data": {
      "text/markdown": [
       "|       |     age |\n",
       "|:------|--------:|\n",
       "| count |  7      |\n",
       "| mean  | 15.1429 |\n",
       "| std   |  4.8795 |\n",
       "| min   | 10      |\n",
       "| 25%   | 11.5    |\n",
       "| 50%   | 13      |\n",
       "| 75%   | 19      |\n",
       "| max   | 22      |"
      ],
      "text/plain": [
       "<IPython.core.display.Markdown object>"
      ]
     },
     "metadata": {},
     "output_type": "display_data"
    },
    {
     "name": "stdout",
     "output_type": "stream",
     "text": [
      "\n",
      "df.info():\n",
      "<class 'pandas.core.frame.DataFrame'>\n",
      "RangeIndex: 7 entries, 0 to 6\n",
      "Data columns (total 5 columns):\n",
      " #   Column          Non-Null Count  Dtype \n",
      "---  ------          --------------  ----- \n",
      " 0   age             7 non-null      int64 \n",
      " 1   section         7 non-null      object\n",
      " 2   city            7 non-null      object\n",
      " 3   gender          7 non-null      object\n",
      " 4   favorite_color  7 non-null      object\n",
      "dtypes: int64(1), object(4)\n",
      "memory usage: 412.0+ bytes\n"
     ]
    }
   ],
   "source": [
    "data = {\n",
    "    'age':            [10,22,13,21,12,11,17],\n",
    "    'section':        ['A','B','C','B','B','A','A'],\n",
    "    'city':           ['Gurgaon','Delhi','Mumbai','Delhi','Mumbai','Delhi','Mumbai'],\n",
    "    'gender':         ['M','F','F','M','M','M','F'],\n",
    "    'favorite_color': ['red','black','yellow','pink','black','green','red']   \n",
    "}\n",
    "\n",
    "df = pd.DataFrame(df)\n",
    "\n",
    "print(f'df.empty:   {df.empty}')\n",
    "print(f'df.shape:   {df.shape}')\n",
    "print(f'df.index:   {df.index}')\n",
    "print(f'df.columns: {df.columns}')\n",
    "\n",
    "print('\\ndf.describe():')\n",
    "display_df(df.describe(), index=True)\n",
    "\n",
    "print('\\ndf.info():')\n",
    "df.info() # This automatically prints stuff to stdout"
   ]
  },
  {
   "cell_type": "markdown",
   "id": "f7db5810-01f0-400c-be64-27461a7b3771",
   "metadata": {},
   "source": [
    "<br><br><br>"
   ]
  },
  {
   "cell_type": "markdown",
   "id": "0a1dbb40-7b8e-42c6-9164-f68a6c2e5a5b",
   "metadata": {},
   "source": [
    "# `.head()` and `.tail()`\n",
    "\n",
    "Both take a single optional argument, ie `n`, which is an integer representing the number of records to show. By default, it is 5. `.head()` shows the n top most records and `.tail()` shows the n bottom most records"
   ]
  },
  {
   "cell_type": "code",
   "execution_count": 4,
   "id": "5257b645-80cd-4dfd-898d-400771701e58",
   "metadata": {},
   "outputs": [
    {
     "data": {
      "text/markdown": [
       "|    |   age | section   | city    | gender   | favorite_color   |\n",
       "|---:|------:|:----------|:--------|:---------|:-----------------|\n",
       "|  0 |    10 | A         | Gurgaon | M        | red              |\n",
       "|  1 |    22 | B         | Delhi   | F        | black            |\n",
       "|  2 |    13 | C         | Mumbai  | F        | yellow           |"
      ],
      "text/plain": [
       "<IPython.core.display.Markdown object>"
      ]
     },
     "metadata": {},
     "output_type": "display_data"
    },
    {
     "data": {
      "text/markdown": [
       "|    |   age | section   | city   | gender   | favorite_color   |\n",
       "|---:|------:|:----------|:-------|:---------|:-----------------|\n",
       "|  4 |    12 | B         | Mumbai | M        | black            |\n",
       "|  5 |    11 | A         | Delhi  | M        | green            |\n",
       "|  6 |    17 | A         | Mumbai | F        | red              |"
      ],
      "text/plain": [
       "<IPython.core.display.Markdown object>"
      ]
     },
     "metadata": {},
     "output_type": "display_data"
    }
   ],
   "source": [
    "display_df( df.head(3) , index=True )\n",
    "display_df( df.tail(3) , index=True )"
   ]
  },
  {
   "cell_type": "markdown",
   "id": "7f98b8af-8462-4924-bba9-a787e3a2a65c",
   "metadata": {},
   "source": [
    "<br><br><br>"
   ]
  },
  {
   "cell_type": "markdown",
   "id": "20f0ff10-2544-4f61-a58f-4c2a9eb68c51",
   "metadata": {},
   "source": [
    "# `.iloc[]`\n",
    "\n",
    "Format is something like `DataFrame.iloc[row_indexer, column_indexer]`. Here `column_indexer` is optional. If it is not given, all columns will be printed\n",
    "\n",
    "- `row_indexer`: This can be a slice (like `1:9:2` or `:`), or a list of the indexes, like `[1,4,5]`\n",
    "- `column_indexer`: This can be a slice (like `1:9:2` or `:`), or a list of the indexes of the columns, like `[1,4,5]`"
   ]
  },
  {
   "cell_type": "code",
   "execution_count": 5,
   "id": "fbd46b6e-0c7b-4fbb-933a-bc864459483e",
   "metadata": {},
   "outputs": [
    {
     "name": "stdout",
     "output_type": "stream",
     "text": [
      "\n",
      "Original data:\n"
     ]
    },
    {
     "data": {
      "text/markdown": [
       "|   age | section   | city    | gender   | favorite_color   |\n",
       "|------:|:----------|:--------|:---------|:-----------------|\n",
       "|    10 | A         | Gurgaon | M        | red              |\n",
       "|    22 | B         | Delhi   | F        | black            |\n",
       "|    13 | C         | Mumbai  | F        | yellow           |\n",
       "|    21 | B         | Delhi   | M        | pink             |\n",
       "|    12 | B         | Mumbai  | M        | black            |\n",
       "|    11 | A         | Delhi   | M        | green            |\n",
       "|    17 | A         | Mumbai  | F        | red              |"
      ],
      "text/plain": [
       "<IPython.core.display.Markdown object>"
      ]
     },
     "metadata": {},
     "output_type": "display_data"
    },
    {
     "name": "stdout",
     "output_type": "stream",
     "text": [
      "\n",
      "Records of index 1 & 3\n"
     ]
    },
    {
     "data": {
      "text/markdown": [
       "|   age | section   | city   | gender   | favorite_color   |\n",
       "|------:|:----------|:-------|:---------|:-----------------|\n",
       "|    22 | B         | Delhi  | F        | black            |\n",
       "|    21 | B         | Delhi  | M        | pink             |"
      ],
      "text/plain": [
       "<IPython.core.display.Markdown object>"
      ]
     },
     "metadata": {},
     "output_type": "display_data"
    }
   ],
   "source": [
    "data = {\n",
    "    'age':            [10,22,13,21,12,11,17],\n",
    "    'section':        ['A','B','C','B','B','A','A'],\n",
    "    'city':           ['Gurgaon','Delhi','Mumbai','Delhi','Mumbai','Delhi','Mumbai'],\n",
    "    'gender':         ['M','F','F','M','M','M','F'],\n",
    "    'favorite_color': ['red','black','yellow','pink','black','green','red']   \n",
    "}\n",
    "df = pd.DataFrame(data)\n",
    "\n",
    "print('\\nOriginal data:')\n",
    "display_df()\n",
    "\n",
    "print('\\nRecords of index 1 & 3')\n",
    "display_df( df.iloc[ [1,3] , : ] )"
   ]
  },
  {
   "cell_type": "markdown",
   "id": "8a1daa47-54d9-4827-8bb5-dd9f50fefde8",
   "metadata": {},
   "source": [
    "# `.loc[]`\n",
    "\n",
    "Just like `.iloc[]`, but uses names (strings) rather than indexes, and the slicing in end-inclusive (unlike the slicing we have seen till now)"
   ]
  },
  {
   "cell_type": "markdown",
   "id": "b61891d9-7ced-411a-b351-87112741e0b3",
   "metadata": {},
   "source": [
    "<br><br><br>"
   ]
  },
  {
   "cell_type": "markdown",
   "id": "1806296b-99c6-437d-92d5-b8db206809a5",
   "metadata": {},
   "source": [
    "# [`.count()`](https://pandas.pydata.org/pandas-docs/stable/reference/api/pandas.DataFrame.count.html), `.sum()`, `min()`, `max()`, `.mean()`, `median()`, and `mode()`\n",
    "\n",
    "All of these return a `pd.core.series.Series`, except `.mode()`. Mode returns a df cause there might be many values that are the mode, and different rows contains these different values\n",
    "\n",
    "<br>\n",
    "\n",
    "### [`.count()`](https://pandas.pydata.org/pandas-docs/stable/reference/api/pandas.DataFrame.count.html)\n",
    "\n",
    "- `axis: int | str = 0`: If 0 or \"index\" counts are generated for each column. If 1 or \"columns\", counts are generated for each row\n",
    "- `numeric_only: bool = False`: Include only float, int or boolean data`\n",
    "\n",
    "### [`.sum()`](https://pandas.pydata.org/pandas-docs/stable/reference/api/pandas.DataFrame.sum.html)\n",
    "\n",
    "- `axis: int | str = 0`: Axis for the function to be applied on\n",
    "- `numeric_only: bool = False`: Include only float, int or boolean data\n",
    "- `skipna: bool = True`: Exclude NA/null values when computing the result\n",
    "- `min_count: int = 0`: The required number of valid values to perform the operation. If fewer non-NA values are present, the result will be NA\n",
    "\n",
    "### [`.min()`](https://pandas.pydata.org/pandas-docs/stable/reference/api/pandas.DataFrame.min.html), [`.max()`](https://pandas.pydata.org/pandas-docs/stable/reference/api/pandas.DataFrame.max.html), [`.mean()`](https://pandas.pydata.org/pandas-docs/stable/reference/api/pandas.DataFrame.mean.html), [`.median()`](https://pandas.pydata.org/pandas-docs/stable/reference/api/pandas.DataFrame.median.html), & [`.mode()`](https://pandas.pydata.org/pandas-docs/stable/reference/api/pandas.DataFrame.mode.html)\n",
    "\n",
    "- `axis: int | str = 0`: Axis for the function to be applied on\n",
    "- `numeric_only: bool = False`: Include only float, int or boolean data\n",
    "- `skipna: bool = True`: Exclude NA/null values when computing the result"
   ]
  },
  {
   "cell_type": "code",
   "execution_count": 6,
   "id": "f9230dab-4157-4425-8fdb-da2fb473c331",
   "metadata": {},
   "outputs": [
    {
     "name": "stdout",
     "output_type": "stream",
     "text": [
      "Original df:\n"
     ]
    },
    {
     "data": {
      "text/markdown": [
       "| Person   |   Age | Single   |\n",
       "|:---------|------:|:---------|\n",
       "| John     |    24 | False    |\n",
       "| Myla     |   nan | True     |\n",
       "| Lewis    |    21 | True     |\n",
       "| John     |    33 | True     |\n",
       "| Myla     |    26 | False    |"
      ],
      "text/plain": [
       "<IPython.core.display.Markdown object>"
      ]
     },
     "metadata": {},
     "output_type": "display_data"
    },
    {
     "name": "stdout",
     "output_type": "stream",
     "text": [
      "\n",
      "1) Count:\n"
     ]
    },
    {
     "data": {
      "text/markdown": [
       "|        |   0 |\n",
       "|:-------|----:|\n",
       "| Person |   5 |\n",
       "| Age    |   4 |\n",
       "| Single |   5 |"
      ],
      "text/plain": [
       "<IPython.core.display.Markdown object>"
      ]
     },
     "metadata": {},
     "output_type": "display_data"
    },
    {
     "data": {
      "text/markdown": [
       "|        |   0 |\n",
       "|:-------|----:|\n",
       "| Age    |   4 |\n",
       "| Single |   5 |"
      ],
      "text/plain": [
       "<IPython.core.display.Markdown object>"
      ]
     },
     "metadata": {},
     "output_type": "display_data"
    },
    {
     "name": "stdout",
     "output_type": "stream",
     "text": [
      "\n",
      "2) Sum:\n"
     ]
    },
    {
     "data": {
      "text/markdown": [
       "|        | 0                     |\n",
       "|:-------|:----------------------|\n",
       "| Person | JohnMylaLewisJohnMyla |\n",
       "| Age    | 104.0                 |\n",
       "| Single | 3                     |"
      ],
      "text/plain": [
       "<IPython.core.display.Markdown object>"
      ]
     },
     "metadata": {},
     "output_type": "display_data"
    },
    {
     "name": "stdout",
     "output_type": "stream",
     "text": [
      "\n",
      "3) Min:\n"
     ]
    },
    {
     "data": {
      "text/markdown": [
       "|        | 0     |\n",
       "|:-------|:------|\n",
       "| Person | John  |\n",
       "| Age    | 21.0  |\n",
       "| Single | False |"
      ],
      "text/plain": [
       "<IPython.core.display.Markdown object>"
      ]
     },
     "metadata": {},
     "output_type": "display_data"
    },
    {
     "name": "stdout",
     "output_type": "stream",
     "text": [
      "\n",
      "4) Max:\n"
     ]
    },
    {
     "data": {
      "text/markdown": [
       "|        | 0    |\n",
       "|:-------|:-----|\n",
       "| Person | Myla |\n",
       "| Age    | 33.0 |\n",
       "| Single | True |"
      ],
      "text/plain": [
       "<IPython.core.display.Markdown object>"
      ]
     },
     "metadata": {},
     "output_type": "display_data"
    },
    {
     "name": "stdout",
     "output_type": "stream",
     "text": [
      "\n",
      "5) Mean:\n"
     ]
    },
    {
     "data": {
      "text/markdown": [
       "|        |    0 |\n",
       "|:-------|-----:|\n",
       "| Age    | 26   |\n",
       "| Single |  0.6 |"
      ],
      "text/plain": [
       "<IPython.core.display.Markdown object>"
      ]
     },
     "metadata": {},
     "output_type": "display_data"
    },
    {
     "name": "stdout",
     "output_type": "stream",
     "text": [
      "\n",
      "6) Median:\n"
     ]
    },
    {
     "data": {
      "text/markdown": [
       "|        |   0 |\n",
       "|:-------|----:|\n",
       "| Age    |  25 |\n",
       "| Single |   1 |"
      ],
      "text/plain": [
       "<IPython.core.display.Markdown object>"
      ]
     },
     "metadata": {},
     "output_type": "display_data"
    },
    {
     "name": "stdout",
     "output_type": "stream",
     "text": [
      "\n",
      "7) Mode:\n"
     ]
    },
    {
     "data": {
      "text/markdown": [
       "|    |   Age |   Single |\n",
       "|---:|------:|---------:|\n",
       "|  0 |    21 |        1 |\n",
       "|  1 |    24 |      nan |\n",
       "|  2 |    26 |      nan |\n",
       "|  3 |    33 |      nan |"
      ],
      "text/plain": [
       "<IPython.core.display.Markdown object>"
      ]
     },
     "metadata": {},
     "output_type": "display_data"
    }
   ],
   "source": [
    "data = {\n",
    "    \"Person\": [\"John\", \"Myla\", \"Lewis\", \"John\", \"Myla\"],\n",
    "    \"Age\":    [24, np.nan, 21, 33, 26],\n",
    "    \"Single\": [False, True, True, True, False]\n",
    "}\n",
    "df = pd.DataFrame(data)\n",
    "\n",
    "print('Original df:')\n",
    "display_df()\n",
    "\n",
    "print('\\n1) Count:')\n",
    "display_df( df.count(), index=True)\n",
    "display_df( df.count(numeric_only=True), index=True)\n",
    "\n",
    "print('\\n2) Sum:')\n",
    "display_df( df.sum(), index=True)\n",
    "\n",
    "print('\\n3) Min:')\n",
    "display_df( df.min(), index=True)\n",
    "\n",
    "print('\\n4) Max:')\n",
    "display_df( df.max(), index=True)\n",
    "\n",
    "print('\\n5) Mean:')\n",
    "display_df( df.mean(numeric_only=True), index=True)\n",
    "\n",
    "print('\\n6) Median:')\n",
    "display_df( df.median(numeric_only=True), index=True)\n",
    "\n",
    "print('\\n7) Mode:')\n",
    "display_df( df.mode(numeric_only=True), index=True)"
   ]
  },
  {
   "cell_type": "markdown",
   "id": "23748b03-28ff-4af2-a5ec-e3e582b5e9e8",
   "metadata": {},
   "source": [
    "<br><br><br>"
   ]
  },
  {
   "cell_type": "markdown",
   "id": "ad0f81bc-4d30-47b1-bee7-9d88dbf39eeb",
   "metadata": {},
   "source": [
    "# `.abs()`\n",
    "\n",
    "Just applies a `abs()` on every elem"
   ]
  },
  {
   "cell_type": "markdown",
   "id": "c64b395f-e884-43f4-bbfd-90550f740708",
   "metadata": {},
   "source": [
    "<br><br><br>"
   ]
  },
  {
   "cell_type": "markdown",
   "id": "eaa5ae35-6907-49fa-b715-aa3d0fbab1a7",
   "metadata": {},
   "source": [
    "# `.apply()`\n",
    "\n",
    "Apply a function to either row wise (axis=1) or column wise (axis=0)\n",
    "\n",
    "Basically when axis=0 (default), the whole column is passed into the function. When axis=1, the whole row is passed into the function. These rows and cols are passed in the form of series\n",
    "\n",
    "- `func: function`: Function to apply to each column or row\n",
    "- `axis: {0,'index',1'columns'} = 0`: Axis along which the function is applied. `0`/`'index'` to apply function to each column, and `1`/`'columns'` to apply function to each row"
   ]
  },
  {
   "cell_type": "code",
   "execution_count": 7,
   "id": "c7b282eb-9c1e-44b5-abda-8f6c83c86494",
   "metadata": {},
   "outputs": [
    {
     "data": {
      "text/markdown": [
       "|    |   0 |\n",
       "|:---|----:|\n",
       "| A  |   6 |\n",
       "| B  |  15 |\n",
       "| C  |  24 |"
      ],
      "text/plain": [
       "<IPython.core.display.Markdown object>"
      ]
     },
     "metadata": {},
     "output_type": "display_data"
    },
    {
     "data": {
      "text/markdown": [
       "|    |   0 |\n",
       "|---:|----:|\n",
       "|  0 |  12 |\n",
       "|  1 |  15 |\n",
       "|  2 |  18 |"
      ],
      "text/plain": [
       "<IPython.core.display.Markdown object>"
      ]
     },
     "metadata": {},
     "output_type": "display_data"
    }
   ],
   "source": [
    "df = pd.DataFrame({\n",
    "    'A': [1, 2, 3],\n",
    "    'B': [4, 5, 6],\n",
    "    'C': [7, 8, 9]\n",
    "})\n",
    "\n",
    "mysum = lambda x: x.sum()\n",
    "\n",
    "display_df( df.apply(mysum, axis=0) ,index=True)\n",
    "display_df( df.apply(mysum, axis=1) ,index=True)"
   ]
  },
  {
   "cell_type": "markdown",
   "id": "803c4c7f-2817-4896-9a60-89d45fc487d0",
   "metadata": {},
   "source": [
    "<br><br><br>"
   ]
  },
  {
   "cell_type": "markdown",
   "id": "a6e5506b-7cbd-4ffd-8166-aa32bbb695c0",
   "metadata": {},
   "source": [
    "# `pd.concat()` and `.append()`\n",
    "\n",
    "Remember, `pd.concat` takes in a LIST OF DFs\n",
    "\n",
    "### [`pd.concat`](https://pandas.pydata.org/pandas-docs/stable/reference/api/pandas.concat.html)\n",
    "\n",
    "- `objs`: List of the dataframes to combine/concat\n",
    "- `axis: {0,'index',1,'column'} = 0`: `0` or `index` concats the dfs vertically, ie on top of each other. `1` or `column` concats the df horizontally, ie side by side\n",
    "- `ignore_index: bool = False:` If `True`, do not use the index values along the concatenation axis. The resulting axis will be labeled 0,1,...,n-1. This is useful if you are concatenating objects where the concatenation axis does not have meaningful indexing information. Note the index values on the other axes are still respected in the join\n",
    "- `copy: bool = True`: If False, do not copy data unnecessarily\n",
    "\n",
    "### [`.append()`](https://pandas.pydata.org/pandas-docs/version/1.4/reference/api/pandas.DataFrame.append.html)\n",
    "\n",
    "IT HAS BEEN DEPRECIATED SINCE `1.4.0`. The current version when writing this is `2.2.1`, so if your examiner asks about this, call them a boomer"
   ]
  },
  {
   "cell_type": "code",
   "execution_count": 8,
   "id": "f27183a4-bb57-4136-a8a2-01cacc6e223e",
   "metadata": {},
   "outputs": [
    {
     "data": {
      "text/markdown": [
       "|    |   A |   B |   C |\n",
       "|---:|----:|----:|----:|\n",
       "|  0 |   1 |   4 | nan |\n",
       "|  1 |   2 |   5 | nan |\n",
       "|  2 |   3 |   6 | nan |\n",
       "|  0 | nan |   7 |   4 |\n",
       "|  1 | nan |   8 |   5 |\n",
       "|  2 | nan |   9 |   6 |"
      ],
      "text/plain": [
       "<IPython.core.display.Markdown object>"
      ]
     },
     "metadata": {},
     "output_type": "display_data"
    },
    {
     "data": {
      "text/markdown": [
       "|   A |   B |   C |    D |\n",
       "|----:|----:|----:|-----:|\n",
       "|   1 |  11 | 111 | 1111 |\n",
       "|   2 |  22 | 222 | 2222 |\n",
       "|   3 |  33 | 333 | 3333 |"
      ],
      "text/plain": [
       "<IPython.core.display.Markdown object>"
      ]
     },
     "metadata": {},
     "output_type": "display_data"
    }
   ],
   "source": [
    "# Joining two dfs vertically\n",
    "df1 = pd.DataFrame({\n",
    "    'A': [1, 2, 3],\n",
    "    'B': [4, 5, 6]\n",
    "})\n",
    "df2 = pd.DataFrame({\n",
    "    'B': [7, 8, 9],\n",
    "    'C': [4, 5, 6]\n",
    "})\n",
    "\n",
    "new_df = pd.concat([df1, df2], axis=0)\n",
    "display_df(new_df, index=True)\n",
    "\n",
    "\n",
    "# Joining two dfs horizontally\n",
    "df1 = pd.DataFrame({\n",
    "    'A': [1, 2, 3],\n",
    "    'B': [11, 22, 33]\n",
    "})\n",
    "\n",
    "df2 = pd.DataFrame({\n",
    "    'C': [111, 222, 333],\n",
    "    'D': [1111, 2222, 3333]\n",
    "})\n",
    "\n",
    "new_df = pd.concat([df1, df2], axis=1)\n",
    "display_df(new_df)"
   ]
  },
  {
   "cell_type": "markdown",
   "id": "a9e218e2-96a4-40d5-8c2c-30c3da9213b0",
   "metadata": {},
   "source": [
    "<br><br><br>"
   ]
  },
  {
   "cell_type": "markdown",
   "id": "8d47c203-5a0a-47b1-881e-f5df5af30eeb",
   "metadata": {},
   "source": [
    "# `.count()`"
   ]
  },
  {
   "cell_type": "markdown",
   "id": "abf9f94f-42fe-442d-9db4-9592ecca0a7d",
   "metadata": {},
   "source": [
    "<br><br><br>"
   ]
  },
  {
   "cell_type": "markdown",
   "id": "67d2c026-1feb-45e9-bde5-499b38c75d9c",
   "metadata": {},
   "source": [
    "# `.drop()`\n",
    "\n",
    "Used to remove rows or cols by directly specifying the indices or column names\n",
    "\n",
    "One way to use this is by using the `index` and/or `columns` arguments (I would personally recommend this method), like so:\n",
    "\n",
    "- `index:` single-index or list of indices\n",
    "- `columns` single-column-name or list of column names\n",
    "\n",
    "The other way is to use the `labels` (it is the first and only positional argument) and `axis`:\n",
    "\n",
    "- `labels`: single label or list-like. Index or column labels to drop. A tuple will be used as a single label and not treated as a list-like\n",
    "- `axis: {0,'index', 1,'columns'} = 0`: If `0`/`'index'`, drop rows. If `1`/`'columns'`, drop columns\n",
    "\n",
    "Also the `inplace` argument works as usual and expected"
   ]
  },
  {
   "cell_type": "code",
   "execution_count": 9,
   "id": "cc472aad-4a28-43c4-9741-0f245180cbca",
   "metadata": {},
   "outputs": [
    {
     "data": {
      "text/markdown": [
       "|    |   B |\n",
       "|---:|----:|\n",
       "|  0 |   4 |\n",
       "|  2 |   6 |"
      ],
      "text/plain": [
       "<IPython.core.display.Markdown object>"
      ]
     },
     "metadata": {},
     "output_type": "display_data"
    }
   ],
   "source": [
    "df = pd.DataFrame({\n",
    "    'A': [1, 2, 3],\n",
    "    'B': [4, 5, 6],\n",
    "    'C': [7, 8, 9]\n",
    "})\n",
    "\n",
    "df.drop(index=1, columns=['A','C'], inplace=True)\n",
    "display_df(index=True)"
   ]
  },
  {
   "cell_type": "markdown",
   "id": "29d19adb-23c3-4a11-953b-a287f39a0ae9",
   "metadata": {},
   "source": [
    "<br><br><br>"
   ]
  },
  {
   "cell_type": "markdown",
   "id": "58132da6-80f5-433e-a82c-32a91e564613",
   "metadata": {},
   "source": [
    "# `.duplicated()` and `drop_duplicates()`"
   ]
  },
  {
   "cell_type": "markdown",
   "id": "09887e7c-e630-4f05-b771-ddb0e408f170",
   "metadata": {},
   "source": [
    "### [`.duplicated()`](https://pandas.pydata.org/pandas-docs/stable/reference/api/pandas.DataFrame.duplicated.html)\n",
    "\n",
    "Returns a boolean Series denoting duplicate rows. Arguments:\n",
    "\n",
    "- `subset: column label or sequence of labels = None`: Only consider certain columns for identifying duplicates. Duplicates will have the same value in ALL these columns. By default use all of the columns\n",
    "- `keep: {'first','last',False} = 'first'`: Determines which duplicates (if any) to mark as `False`. `first` marks all duplicates as `True` except for the first occurrence. `last` marks all duplicates as `True` except for the last occurrence. `False` marks all duplicates as `True`\n",
    "\n",
    "\n",
    "### [`.drop_duplicates`](https://pandas.pydata.org/pandas-docs/stable/reference/api/pandas.DataFrame.drop_duplicates.html)\n",
    "\n",
    "- `subset: column label or sequence of labels = None`: Only consider certain columns for identifying duplicates. Duplicates will have the same value in ALL these columns. By default use all of the columns\n",
    "- `keep: {'first','last',False} = 'first'`: Determines which duplicates (if any) to keep. `first` drops all duplicates except for the first occurrence. `last` drops all duplicates except for the last occurrence. `False` drops all duplicates\n",
    "- `inplace: bool = False:` Whether to modify the DataFrame rather than creating a new one\n",
    "- `ignore_index: bool = False`: If True, the resulting axis will be labeled 0,1,...,n-1. Else, the indexes shall be presevered inshallah"
   ]
  },
  {
   "cell_type": "code",
   "execution_count": 10,
   "id": "71762c22-aef5-43db-a736-d0cedfd4a13e",
   "metadata": {},
   "outputs": [
    {
     "name": "stdout",
     "output_type": "stream",
     "text": [
      "Original df:\n"
     ]
    },
    {
     "data": {
      "text/markdown": [
       "|    | Name   | City        |   Age | Duplicate   |\n",
       "|---:|:-------|:------------|------:|:------------|\n",
       "|  0 | John   | New York    |    28 | False       |\n",
       "|  1 | Doe    | Los Angeles |    35 | False       |\n",
       "|  2 | John   | New York    |    28 | True        |\n",
       "|  3 | Doe    | Los Angeles |    35 | True        |\n",
       "|  4 | Anna   | Chicago     |    29 | False       |"
      ],
      "text/plain": [
       "<IPython.core.display.Markdown object>"
      ]
     },
     "metadata": {},
     "output_type": "display_data"
    },
    {
     "name": "stdout",
     "output_type": "stream",
     "text": [
      "\n",
      "After dropping duplicates:\n"
     ]
    },
    {
     "data": {
      "text/markdown": [
       "|    | Name   | City        |   Age | Duplicate   |\n",
       "|---:|:-------|:------------|------:|:------------|\n",
       "|  0 | John   | New York    |    28 | False       |\n",
       "|  1 | Doe    | Los Angeles |    35 | False       |\n",
       "|  4 | Anna   | Chicago     |    29 | False       |"
      ],
      "text/plain": [
       "<IPython.core.display.Markdown object>"
      ]
     },
     "metadata": {},
     "output_type": "display_data"
    }
   ],
   "source": [
    "df = pd.DataFrame({\n",
    "    'Name': ['John', 'Doe', 'John', 'Doe', 'Anna'],\n",
    "    'City': ['New York', 'Los Angeles', 'New York', 'Los Angeles', 'Chicago'],\n",
    "    'Age':  [28, 35, 28, 35, 29],\n",
    "})\n",
    "\n",
    "df['Duplicate'] = df.duplicated()\n",
    "print('Original df:')\n",
    "display_df(df, index=True)\n",
    "\n",
    "df = df.drop_duplicates(subset=['Name','City'])\n",
    "print('\\nAfter dropping duplicates:')\n",
    "display_df(df, index=True)"
   ]
  },
  {
   "cell_type": "markdown",
   "id": "53c68666-b70d-49ae-ab13-87f8cb1ed132",
   "metadata": {},
   "source": [
    "<br><br><br>"
   ]
  },
  {
   "cell_type": "markdown",
   "id": "1c4920d8-b587-4a69-a81d-0ad4737698f4",
   "metadata": {},
   "source": [
    "# `.get_dummies()`"
   ]
  },
  {
   "cell_type": "markdown",
   "id": "c4718781-22e1-42bb-8eb8-70c9a8b2b1cd",
   "metadata": {},
   "source": [
    "<br><br><br>"
   ]
  },
  {
   "cell_type": "markdown",
   "id": "28e5574c-32cb-4189-935c-1940727f3201",
   "metadata": {},
   "source": [
    "# `.groupby()`\n",
    "\n",
    "Returns a `pandas.core.groupby.generic.DataFrameGroupBy` object\n",
    "\n",
    "This is not supposed to be printed or displayed, but we can apply various aggregation methods to it like `mean`, `count`, `median`, `sum`, etc. These will return a dataframe\n",
    "\n",
    "Note: `mode` is not there"
   ]
  },
  {
   "cell_type": "code",
   "execution_count": 11,
   "id": "9dcd1d1c-fd80-47e7-8d5a-a99bbbaf2274",
   "metadata": {},
   "outputs": [
    {
     "name": "stdout",
     "output_type": "stream",
     "text": [
      "Original df:\n"
     ]
    },
    {
     "data": {
      "text/markdown": [
       "| Category   |   Value |\n",
       "|:-----------|--------:|\n",
       "| A          |      10 |\n",
       "| B          |      20 |\n",
       "| A          |      15 |\n",
       "| B          |      25 |\n",
       "| A          |      20 |\n",
       "| B          |      30 |"
      ],
      "text/plain": [
       "<IPython.core.display.Markdown object>"
      ]
     },
     "metadata": {},
     "output_type": "display_data"
    },
    {
     "name": "stdout",
     "output_type": "stream",
     "text": [
      "Mean:\n"
     ]
    },
    {
     "data": {
      "text/markdown": [
       "| Category   |   Value |\n",
       "|:-----------|--------:|\n",
       "| A          |      15 |\n",
       "| B          |      25 |"
      ],
      "text/plain": [
       "<IPython.core.display.Markdown object>"
      ]
     },
     "metadata": {},
     "output_type": "display_data"
    },
    {
     "name": "stdout",
     "output_type": "stream",
     "text": [
      "Total:\n"
     ]
    },
    {
     "data": {
      "text/markdown": [
       "| Category   |   Value |\n",
       "|:-----------|--------:|\n",
       "| A          |       3 |\n",
       "| B          |       3 |"
      ],
      "text/plain": [
       "<IPython.core.display.Markdown object>"
      ]
     },
     "metadata": {},
     "output_type": "display_data"
    }
   ],
   "source": [
    "# Create a DataFrame\n",
    "data = {\n",
    "    'Category': ['A', 'B', 'A', 'B', 'A', 'B'],\n",
    "    'Value':    [10, 20, 15, 25, 20, 30]\n",
    "}\n",
    "df = pd.DataFrame(data)\n",
    "print('Original df:')\n",
    "display_df()\n",
    "\n",
    "# Group the DataFrame by 'Category' column\n",
    "grouped = df.groupby('Category')\n",
    "\n",
    "# Perform aggregation operations on the groups\n",
    "mean_age    = grouped.mean()\n",
    "total_count = grouped.count()\n",
    "\n",
    "# Print the results\n",
    "print('Mean:')\n",
    "display_df(mean_age,    index=True)\n",
    "print('Total:')\n",
    "display_df(total_count, index=True)"
   ]
  },
  {
   "cell_type": "markdown",
   "id": "340aa2e9-a22e-4f38-8bff-b259a5b6e61e",
   "metadata": {},
   "source": [
    "<br><br><br>"
   ]
  },
  {
   "cell_type": "markdown",
   "id": "877b66ca-e129-4a01-a150-2c4db5ca59d1",
   "metadata": {},
   "source": [
    "# `isna()`/`isnull()` & `.notna()` & `.dropna()` & `.fillna()`\n",
    "\n",
    "### `isna()`\n",
    "\n",
    "`isna()` sort of returns a \"mask\", basically a df of only boolean values. `isnull` is an alias for `isna`\n",
    "\n",
    "### `notna()`\n",
    "\n",
    "Basically like, the inverse of `isna()`\n",
    "\n",
    "### `.dropna()`\n",
    "\n",
    "- `axis: {0,'index’,1'columns'} = 0`: If `0`/`'index'`, drop rows. If `1`/`'columns`, drop columns\n",
    "- `how: {'any','all'} = 'any'`: If `any`, removes the rows/columns where atleast one value is NA. If `all`, removes the rows/columns where ALL values are NA\n",
    "- `subsetcolumn: label or sequence of labels (optional)`: Labels along other axis to consider. For eg, if you are dropping rows, these would be a list of columns to include\n",
    "- `inplace: bool = False`: Self explanatory\n",
    "- `ignore_index: bool = False`: If True, the resulting axis will be labeled 0, 1,..., n-1\n",
    "- `thresh: int (optional):` How many non-NA values are required. Cannot be combined with how\n",
    "\n",
    "### `.fillna()`\n",
    "\n",
    "- `value: scalar | dict | Series | DataFrame`: Value to use to fill holes . Alternately a dict/Series/DataFrame of values specifying which value to use for each index (for a Series) or column (for a DataFrame). Values not in the dict/Series/DataFrame will not be filled. This value cannot be a list\n",
    "- `inplace: bool = False`: If True, fill inplace\n",
    "- `limit: int | None = None`: If method is specified, this is the maximum number of consecutive NaN values to forward/backward fill. In other words, if there is a gap with more than this number of consecutive NaNs, it will only be partially filled. If method is not specified, this is the maximum number of entries along the entire axis where NaNs will be filled. Must be greater than 0 if not None"
   ]
  },
  {
   "cell_type": "code",
   "execution_count": 12,
   "id": "a599f73c-94c0-4069-8cb0-319db06dc69d",
   "metadata": {},
   "outputs": [
    {
     "data": {
      "text/markdown": [
       "|    |   A |   B |   C |\n",
       "|---:|----:|----:|----:|\n",
       "|  0 |   0 |   1 |   0 |\n",
       "|  1 |   0 |   0 |   0 |\n",
       "|  2 |   0 |   0 |   1 |"
      ],
      "text/plain": [
       "<IPython.core.display.Markdown object>"
      ]
     },
     "metadata": {},
     "output_type": "display_data"
    },
    {
     "data": {
      "text/markdown": [
       "|    |   A |   B |   C |\n",
       "|---:|----:|----:|----:|\n",
       "|  0 |   1 |   0 |   1 |\n",
       "|  1 |   1 |   1 |   1 |\n",
       "|  2 |   1 |   1 |   0 |"
      ],
      "text/plain": [
       "<IPython.core.display.Markdown object>"
      ]
     },
     "metadata": {},
     "output_type": "display_data"
    },
    {
     "data": {
      "text/markdown": [
       "|    |   A |   B |   C |\n",
       "|---:|----:|----:|----:|\n",
       "|  1 |   4 |   5 |   6 |"
      ],
      "text/plain": [
       "<IPython.core.display.Markdown object>"
      ]
     },
     "metadata": {},
     "output_type": "display_data"
    },
    {
     "data": {
      "text/markdown": [
       "|    |   A |   B |   C |\n",
       "|---:|----:|----:|----:|\n",
       "|  0 |   1 | 999 |   3 |\n",
       "|  1 |   4 |   5 |   6 |\n",
       "|  2 |   7 |   8 | 999 |"
      ],
      "text/plain": [
       "<IPython.core.display.Markdown object>"
      ]
     },
     "metadata": {},
     "output_type": "display_data"
    }
   ],
   "source": [
    "df = pd.DataFrame([\n",
    "    [1,np.nan,3],\n",
    "    [4,5,6],\n",
    "    [7,8,np.nan]\n",
    "], columns=['A','B','C'])\n",
    "\n",
    "display_df( df.isna()      ,index=True)\n",
    "display_df( df.notna()     ,index=True)\n",
    "display_df( df.dropna()    ,index=True)\n",
    "display_df( df.fillna(999) ,index=True)"
   ]
  },
  {
   "cell_type": "markdown",
   "id": "a955bf39-2317-4e44-8a22-971bfb8911f8",
   "metadata": {},
   "source": [
    "<br><br><br>"
   ]
  },
  {
   "cell_type": "markdown",
   "id": "6e5a13b9-0ccc-4f97-b390-5369266ba259",
   "metadata": {},
   "source": [
    "# `.kurt()` / `.kurtosis()`\n",
    "\n",
    "Return unbiased kurtosis over requested axis. Kurtosis obtained using Fisher’s definition of kurtosis (kurtosis of normal == 0.0). Normalized by N-1. In the given formuka, the denominator is variance squared. The numerator is like, the difference is like variance, but the quadruples (is that the right word?) are taken rather than the squares. Fisher's formula:\n",
    "\n",
    "$$Kurtosis = \\frac{{\\frac{1}{n} \\sum_{i=1}^{n} (x_i - \\bar{x})^4}} { \\sigma^4 } - 3$$\n",
    "\n",
    "where:\n",
    "\n",
    "- $n$ is the number of data points.\n",
    "- $x_i$ represents each individual data point.\n",
    "- $\\bar{x}$ is the mean of the dataset.\n",
    "- The numerator calculates the fourth central moment (mean of the fourth powers of deviations from the mean)\n",
    "\n",
    "Args:\n",
    "\n",
    "- `axis: {0,'index',1'columns'} = 0`: Axis for the function to be applied on. For Series this parameter is unused and defaults to 0. For DataFrames, specifying axis=None will apply the aggregation across both axes\n",
    "- `skipna: bool = True`: Exclude NA/null values when computing the result\n",
    "- `numeric_only: bool = False`: Include only float, int, boolean columns. Not implemented for series"
   ]
  },
  {
   "cell_type": "markdown",
   "id": "07cd1086-6e7d-4c50-8fea-4ef8029e3a9e",
   "metadata": {},
   "source": [
    "<br><br><br>"
   ]
  },
  {
   "cell_type": "markdown",
   "id": "a054d9c3-051a-4b1f-bb84-88e2856a0da8",
   "metadata": {},
   "source": [
    "# `.map()` (formerly known as `.applymap()`)\n",
    "\n",
    "Basically apply a function to every ELEMENT of a df. It CANNOT be inplace\n",
    "\n",
    "- `func: callable`: Python function, returns a single value from a single value\n",
    "- `na_action: {None, 'ignore'} = None`: If `'ignore'`, don't pass the NaN values to `func`, and instead just let em be\n",
    "- **kwargs: Additional keyword arguments to pass as keywords arguments to `func`"
   ]
  },
  {
   "cell_type": "code",
   "execution_count": 13,
   "id": "97c6da18-a7f6-4353-aa3b-e1dcddf64cb3",
   "metadata": {},
   "outputs": [
    {
     "data": {
      "text/markdown": [
       "|   0 |   1 |   2 |\n",
       "|----:|----:|----:|\n",
       "|   1 |   4 |   9 |\n",
       "|  16 |  25 |  36 |\n",
       "|  49 |  64 |  81 |"
      ],
      "text/plain": [
       "<IPython.core.display.Markdown object>"
      ]
     },
     "metadata": {},
     "output_type": "display_data"
    }
   ],
   "source": [
    "df = pd.DataFrame([\n",
    "    [1,2,3],\n",
    "    [4,5,6],\n",
    "    [7,8,9]\n",
    "])\n",
    "\n",
    "df = df.map(lambda x: x**2)\n",
    "display_df(df)"
   ]
  },
  {
   "cell_type": "markdown",
   "id": "b922a7ff-c0f1-4096-9ff3-61934240b5e1",
   "metadata": {},
   "source": [
    "<br><br><br>"
   ]
  },
  {
   "cell_type": "markdown",
   "id": "269e1efd-cb49-4685-abde-3177b2213217",
   "metadata": {},
   "source": [
    "# `.merge()` & `pd.merge()`\n",
    "\n",
    "### `.merge()`\n",
    "\n",
    "Used to do SQL-like joins\n",
    "\n",
    "- `right: DataFrame (Positional):` The right df\n",
    "- `how: {'left', 'right', 'outer', 'inner', 'cross'} = 'inner'`: Type of merge to be performed\n",
    "- `on: str`: The column name to do the join on\n",
    "- `left_on: str`: If the column name is not the same on both, the column name on the left df (ie the df we are calling this method from)\n",
    "- `right_on: str`: If the column name is not the same on both, the column name on the right df (ie the df we are passing in)\n",
    "- `copy: bool = True`: If `False`, avoid copying shit if possible\n",
    "\n",
    "### `pd.merge()`\n",
    "\n",
    "Same as `.merge()`, but takes in both, the left and right dfs"
   ]
  },
  {
   "cell_type": "code",
   "execution_count": 14,
   "id": "3653f86d-d1f5-415f-8263-e0d3ed4551c1",
   "metadata": {},
   "outputs": [
    {
     "data": {
      "text/markdown": [
       "| id   | name   |   marks |   age |\n",
       "|:-----|:-------|--------:|------:|\n",
       "| S6   | Emma   |     200 |    20 |\n",
       "| S7   | Jack   |     210 |    21 |"
      ],
      "text/plain": [
       "<IPython.core.display.Markdown object>"
      ]
     },
     "metadata": {},
     "output_type": "display_data"
    },
    {
     "data": {
      "text/markdown": [
       "| id   | name   |   marks |   age |\n",
       "|:-----|:-------|--------:|------:|\n",
       "| S6   | Emma   |     200 |    20 |\n",
       "| S7   | Jack   |     210 |    21 |"
      ],
      "text/plain": [
       "<IPython.core.display.Markdown object>"
      ]
     },
     "metadata": {},
     "output_type": "display_data"
    }
   ],
   "source": [
    "df1 = pd.DataFrame({\n",
    "    'id':     ['S6', 'S7'],\n",
    "    'name':   ['Emma', 'Jack'],\n",
    "    'marks':  [200, 210]\n",
    "})\n",
    "df2 = pd.DataFrame({\n",
    "    'id':  ['S6', 'S7'],\n",
    "    'age': [20, 21]\n",
    "})\n",
    "\n",
    "display_df( df1.merge( df2, on='id', how='inner' ) )\n",
    "display_df( pd.merge( df1, df2, on='id', how='inner' ) )"
   ]
  },
  {
   "cell_type": "markdown",
   "id": "4418a187-8423-419e-99ba-a32c50131d35",
   "metadata": {},
   "source": [
    "<br><br><br>"
   ]
  },
  {
   "attachments": {
    "2ce1f9c8-662f-4558-b42a-6d4b1096a990.png": {
     "image/png": "[encoded data removed]"
    }
   },
   "cell_type": "markdown",
   "id": "ae978b9a-4215-4b89-8530-402426f20e96",
   "metadata": {},
   "source": [
    "# [`.pivot()`](https://pandas.pydata.org/pandas-docs/stable/reference/api/pandas.DataFrame.pivot.html) and [`.pivot_table()`](https://pandas.pydata.org/pandas-docs/stable/reference/api/pandas.DataFrame.pivot_table.html)\n",
    "\n",
    "![image.png](attachment:2ce1f9c8-662f-4558-b42a-6d4b1096a990.png)\n",
    "\n",
    "A `ValueError` will be thrown in `.pivot` when there are any index+column combinations with multiple values. In such cases, [`.pivot_table`](https://pandas.pydata.org/pandas-docs/stable/reference/api/pandas.DataFrame.pivot_table.html) will be used (ie when you need to aggregate)\n",
    "\n",
    "<br>\n",
    "\n",
    "### [`.pivot()`](https://pandas.pydata.org/pandas-docs/stable/reference/api/pandas.DataFrame.pivot.html)\n",
    "\n",
    "- `index: str | list[str] = _NoDefault.no_default`: Column whose values will be the new df's index. The index-col-name will also be changed to this col name. If not given, existing index is used\n",
    "- `columns: str | list[str]`: Column whose values will be the new df's columns\n",
    "- `values: str | list[str] = _NoDefault.no_default`: Column(s) to use for populating new frame’s values. If not specified, all remaining columns will be used and the result will have hierarchically indexed columns\n",
    "\n",
    "\n",
    "### [`.pivot_table`](https://pandas.pydata.org/pandas-docs/stable/reference/api/pandas.DataFrame.pivot_table.html)\n",
    "- [Same args as [`.pivot()`](https://pandas.pydata.org/pandas-docs/stable/reference/api/pandas.DataFrame.pivot.html)]\n",
    "- `aggfunc: str | function | list[function] | dict = \"mean\"`: If a list of functions is passed, the resulting pivot table will have hierarchical columns whose top level are the function names (inferred from the function objects themselves). If a dict is passed, the key is column to aggregate and the value is function or list of functions\n",
    "- `fill_value: scalar = None`: Value to replace missing values with (in the resulting pivot table, after aggregation)"
   ]
  },
  {
   "cell_type": "code",
   "execution_count": 15,
   "id": "1281d35b-2cd8-414b-be66-08d711b1a8e8",
   "metadata": {},
   "outputs": [
    {
     "name": "stdout",
     "output_type": "stream",
     "text": [
      "Original df:\n"
     ]
    },
    {
     "data": {
      "text/markdown": [
       "| foo   | bar   |   baz | zoo   |\n",
       "|:------|:------|------:|:------|\n",
       "| one   | A     |     1 | x     |\n",
       "| one   | B     |     2 | y     |\n",
       "| one   | C     |     3 | z     |\n",
       "| two   | A     |     4 | q     |\n",
       "| two   | B     |     5 | w     |\n",
       "| two   | C     |     6 | t     |"
      ],
      "text/plain": [
       "<IPython.core.display.Markdown object>"
      ]
     },
     "metadata": {},
     "output_type": "display_data"
    },
    {
     "name": "stdout",
     "output_type": "stream",
     "text": [
      "\n",
      ".pivot() dfs:\n"
     ]
    },
    {
     "data": {
      "text/markdown": [
       "| foo   |   A |   B |   C |\n",
       "|:------|----:|----:|----:|\n",
       "| one   |   1 |   2 |   3 |\n",
       "| two   |   4 |   5 |   6 |"
      ],
      "text/plain": [
       "<IPython.core.display.Markdown object>"
      ]
     },
     "metadata": {},
     "output_type": "display_data"
    },
    {
     "name": "stdout",
     "output_type": "stream",
     "text": [
      "    baz       zoo      \n",
      "bar   A  B  C   A  B  C\n",
      "foo                    \n",
      "one   1  2  3   x  y  z\n",
      "two   4  5  6   q  w  t\n",
      "\n",
      "\n",
      "\n",
      "\n",
      "Original df: \n"
     ]
    },
    {
     "data": {
      "text/markdown": [
       "| Day     | City   |   Temperature |\n",
       "|:--------|:-------|--------------:|\n",
       "| Monday  | Delhi  |            32 |\n",
       "| Monday  | Delhi  |            33 |\n",
       "| Monday  | Mumbai |            36 |\n",
       "| Tuesday | Delhi  |            33 |\n",
       "| Tuesday | Mumbai |            36 |\n",
       "| Tuesday | Mumbai |            37 |"
      ],
      "text/plain": [
       "<IPython.core.display.Markdown object>"
      ]
     },
     "metadata": {},
     "output_type": "display_data"
    },
    {
     "name": "stdout",
     "output_type": "stream",
     "text": [
      "\n",
      ".pivot_table() df: \n"
     ]
    },
    {
     "data": {
      "text/markdown": [
       "| Day     |   Delhi |   Mumbai |\n",
       "|:--------|--------:|---------:|\n",
       "| Monday  |       2 |        1 |\n",
       "| Tuesday |       1 |        2 |"
      ],
      "text/plain": [
       "<IPython.core.display.Markdown object>"
      ]
     },
     "metadata": {},
     "output_type": "display_data"
    }
   ],
   "source": [
    "df = pd.DataFrame({\n",
    "    'foo': ['one','one','one','two','two','two'],\n",
    "    'bar': ['A','B','C','A','B','C'],\n",
    "    'baz': [1,2,3,4,5,6],\n",
    "    'zoo': ['x','y','z','q','w','t']\n",
    "})\n",
    "\n",
    "pivoted_df1 = df.pivot(index='foo', columns='bar', values='baz')\n",
    "pivoted_df2 = df.pivot(index='foo', columns='bar')\n",
    "\n",
    "print('Original df:')\n",
    "display_df(df)\n",
    "print('\\n.pivot() dfs:')\n",
    "display_df(pivoted_df1, index=True)\n",
    "print(pivoted_df2)\n",
    "\n",
    "\n",
    "print('\\n\\n')\n",
    "\n",
    "\n",
    "df =  pd.DataFrame({\n",
    "    'Day':         ['Monday', 'Monday', 'Monday', 'Tuesday', 'Tuesday', 'Tuesday'],\n",
    "    'City':        ['Delhi', 'Delhi', 'Mumbai', 'Delhi', 'Mumbai', 'Mumbai'],\n",
    "    'Temperature': [32, 33, 36, 33, 36, 37],\n",
    "})\n",
    "pivot_table_df = df.pivot_table(index='Day', columns='City', values='Temperature', aggfunc='count')\n",
    "\n",
    "print('\\nOriginal df: ')\n",
    "display_df(df)\n",
    "print('\\n.pivot_table() df: ')\n",
    "display_df(pivot_table_df, index=True)"
   ]
  },
  {
   "cell_type": "markdown",
   "id": "342b0c7c-9de1-495d-9c14-ab1318eb0541",
   "metadata": {},
   "source": [
    "<br><br><br>"
   ]
  },
  {
   "cell_type": "markdown",
   "id": "2f059bf5-e547-47ac-b0c4-5d3b14119a24",
   "metadata": {},
   "source": [
    "# `.quantile()`\n",
    "\n",
    "When a `float` is passed into `q`, a series is passed where the indexes are the col names and the col name (of the only \"column\") is the float passed. When a list of floats is passed, a dataframe is returned with the indexes being the floats passed and the column names are the columns of\n",
    "\n",
    "- `q: float | array-like = 0.5`: Value between 0 <= q <= 1, the quantile(s) to compute\n",
    "- `axis: {0,'index',1,'columns'} = 0:` `0`/`'index'` for row-wise, 1/`'columns'` for column-wise\n",
    "- `numeric_only: bool = False:` Include only float, int or boolean columns\n",
    "- `interpolation: {'linear', 'lower', 'higher', 'midpoint', 'nearest'} = 'linear':` This optional parameter specifies the interpolation method to use, when the desired quantile lies between two data points `i` and `j`:\n",
    "    - `linear:` i + (j-i) * fraction, where fraction is the fractional part of the index surrounded by i and j\n",
    "    - `lower:` i\n",
    "    - `higher:` j\n",
    "    - `nearest:` i or j whichever is nearest\n",
    "    - `midpoint:` (i + j) / 2\n",
    "\n",
    "<br>\n",
    "\n",
    "The value of $x$ percentile is the value at the INDEX (x/100)(n-1) in a sorted array. Here we assume that the index of the first elem is 0, and the last elem is n-1"
   ]
  },
  {
   "cell_type": "code",
   "execution_count": 16,
   "id": "e822f6f9-8815-40ce-ac19-2e5d7cf71bae",
   "metadata": {},
   "outputs": [
    {
     "data": {
      "text/markdown": [
       "|    |   0.25 |\n",
       "|:---|-------:|\n",
       "| A  |   3.25 |"
      ],
      "text/plain": [
       "<IPython.core.display.Markdown object>"
      ]
     },
     "metadata": {},
     "output_type": "display_data"
    },
    {
     "data": {
      "text/markdown": [
       "|      |    A |\n",
       "|-----:|-----:|\n",
       "| 0.25 | 3.25 |\n",
       "| 0.5  | 5.5  |\n",
       "| 0.75 | 7.75 |"
      ],
      "text/plain": [
       "<IPython.core.display.Markdown object>"
      ]
     },
     "metadata": {},
     "output_type": "display_data"
    }
   ],
   "source": [
    "df = pd.DataFrame({\n",
    "    'A': [1,2,3,4,5,6,7,8,9,10]\n",
    "})\n",
    "\n",
    "display_df(df.quantile(0.25), index=True)\n",
    "display_df(df.quantile([0.25, 0.5, 0.75]), index=True)"
   ]
  },
  {
   "cell_type": "markdown",
   "id": "cd3f0529-a1e3-466f-a85b-f2c694c4d5c2",
   "metadata": {},
   "source": [
    "<br><br><br>"
   ]
  },
  {
   "cell_type": "markdown",
   "id": "40532c61-83b5-4589-b066-06e44419b2d3",
   "metadata": {},
   "source": [
    "# `.query()`\n",
    "\n",
    "Can do SQL-python like queries. Returns a dataframe\n",
    "\n",
    "The format is `DataFrame.query(expr:str, inplace:bool)`. If `inplace` is `True`, `None` is returned and the original df is replaced by the df which would had been returned if `inplace` was `False`"
   ]
  },
  {
   "cell_type": "code",
   "execution_count": 17,
   "id": "f376d850-284a-4cad-a7f3-bba11e5d54a1",
   "metadata": {},
   "outputs": [
    {
     "name": "stdout",
     "output_type": "stream",
     "text": [
      "\n",
      "Original data:\n"
     ]
    },
    {
     "data": {
      "text/markdown": [
       "|   age | section   | city    | gender   | favorite_color   |\n",
       "|------:|:----------|:--------|:---------|:-----------------|\n",
       "|    10 | A         | Gurgaon | M        | red              |\n",
       "|    22 | B         | Delhi   | F        | black            |\n",
       "|    13 | C         | Mumbai  | F        | yellow           |\n",
       "|    21 | B         | Delhi   | M        | pink             |\n",
       "|    12 | B         | Mumbai  | M        | black            |\n",
       "|    11 | A         | Delhi   | M        | green            |\n",
       "|    17 | A         | Mumbai  | F        | red              |"
      ],
      "text/plain": [
       "<IPython.core.display.Markdown object>"
      ]
     },
     "metadata": {},
     "output_type": "display_data"
    },
    {
     "name": "stdout",
     "output_type": "stream",
     "text": [
      "\n",
      "Records where age >= 15:\n"
     ]
    },
    {
     "data": {
      "text/markdown": [
       "|   age | section   | city   | gender   | favorite_color   |\n",
       "|------:|:----------|:-------|:---------|:-----------------|\n",
       "|    22 | B         | Delhi  | F        | black            |\n",
       "|    21 | B         | Delhi  | M        | pink             |\n",
       "|    17 | A         | Mumbai | F        | red              |"
      ],
      "text/plain": [
       "<IPython.core.display.Markdown object>"
      ]
     },
     "metadata": {},
     "output_type": "display_data"
    },
    {
     "name": "stdout",
     "output_type": "stream",
     "text": [
      "\n",
      "Records where age >= 12 and gender = Male:\n"
     ]
    },
    {
     "data": {
      "text/markdown": [
       "|   age | section   | city   | gender   | favorite_color   |\n",
       "|------:|:----------|:-------|:---------|:-----------------|\n",
       "|    21 | B         | Delhi  | M        | pink             |\n",
       "|    12 | B         | Mumbai | M        | black            |"
      ],
      "text/plain": [
       "<IPython.core.display.Markdown object>"
      ]
     },
     "metadata": {},
     "output_type": "display_data"
    },
    {
     "name": "stdout",
     "output_type": "stream",
     "text": [
      "\n",
      "City and gender of people with age >= 12:\n"
     ]
    }
   ],
   "source": [
    "data = {\n",
    "    'age':            [10,22,13,21,12,11,17],\n",
    "    'section':        ['A','B','C','B','B','A','A'],\n",
    "    'city':           ['Gurgaon','Delhi','Mumbai','Delhi','Mumbai','Delhi','Mumbai'],\n",
    "    'gender':         ['M','F','F','M','M','M','F'],\n",
    "    'favorite_color': ['red','black','yellow','pink','black','green','red']   \n",
    "}\n",
    "df = pd.DataFrame(data)\n",
    "\n",
    "print('\\nOriginal data:')\n",
    "display_df()\n",
    "\n",
    "print('\\nRecords where age >= 15:')\n",
    "display_df( df.query('age >= 15') )\n",
    "\n",
    "print('\\nRecords where age >= 12 and gender = Male:')\n",
    "display_df( df.query('age >= 12 and gender == \"M\"') )\n",
    "\n",
    "print('\\nCity and gender of people with age >= 12:')\n",
    "\n",
    "# Use of `@` and ```"
   ]
  },
  {
   "cell_type": "markdown",
   "id": "e0ef52e4-aed7-4df3-84f1-26b948ef0254",
   "metadata": {},
   "source": [
    "<br><br><br>"
   ]
  },
  {
   "cell_type": "markdown",
   "id": "00d6c1db-5935-4ef0-96dd-c73c42830ca9",
   "metadata": {},
   "source": [
    "# `.reindex()`\n",
    "\n",
    "Basically rearranges the rows/columns (based in their indexes/names), with optional filling logic (not gonna go in depth about that tho, fuck that shit). It canNOT be inplace, and doesnt given an error if the given indexes/column-names are not present in the df\n",
    "\n",
    "- `labels: array-like (positional)`: New indexes/column names (based on the `axis` param)\n",
    "- `index: array-like`: New labels for the index. Preferably an Index object to avoid duplicating data.\n",
    "- `columns: array-like`: New labels for the columns. Preferably an Index object to avoid duplicating data.\n",
    "- `axis: {0,'index',1,'columns'} = 0:` `0`/`'index'` for reordering records, 1/`'columns'` for reordering columns\n",
    "- `fill_value: scalar = np.nan`: Value to use for missing values. Can be any \"compatible\" value\n",
    "- `copy: bool = True`: Return a new object, even if the passed indexes are the same"
   ]
  },
  {
   "cell_type": "code",
   "execution_count": 18,
   "id": "328c9ee6-7fd7-4496-a716-f618f2f34cfe",
   "metadata": {},
   "outputs": [
    {
     "data": {
      "text/markdown": [
       "|           |   http_status |   response_time |\n",
       "|:----------|--------------:|----------------:|\n",
       "| Firefox   |           200 |            0.04 |\n",
       "| Chrome    |           200 |            0.02 |\n",
       "| Safari    |           404 |            0.07 |\n",
       "| IE10      |           404 |            0.08 |\n",
       "| Konqueror |           301 |            1    |"
      ],
      "text/plain": [
       "<IPython.core.display.Markdown object>"
      ]
     },
     "metadata": {},
     "output_type": "display_data"
    },
    {
     "data": {
      "text/markdown": [
       "|               |   http_status |   response_time |\n",
       "|:--------------|--------------:|----------------:|\n",
       "| Safari        |           404 |            0.07 |\n",
       "| Iceweasel     |           nan |          nan    |\n",
       "| Comodo Dragon |           nan |          nan    |\n",
       "| IE10          |           404 |            0.08 |\n",
       "| Chrome        |           200 |            0.02 |"
      ],
      "text/plain": [
       "<IPython.core.display.Markdown object>"
      ]
     },
     "metadata": {},
     "output_type": "display_data"
    },
    {
     "data": {
      "text/markdown": [
       "|           |   response_time |   http_status |   average |\n",
       "|:----------|----------------:|--------------:|----------:|\n",
       "| Firefox   |            0.04 |           200 |       nan |\n",
       "| Chrome    |            0.02 |           200 |       nan |\n",
       "| Safari    |            0.07 |           404 |       nan |\n",
       "| IE10      |            0.08 |           404 |       nan |\n",
       "| Konqueror |            1    |           301 |       nan |"
      ],
      "text/plain": [
       "<IPython.core.display.Markdown object>"
      ]
     },
     "metadata": {},
     "output_type": "display_data"
    }
   ],
   "source": [
    "index = ['Firefox', 'Chrome', 'Safari', 'IE10', 'Konqueror']\n",
    "df = pd.DataFrame({\n",
    "    'http_status':   [200, 200, 404, 404, 301],\n",
    "    'response_time': [0.04, 0.02, 0.07, 0.08, 1.0]\n",
    "}, index=index)\n",
    "\n",
    "display_df(df, index=True)\n",
    "\n",
    "display_df( df.reindex(index=['Safari', 'Iceweasel', 'Comodo Dragon', 'IE10', 'Chrome']) , index=True)\n",
    "display_df( df.reindex(labels=['response_time', 'http_status', 'average'],axis=1) , index=True)"
   ]
  },
  {
   "cell_type": "markdown",
   "id": "59e330fa-9137-458f-b6ba-e10543866fb3",
   "metadata": {},
   "source": [
    "<br><br><br>"
   ]
  },
  {
   "cell_type": "markdown",
   "id": "f34923bc-b1a7-41c6-8dc7-5a9ad045481f",
   "metadata": {},
   "source": [
    "# `.rename()`\n",
    "Used to rename indices or columns, NOT values of cells\n",
    "\n",
    "It by default doesn't do the renaming inplace, and instead returns a copy\n",
    "\n",
    "(Here the `mapper`, `index`, and `columns` arguments accept a dict-like object or a function)\n",
    "\n",
    "Arguments:\n",
    "\n",
    "- `mapper`: Dict-like or function transformations to apply to that axis' values\n",
    "- `axis: int | str = 0`: Axis to target with mapper. Can be `0`/`index` or `1`/`columns`\n",
    "- `index`: Alternative to specifying axis (`mapper,axis=0` is equivalent to `index=mapper`)\n",
    "- `columns`: Alternative to specifying axis (`mapper,axis=1` is equivalent to `columns=mapper`)\n",
    "- `inplace: bool = False`: Whether to modify the DataFrame rather than creating a new one\n",
    "- `errors: str`: Can be \"raise\" or \"ignore\". If \"raise\", then raise a KeyError when a dict-like mapper, index, or columns contains labels that are not present in the Index being transformed. If \"ignore\", existing keys will be renamed and extra keys will be ignored"
   ]
  },
  {
   "cell_type": "code",
   "execution_count": 19,
   "id": "4fe73d71-4f15-41d3-a019-d780b2a063b3",
   "metadata": {},
   "outputs": [
    {
     "data": {
      "text/markdown": [
       "|       |   New A |   New B |\n",
       "|:------|--------:|--------:|\n",
       "| Row 0 |       1 |       4 |\n",
       "| Row 1 |       2 |       5 |\n",
       "| Row 2 |       3 |       6 |"
      ],
      "text/plain": [
       "<IPython.core.display.Markdown object>"
      ]
     },
     "metadata": {},
     "output_type": "display_data"
    }
   ],
   "source": [
    "df = pd.DataFrame({'A': [1, 2, 3], 'B': [4, 5, 6]})\n",
    "\n",
    "df.rename(columns={'A':'New A', 'B':'New B'}, inplace=True)\n",
    "df.rename(index=lambda x: f'Row {x}', inplace=True)\n",
    "display_df(index=True)"
   ]
  },
  {
   "cell_type": "markdown",
   "id": "e114712b-153b-4570-9e20-eced1cac1c24",
   "metadata": {},
   "source": [
    "<br><br><br>"
   ]
  },
  {
   "cell_type": "markdown",
   "id": "94a2a8ae-d3f0-440c-9639-4ed9dcd7dffb",
   "metadata": {},
   "source": [
    "# `.reset_index()`\n",
    "\n",
    "Reset the index of the dataframe, and use the default one instead\n",
    "\n",
    "- `inplace: bool = False`: Whether to modify the dataframe rather than creating a new one"
   ]
  },
  {
   "cell_type": "markdown",
   "id": "5df6eef6-7a30-4ebe-b9ad-008414b025f5",
   "metadata": {},
   "source": [
    "<br><br><br>"
   ]
  },
  {
   "cell_type": "markdown",
   "id": "046ad981-e9ba-4a9d-89a9-f063f92fb591",
   "metadata": {},
   "source": [
    "# [`.select_dtypes()`](https://pandas.pydata.org/pandas-docs/stable/reference/api/pandas.DataFrame.select_dtypes.html)\n",
    "\n",
    "Returns a dataframe containing only the columns which satisfy the inclusive the exclusive conditions. It takes in the following arguments:\n",
    "\n",
    "- `includes: scalar or list-like = None`: If a scalar value is passed, the columns must be of that datatype. Else if a list-like object is passed, the columns must be one of those datatypes\n",
    "- `excludes: scalar or list-like = None`: Similar logic as `includes`\n",
    "\n",
    "Will raise a `ValueError` if both `include` and `exclude` are empty, contain overlapping elems, or contain a string datatype\n",
    "\n",
    "To select all numeric datatypes, do `np.number` or `\"number\"`"
   ]
  },
  {
   "cell_type": "code",
   "execution_count": 20,
   "id": "28793ac1-87e2-4d02-be48-0d858e707476",
   "metadata": {},
   "outputs": [
    {
     "name": "stdout",
     "output_type": "stream",
     "text": [
      "include='int'\n"
     ]
    },
    {
     "data": {
      "text/markdown": [
       "|   Integers |\n",
       "|-----------:|\n",
       "|          1 |\n",
       "|          2 |\n",
       "|          3 |"
      ],
      "text/plain": [
       "<IPython.core.display.Markdown object>"
      ]
     },
     "metadata": {},
     "output_type": "display_data"
    },
    {
     "name": "stdout",
     "output_type": "stream",
     "text": [
      "include='float'\n"
     ]
    },
    {
     "data": {
      "text/markdown": [
       "|   Floats |\n",
       "|---------:|\n",
       "|        4 |\n",
       "|        5 |\n",
       "|        6 |"
      ],
      "text/plain": [
       "<IPython.core.display.Markdown object>"
      ]
     },
     "metadata": {},
     "output_type": "display_data"
    },
    {
     "name": "stdout",
     "output_type": "stream",
     "text": [
      "include=[bool, 'object']\n"
     ]
    },
    {
     "data": {
      "text/markdown": [
       "| Strings (Objects)   | Booleans   |\n",
       "|:--------------------|:-----------|\n",
       "| a                   | True       |\n",
       "| b                   | False      |\n",
       "| c                   | True       |"
      ],
      "text/plain": [
       "<IPython.core.display.Markdown object>"
      ]
     },
     "metadata": {},
     "output_type": "display_data"
    },
    {
     "name": "stdout",
     "output_type": "stream",
     "text": [
      "include='number'\n"
     ]
    },
    {
     "data": {
      "text/markdown": [
       "|   Integers |   Floats |\n",
       "|-----------:|---------:|\n",
       "|          1 |        4 |\n",
       "|          2 |        5 |\n",
       "|          3 |        6 |"
      ],
      "text/plain": [
       "<IPython.core.display.Markdown object>"
      ]
     },
     "metadata": {},
     "output_type": "display_data"
    }
   ],
   "source": [
    "df = pd.DataFrame({\n",
    "    'Integers': [1, 2, 3],\n",
    "    'Floats': [4.0, 5.0, 6.0],\n",
    "    'Strings (Objects)': ['a', 'b', 'c'],\n",
    "    'Booleans': [True, False, True]\n",
    "})\n",
    "\n",
    "print(\"include='int'\")\n",
    "display_df(df.select_dtypes(include='int'))\n",
    "\n",
    "print(\"include='float'\")\n",
    "display_df(df.select_dtypes(include='float'))\n",
    "\n",
    "print(\"include=[bool, 'object']\")\n",
    "display_df(df.select_dtypes(include=[bool, 'object']))\n",
    "\n",
    "print(\"include='number'\")\n",
    "display_df(df.select_dtypes(include='number'))"
   ]
  },
  {
   "cell_type": "markdown",
   "id": "a8bd0e83-d357-43f2-aaba-58aef9bc40dc",
   "metadata": {},
   "source": [
    "<br><br><br>"
   ]
  },
  {
   "cell_type": "markdown",
   "id": "a71fe01c-f488-4ef8-8287-c2f928706f64",
   "metadata": {},
   "source": [
    "# `.skew()`\n",
    "\n",
    "The formula for skewness used by pandas calculates the skewness of a dataset along the specified axis. Skewness measures the asymmetry of the probability distribution of a real-valued random variable about its mean\n",
    "\n",
    "$$Skewness = \\frac{\\frac{1}{n} \\sum_{i=1}^{n} (x_i - \\bar{x})^3}{\\sigma^3}$$\n",
    "\n",
    "where:\n",
    "\n",
    "- $n$ is the number of data points\n",
    "- $x_i$ represents each individual data point\n",
    "- $\\bar{x}$ is the mean of the dataset\n",
    "- The numerator calculates the third central moment (mean of the cubed deviations from the mean)\n",
    "\n",
    "<br>\n",
    "\n",
    "### Args:\n",
    "\n",
    "- `axis: {0,'index',1'columns'} = 0`: Axis for the function to be applied on. For Series this parameter is unused and defaults to 0. For DataFrames, specifying `axis=None` will apply the aggregation across both axes\n",
    "- `skipna: bool = True`: Exclude NA/null values when computing the result\n",
    "- `numeric_only: bool = False`: Include only float, int, boolean columns. Not implemented for series"
   ]
  },
  {
   "cell_type": "markdown",
   "id": "44812cf8-f4f7-4df6-b438-beaed49ea2f1",
   "metadata": {},
   "source": [
    "<br><br><br>"
   ]
  },
  {
   "cell_type": "markdown",
   "id": "0193fabd-85cf-453d-b384-693f8be4f59a",
   "metadata": {},
   "source": [
    "# [`.sort_values()`](https://pandas.pydata.org/pandas-docs/stable/reference/api/pandas.DataFrame.sort_values.html)\n",
    "\n",
    "Rearranges the records in an ascending/descending manner. based on the vals of one more more columns\n",
    "\n",
    "Arguments:\n",
    "\n",
    "- `by: str | list[str]`: Name or list of names to sort by\n",
    "- `axis: int | str = 0`: Axis to be sorted. Can be `0`/`index` or `1`/`columns`\n",
    "- `ascending: bool | list[bool] = True`: Self explanatory. Specify list for multiple sort orders. If this is a list of bools, must match the length of the `by`\n",
    "- `inplace: bool = False`: If `True`, perform operation in-place\n",
    "- `na_position: str = \"last\"`: Puts NaNs at the beginning if `first`, and at the end if `last`\n",
    "- `ignore_index: bool = False`: If `True`, the resulting axis will be labeled 0,1,...,n-1"
   ]
  },
  {
   "cell_type": "code",
   "execution_count": 21,
   "id": "a031207a-7504-4402-8263-39b2dc26ab63",
   "metadata": {},
   "outputs": [
    {
     "name": "stdout",
     "output_type": "stream",
     "text": [
      "\n",
      "Original data:\n"
     ]
    },
    {
     "data": {
      "text/markdown": [
       "|   age | section   | city    | gender   | favorite_color   |\n",
       "|------:|:----------|:--------|:---------|:-----------------|\n",
       "|    10 | A         | Gurgaon | M        | red              |\n",
       "|    22 | B         | Delhi   | F        | black            |\n",
       "|    13 | C         | Mumbai  | F        | yellow           |\n",
       "|    21 | B         | Delhi   | M        | pink             |\n",
       "|    12 | B         | Mumbai  | M        | black            |\n",
       "|    11 | A         | Delhi   | M        | green            |\n",
       "|    17 | A         | Mumbai  | F        | red              |"
      ],
      "text/plain": [
       "<IPython.core.display.Markdown object>"
      ]
     },
     "metadata": {},
     "output_type": "display_data"
    },
    {
     "name": "stdout",
     "output_type": "stream",
     "text": [
      "\n",
      "Sorted by age (descending):\n"
     ]
    },
    {
     "data": {
      "text/markdown": [
       "|    |   age | section   | city    | gender   | favorite_color   |\n",
       "|---:|------:|:----------|:--------|:---------|:-----------------|\n",
       "|  1 |    22 | B         | Delhi   | F        | black            |\n",
       "|  3 |    21 | B         | Delhi   | M        | pink             |\n",
       "|  6 |    17 | A         | Mumbai  | F        | red              |\n",
       "|  2 |    13 | C         | Mumbai  | F        | yellow           |\n",
       "|  4 |    12 | B         | Mumbai  | M        | black            |\n",
       "|  5 |    11 | A         | Delhi   | M        | green            |\n",
       "|  0 |    10 | A         | Gurgaon | M        | red              |"
      ],
      "text/plain": [
       "<IPython.core.display.Markdown object>"
      ]
     },
     "metadata": {},
     "output_type": "display_data"
    }
   ],
   "source": [
    "data = {\n",
    "    'age':            [10,22,13,21,12,11,17],\n",
    "    'section':        ['A','B','C','B','B','A','A'],\n",
    "    'city':           ['Gurgaon','Delhi','Mumbai','Delhi','Mumbai','Delhi','Mumbai'],\n",
    "    'gender':         ['M','F','F','M','M','M','F'],\n",
    "    'favorite_color': ['red','black','yellow','pink','black','green','red']   \n",
    "}\n",
    "df = pd.DataFrame(data)\n",
    "\n",
    "print('\\nOriginal data:')\n",
    "display_df()\n",
    "\n",
    "print('\\nSorted by age (descending):')\n",
    "display_df( df.sort_values(by='age',ascending=False) , index=True )"
   ]
  },
  {
   "cell_type": "markdown",
   "id": "a7335dbc-eb38-4ac8-80d4-32ea436f49c5",
   "metadata": {},
   "source": [
    "<br><br><br>"
   ]
  },
  {
   "cell_type": "markdown",
   "id": "4aa86ef7-4f95-4e95-8829-19453871f86f",
   "metadata": {},
   "source": [
    "# `.unique()` & `.nunique()`\n",
    "\n",
    "### `.unique()`\n",
    "\n",
    "A DATAFRAME DOESNT HAVE A `.unique()` METHOD, ONLY SERIES DO\n",
    "\n",
    "### `.nunique()`\n",
    "\n",
    "Count number of distinct elements in specified axis. Returns a series with number of distinct elements, with the indexes being the column names or row indices. Can ignore NaN values\n",
    "\n",
    "- `axis: {0,'index',1'columns'} = 0`: Axis for the function to be applied on. Remember, `0` means `'index` and `1` means `'columns'`\n",
    "- `dropna: bool = True`: If `True`, NaN is not included in the counts"
   ]
  },
  {
   "cell_type": "code",
   "execution_count": 23,
   "id": "ade14931-1756-4dee-96bb-af962a968dc9",
   "metadata": {},
   "outputs": [
    {
     "data": {
      "text/markdown": [
       "|    |   0 |\n",
       "|:---|----:|\n",
       "| A  |   2 |\n",
       "| B  |   2 |\n",
       "| C  |   1 |"
      ],
      "text/plain": [
       "<IPython.core.display.Markdown object>"
      ]
     },
     "metadata": {},
     "output_type": "display_data"
    },
    {
     "data": {
      "text/markdown": [
       "|    |   0 |\n",
       "|---:|----:|\n",
       "|  0 |   3 |\n",
       "|  1 |   3 |\n",
       "|  2 |   2 |"
      ],
      "text/plain": [
       "<IPython.core.display.Markdown object>"
      ]
     },
     "metadata": {},
     "output_type": "display_data"
    },
    {
     "data": {
      "text/markdown": [
       "|    |   0 |\n",
       "|:---|----:|\n",
       "| A  |   2 |\n",
       "| B  |   2 |\n",
       "| C  |   2 |"
      ],
      "text/plain": [
       "<IPython.core.display.Markdown object>"
      ]
     },
     "metadata": {},
     "output_type": "display_data"
    }
   ],
   "source": [
    "df = pd.DataFrame([\n",
    "    [1,2,3],\n",
    "    [1,2,3],\n",
    "    [2,3,np.nan]\n",
    "], columns=['A','B','C'])\n",
    "\n",
    "display_df( df.nunique()             ,index=True)\n",
    "display_df( df.nunique(axis=1)       ,index=True)\n",
    "display_df( df.nunique(dropna=False) ,index=True)"
   ]
  },
  {
   "cell_type": "markdown",
   "id": "f76de863-fddb-4b13-8173-305a7c6db1a5",
   "metadata": {},
   "source": [
    "<br><br><br>"
   ]
  },
  {
   "cell_type": "markdown",
   "id": "aeca3a41-107a-4ea6-8851-f18ab7105c35",
   "metadata": {},
   "source": [
    "# [`.value_counts()`](https://pandas.pydata.org/pandas-docs/stable/reference/api/pandas.DataFrame.value_counts.html)\n",
    "\n",
    "Basically the frequency of each unique record/value. By default, it does not include counts of rows which contain NA values\n",
    "\n",
    "- `subset: str | list[str] = None`: Columns to use when counting unique combinations. If `None` (default), use all columns\n",
    "- `normalize: bool = False`: If `True`, return proportions (as in floats) rather than frequencies\n",
    "- `sort: bool = True`: Sort by frequencies when `True`. Sort by DataFrame column values when `False`\n",
    "- `ascending: bool = False`: If `True`, sort in ascending order\n",
    "- `dropna: bool = True`: If `True`, don’t include counts of rows that contain NA values"
   ]
  },
  {
   "cell_type": "code",
   "execution_count": 26,
   "id": "94e60a86-9f33-4349-82cd-157688bf39cd",
   "metadata": {},
   "outputs": [
    {
     "data": {
      "text/markdown": [
       "|                            |   count |\n",
       "|:---------------------------|--------:|\n",
       "| ('Doe', 35, 'Los Angeles') |       2 |\n",
       "| ('John', 28, 'New York')   |       2 |\n",
       "| ('Anna', 29, 'Chicago')    |       1 |"
      ],
      "text/plain": [
       "<IPython.core.display.Markdown object>"
      ]
     },
     "metadata": {},
     "output_type": "display_data"
    },
    {
     "name": "stdout",
     "output_type": "stream",
     "text": [
      "\n",
      "\n"
     ]
    },
    {
     "data": {
      "text/markdown": [
       "| City        |   count |\n",
       "|:------------|--------:|\n",
       "| Los Angeles |       2 |\n",
       "| New York    |       2 |\n",
       "| Chicago     |       1 |"
      ],
      "text/plain": [
       "<IPython.core.display.Markdown object>"
      ]
     },
     "metadata": {},
     "output_type": "display_data"
    },
    {
     "data": {
      "text/markdown": [
       "|                  |   proportion |\n",
       "|:-----------------|-------------:|\n",
       "| ('Los Angeles',) |          0.4 |\n",
       "| ('New York',)    |          0.4 |\n",
       "| ('Chicago',)     |          0.2 |"
      ],
      "text/plain": [
       "<IPython.core.display.Markdown object>"
      ]
     },
     "metadata": {},
     "output_type": "display_data"
    }
   ],
   "source": [
    "df = pd.DataFrame({\n",
    "    'Name': ['John', 'Doe', 'John', 'Doe', 'Anna'],\n",
    "    'Age':  [28, 35, 28, 35, 29],\n",
    "    'City': ['New York', 'Los Angeles', 'New York', 'Los Angeles', 'Chicago']\n",
    "})\n",
    "\n",
    "counts = df.value_counts()\n",
    "display_df(counts, index=True)\n",
    "\n",
    "print('\\n')\n",
    "counts = df.value_counts(subset='City')\n",
    "display_df(counts, index=True)\n",
    "counts = df.value_counts(subset=['City'], normalize=True)\n",
    "display_df(counts, index=True)"
   ]
  },
  {
   "cell_type": "markdown",
   "id": "cb5060d4-ded5-4834-9710-08399fe09b17",
   "metadata": {},
   "source": [
    "<br><br><br>"
   ]
  },
  {
   "cell_type": "markdown",
   "id": "5a94f62c-fba9-4bcc-93fd-71c6437a03a9",
   "metadata": {},
   "source": [
    "# `.var()` / `.std()`\n",
    "\n",
    "For `.var(),` return (unbiased) variance over requested axis. For `.std()`, return sample standard deviation over requested axis\n",
    "\n",
    "- `axis: {0,1} = 0`: 0 - variance of each column. 1 - variance of each row/index. For series this parameter is unused and defaults to 0\n",
    "- `skipna: bool = True`: Exclude NA/null values. If an entire row/column is NA, the result will be NA\n",
    "- `numeric_only: bool = False`: Include only float, int, boolean columns. Not implemented for series\n",
    "\n",
    "Remember, the formula for variance is\n",
    "\n",
    "$$\\sigma^2 = \\frac{\\sum_{i=1}^{n}(x_i - {\\mu})^2}{n}$$\n",
    "\n",
    "where\n",
    "\n",
    "- $x_i$ represents the i-th value\n",
    "- ${\\mu}$ represents the population mean\n",
    "- $n$ represents the total number of values in the population"
   ]
  },
  {
   "cell_type": "markdown",
   "id": "3587ac5e-d831-498f-8c55-78680273b40a",
   "metadata": {},
   "source": [
    "<br><br><br>"
   ]
  },
  {
   "cell_type": "markdown",
   "id": "9de8f6b4-8658-4878-ac7d-b4814cd22b08",
   "metadata": {},
   "source": [
    "# Series\n",
    "\n",
    "Remember, series dont have a `.query` method, so you just gotta use the (stupid imo) method of shit like `s[s > 6]`\n",
    "\n",
    "- `.isin()`\n",
    "- `.astype()`\n",
    "- `.apply()`\n",
    "- `.dtype`\n",
    "- `.replace()`\n",
    "- `.unique()`"
   ]
  },
  {
   "cell_type": "markdown",
   "id": "e42f7f3c-9800-4d7b-b01a-fd4a80453858",
   "metadata": {},
   "source": [
    "<br><br><br>"
   ]
  },
  {
   "cell_type": "markdown",
   "id": "1ac95912-3408-4b54-80fc-38b715c9dad5",
   "metadata": {},
   "source": [
    "<br><br><br>"
   ]
  },
  {
   "cell_type": "markdown",
   "id": "26a2ae56-7448-40e1-a096-ad79432d9fc4",
   "metadata": {},
   "source": [
    "<br><br><br>"
   ]
  },
  {
   "cell_type": "markdown",
   "id": "a1c723dd-c0fb-447b-acba-235e2739dff7",
   "metadata": {},
   "source": [
    "<br><br><br>"
   ]
  },
  {
   "cell_type": "markdown",
   "id": "8c74306a-86a7-4c48-a12b-821cc28d4179",
   "metadata": {},
   "source": [
    "<br><br><br>"
   ]
  }
 ],
 "metadata": {
  "kernelspec": {
   "display_name": "Python 3 (ipykernel)",
   "language": "python",
   "name": "python3"
  },
  "language_info": {
   "codemirror_mode": {
    "name": "ipython",
    "version": 3
   },
   "file_extension": ".py",
   "mimetype": "text/x-python",
   "name": "python",
   "nbconvert_exporter": "python",
   "pygments_lexer": "ipython3",
   "version": "3.12.3"
  }
 },
 "nbformat": 4,
 "nbformat_minor": 5
}
