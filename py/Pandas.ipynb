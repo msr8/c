{
 "cells": [
  {
   "cell_type": "markdown",
   "id": "60811099-7770-4958-95c1-706c260248f5",
   "metadata": {},
   "source": [
    "### Initialisation"
   ]
  },
  {
   "cell_type": "code",
   "execution_count": 1,
   "id": "ddbea68b-2ba0-4f9d-8d04-45c6bcd99af6",
   "metadata": {},
   "outputs": [],
   "source": [
    "import pandas as pd\n",
    "from IPython.display import HTML, Markdown, Latex\n",
    "\n",
    "\n",
    "def display_df(tp_df=None, index=False):\n",
    "    tp_df = tp_df if isinstance(tp_df,pd.DataFrame) else df\n",
    "    display(Markdown(tp_df.to_markdown(index=index)))\n",
    "\n",
    "# def display_df(tp_df=None, index=False):\n",
    "#     tp_df = tp_df if isinstance(tp_df,pd.DataFrame) else df\n",
    "#     display(HTML(tp_df.to_html(index=index)))"
   ]
  },
  {
   "cell_type": "markdown",
   "id": "85a40670-8b18-4913-8b0d-e4e23169ab41",
   "metadata": {},
   "source": [
    "<br><br><br>"
   ]
  },
  {
   "cell_type": "markdown",
   "id": "a42bc9c5-764b-4a9e-b9c0-8aa97f5cc63c",
   "metadata": {},
   "source": [
    "### Creating a dataframe"
   ]
  },
  {
   "cell_type": "code",
   "execution_count": 2,
   "id": "8b8d023b-1ce8-499a-bf21-3871bd6dbe47",
   "metadata": {},
   "outputs": [
    {
     "data": {
      "text/markdown": [
       "|   age | section   | city    | gender   | favorite_color   |\n",
       "|------:|:----------|:--------|:---------|:-----------------|\n",
       "|    10 | A         | Gurgaon | M        | red              |\n",
       "|    22 | B         | Delhi   | F        | black            |\n",
       "|    13 | C         | Mumbai  | F        | yellow           |\n",
       "|    21 | B         | Delhi   | M        | pink             |\n",
       "|    12 | B         | Mumbai  | M        | black            |\n",
       "|    11 | A         | Delhi   | M        | green            |\n",
       "|    17 | A         | Mumbai  | F        | red              |"
      ],
      "text/plain": [
       "<IPython.core.display.Markdown object>"
      ]
     },
     "metadata": {},
     "output_type": "display_data"
    },
    {
     "data": {
      "text/markdown": [
       "|   age | section   | city    | gender   | favorite_color   |\n",
       "|------:|:----------|:--------|:---------|:-----------------|\n",
       "|    10 | A         | Gurgaon | M        | red              |\n",
       "|    22 | B         | Delhi   | F        | black            |\n",
       "|    13 | C         | Mumbai  | F        | yellow           |\n",
       "|    21 | B         | Delhi   | M        | pink             |\n",
       "|    12 | B         | Mumbai  | M        | black            |\n",
       "|    11 | A         | Delhi   | M        | green            |\n",
       "|    17 | A         | Mumbai  | F        | red              |"
      ],
      "text/plain": [
       "<IPython.core.display.Markdown object>"
      ]
     },
     "metadata": {},
     "output_type": "display_data"
    },
    {
     "data": {
      "text/markdown": [
       "|   age | section   | city    | gender   | favorite_color   |\n",
       "|------:|:----------|:--------|:---------|:-----------------|\n",
       "|    10 | A         | Gurgaon | M        | red              |\n",
       "|    22 | B         | Delhi   | F        | black            |\n",
       "|    13 | C         | Mumbai  | F        | yellow           |\n",
       "|    21 | B         | Delhi   | M        | pink             |\n",
       "|    12 | B         | Mumbai  | M        | black            |\n",
       "|    11 | A         | Delhi   | M        | green            |\n",
       "|    17 | A         | Mumbai  | F        | red              |"
      ],
      "text/plain": [
       "<IPython.core.display.Markdown object>"
      ]
     },
     "metadata": {},
     "output_type": "display_data"
    }
   ],
   "source": [
    "data = {\n",
    "    'age':            [10,22,13,21,12,11,17],\n",
    "    'section':        ['A','B','C','B','B','A','A'],\n",
    "    'city':           ['Gurgaon','Delhi','Mumbai','Delhi','Mumbai','Delhi','Mumbai'],\n",
    "    'gender':         ['M','F','F','M','M','M','F'],\n",
    "    'favorite_color': ['red','black','yellow','pink','black','green','red']   \n",
    "}\n",
    "\n",
    "data_csv = [\n",
    "    ['age', 'section', 'city',    'gender', 'favorite_color'],\n",
    "    [10,    'A',       'Gurgaon', 'M',      'red'           ],\n",
    "    [22,    'B',       'Delhi',   'F',      'black'         ],\n",
    "    [13,    'C',       'Mumbai',  'F',      'yellow'        ],\n",
    "    [21,    'B',       'Delhi',   'M',      'pink'          ],\n",
    "    [12,    'B',       'Mumbai',  'M',      'black'         ],\n",
    "    [11,    'A',       'Delhi',   'M',      'green'         ],\n",
    "    [17,    'A',       'Mumbai',  'F',      'red'           ]\n",
    "]\n",
    "\n",
    "data_dict = [\n",
    "    {'age': 10, 'section': 'A', 'city': 'Gurgaon', 'gender': 'M', 'favorite_color': 'red'},\n",
    "    {'age': 22, 'section': 'B', 'city': 'Delhi',   'gender': 'F', 'favorite_color': 'black'},\n",
    "    {'age': 13, 'section': 'C', 'city': 'Mumbai',  'gender': 'F', 'favorite_color': 'yellow'},\n",
    "    {'age': 21, 'section': 'B', 'city': 'Delhi',   'gender': 'M', 'favorite_color': 'pink'},\n",
    "    {'age': 12, 'section': 'B', 'city': 'Mumbai',  'gender': 'M', 'favorite_color': 'black'},\n",
    "    {'age': 11, 'section': 'A', 'city': 'Delhi',   'gender': 'M', 'favorite_color': 'green'},\n",
    "    {'age': 17, 'section': 'A', 'city': 'Mumbai',  'gender': 'F', 'favorite_color': 'red'}\n",
    "]\n",
    "\n",
    "df = pd.DataFrame(data)\n",
    "display_df()\n",
    "\n",
    "df = pd.DataFrame(data_csv[1:], columns=data_csv[0])\n",
    "display_df()\n",
    "\n",
    "df = pd.DataFrame(data_dict)\n",
    "display_df()"
   ]
  },
  {
   "cell_type": "markdown",
   "id": "0a1dbb40-7b8e-42c6-9164-f68a6c2e5a5b",
   "metadata": {},
   "source": [
    "### `.head()` and `.tail()`\n",
    "\n",
    "Both take a single optional argument, ie `n`, which is an integer representing the number of records to show. By default, it is 5. `.head()` shows the n top most records and `.tail()` shows the n bottom most records"
   ]
  },
  {
   "cell_type": "code",
   "execution_count": 3,
   "id": "5257b645-80cd-4dfd-898d-400771701e58",
   "metadata": {},
   "outputs": [
    {
     "data": {
      "text/markdown": [
       "|    |   age | section   | city    | gender   | favorite_color   |\n",
       "|---:|------:|:----------|:--------|:---------|:-----------------|\n",
       "|  0 |    10 | A         | Gurgaon | M        | red              |\n",
       "|  1 |    22 | B         | Delhi   | F        | black            |\n",
       "|  2 |    13 | C         | Mumbai  | F        | yellow           |"
      ],
      "text/plain": [
       "<IPython.core.display.Markdown object>"
      ]
     },
     "metadata": {},
     "output_type": "display_data"
    },
    {
     "data": {
      "text/markdown": [
       "|    |   age | section   | city   | gender   | favorite_color   |\n",
       "|---:|------:|:----------|:-------|:---------|:-----------------|\n",
       "|  4 |    12 | B         | Mumbai | M        | black            |\n",
       "|  5 |    11 | A         | Delhi  | M        | green            |\n",
       "|  6 |    17 | A         | Mumbai | F        | red              |"
      ],
      "text/plain": [
       "<IPython.core.display.Markdown object>"
      ]
     },
     "metadata": {},
     "output_type": "display_data"
    }
   ],
   "source": [
    "display_df( df.head(3) , index=True )\n",
    "display_df( df.tail(3) , index=True )"
   ]
  },
  {
   "cell_type": "markdown",
   "id": "20f0ff10-2544-4f61-a58f-4c2a9eb68c51",
   "metadata": {},
   "source": [
    "### `.iloc[]`\n",
    "\n",
    "Format is something like `DataFrame.iloc[row_indexer, column_indexer]`. Here `column_indexer` is optional. If it is not given, all columns will be printed\n",
    "\n",
    "Remember, here rows start with index 1 rather than index 0\n",
    "\n",
    "- `row_indexer`: This can be a slice (like `1:9:2` or `:`), or a list of the indexes, like `[1,4,5]`\n",
    "- `column_indexer`: This can be a slice (like `1:9:2` or `:`), or a list of the indexes of the columns, like `[1,4,5]`"
   ]
  },
  {
   "cell_type": "code",
   "execution_count": 4,
   "id": "fbd46b6e-0c7b-4fbb-933a-bc864459483e",
   "metadata": {},
   "outputs": [
    {
     "name": "stdout",
     "output_type": "stream",
     "text": [
      "\n",
      "Original data:\n"
     ]
    },
    {
     "data": {
      "text/markdown": [
       "|   age | section   | city    | gender   | favorite_color   |\n",
       "|------:|:----------|:--------|:---------|:-----------------|\n",
       "|    10 | A         | Gurgaon | M        | red              |\n",
       "|    22 | B         | Delhi   | F        | black            |\n",
       "|    13 | C         | Mumbai  | F        | yellow           |\n",
       "|    21 | B         | Delhi   | M        | pink             |\n",
       "|    12 | B         | Mumbai  | M        | black            |\n",
       "|    11 | A         | Delhi   | M        | green            |\n",
       "|    17 | A         | Mumbai  | F        | red              |"
      ],
      "text/plain": [
       "<IPython.core.display.Markdown object>"
      ]
     },
     "metadata": {},
     "output_type": "display_data"
    },
    {
     "name": "stdout",
     "output_type": "stream",
     "text": [
      "\n",
      "Records of index 1 & 3\n"
     ]
    },
    {
     "data": {
      "text/markdown": [
       "|   age | section   | city   | gender   | favorite_color   |\n",
       "|------:|:----------|:-------|:---------|:-----------------|\n",
       "|    22 | B         | Delhi  | F        | black            |\n",
       "|    21 | B         | Delhi  | M        | pink             |"
      ],
      "text/plain": [
       "<IPython.core.display.Markdown object>"
      ]
     },
     "metadata": {},
     "output_type": "display_data"
    }
   ],
   "source": [
    "data = {\n",
    "    'age':            [10,22,13,21,12,11,17],\n",
    "    'section':        ['A','B','C','B','B','A','A'],\n",
    "    'city':           ['Gurgaon','Delhi','Mumbai','Delhi','Mumbai','Delhi','Mumbai'],\n",
    "    'gender':         ['M','F','F','M','M','M','F'],\n",
    "    'favorite_color': ['red','black','yellow','pink','black','green','red']   \n",
    "}\n",
    "df = pd.DataFrame(data)\n",
    "\n",
    "print('\\nOriginal data:')\n",
    "display_df()\n",
    "\n",
    "print('\\nRecords of index 1 & 3')\n",
    "display_df( df.iloc[ [1,3] , : ] )"
   ]
  },
  {
   "cell_type": "markdown",
   "id": "8a1daa47-54d9-4827-8bb5-dd9f50fefde8",
   "metadata": {},
   "source": [
    "### `.loc[]`\n",
    "\n",
    "Just like `.iloc[]`, but uses names (strings) rather than indexes, and the slicing in end-inclusive (unlike the slicing we have seen till now)"
   ]
  },
  {
   "cell_type": "code",
   "execution_count": null,
   "id": "90a4b6fb-29e1-4f28-b0f1-9aa3c4220bf4",
   "metadata": {},
   "outputs": [],
   "source": []
  },
  {
   "cell_type": "markdown",
   "id": "3ca0a3d3-4d99-499a-83be-f4a925aeb505",
   "metadata": {},
   "source": [
    "<br>"
   ]
  },
  {
   "cell_type": "markdown",
   "id": "feef1d3d-7b53-44de-b796-e7b347d8f376",
   "metadata": {},
   "source": [
    "### `.query()`\n",
    "\n",
    "Can do SQL-python like queries. Returns a dataframe\n",
    "\n",
    "The format is `DataFrame.query(expr:str, inplace:bool)`. If `inplace` is `True`, `None` is returned and the original df is replaced by the df which would had been returned if `inplace` was `False`"
   ]
  },
  {
   "cell_type": "code",
   "execution_count": 5,
   "id": "f376d850-284a-4cad-a7f3-bba11e5d54a1",
   "metadata": {},
   "outputs": [
    {
     "name": "stdout",
     "output_type": "stream",
     "text": [
      "\n",
      "Original data:\n"
     ]
    },
    {
     "data": {
      "text/markdown": [
       "|   age | section   | city    | gender   | favorite_color   |\n",
       "|------:|:----------|:--------|:---------|:-----------------|\n",
       "|    10 | A         | Gurgaon | M        | red              |\n",
       "|    22 | B         | Delhi   | F        | black            |\n",
       "|    13 | C         | Mumbai  | F        | yellow           |\n",
       "|    21 | B         | Delhi   | M        | pink             |\n",
       "|    12 | B         | Mumbai  | M        | black            |\n",
       "|    11 | A         | Delhi   | M        | green            |\n",
       "|    17 | A         | Mumbai  | F        | red              |"
      ],
      "text/plain": [
       "<IPython.core.display.Markdown object>"
      ]
     },
     "metadata": {},
     "output_type": "display_data"
    },
    {
     "name": "stdout",
     "output_type": "stream",
     "text": [
      "\n",
      "Records where age >= 15:\n"
     ]
    },
    {
     "data": {
      "text/markdown": [
       "|   age | section   | city   | gender   | favorite_color   |\n",
       "|------:|:----------|:-------|:---------|:-----------------|\n",
       "|    22 | B         | Delhi  | F        | black            |\n",
       "|    21 | B         | Delhi  | M        | pink             |\n",
       "|    17 | A         | Mumbai | F        | red              |"
      ],
      "text/plain": [
       "<IPython.core.display.Markdown object>"
      ]
     },
     "metadata": {},
     "output_type": "display_data"
    },
    {
     "name": "stdout",
     "output_type": "stream",
     "text": [
      "\n",
      "Records where age >= 12 and gender = Male:\n"
     ]
    },
    {
     "data": {
      "text/markdown": [
       "|   age | section   | city   | gender   | favorite_color   |\n",
       "|------:|:----------|:-------|:---------|:-----------------|\n",
       "|    21 | B         | Delhi  | M        | pink             |\n",
       "|    12 | B         | Mumbai | M        | black            |"
      ],
      "text/plain": [
       "<IPython.core.display.Markdown object>"
      ]
     },
     "metadata": {},
     "output_type": "display_data"
    },
    {
     "name": "stdout",
     "output_type": "stream",
     "text": [
      "\n",
      "City and gender of people with age >= 12:\n"
     ]
    },
    {
     "data": {
      "text/markdown": [
       "| city   | gender   |\n",
       "|:-------|:---------|\n",
       "| Delhi  | F        |\n",
       "| Mumbai | F        |\n",
       "| Delhi  | M        |\n",
       "| Mumbai | M        |\n",
       "| Mumbai | F        |"
      ],
      "text/plain": [
       "<IPython.core.display.Markdown object>"
      ]
     },
     "metadata": {},
     "output_type": "display_data"
    }
   ],
   "source": [
    "data = {\n",
    "    'age':            [10,22,13,21,12,11,17],\n",
    "    'section':        ['A','B','C','B','B','A','A'],\n",
    "    'city':           ['Gurgaon','Delhi','Mumbai','Delhi','Mumbai','Delhi','Mumbai'],\n",
    "    'gender':         ['M','F','F','M','M','M','F'],\n",
    "    'favorite_color': ['red','black','yellow','pink','black','green','red']   \n",
    "}\n",
    "df = pd.DataFrame(data)\n",
    "\n",
    "print('\\nOriginal data:')\n",
    "display_df()\n",
    "\n",
    "print('\\nRecords where age >= 15:')\n",
    "display_df( df.query('age >= 15') )\n",
    "\n",
    "print('\\nRecords where age >= 12 and gender = Male:')\n",
    "display_df( df.query('age >= 12 and gender == \"M\"') )\n",
    "\n",
    "print('\\nCity and gender of people with age >= 12:')\n",
    "display_df( df.query('age >= 12')[['city','gender']] )\n",
    "\n",
    "# Use of `@` and ```"
   ]
  },
  {
   "cell_type": "markdown",
   "id": "40a5561e-c7b5-41aa-b6c6-ba69d239aa90",
   "metadata": {},
   "source": [
    "<br><br><br>"
   ]
  },
  {
   "cell_type": "markdown",
   "id": "0193fabd-85cf-453d-b384-693f8be4f59a",
   "metadata": {},
   "source": [
    "### `.sort_values()`\n",
    "\n"
   ]
  },
  {
   "cell_type": "code",
   "execution_count": 6,
   "id": "a031207a-7504-4402-8263-39b2dc26ab63",
   "metadata": {},
   "outputs": [
    {
     "name": "stdout",
     "output_type": "stream",
     "text": [
      "\n",
      "Original data:\n"
     ]
    },
    {
     "data": {
      "text/markdown": [
       "|   age | section   | city    | gender   | favorite_color   |\n",
       "|------:|:----------|:--------|:---------|:-----------------|\n",
       "|    10 | A         | Gurgaon | M        | red              |\n",
       "|    22 | B         | Delhi   | F        | black            |\n",
       "|    13 | C         | Mumbai  | F        | yellow           |\n",
       "|    21 | B         | Delhi   | M        | pink             |\n",
       "|    12 | B         | Mumbai  | M        | black            |\n",
       "|    11 | A         | Delhi   | M        | green            |\n",
       "|    17 | A         | Mumbai  | F        | red              |"
      ],
      "text/plain": [
       "<IPython.core.display.Markdown object>"
      ]
     },
     "metadata": {},
     "output_type": "display_data"
    },
    {
     "name": "stdout",
     "output_type": "stream",
     "text": [
      "\n",
      "Sorted by age (descending):\n"
     ]
    },
    {
     "data": {
      "text/markdown": [
       "|    |   age | section   | city   | gender   | favorite_color   |\n",
       "|---:|------:|:----------|:-------|:---------|:-----------------|\n",
       "|  1 |    22 | B         | Delhi  | F        | black            |\n",
       "|  3 |    21 | B         | Delhi  | M        | pink             |\n",
       "|  6 |    17 | A         | Mumbai | F        | red              |"
      ],
      "text/plain": [
       "<IPython.core.display.Markdown object>"
      ]
     },
     "metadata": {},
     "output_type": "display_data"
    }
   ],
   "source": [
    "data = {\n",
    "    'age':            [10,22,13,21,12,11,17],\n",
    "    'section':        ['A','B','C','B','B','A','A'],\n",
    "    'city':           ['Gurgaon','Delhi','Mumbai','Delhi','Mumbai','Delhi','Mumbai'],\n",
    "    'gender':         ['M','F','F','M','M','M','F'],\n",
    "    'favorite_color': ['red','black','yellow','pink','black','green','red']   \n",
    "}\n",
    "df = pd.DataFrame(data)\n",
    "\n",
    "print('\\nOriginal data:')\n",
    "display_df()\n",
    "\n",
    "print('\\nSorted by age (descending):')\n",
    "display_df( df.sort_values(by='age',ascending=False).head(3) , index=True )"
   ]
  },
  {
   "cell_type": "markdown",
   "id": "d7369b74-49cf-4efe-a74d-892851fbe765",
   "metadata": {},
   "source": [
    "<br><br><br>"
   ]
  },
  {
   "cell_type": "markdown",
   "id": "8716346c-9c57-4532-a257-6b60544cdd1b",
   "metadata": {},
   "source": [
    "<br><br><br>"
   ]
  },
  {
   "cell_type": "markdown",
   "id": "a7335dbc-eb38-4ac8-80d4-32ea436f49c5",
   "metadata": {},
   "source": [
    "<br><br><br>"
   ]
  },
  {
   "cell_type": "markdown",
   "id": "bcb3bf02-a4f6-4db3-852e-da3ed497e1cf",
   "metadata": {},
   "source": [
    "<br><br><br>"
   ]
  },
  {
   "cell_type": "markdown",
   "id": "d6ee25b2-d6c7-47b7-b491-d286a229c401",
   "metadata": {},
   "source": [
    "<br><br><br>"
   ]
  },
  {
   "cell_type": "markdown",
   "id": "45f50897-8910-4007-b22b-f3340e5ce891",
   "metadata": {},
   "source": [
    "<br><br><br>"
   ]
  },
  {
   "cell_type": "markdown",
   "id": "e43b4d35-9997-4acc-ac82-4469041ba1a0",
   "metadata": {},
   "source": [
    "<br><br><br>"
   ]
  },
  {
   "cell_type": "markdown",
   "id": "ae575e39-380f-4ca8-9733-85e4629858fe",
   "metadata": {},
   "source": [
    "<br><br><br>"
   ]
  },
  {
   "cell_type": "markdown",
   "id": "4a6f500e-fffe-41fc-ad9a-5ba201c7107c",
   "metadata": {},
   "source": [
    "<br><br><br>"
   ]
  },
  {
   "cell_type": "markdown",
   "id": "176f66db-f58e-4130-b583-a73d98ae584a",
   "metadata": {},
   "source": [
    "<br><br><br>"
   ]
  },
  {
   "cell_type": "markdown",
   "id": "d52bdb92-505f-4e1b-8375-c97ed6edd366",
   "metadata": {},
   "source": [
    "<br><br><br>"
   ]
  }
 ],
 "metadata": {
  "kernelspec": {
   "display_name": "Python 3 (ipykernel)",
   "language": "python",
   "name": "python3"
  },
  "language_info": {
   "codemirror_mode": {
    "name": "ipython",
    "version": 3
   },
   "file_extension": ".py",
   "mimetype": "text/x-python",
   "name": "python",
   "nbconvert_exporter": "python",
   "pygments_lexer": "ipython3",
   "version": "3.12.1"
  }
 },
 "nbformat": 4,
 "nbformat_minor": 5
}
